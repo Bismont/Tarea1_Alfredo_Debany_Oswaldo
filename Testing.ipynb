{
 "cells": [
  {
   "cell_type": "code",
   "execution_count": 1,
   "id": "77ace38c",
   "metadata": {},
   "outputs": [],
   "source": [
    "import pandas as pd\n",
    "import numpy as np\n",
    "import plotly.express as px\n",
    "\n",
    "pd.set_option('display.max_columns', None)"
   ]
  },
  {
   "cell_type": "code",
   "execution_count": 2,
   "id": "5dcdc00f",
   "metadata": {},
   "outputs": [
    {
     "data": {
      "application/vnd.plotly.v1+json": {
       "config": {
        "plotlyServerURL": "https://plot.ly"
       },
       "data": [
        {
         "geo": "geo",
         "hovertemplate": "site_name=Bromarv<br>years_with_data=%{marker.size}<br>Latitude=%{lat}<br>Longitude=%{lon}<extra></extra>",
         "lat": [
          "60"
         ],
         "legendgroup": "Bromarv",
         "lon": [
          "23.08"
         ],
         "marker": {
          "color": "#636efa",
          "size": {
           "bdata": "Zg==",
           "dtype": "i1"
          },
          "sizemode": "area",
          "sizeref": 1.0125,
          "symbol": "circle"
         },
         "mode": "markers",
         "name": "Bromarv",
         "showlegend": true,
         "type": "scattergeo"
        },
        {
         "geo": "geo",
         "hovertemplate": "site_name=Cavergno<br>years_with_data=%{marker.size}<br>Latitude=%{lat}<br>Longitude=%{lon}<extra></extra>",
         "lat": [
          "46.35"
         ],
         "legendgroup": "Cavergno",
         "lon": [
          "8.6"
         ],
         "marker": {
          "color": "#EF553B",
          "size": {
           "bdata": "bgE=",
           "dtype": "i2"
          },
          "sizemode": "area",
          "sizeref": 1.0125,
          "symbol": "circle"
         },
         "mode": "markers",
         "name": "Cavergno",
         "showlegend": true,
         "type": "scattergeo"
        },
        {
         "geo": "geo",
         "hovertemplate": "site_name=Cazorla<br>years_with_data=%{marker.size}<br>Latitude=%{lat}<br>Longitude=%{lon}<extra></extra>",
         "lat": [
          "37.93"
         ],
         "legendgroup": "Cazorla",
         "lon": [
          "-2.97"
         ],
         "marker": {
          "color": "#00cc96",
          "size": {
           "bdata": "kwE=",
           "dtype": "i2"
          },
          "sizemode": "area",
          "sizeref": 1.0125,
          "symbol": "circle"
         },
         "mode": "markers",
         "name": "Cazorla",
         "showlegend": true,
         "type": "scattergeo"
        },
        {
         "geo": "geo",
         "hovertemplate": "site_name=Col Du Zad <br>years_with_data=%{marker.size}<br>Latitude=%{lat}<br>Longitude=%{lon}<extra></extra>",
         "lat": [
          "32.97"
         ],
         "legendgroup": "Col Du Zad ",
         "lon": [
          "-5.07"
         ],
         "marker": {
          "color": "#ab63fa",
          "size": {
           "bdata": "kQE=",
           "dtype": "i2"
          },
          "sizemode": "area",
          "sizeref": 1.0125,
          "symbol": "circle"
         },
         "mode": "markers",
         "name": "Col Du Zad ",
         "showlegend": true,
         "type": "scattergeo"
        },
        {
         "geo": "geo",
         "hovertemplate": "site_name=Dransfeld<br>years_with_data=%{marker.size}<br>Latitude=%{lat}<br>Longitude=%{lon}<extra></extra>",
         "lat": [
          "51.51"
         ],
         "legendgroup": "Dransfeld",
         "lon": [
          "9.78"
         ],
         "marker": {
          "color": "#FFA15A",
          "size": {
           "bdata": "4AA=",
           "dtype": "i2"
          },
          "sizemode": "area",
          "sizeref": 1.0125,
          "symbol": "circle"
         },
         "mode": "markers",
         "name": "Dransfeld",
         "showlegend": true,
         "type": "scattergeo"
        },
        {
         "geo": "geo",
         "hovertemplate": "site_name=Fontainebleau<br>years_with_data=%{marker.size}<br>Latitude=%{lat}<br>Longitude=%{lon}<extra></extra>",
         "lat": [
          "48.38"
         ],
         "legendgroup": "Fontainebleau",
         "lon": [
          "2.67"
         ],
         "marker": {
          "color": "#19d3f3",
          "size": {
           "bdata": "kQE=",
           "dtype": "i2"
          },
          "sizemode": "area",
          "sizeref": 1.0125,
          "symbol": "circle"
         },
         "mode": "markers",
         "name": "Fontainebleau",
         "showlegend": true,
         "type": "scattergeo"
        },
        {
         "geo": "geo",
         "hovertemplate": "site_name=Gutuli<br>years_with_data=%{marker.size}<br>Latitude=%{lat}<br>Longitude=%{lon}<extra></extra>",
         "lat": [
          "62"
         ],
         "legendgroup": "Gutuli",
         "lon": [
          "12.18"
         ],
         "marker": {
          "color": "#FF6692",
          "size": {
           "bdata": "lAE=",
           "dtype": "i2"
          },
          "sizemode": "area",
          "sizeref": 1.0125,
          "symbol": "circle"
         },
         "mode": "markers",
         "name": "Gutuli",
         "showlegend": true,
         "type": "scattergeo"
        },
        {
         "geo": "geo",
         "hovertemplate": "site_name=Sivakkovaara<br>years_with_data=%{marker.size}<br>Latitude=%{lat}<br>Longitude=%{lon}<extra></extra>",
         "lat": [
          "62.98"
         ],
         "legendgroup": "Sivakkovaara",
         "lon": [
          "31.27"
         ],
         "marker": {
          "color": "#B6E880",
          "size": {
           "bdata": "kwE=",
           "dtype": "i2"
          },
          "sizemode": "area",
          "sizeref": 1.0125,
          "symbol": "circle"
         },
         "mode": "markers",
         "name": "Sivakkovaara",
         "showlegend": true,
         "type": "scattergeo"
        },
        {
         "geo": "geo",
         "hovertemplate": "site_name=Inari<br>years_with_data=%{marker.size}<br>Latitude=%{lat}<br>Longitude=%{lon}<extra></extra>",
         "lat": [
          "68.93"
         ],
         "legendgroup": "Inari",
         "lon": [
          "28.31"
         ],
         "marker": {
          "color": "#FF97FF",
          "size": {
           "bdata": "kwE=",
           "dtype": "i2"
          },
          "sizemode": "area",
          "sizeref": 1.0125,
          "symbol": "circle"
         },
         "mode": "markers",
         "name": "Inari",
         "showlegend": true,
         "type": "scattergeo"
        },
        {
         "geo": "geo",
         "hovertemplate": "site_name=Perchtoldsdorf Wehrturm<br>years_with_data=%{marker.size}<br>Latitude=%{lat}<br>Longitude=%{lon}<extra></extra>",
         "lat": [
          "48.25"
         ],
         "legendgroup": "Perchtoldsdorf Wehrturm",
         "lon": [
          "16.77"
         ],
         "marker": {
          "color": "#FECB52",
          "size": {
           "bdata": "HAE=",
           "dtype": "i2"
          },
          "sizemode": "area",
          "sizeref": 1.0125,
          "symbol": "circle"
         },
         "mode": "markers",
         "name": "Perchtoldsdorf Wehrturm",
         "showlegend": true,
         "type": "scattergeo"
        },
        {
         "geo": "geo",
         "hovertemplate": "site_name=Lainzer Tiergarten<br>years_with_data=%{marker.size}<br>Latitude=%{lat}<br>Longitude=%{lon}<extra></extra>",
         "lat": [
          "48.18"
         ],
         "legendgroup": "Lainzer Tiergarten",
         "lon": [
          "16.2"
         ],
         "marker": {
          "color": "#636efa",
          "size": {
           "bdata": "wAA=",
           "dtype": "i2"
          },
          "sizemode": "area",
          "sizeref": 1.0125,
          "symbol": "circle"
         },
         "mode": "markers",
         "name": "Lainzer Tiergarten",
         "showlegend": true,
         "type": "scattergeo"
        },
        {
         "geo": "geo",
         "hovertemplate": "site_name=Pinar de Lillo<br>years_with_data=%{marker.size}<br>Latitude=%{lat}<br>Longitude=%{lon}<extra></extra>",
         "lat": [
          "43.07"
         ],
         "legendgroup": "Pinar de Lillo",
         "lon": [
          "-5.25"
         ],
         "marker": {
          "color": "#EF553B",
          "size": {
           "bdata": "kwE=",
           "dtype": "i2"
          },
          "sizemode": "area",
          "sizeref": 1.0125,
          "symbol": "circle"
         },
         "mode": "markers",
         "name": "Pinar de Lillo",
         "showlegend": true,
         "type": "scattergeo"
        },
        {
         "geo": "geo",
         "hovertemplate": "site_name=Lochwood<br>years_with_data=%{marker.size}<br>Latitude=%{lat}<br>Longitude=%{lon}<extra></extra>",
         "lat": [
          "55.27"
         ],
         "legendgroup": "Lochwood",
         "lon": [
          "-3.43"
         ],
         "marker": {
          "color": "#00cc96",
          "size": {
           "bdata": "/wA=",
           "dtype": "i2"
          },
          "sizemode": "area",
          "sizeref": 1.0125,
          "symbol": "circle"
         },
         "mode": "markers",
         "name": "Lochwood",
         "showlegend": true,
         "type": "scattergeo"
        },
        {
         "geo": "geo",
         "hovertemplate": "site_name=Niepolomice<br>years_with_data=%{marker.size}<br>Latitude=%{lat}<br>Longitude=%{lon}<extra></extra>",
         "lat": [
          "50.03",
          "50.03"
         ],
         "legendgroup": "Niepolomice",
         "lon": [
          "20.35",
          "20.35"
         ],
         "marker": {
          "color": "#ab63fa",
          "size": {
           "bdata": "eQF5AQ==",
           "dtype": "i2"
          },
          "sizemode": "area",
          "sizeref": 1.0125,
          "symbol": "circle"
         },
         "mode": "markers",
         "name": "Niepolomice",
         "showlegend": true,
         "type": "scattergeo"
        },
        {
         "geo": "geo",
         "hovertemplate": "site_name=Panemunes<br>years_with_data=%{marker.size}<br>Latitude=%{lat}<br>Longitude=%{lon}<extra></extra>",
         "lat": [
          "54.09"
         ],
         "legendgroup": "Panemunes",
         "lon": [
          "23.96"
         ],
         "marker": {
          "color": "#FFA15A",
          "size": {
           "bdata": "uwA=",
           "dtype": "i2"
          },
          "sizemode": "area",
          "sizeref": 1.0125,
          "symbol": "circle"
         },
         "mode": "markers",
         "name": "Panemunes",
         "showlegend": true,
         "type": "scattergeo"
        },
        {
         "geo": "geo",
         "hovertemplate": "site_name=Pedraforca<br>years_with_data=%{marker.size}<br>Latitude=%{lat}<br>Longitude=%{lon}<extra></extra>",
         "lat": [
          "42.23"
         ],
         "legendgroup": "Pedraforca",
         "lon": [
          "1.7"
         ],
         "marker": {
          "color": "#19d3f3",
          "size": {
           "bdata": "lAE=",
           "dtype": "i2"
          },
          "sizemode": "area",
          "sizeref": 1.0125,
          "symbol": "circle"
         },
         "mode": "markers",
         "name": "Pedraforca",
         "showlegend": true,
         "type": "scattergeo"
        },
        {
         "geo": "geo",
         "hovertemplate": "site_name=Poellau<br>years_with_data=%{marker.size}<br>Latitude=%{lat}<br>Longitude=%{lon}<extra></extra>",
         "lat": [
          "47.31"
         ],
         "legendgroup": "Poellau",
         "lon": [
          "15.81"
         ],
         "marker": {
          "color": "#FF6692",
          "size": {
           "bdata": "kwE=",
           "dtype": "i2"
          },
          "sizemode": "area",
          "sizeref": 1.0125,
          "symbol": "circle"
         },
         "mode": "markers",
         "name": "Poellau",
         "showlegend": true,
         "type": "scattergeo"
        },
        {
         "geo": "geo",
         "hovertemplate": "site_name=Renn<br>years_with_data=%{marker.size}<br>Latitude=%{lat}<br>Longitude=%{lon}<extra></extra>",
         "lat": [
          "48.02"
         ],
         "legendgroup": "Renn",
         "lon": [
          "-1.83"
         ],
         "marker": {
          "color": "#B6E880",
          "size": {
           "bdata": "hAE=",
           "dtype": "i2"
          },
          "sizemode": "area",
          "sizeref": 1.0125,
          "symbol": "circle"
         },
         "mode": "markers",
         "name": "Renn",
         "showlegend": true,
         "type": "scattergeo"
        },
        {
         "geo": "geo",
         "hovertemplate": "site_name=Monte Pollino<br>years_with_data=%{marker.size}<br>Latitude=%{lat}<br>Longitude=%{lon}<extra></extra>",
         "lat": [
          "39.93"
         ],
         "legendgroup": "Monte Pollino",
         "lon": [
          "16.21"
         ],
         "marker": {
          "color": "#FF97FF",
          "size": {
           "bdata": "kAE=",
           "dtype": "i2"
          },
          "sizemode": "area",
          "sizeref": 1.0125,
          "symbol": "circle"
         },
         "mode": "markers",
         "name": "Monte Pollino",
         "showlegend": true,
         "type": "scattergeo"
        },
        {
         "geo": "geo",
         "hovertemplate": "site_name=Suwalki<br>years_with_data=%{marker.size}<br>Latitude=%{lat}<br>Longitude=%{lon}<extra></extra>",
         "lat": [
          "53.95"
         ],
         "legendgroup": "Suwalki",
         "lon": [
          "23.25"
         ],
         "marker": {
          "color": "#FECB52",
          "size": {
           "bdata": "lQE=",
           "dtype": "i2"
          },
          "sizemode": "area",
          "sizeref": 1.0125,
          "symbol": "circle"
         },
         "mode": "markers",
         "name": "Suwalki",
         "showlegend": true,
         "type": "scattergeo"
        },
        {
         "geo": "geo",
         "hovertemplate": "site_name=Vigera<br>years_with_data=%{marker.size}<br>Latitude=%{lat}<br>Longitude=%{lon}<extra></extra>",
         "lat": [
          "46.05"
         ],
         "legendgroup": "Vigera",
         "lon": [
          "8.77"
         ],
         "marker": {
          "color": "#636efa",
          "size": {
           "bdata": "SQE=",
           "dtype": "i2"
          },
          "sizemode": "area",
          "sizeref": 1.0125,
          "symbol": "circle"
         },
         "mode": "markers",
         "name": "Vigera",
         "showlegend": true,
         "type": "scattergeo"
        },
        {
         "geo": "geo",
         "hovertemplate": "site_name=Vinuesa<br>years_with_data=%{marker.size}<br>Latitude=%{lat}<br>Longitude=%{lon}<extra></extra>",
         "lat": [
          "42"
         ],
         "legendgroup": "Vinuesa",
         "lon": [
          "2.75"
         ],
         "marker": {
          "color": "#EF553B",
          "size": {
           "bdata": "lgA=",
           "dtype": "i2"
          },
          "sizemode": "area",
          "sizeref": 1.0125,
          "symbol": "circle"
         },
         "mode": "markers",
         "name": "Vinuesa",
         "showlegend": true,
         "type": "scattergeo"
        },
        {
         "geo": "geo",
         "hovertemplate": "site_name=Windsor<br>years_with_data=%{marker.size}<br>Latitude=%{lat}<br>Longitude=%{lon}<extra></extra>",
         "lat": [
          "51.43"
         ],
         "legendgroup": "Windsor",
         "lon": [
          "-0.61"
         ],
         "marker": {
          "color": "#00cc96",
          "size": {
           "bdata": "8QA=",
           "dtype": "i2"
          },
          "sizemode": "area",
          "sizeref": 1.0125,
          "symbol": "circle"
         },
         "mode": "markers",
         "name": "Windsor",
         "showlegend": true,
         "type": "scattergeo"
        },
        {
         "geo": "geo",
         "hovertemplate": "site_name=Woburn<br>years_with_data=%{marker.size}<br>Latitude=%{lat}<br>Longitude=%{lon}<extra></extra>",
         "lat": [
          "51.98"
         ],
         "legendgroup": "Woburn",
         "lon": [
          "-0.59"
         ],
         "marker": {
          "color": "#ab63fa",
          "size": {
           "bdata": "kAE=",
           "dtype": "i2"
          },
          "sizemode": "area",
          "sizeref": 1.0125,
          "symbol": "circle"
         },
         "mode": "markers",
         "name": "Woburn",
         "showlegend": true,
         "type": "scattergeo"
        }
       ],
       "layout": {
        "geo": {
         "center": {
          "lat": 49.7148,
          "lon": 10.490400000000001
         },
         "domain": {
          "x": [
           0,
           1
          ],
          "y": [
           0,
           1
          ]
         },
         "projection": {
          "scale": 4
         }
        },
        "legend": {
         "itemsizing": "constant",
         "title": {
          "text": "site_name"
         },
         "tracegroupgap": 0
        },
        "margin": {
         "t": 60
        },
        "template": {
         "data": {
          "bar": [
           {
            "error_x": {
             "color": "#2a3f5f"
            },
            "error_y": {
             "color": "#2a3f5f"
            },
            "marker": {
             "line": {
              "color": "#E5ECF6",
              "width": 0.5
             },
             "pattern": {
              "fillmode": "overlay",
              "size": 10,
              "solidity": 0.2
             }
            },
            "type": "bar"
           }
          ],
          "barpolar": [
           {
            "marker": {
             "line": {
              "color": "#E5ECF6",
              "width": 0.5
             },
             "pattern": {
              "fillmode": "overlay",
              "size": 10,
              "solidity": 0.2
             }
            },
            "type": "barpolar"
           }
          ],
          "carpet": [
           {
            "aaxis": {
             "endlinecolor": "#2a3f5f",
             "gridcolor": "white",
             "linecolor": "white",
             "minorgridcolor": "white",
             "startlinecolor": "#2a3f5f"
            },
            "baxis": {
             "endlinecolor": "#2a3f5f",
             "gridcolor": "white",
             "linecolor": "white",
             "minorgridcolor": "white",
             "startlinecolor": "#2a3f5f"
            },
            "type": "carpet"
           }
          ],
          "choropleth": [
           {
            "colorbar": {
             "outlinewidth": 0,
             "ticks": ""
            },
            "type": "choropleth"
           }
          ],
          "contour": [
           {
            "colorbar": {
             "outlinewidth": 0,
             "ticks": ""
            },
            "colorscale": [
             [
              0,
              "#0d0887"
             ],
             [
              0.1111111111111111,
              "#46039f"
             ],
             [
              0.2222222222222222,
              "#7201a8"
             ],
             [
              0.3333333333333333,
              "#9c179e"
             ],
             [
              0.4444444444444444,
              "#bd3786"
             ],
             [
              0.5555555555555556,
              "#d8576b"
             ],
             [
              0.6666666666666666,
              "#ed7953"
             ],
             [
              0.7777777777777778,
              "#fb9f3a"
             ],
             [
              0.8888888888888888,
              "#fdca26"
             ],
             [
              1,
              "#f0f921"
             ]
            ],
            "type": "contour"
           }
          ],
          "contourcarpet": [
           {
            "colorbar": {
             "outlinewidth": 0,
             "ticks": ""
            },
            "type": "contourcarpet"
           }
          ],
          "heatmap": [
           {
            "colorbar": {
             "outlinewidth": 0,
             "ticks": ""
            },
            "colorscale": [
             [
              0,
              "#0d0887"
             ],
             [
              0.1111111111111111,
              "#46039f"
             ],
             [
              0.2222222222222222,
              "#7201a8"
             ],
             [
              0.3333333333333333,
              "#9c179e"
             ],
             [
              0.4444444444444444,
              "#bd3786"
             ],
             [
              0.5555555555555556,
              "#d8576b"
             ],
             [
              0.6666666666666666,
              "#ed7953"
             ],
             [
              0.7777777777777778,
              "#fb9f3a"
             ],
             [
              0.8888888888888888,
              "#fdca26"
             ],
             [
              1,
              "#f0f921"
             ]
            ],
            "type": "heatmap"
           }
          ],
          "histogram": [
           {
            "marker": {
             "pattern": {
              "fillmode": "overlay",
              "size": 10,
              "solidity": 0.2
             }
            },
            "type": "histogram"
           }
          ],
          "histogram2d": [
           {
            "colorbar": {
             "outlinewidth": 0,
             "ticks": ""
            },
            "colorscale": [
             [
              0,
              "#0d0887"
             ],
             [
              0.1111111111111111,
              "#46039f"
             ],
             [
              0.2222222222222222,
              "#7201a8"
             ],
             [
              0.3333333333333333,
              "#9c179e"
             ],
             [
              0.4444444444444444,
              "#bd3786"
             ],
             [
              0.5555555555555556,
              "#d8576b"
             ],
             [
              0.6666666666666666,
              "#ed7953"
             ],
             [
              0.7777777777777778,
              "#fb9f3a"
             ],
             [
              0.8888888888888888,
              "#fdca26"
             ],
             [
              1,
              "#f0f921"
             ]
            ],
            "type": "histogram2d"
           }
          ],
          "histogram2dcontour": [
           {
            "colorbar": {
             "outlinewidth": 0,
             "ticks": ""
            },
            "colorscale": [
             [
              0,
              "#0d0887"
             ],
             [
              0.1111111111111111,
              "#46039f"
             ],
             [
              0.2222222222222222,
              "#7201a8"
             ],
             [
              0.3333333333333333,
              "#9c179e"
             ],
             [
              0.4444444444444444,
              "#bd3786"
             ],
             [
              0.5555555555555556,
              "#d8576b"
             ],
             [
              0.6666666666666666,
              "#ed7953"
             ],
             [
              0.7777777777777778,
              "#fb9f3a"
             ],
             [
              0.8888888888888888,
              "#fdca26"
             ],
             [
              1,
              "#f0f921"
             ]
            ],
            "type": "histogram2dcontour"
           }
          ],
          "mesh3d": [
           {
            "colorbar": {
             "outlinewidth": 0,
             "ticks": ""
            },
            "type": "mesh3d"
           }
          ],
          "parcoords": [
           {
            "line": {
             "colorbar": {
              "outlinewidth": 0,
              "ticks": ""
             }
            },
            "type": "parcoords"
           }
          ],
          "pie": [
           {
            "automargin": true,
            "type": "pie"
           }
          ],
          "scatter": [
           {
            "fillpattern": {
             "fillmode": "overlay",
             "size": 10,
             "solidity": 0.2
            },
            "type": "scatter"
           }
          ],
          "scatter3d": [
           {
            "line": {
             "colorbar": {
              "outlinewidth": 0,
              "ticks": ""
             }
            },
            "marker": {
             "colorbar": {
              "outlinewidth": 0,
              "ticks": ""
             }
            },
            "type": "scatter3d"
           }
          ],
          "scattercarpet": [
           {
            "marker": {
             "colorbar": {
              "outlinewidth": 0,
              "ticks": ""
             }
            },
            "type": "scattercarpet"
           }
          ],
          "scattergeo": [
           {
            "marker": {
             "colorbar": {
              "outlinewidth": 0,
              "ticks": ""
             }
            },
            "type": "scattergeo"
           }
          ],
          "scattergl": [
           {
            "marker": {
             "colorbar": {
              "outlinewidth": 0,
              "ticks": ""
             }
            },
            "type": "scattergl"
           }
          ],
          "scattermap": [
           {
            "marker": {
             "colorbar": {
              "outlinewidth": 0,
              "ticks": ""
             }
            },
            "type": "scattermap"
           }
          ],
          "scattermapbox": [
           {
            "marker": {
             "colorbar": {
              "outlinewidth": 0,
              "ticks": ""
             }
            },
            "type": "scattermapbox"
           }
          ],
          "scatterpolar": [
           {
            "marker": {
             "colorbar": {
              "outlinewidth": 0,
              "ticks": ""
             }
            },
            "type": "scatterpolar"
           }
          ],
          "scatterpolargl": [
           {
            "marker": {
             "colorbar": {
              "outlinewidth": 0,
              "ticks": ""
             }
            },
            "type": "scatterpolargl"
           }
          ],
          "scatterternary": [
           {
            "marker": {
             "colorbar": {
              "outlinewidth": 0,
              "ticks": ""
             }
            },
            "type": "scatterternary"
           }
          ],
          "surface": [
           {
            "colorbar": {
             "outlinewidth": 0,
             "ticks": ""
            },
            "colorscale": [
             [
              0,
              "#0d0887"
             ],
             [
              0.1111111111111111,
              "#46039f"
             ],
             [
              0.2222222222222222,
              "#7201a8"
             ],
             [
              0.3333333333333333,
              "#9c179e"
             ],
             [
              0.4444444444444444,
              "#bd3786"
             ],
             [
              0.5555555555555556,
              "#d8576b"
             ],
             [
              0.6666666666666666,
              "#ed7953"
             ],
             [
              0.7777777777777778,
              "#fb9f3a"
             ],
             [
              0.8888888888888888,
              "#fdca26"
             ],
             [
              1,
              "#f0f921"
             ]
            ],
            "type": "surface"
           }
          ],
          "table": [
           {
            "cells": {
             "fill": {
              "color": "#EBF0F8"
             },
             "line": {
              "color": "white"
             }
            },
            "header": {
             "fill": {
              "color": "#C8D4E3"
             },
             "line": {
              "color": "white"
             }
            },
            "type": "table"
           }
          ]
         },
         "layout": {
          "annotationdefaults": {
           "arrowcolor": "#2a3f5f",
           "arrowhead": 0,
           "arrowwidth": 1
          },
          "autotypenumbers": "strict",
          "coloraxis": {
           "colorbar": {
            "outlinewidth": 0,
            "ticks": ""
           }
          },
          "colorscale": {
           "diverging": [
            [
             0,
             "#8e0152"
            ],
            [
             0.1,
             "#c51b7d"
            ],
            [
             0.2,
             "#de77ae"
            ],
            [
             0.3,
             "#f1b6da"
            ],
            [
             0.4,
             "#fde0ef"
            ],
            [
             0.5,
             "#f7f7f7"
            ],
            [
             0.6,
             "#e6f5d0"
            ],
            [
             0.7,
             "#b8e186"
            ],
            [
             0.8,
             "#7fbc41"
            ],
            [
             0.9,
             "#4d9221"
            ],
            [
             1,
             "#276419"
            ]
           ],
           "sequential": [
            [
             0,
             "#0d0887"
            ],
            [
             0.1111111111111111,
             "#46039f"
            ],
            [
             0.2222222222222222,
             "#7201a8"
            ],
            [
             0.3333333333333333,
             "#9c179e"
            ],
            [
             0.4444444444444444,
             "#bd3786"
            ],
            [
             0.5555555555555556,
             "#d8576b"
            ],
            [
             0.6666666666666666,
             "#ed7953"
            ],
            [
             0.7777777777777778,
             "#fb9f3a"
            ],
            [
             0.8888888888888888,
             "#fdca26"
            ],
            [
             1,
             "#f0f921"
            ]
           ],
           "sequentialminus": [
            [
             0,
             "#0d0887"
            ],
            [
             0.1111111111111111,
             "#46039f"
            ],
            [
             0.2222222222222222,
             "#7201a8"
            ],
            [
             0.3333333333333333,
             "#9c179e"
            ],
            [
             0.4444444444444444,
             "#bd3786"
            ],
            [
             0.5555555555555556,
             "#d8576b"
            ],
            [
             0.6666666666666666,
             "#ed7953"
            ],
            [
             0.7777777777777778,
             "#fb9f3a"
            ],
            [
             0.8888888888888888,
             "#fdca26"
            ],
            [
             1,
             "#f0f921"
            ]
           ]
          },
          "colorway": [
           "#636efa",
           "#EF553B",
           "#00cc96",
           "#ab63fa",
           "#FFA15A",
           "#19d3f3",
           "#FF6692",
           "#B6E880",
           "#FF97FF",
           "#FECB52"
          ],
          "font": {
           "color": "#2a3f5f"
          },
          "geo": {
           "bgcolor": "white",
           "lakecolor": "white",
           "landcolor": "#E5ECF6",
           "showlakes": true,
           "showland": true,
           "subunitcolor": "white"
          },
          "hoverlabel": {
           "align": "left"
          },
          "hovermode": "closest",
          "mapbox": {
           "style": "light"
          },
          "paper_bgcolor": "white",
          "plot_bgcolor": "#E5ECF6",
          "polar": {
           "angularaxis": {
            "gridcolor": "white",
            "linecolor": "white",
            "ticks": ""
           },
           "bgcolor": "#E5ECF6",
           "radialaxis": {
            "gridcolor": "white",
            "linecolor": "white",
            "ticks": ""
           }
          },
          "scene": {
           "xaxis": {
            "backgroundcolor": "#E5ECF6",
            "gridcolor": "white",
            "gridwidth": 2,
            "linecolor": "white",
            "showbackground": true,
            "ticks": "",
            "zerolinecolor": "white"
           },
           "yaxis": {
            "backgroundcolor": "#E5ECF6",
            "gridcolor": "white",
            "gridwidth": 2,
            "linecolor": "white",
            "showbackground": true,
            "ticks": "",
            "zerolinecolor": "white"
           },
           "zaxis": {
            "backgroundcolor": "#E5ECF6",
            "gridcolor": "white",
            "gridwidth": 2,
            "linecolor": "white",
            "showbackground": true,
            "ticks": "",
            "zerolinecolor": "white"
           }
          },
          "shapedefaults": {
           "line": {
            "color": "#2a3f5f"
           }
          },
          "ternary": {
           "aaxis": {
            "gridcolor": "white",
            "linecolor": "white",
            "ticks": ""
           },
           "baxis": {
            "gridcolor": "white",
            "linecolor": "white",
            "ticks": ""
           },
           "bgcolor": "#E5ECF6",
           "caxis": {
            "gridcolor": "white",
            "linecolor": "white",
            "ticks": ""
           }
          },
          "title": {
           "x": 0.05
          },
          "xaxis": {
           "automargin": true,
           "gridcolor": "white",
           "linecolor": "white",
           "ticks": "",
           "title": {
            "standoff": 15
           },
           "zerolinecolor": "white",
           "zerolinewidth": 2
          },
          "yaxis": {
           "automargin": true,
           "gridcolor": "white",
           "linecolor": "white",
           "ticks": "",
           "title": {
            "standoff": 15
           },
           "zerolinecolor": "white",
           "zerolinewidth": 2
          }
         }
        },
        "title": {
         "text": "Number of years with data according to location"
        }
       }
      }
     },
     "metadata": {},
     "output_type": "display_data"
    }
   ],
   "source": [
    "#Read data\n",
    "df = pd.read_csv('./data/data.csv')\n",
    "\n",
    "# Separate location and data information\n",
    "df_data = df.iloc[9:].copy()\n",
    "df_loc = df.iloc[:8].copy()\n",
    "\n",
    "# Clean location information for display purposes\n",
    "df_loc = df_loc.transpose()\n",
    "df_loc.columns = df_loc.iloc[0]\n",
    "df_loc = df_loc.drop(df_loc.index[0])\n",
    "df_loc.rename(columns={'Site name': 'Index_'}, inplace=True)\n",
    "df_loc['years_with_data'] = (df_loc['Last year CE'].astype(int)\n",
    "                             - df_loc['First year CE'].astype(int)\n",
    "                             + 1\n",
    "                             )\n",
    "df_loc['Site  name'] = df_loc['Site  name'].str[:23]\n",
    "df_loc.reset_index(inplace=True)\n",
    "df_loc.rename(columns={'index': 'site_code',\n",
    "                       'Site  name': 'site_name'},\n",
    "              inplace=True\n",
    "              )\n",
    "\n",
    "# Plot years with data according to location\n",
    "fig = px.scatter_geo(df_loc,\n",
    "                    lat=df_loc.Latitude,\n",
    "                    lon=df_loc.Longitude,\n",
    "                    color='site_name',\n",
    "                    size=\"years_with_data\",\n",
    "                     )\n",
    "fig.update_geos(\n",
    "    center={\"lat\": df_loc[\"Latitude\"].astype(float).mean(),\n",
    "            \"lon\": df_loc[\"Longitude\"].astype(float).mean()},\n",
    "    projection_scale=4\n",
    ")\n",
    "\n",
    "fig.update_layout(title_text='Number of years with data according to location')\n",
    "fig.show()\n"
   ]
  },
  {
   "cell_type": "code",
   "execution_count": 3,
   "id": "382fa17c",
   "metadata": {},
   "outputs": [
    {
     "data": {
      "text/html": [
       "<div>\n",
       "<style scoped>\n",
       "    .dataframe tbody tr th:only-of-type {\n",
       "        vertical-align: middle;\n",
       "    }\n",
       "\n",
       "    .dataframe tbody tr th {\n",
       "        vertical-align: top;\n",
       "    }\n",
       "\n",
       "    .dataframe thead th {\n",
       "        text-align: right;\n",
       "    }\n",
       "</style>\n",
       "<table border=\"1\" class=\"dataframe\">\n",
       "  <thead>\n",
       "    <tr style=\"text-align: right;\">\n",
       "      <th>Site Code</th>\n",
       "      <th>site_code</th>\n",
       "      <th>site_name</th>\n",
       "      <th>Country</th>\n",
       "      <th>Latitude</th>\n",
       "      <th>Longitude</th>\n",
       "      <th>Species</th>\n",
       "      <th>First year CE</th>\n",
       "      <th>Last year CE</th>\n",
       "      <th>elevation a.s.l.</th>\n",
       "      <th>years_with_data</th>\n",
       "    </tr>\n",
       "  </thead>\n",
       "  <tbody>\n",
       "    <tr>\n",
       "      <th>0</th>\n",
       "      <td>BRO</td>\n",
       "      <td>Bromarv</td>\n",
       "      <td>Finland</td>\n",
       "      <td>60</td>\n",
       "      <td>23.08</td>\n",
       "      <td>Quercus robur</td>\n",
       "      <td>1901</td>\n",
       "      <td>2002</td>\n",
       "      <td>5</td>\n",
       "      <td>102</td>\n",
       "    </tr>\n",
       "    <tr>\n",
       "      <th>1</th>\n",
       "      <td>CAV</td>\n",
       "      <td>Cavergno</td>\n",
       "      <td>Switzerland</td>\n",
       "      <td>46.35</td>\n",
       "      <td>8.6</td>\n",
       "      <td>Quercus petraea</td>\n",
       "      <td>1637</td>\n",
       "      <td>2002</td>\n",
       "      <td>900</td>\n",
       "      <td>366</td>\n",
       "    </tr>\n",
       "    <tr>\n",
       "      <th>2</th>\n",
       "      <td>CAZ</td>\n",
       "      <td>Cazorla</td>\n",
       "      <td>Spain</td>\n",
       "      <td>37.93</td>\n",
       "      <td>-2.97</td>\n",
       "      <td>Pinus nigra</td>\n",
       "      <td>1600</td>\n",
       "      <td>2002</td>\n",
       "      <td>1820</td>\n",
       "      <td>403</td>\n",
       "    </tr>\n",
       "    <tr>\n",
       "      <th>3</th>\n",
       "      <td>COL</td>\n",
       "      <td>Col Du Zad</td>\n",
       "      <td>Morocco</td>\n",
       "      <td>32.97</td>\n",
       "      <td>-5.07</td>\n",
       "      <td>Cedrus atlantica</td>\n",
       "      <td>1600</td>\n",
       "      <td>2000</td>\n",
       "      <td>2200</td>\n",
       "      <td>401</td>\n",
       "    </tr>\n",
       "    <tr>\n",
       "      <th>4</th>\n",
       "      <td>DRA</td>\n",
       "      <td>Dransfeld</td>\n",
       "      <td>Germany</td>\n",
       "      <td>51.51</td>\n",
       "      <td>9.78</td>\n",
       "      <td>Quercus petraea</td>\n",
       "      <td>1776</td>\n",
       "      <td>1999</td>\n",
       "      <td>320</td>\n",
       "      <td>224</td>\n",
       "    </tr>\n",
       "    <tr>\n",
       "      <th>5</th>\n",
       "      <td>FON</td>\n",
       "      <td>Fontainebleau</td>\n",
       "      <td>France</td>\n",
       "      <td>48.38</td>\n",
       "      <td>2.67</td>\n",
       "      <td>Quercus petraea</td>\n",
       "      <td>1600</td>\n",
       "      <td>2000</td>\n",
       "      <td>100</td>\n",
       "      <td>401</td>\n",
       "    </tr>\n",
       "    <tr>\n",
       "      <th>6</th>\n",
       "      <td>GUT</td>\n",
       "      <td>Gutuli</td>\n",
       "      <td>Norway</td>\n",
       "      <td>62</td>\n",
       "      <td>12.18</td>\n",
       "      <td>Pinus sylvestris</td>\n",
       "      <td>1600</td>\n",
       "      <td>2003</td>\n",
       "      <td>800</td>\n",
       "      <td>404</td>\n",
       "    </tr>\n",
       "    <tr>\n",
       "      <th>7</th>\n",
       "      <td>ILO</td>\n",
       "      <td>Sivakkovaara</td>\n",
       "      <td>Finland</td>\n",
       "      <td>62.98</td>\n",
       "      <td>31.27</td>\n",
       "      <td>Pinus sylvestris</td>\n",
       "      <td>1600</td>\n",
       "      <td>2002</td>\n",
       "      <td>200</td>\n",
       "      <td>403</td>\n",
       "    </tr>\n",
       "    <tr>\n",
       "      <th>8</th>\n",
       "      <td>INA</td>\n",
       "      <td>Inari</td>\n",
       "      <td>Finland</td>\n",
       "      <td>68.93</td>\n",
       "      <td>28.31</td>\n",
       "      <td>Pinus sylvestris</td>\n",
       "      <td>1600</td>\n",
       "      <td>2002</td>\n",
       "      <td>150</td>\n",
       "      <td>403</td>\n",
       "    </tr>\n",
       "    <tr>\n",
       "      <th>9</th>\n",
       "      <td>AHI</td>\n",
       "      <td>Perchtoldsdorf Wehrturm</td>\n",
       "      <td>Austria</td>\n",
       "      <td>48.25</td>\n",
       "      <td>16.77</td>\n",
       "      <td>Quercus petraea</td>\n",
       "      <td>1600</td>\n",
       "      <td>1883</td>\n",
       "      <td>n.s.</td>\n",
       "      <td>284</td>\n",
       "    </tr>\n",
       "    <tr>\n",
       "      <th>10</th>\n",
       "      <td>LAI</td>\n",
       "      <td>Lainzer Tiergarten</td>\n",
       "      <td>Austria</td>\n",
       "      <td>48.18</td>\n",
       "      <td>16.2</td>\n",
       "      <td>Quercus petraea</td>\n",
       "      <td>1812</td>\n",
       "      <td>2003</td>\n",
       "      <td>300</td>\n",
       "      <td>192</td>\n",
       "    </tr>\n",
       "    <tr>\n",
       "      <th>11</th>\n",
       "      <td>LIL</td>\n",
       "      <td>Pinar de Lillo</td>\n",
       "      <td>Spain</td>\n",
       "      <td>43.07</td>\n",
       "      <td>-5.25</td>\n",
       "      <td>Pinus sylvestris</td>\n",
       "      <td>1600</td>\n",
       "      <td>2002</td>\n",
       "      <td>1600</td>\n",
       "      <td>403</td>\n",
       "    </tr>\n",
       "    <tr>\n",
       "      <th>12</th>\n",
       "      <td>LOC</td>\n",
       "      <td>Lochwood</td>\n",
       "      <td>United Kingdom</td>\n",
       "      <td>55.27</td>\n",
       "      <td>-3.43</td>\n",
       "      <td>Quercus petraea</td>\n",
       "      <td>1749</td>\n",
       "      <td>2003</td>\n",
       "      <td>175</td>\n",
       "      <td>255</td>\n",
       "    </tr>\n",
       "    <tr>\n",
       "      <th>13</th>\n",
       "      <td>NIE1</td>\n",
       "      <td>Niepolomice</td>\n",
       "      <td>Poland</td>\n",
       "      <td>50.03</td>\n",
       "      <td>20.35</td>\n",
       "      <td>Quercus robur</td>\n",
       "      <td>1627</td>\n",
       "      <td>2003</td>\n",
       "      <td>190</td>\n",
       "      <td>377</td>\n",
       "    </tr>\n",
       "    <tr>\n",
       "      <th>14</th>\n",
       "      <td>NIE2</td>\n",
       "      <td>Niepolomice</td>\n",
       "      <td>Poland</td>\n",
       "      <td>50.03</td>\n",
       "      <td>20.35</td>\n",
       "      <td>Pinus sylvestris</td>\n",
       "      <td>1627</td>\n",
       "      <td>2003</td>\n",
       "      <td>190</td>\n",
       "      <td>377</td>\n",
       "    </tr>\n",
       "    <tr>\n",
       "      <th>15</th>\n",
       "      <td>PAN</td>\n",
       "      <td>Panemunes</td>\n",
       "      <td>Lithuania</td>\n",
       "      <td>54.09</td>\n",
       "      <td>23.96</td>\n",
       "      <td>Pinus sylvestris</td>\n",
       "      <td>1816</td>\n",
       "      <td>2002</td>\n",
       "      <td>45</td>\n",
       "      <td>187</td>\n",
       "    </tr>\n",
       "    <tr>\n",
       "      <th>16</th>\n",
       "      <td>PED</td>\n",
       "      <td>Pedraforca</td>\n",
       "      <td>Spain</td>\n",
       "      <td>42.23</td>\n",
       "      <td>1.7</td>\n",
       "      <td>Pinus uncinata</td>\n",
       "      <td>1600</td>\n",
       "      <td>2003</td>\n",
       "      <td>2120</td>\n",
       "      <td>404</td>\n",
       "    </tr>\n",
       "    <tr>\n",
       "      <th>17</th>\n",
       "      <td>POE</td>\n",
       "      <td>Poellau</td>\n",
       "      <td>Austria</td>\n",
       "      <td>47.31</td>\n",
       "      <td>15.81</td>\n",
       "      <td>Pinus nigra</td>\n",
       "      <td>1600</td>\n",
       "      <td>2002</td>\n",
       "      <td>500</td>\n",
       "      <td>403</td>\n",
       "    </tr>\n",
       "    <tr>\n",
       "      <th>18</th>\n",
       "      <td>REN</td>\n",
       "      <td>Renn</td>\n",
       "      <td>France</td>\n",
       "      <td>48.02</td>\n",
       "      <td>-1.83</td>\n",
       "      <td>Quercus robur</td>\n",
       "      <td>1611</td>\n",
       "      <td>1998</td>\n",
       "      <td>100</td>\n",
       "      <td>388</td>\n",
       "    </tr>\n",
       "    <tr>\n",
       "      <th>19</th>\n",
       "      <td>SER</td>\n",
       "      <td>Monte Pollino</td>\n",
       "      <td>Italy</td>\n",
       "      <td>39.93</td>\n",
       "      <td>16.21</td>\n",
       "      <td>Pinus leucodermis</td>\n",
       "      <td>1604</td>\n",
       "      <td>2003</td>\n",
       "      <td>1900</td>\n",
       "      <td>400</td>\n",
       "    </tr>\n",
       "    <tr>\n",
       "      <th>20</th>\n",
       "      <td>SUW</td>\n",
       "      <td>Suwalki</td>\n",
       "      <td>Poland</td>\n",
       "      <td>53.95</td>\n",
       "      <td>23.25</td>\n",
       "      <td>Pinus sylvestris</td>\n",
       "      <td>1600</td>\n",
       "      <td>2004</td>\n",
       "      <td>160</td>\n",
       "      <td>405</td>\n",
       "    </tr>\n",
       "    <tr>\n",
       "      <th>21</th>\n",
       "      <td>VIG</td>\n",
       "      <td>Vigera</td>\n",
       "      <td>Switzerland</td>\n",
       "      <td>46.05</td>\n",
       "      <td>8.77</td>\n",
       "      <td>Pinus sylvestris</td>\n",
       "      <td>1675</td>\n",
       "      <td>2003</td>\n",
       "      <td>1400</td>\n",
       "      <td>329</td>\n",
       "    </tr>\n",
       "    <tr>\n",
       "      <th>22</th>\n",
       "      <td>VIN</td>\n",
       "      <td>Vinuesa</td>\n",
       "      <td>Spain</td>\n",
       "      <td>42</td>\n",
       "      <td>2.75</td>\n",
       "      <td>Pinus uncinata</td>\n",
       "      <td>1850</td>\n",
       "      <td>1999</td>\n",
       "      <td>1950</td>\n",
       "      <td>150</td>\n",
       "    </tr>\n",
       "    <tr>\n",
       "      <th>23</th>\n",
       "      <td>WIN</td>\n",
       "      <td>Windsor</td>\n",
       "      <td>United Kingdom</td>\n",
       "      <td>51.43</td>\n",
       "      <td>-0.61</td>\n",
       "      <td>Pinus sylvestris</td>\n",
       "      <td>1763</td>\n",
       "      <td>2003</td>\n",
       "      <td>80</td>\n",
       "      <td>241</td>\n",
       "    </tr>\n",
       "    <tr>\n",
       "      <th>24</th>\n",
       "      <td>WOB</td>\n",
       "      <td>Woburn</td>\n",
       "      <td>United Kingdom</td>\n",
       "      <td>51.98</td>\n",
       "      <td>-0.59</td>\n",
       "      <td>Pinus sylvestris</td>\n",
       "      <td>1604</td>\n",
       "      <td>2003</td>\n",
       "      <td>10</td>\n",
       "      <td>400</td>\n",
       "    </tr>\n",
       "  </tbody>\n",
       "</table>\n",
       "</div>"
      ],
      "text/plain": [
       "Site Code site_code                site_name         Country Latitude  \\\n",
       "0               BRO                  Bromarv         Finland       60   \n",
       "1              CAV                  Cavergno     Switzerland    46.35   \n",
       "2              CAZ                   Cazorla           Spain    37.93   \n",
       "3            COL                 Col Du Zad          Morocco    32.97   \n",
       "4              DRA                 Dransfeld         Germany    51.51   \n",
       "5              FON             Fontainebleau          France    48.38   \n",
       "6              GUT                    Gutuli          Norway       62   \n",
       "7               ILO             Sivakkovaara         Finland    62.98   \n",
       "8              INA                     Inari         Finland    68.93   \n",
       "9               AHI  Perchtoldsdorf Wehrturm         Austria    48.25   \n",
       "10             LAI        Lainzer Tiergarten         Austria    48.18   \n",
       "11              LIL           Pinar de Lillo           Spain    43.07   \n",
       "12             LOC                  Lochwood  United Kingdom    55.27   \n",
       "13             NIE1              Niepolomice          Poland    50.03   \n",
       "14             NIE2              Niepolomice          Poland    50.03   \n",
       "15             PAN                 Panemunes       Lithuania    54.09   \n",
       "16             PED                Pedraforca           Spain    42.23   \n",
       "17             POE                   Poellau         Austria    47.31   \n",
       "18             REN                      Renn          France    48.02   \n",
       "19              SER            Monte Pollino           Italy    39.93   \n",
       "20             SUW                   Suwalki          Poland    53.95   \n",
       "21             VIG                    Vigera     Switzerland    46.05   \n",
       "22             VIN                   Vinuesa           Spain       42   \n",
       "23              WIN                  Windsor  United Kingdom    51.43   \n",
       "24             WOB                    Woburn  United Kingdom    51.98   \n",
       "\n",
       "Site Code Longitude            Species First year CE Last year CE  \\\n",
       "0             23.08      Quercus robur          1901         2002   \n",
       "1               8.6    Quercus petraea          1637         2002   \n",
       "2             -2.97        Pinus nigra          1600         2002   \n",
       "3             -5.07   Cedrus atlantica          1600         2000   \n",
       "4              9.78    Quercus petraea          1776         1999   \n",
       "5              2.67    Quercus petraea          1600         2000   \n",
       "6             12.18   Pinus sylvestris          1600         2003   \n",
       "7             31.27   Pinus sylvestris          1600         2002   \n",
       "8             28.31   Pinus sylvestris          1600         2002   \n",
       "9             16.77    Quercus petraea          1600         1883   \n",
       "10             16.2    Quercus petraea          1812         2003   \n",
       "11            -5.25   Pinus sylvestris          1600         2002   \n",
       "12            -3.43    Quercus petraea          1749         2003   \n",
       "13            20.35      Quercus robur          1627         2003   \n",
       "14            20.35   Pinus sylvestris          1627         2003   \n",
       "15            23.96   Pinus sylvestris          1816         2002   \n",
       "16              1.7     Pinus uncinata          1600         2003   \n",
       "17            15.81        Pinus nigra          1600         2002   \n",
       "18            -1.83      Quercus robur          1611         1998   \n",
       "19            16.21  Pinus leucodermis          1604         2003   \n",
       "20            23.25   Pinus sylvestris          1600         2004   \n",
       "21             8.77   Pinus sylvestris          1675         2003   \n",
       "22             2.75     Pinus uncinata          1850         1999   \n",
       "23            -0.61   Pinus sylvestris          1763         2003   \n",
       "24            -0.59   Pinus sylvestris          1604         2003   \n",
       "\n",
       "Site Code elevation a.s.l.  years_with_data  \n",
       "0                        5              102  \n",
       "1                      900              366  \n",
       "2                     1820              403  \n",
       "3                     2200              401  \n",
       "4                      320              224  \n",
       "5                      100              401  \n",
       "6                      800              404  \n",
       "7                      200              403  \n",
       "8                      150              403  \n",
       "9                     n.s.              284  \n",
       "10                     300              192  \n",
       "11                    1600              403  \n",
       "12                     175              255  \n",
       "13                     190              377  \n",
       "14                     190              377  \n",
       "15                      45              187  \n",
       "16                    2120              404  \n",
       "17                     500              403  \n",
       "18                     100              388  \n",
       "19                    1900              400  \n",
       "20                     160              405  \n",
       "21                    1400              329  \n",
       "22                    1950              150  \n",
       "23                      80              241  \n",
       "24                      10              400  "
      ]
     },
     "execution_count": 3,
     "metadata": {},
     "output_type": "execute_result"
    }
   ],
   "source": [
    "df_loc"
   ]
  },
  {
   "cell_type": "code",
   "execution_count": 4,
   "id": "02e17a36",
   "metadata": {},
   "outputs": [
    {
     "name": "stdout",
     "output_type": "stream",
     "text": [
      "Problematic entries in registered 'Value' column:\n",
      "[nan, 'NA ', 'NAN']\n"
     ]
    }
   ],
   "source": [
    "# Clean data information \n",
    "df_data.rename(columns={'Site Code': 'year'}, inplace=True)\n",
    "df_data.set_index('year', inplace=True)\n",
    "df_data = df_data.transpose().reset_index()\n",
    "df_data.rename(columns={'index': 'site_code'}, inplace=True)\n",
    "df_data = df_data.melt(id_vars=['site_code'], var_name='Year', value_name='Value')\n",
    "df_data.sort_values(by=['site_code', 'Year'], inplace=True, ignore_index=True)\n",
    "\n",
    "# Identify problematic entries in 'Value' column\n",
    "mask_invalid = pd.to_numeric(df_data['Value'].str.strip(), errors='coerce').isna()\n",
    "errores = df_data.loc[mask_invalid, 'Value']\n",
    "print(\"Problematic entries in registered 'Value' column:\")\n",
    "l_problematic_entries = errores.unique().tolist()\n",
    "print(l_problematic_entries)\n",
    "\n",
    "# This will be done since all problematic entries are some form of NaN\n",
    "df_data['Value'] = df_data['Value'].replace(\n",
    "    ['nan', 'NaN', 'NAN'], np.nan\n",
    ")"
   ]
  },
  {
   "cell_type": "code",
   "execution_count": 5,
   "id": "8174f6f0",
   "metadata": {},
   "outputs": [
    {
     "name": "stdout",
     "output_type": "stream",
     "text": [
      "Number of sites with missing data: 10 out of 25 total sites\n"
     ]
    }
   ],
   "source": [
    "# After EDA, we found that 'NA' strings are used to denote missing data\n",
    "df_data['Value'] = pd.to_numeric(df_data['Value'].str.strip(), errors='coerce')\n",
    "\n",
    "# Compare number of data points per site with number of years with data\n",
    "df_data_value_counts = df_data.groupby('site_code', as_index=False).count()\n",
    "df_data_value_counts.columns = [col if col == 'site_code'\n",
    "                                else col + '_count'\n",
    "                                for col in df_data_value_counts.columns\n",
    "                                ]\n",
    "df_data_value_counts = df_data_value_counts.merge(\n",
    "    \t\t\t\t\tdf_loc[['site_code', 'years_with_data']],\n",
    "                        on='site_code', how='left'\n",
    "                        )\n",
    "df_data_value_counts['missing_data'] = (df_data_value_counts['Value_count'] \n",
    "                                        < df_data_value_counts['years_with_data'])*1\n",
    "\n",
    "print(\"Number of sites with missing data: \"\n",
    "      f\"{df_data_value_counts['missing_data'].sum()} out of \"\n",
    "      f\"{df_data_value_counts.shape[0]} total sites\")\n",
    "\n",
    "df_data_value_counts['percentage_missing'] = (1\n",
    "                                              - (df_data_value_counts['Value_count']\n",
    "                                                 /df_data_value_counts['years_with_data'])\n",
    "                                                 )*100"
   ]
  },
  {
   "cell_type": "code",
   "execution_count": 6,
   "id": "9b1a3c9c",
   "metadata": {},
   "outputs": [],
   "source": [
    "df_significant_missing_data = df_data_value_counts[df_data_value_counts.percentage_missing > 6].reset_index(drop=True)\n",
    "df_low_missing_data = df_data_value_counts[(df_data_value_counts.percentage_missing <= 6) & (df_data_value_counts.percentage_missing > 0)].reset_index(drop=True)\n",
    "df_more_data = df_data_value_counts[df_data_value_counts.percentage_missing < 0].reset_index(drop=True)"
   ]
  },
  {
   "cell_type": "code",
   "execution_count": 7,
   "id": "3d8be630",
   "metadata": {},
   "outputs": [
    {
     "data": {
      "text/html": [
       "<div>\n",
       "<style scoped>\n",
       "    .dataframe tbody tr th:only-of-type {\n",
       "        vertical-align: middle;\n",
       "    }\n",
       "\n",
       "    .dataframe tbody tr th {\n",
       "        vertical-align: top;\n",
       "    }\n",
       "\n",
       "    .dataframe thead th {\n",
       "        text-align: right;\n",
       "    }\n",
       "</style>\n",
       "<table border=\"1\" class=\"dataframe\">\n",
       "  <thead>\n",
       "    <tr style=\"text-align: right;\">\n",
       "      <th></th>\n",
       "      <th>site_code</th>\n",
       "      <th>Year_count</th>\n",
       "      <th>Value_count</th>\n",
       "      <th>years_with_data</th>\n",
       "      <th>missing_data</th>\n",
       "      <th>percentage_missing</th>\n",
       "    </tr>\n",
       "  </thead>\n",
       "  <tbody>\n",
       "    <tr>\n",
       "      <th>0</th>\n",
       "      <td>COL</td>\n",
       "      <td>406</td>\n",
       "      <td>280</td>\n",
       "      <td>401</td>\n",
       "      <td>1</td>\n",
       "      <td>30.174564</td>\n",
       "    </tr>\n",
       "    <tr>\n",
       "      <th>1</th>\n",
       "      <td>FON</td>\n",
       "      <td>406</td>\n",
       "      <td>283</td>\n",
       "      <td>401</td>\n",
       "      <td>1</td>\n",
       "      <td>29.426434</td>\n",
       "    </tr>\n",
       "  </tbody>\n",
       "</table>\n",
       "</div>"
      ],
      "text/plain": [
       "  site_code  Year_count  Value_count  years_with_data  missing_data  \\\n",
       "0    COL            406          280              401             1   \n",
       "1      FON          406          283              401             1   \n",
       "\n",
       "   percentage_missing  \n",
       "0           30.174564  \n",
       "1           29.426434  "
      ]
     },
     "execution_count": 7,
     "metadata": {},
     "output_type": "execute_result"
    }
   ],
   "source": [
    "df_significant_missing_data\n"
   ]
  },
  {
   "cell_type": "code",
   "execution_count": 8,
   "id": "00bf5234",
   "metadata": {},
   "outputs": [
    {
     "data": {
      "text/html": [
       "<div>\n",
       "<style scoped>\n",
       "    .dataframe tbody tr th:only-of-type {\n",
       "        vertical-align: middle;\n",
       "    }\n",
       "\n",
       "    .dataframe tbody tr th {\n",
       "        vertical-align: top;\n",
       "    }\n",
       "\n",
       "    .dataframe thead th {\n",
       "        text-align: right;\n",
       "    }\n",
       "</style>\n",
       "<table border=\"1\" class=\"dataframe\">\n",
       "  <thead>\n",
       "    <tr style=\"text-align: right;\">\n",
       "      <th></th>\n",
       "      <th>site_code</th>\n",
       "      <th>Year_count</th>\n",
       "      <th>Value_count</th>\n",
       "      <th>years_with_data</th>\n",
       "      <th>missing_data</th>\n",
       "      <th>percentage_missing</th>\n",
       "    </tr>\n",
       "  </thead>\n",
       "  <tbody>\n",
       "    <tr>\n",
       "      <th>0</th>\n",
       "      <td>DRA</td>\n",
       "      <td>406</td>\n",
       "      <td>226</td>\n",
       "      <td>224</td>\n",
       "      <td>0</td>\n",
       "      <td>-0.892857</td>\n",
       "    </tr>\n",
       "  </tbody>\n",
       "</table>\n",
       "</div>"
      ],
      "text/plain": [
       "  site_code  Year_count  Value_count  years_with_data  missing_data  \\\n",
       "0      DRA          406          226              224             0   \n",
       "\n",
       "   percentage_missing  \n",
       "0           -0.892857  "
      ]
     },
     "execution_count": 8,
     "metadata": {},
     "output_type": "execute_result"
    }
   ],
   "source": [
    "df_more_data"
   ]
  },
  {
   "cell_type": "code",
   "execution_count": 9,
   "id": "c60017bd",
   "metadata": {},
   "outputs": [],
   "source": [
    "l_hard_review = df_significant_missing_data['site_code'].tolist()\n",
    "l_more_data = df_more_data['site_code'].tolist()"
   ]
  },
  {
   "cell_type": "code",
   "execution_count": 10,
   "id": "03b95e77",
   "metadata": {},
   "outputs": [
    {
     "data": {
      "application/vnd.plotly.v1+json": {
       "config": {
        "plotlyServerURL": "https://plot.ly"
       },
       "data": [
        {
         "hovertemplate": "Year=%{x}<br>Value=%{y}<extra></extra>",
         "legendgroup": "",
         "line": {
          "color": "#636efa",
          "dash": "solid"
         },
         "marker": {
          "symbol": "circle"
         },
         "mode": "lines",
         "name": "",
         "orientation": "v",
         "showlegend": false,
         "type": "scatter",
         "x": [
          "1600",
          "1601",
          "1602",
          "1603",
          "1604",
          "1605",
          "1606",
          "1607",
          "1608",
          "1609",
          "1610",
          "1611",
          "1612",
          "1613",
          "1614",
          "1615",
          "1616",
          "1617",
          "1618",
          "1619",
          "1620",
          "1621",
          "1622",
          "1623",
          "1624",
          "1625",
          "1626",
          "1627",
          "1628",
          "1629",
          "1630",
          "1631",
          "1632",
          "1633",
          "1634",
          "1635",
          "1636",
          "1637",
          "1638",
          "1639",
          "1640",
          "1641",
          "1642",
          "1643",
          "1644",
          "1645",
          "1646",
          "1647",
          "1648",
          "1649",
          "1650",
          "1651",
          "1652",
          "1653",
          "1654",
          "1655",
          "1656",
          "1657",
          "1658",
          "1659",
          "1660",
          "1661",
          "1662",
          "1663",
          "1664",
          "1665",
          "1666",
          "1667",
          "1668",
          "1669",
          "1670",
          "1671",
          "1672",
          "1673",
          "1674",
          "1675",
          "1676",
          "1677",
          "1678",
          "1679",
          "1680",
          "1681",
          "1682",
          "1683",
          "1684",
          "1685",
          "1686",
          "1687",
          "1688",
          "1689",
          "1690",
          "1691",
          "1692",
          "1693",
          "1694",
          "1695",
          "1696",
          "1697",
          "1698",
          "1699",
          "1700",
          "1701",
          "1702",
          "1703",
          "1704",
          "1705",
          "1706",
          "1707",
          "1708",
          "1709",
          "1710",
          "1711",
          "1712",
          "1713",
          "1714",
          "1715",
          "1716",
          "1717",
          "1718",
          "1719",
          "1720",
          "1721",
          "1722",
          "1723",
          "1724",
          "1725",
          "1726",
          "1727",
          "1728",
          "1729",
          "1730",
          "1731",
          "1732",
          "1733",
          "1734",
          "1735",
          "1736",
          "1737",
          "1738",
          "1739",
          "1740",
          "1741",
          "1742",
          "1743",
          "1744",
          "1745",
          "1746",
          "1747",
          "1748",
          "1749",
          "1750",
          "1751",
          "1752",
          "1753",
          "1754",
          "1755",
          "1756",
          "1757",
          "1758",
          "1759",
          "1760",
          "1761",
          "1762",
          "1763",
          "1764",
          "1765",
          "1766",
          "1767",
          "1768",
          "1769",
          "1770",
          "1771",
          "1772",
          "1773",
          "1774",
          "1775",
          "1776",
          "1777",
          "1778",
          "1779",
          "1780",
          "1781",
          "1782",
          "1783",
          "1784",
          "1785",
          "1786",
          "1787",
          "1788",
          "1789",
          "1790",
          "1791",
          "1792",
          "1793",
          "1794",
          "1795",
          "1796",
          "1797",
          "1798",
          "1799",
          "1800",
          "1801",
          "1802",
          "1803",
          "1804",
          "1805",
          "1806",
          "1807",
          "1808",
          "1809",
          "1810",
          "1811",
          "1812",
          "1813",
          "1814",
          "1815",
          "1816",
          "1817",
          "1818",
          "1819",
          "1820",
          "1821",
          "1822",
          "1823",
          "1824",
          "1825",
          "1826",
          "1827",
          "1828",
          "1829",
          "1830",
          "1831",
          "1832",
          "1833",
          "1834",
          "1835",
          "1836",
          "1837",
          "1838",
          "1839",
          "1840",
          "1841",
          "1842",
          "1843",
          "1844",
          "1845",
          "1846",
          "1847",
          "1848",
          "1849",
          "1850",
          "1851",
          "1852",
          "1853",
          "1854",
          "1855",
          "1856",
          "1857",
          "1858",
          "1859",
          "1860",
          "1861",
          "1862",
          "1863",
          "1864",
          "1865",
          "1866",
          "1867",
          "1868",
          "1869",
          "1870",
          "1871",
          "1872",
          "1873",
          "1874",
          "1875",
          "1876",
          "1877",
          "1878",
          "1879",
          "1880",
          "1881",
          "1882",
          "1883",
          "1884",
          "1885",
          "1886",
          "1887",
          "1888",
          "1889",
          "1890",
          "1891",
          "1892",
          "1893",
          "1894",
          "1895",
          "1896",
          "1897",
          "1898",
          "1899",
          "1900",
          "1901",
          "1902",
          "1903",
          "1904",
          "1905",
          "1906",
          "1907",
          "1908",
          "1909",
          "1910",
          "1911",
          "1912",
          "1913",
          "1914",
          "1915",
          "1916",
          "1917",
          "1918",
          "1919",
          "1920",
          "1921",
          "1922",
          "1923",
          "1924",
          "1925",
          "1926",
          "1927",
          "1928",
          "1929",
          "1930",
          "1931",
          "1932",
          "1933",
          "1934",
          "1935",
          "1936",
          "1937",
          "1938",
          "1939",
          "1940",
          "1941",
          "1942",
          "1943",
          "1944",
          "1945",
          "1946",
          "1947",
          "1948",
          "1949",
          "1950",
          "1951",
          "1952",
          "1953",
          "1954",
          "1955",
          "1956",
          "1957",
          "1958",
          "1959",
          "1960",
          "1961",
          "1962",
          "1963",
          "1964",
          "1965",
          "1966",
          "1967",
          "1968",
          "1969",
          "1970",
          "1971",
          "1972",
          "1973",
          "1974",
          "1975",
          "1976",
          "1977",
          "1978",
          "1979",
          "1980",
          "1981",
          "1982",
          "1983",
          "1984",
          "1985",
          "1986",
          "1987",
          "1988",
          "1989",
          "1990",
          "1991",
          "1992",
          "1993",
          "1994",
          "1995",
          "1996",
          "1997",
          "1998",
          "1999",
          "2000",
          "2001",
          "2002",
          "2003",
          "2004",
          "2005"
         ],
         "xaxis": "x",
         "y": {
          "bdata": "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",
          "dtype": "f8"
         },
         "yaxis": "y"
        }
       ],
       "layout": {
        "legend": {
         "tracegroupgap": 0
        },
        "template": {
         "data": {
          "bar": [
           {
            "error_x": {
             "color": "#2a3f5f"
            },
            "error_y": {
             "color": "#2a3f5f"
            },
            "marker": {
             "line": {
              "color": "#E5ECF6",
              "width": 0.5
             },
             "pattern": {
              "fillmode": "overlay",
              "size": 10,
              "solidity": 0.2
             }
            },
            "type": "bar"
           }
          ],
          "barpolar": [
           {
            "marker": {
             "line": {
              "color": "#E5ECF6",
              "width": 0.5
             },
             "pattern": {
              "fillmode": "overlay",
              "size": 10,
              "solidity": 0.2
             }
            },
            "type": "barpolar"
           }
          ],
          "carpet": [
           {
            "aaxis": {
             "endlinecolor": "#2a3f5f",
             "gridcolor": "white",
             "linecolor": "white",
             "minorgridcolor": "white",
             "startlinecolor": "#2a3f5f"
            },
            "baxis": {
             "endlinecolor": "#2a3f5f",
             "gridcolor": "white",
             "linecolor": "white",
             "minorgridcolor": "white",
             "startlinecolor": "#2a3f5f"
            },
            "type": "carpet"
           }
          ],
          "choropleth": [
           {
            "colorbar": {
             "outlinewidth": 0,
             "ticks": ""
            },
            "type": "choropleth"
           }
          ],
          "contour": [
           {
            "colorbar": {
             "outlinewidth": 0,
             "ticks": ""
            },
            "colorscale": [
             [
              0,
              "#0d0887"
             ],
             [
              0.1111111111111111,
              "#46039f"
             ],
             [
              0.2222222222222222,
              "#7201a8"
             ],
             [
              0.3333333333333333,
              "#9c179e"
             ],
             [
              0.4444444444444444,
              "#bd3786"
             ],
             [
              0.5555555555555556,
              "#d8576b"
             ],
             [
              0.6666666666666666,
              "#ed7953"
             ],
             [
              0.7777777777777778,
              "#fb9f3a"
             ],
             [
              0.8888888888888888,
              "#fdca26"
             ],
             [
              1,
              "#f0f921"
             ]
            ],
            "type": "contour"
           }
          ],
          "contourcarpet": [
           {
            "colorbar": {
             "outlinewidth": 0,
             "ticks": ""
            },
            "type": "contourcarpet"
           }
          ],
          "heatmap": [
           {
            "colorbar": {
             "outlinewidth": 0,
             "ticks": ""
            },
            "colorscale": [
             [
              0,
              "#0d0887"
             ],
             [
              0.1111111111111111,
              "#46039f"
             ],
             [
              0.2222222222222222,
              "#7201a8"
             ],
             [
              0.3333333333333333,
              "#9c179e"
             ],
             [
              0.4444444444444444,
              "#bd3786"
             ],
             [
              0.5555555555555556,
              "#d8576b"
             ],
             [
              0.6666666666666666,
              "#ed7953"
             ],
             [
              0.7777777777777778,
              "#fb9f3a"
             ],
             [
              0.8888888888888888,
              "#fdca26"
             ],
             [
              1,
              "#f0f921"
             ]
            ],
            "type": "heatmap"
           }
          ],
          "histogram": [
           {
            "marker": {
             "pattern": {
              "fillmode": "overlay",
              "size": 10,
              "solidity": 0.2
             }
            },
            "type": "histogram"
           }
          ],
          "histogram2d": [
           {
            "colorbar": {
             "outlinewidth": 0,
             "ticks": ""
            },
            "colorscale": [
             [
              0,
              "#0d0887"
             ],
             [
              0.1111111111111111,
              "#46039f"
             ],
             [
              0.2222222222222222,
              "#7201a8"
             ],
             [
              0.3333333333333333,
              "#9c179e"
             ],
             [
              0.4444444444444444,
              "#bd3786"
             ],
             [
              0.5555555555555556,
              "#d8576b"
             ],
             [
              0.6666666666666666,
              "#ed7953"
             ],
             [
              0.7777777777777778,
              "#fb9f3a"
             ],
             [
              0.8888888888888888,
              "#fdca26"
             ],
             [
              1,
              "#f0f921"
             ]
            ],
            "type": "histogram2d"
           }
          ],
          "histogram2dcontour": [
           {
            "colorbar": {
             "outlinewidth": 0,
             "ticks": ""
            },
            "colorscale": [
             [
              0,
              "#0d0887"
             ],
             [
              0.1111111111111111,
              "#46039f"
             ],
             [
              0.2222222222222222,
              "#7201a8"
             ],
             [
              0.3333333333333333,
              "#9c179e"
             ],
             [
              0.4444444444444444,
              "#bd3786"
             ],
             [
              0.5555555555555556,
              "#d8576b"
             ],
             [
              0.6666666666666666,
              "#ed7953"
             ],
             [
              0.7777777777777778,
              "#fb9f3a"
             ],
             [
              0.8888888888888888,
              "#fdca26"
             ],
             [
              1,
              "#f0f921"
             ]
            ],
            "type": "histogram2dcontour"
           }
          ],
          "mesh3d": [
           {
            "colorbar": {
             "outlinewidth": 0,
             "ticks": ""
            },
            "type": "mesh3d"
           }
          ],
          "parcoords": [
           {
            "line": {
             "colorbar": {
              "outlinewidth": 0,
              "ticks": ""
             }
            },
            "type": "parcoords"
           }
          ],
          "pie": [
           {
            "automargin": true,
            "type": "pie"
           }
          ],
          "scatter": [
           {
            "fillpattern": {
             "fillmode": "overlay",
             "size": 10,
             "solidity": 0.2
            },
            "type": "scatter"
           }
          ],
          "scatter3d": [
           {
            "line": {
             "colorbar": {
              "outlinewidth": 0,
              "ticks": ""
             }
            },
            "marker": {
             "colorbar": {
              "outlinewidth": 0,
              "ticks": ""
             }
            },
            "type": "scatter3d"
           }
          ],
          "scattercarpet": [
           {
            "marker": {
             "colorbar": {
              "outlinewidth": 0,
              "ticks": ""
             }
            },
            "type": "scattercarpet"
           }
          ],
          "scattergeo": [
           {
            "marker": {
             "colorbar": {
              "outlinewidth": 0,
              "ticks": ""
             }
            },
            "type": "scattergeo"
           }
          ],
          "scattergl": [
           {
            "marker": {
             "colorbar": {
              "outlinewidth": 0,
              "ticks": ""
             }
            },
            "type": "scattergl"
           }
          ],
          "scattermap": [
           {
            "marker": {
             "colorbar": {
              "outlinewidth": 0,
              "ticks": ""
             }
            },
            "type": "scattermap"
           }
          ],
          "scattermapbox": [
           {
            "marker": {
             "colorbar": {
              "outlinewidth": 0,
              "ticks": ""
             }
            },
            "type": "scattermapbox"
           }
          ],
          "scatterpolar": [
           {
            "marker": {
             "colorbar": {
              "outlinewidth": 0,
              "ticks": ""
             }
            },
            "type": "scatterpolar"
           }
          ],
          "scatterpolargl": [
           {
            "marker": {
             "colorbar": {
              "outlinewidth": 0,
              "ticks": ""
             }
            },
            "type": "scatterpolargl"
           }
          ],
          "scatterternary": [
           {
            "marker": {
             "colorbar": {
              "outlinewidth": 0,
              "ticks": ""
             }
            },
            "type": "scatterternary"
           }
          ],
          "surface": [
           {
            "colorbar": {
             "outlinewidth": 0,
             "ticks": ""
            },
            "colorscale": [
             [
              0,
              "#0d0887"
             ],
             [
              0.1111111111111111,
              "#46039f"
             ],
             [
              0.2222222222222222,
              "#7201a8"
             ],
             [
              0.3333333333333333,
              "#9c179e"
             ],
             [
              0.4444444444444444,
              "#bd3786"
             ],
             [
              0.5555555555555556,
              "#d8576b"
             ],
             [
              0.6666666666666666,
              "#ed7953"
             ],
             [
              0.7777777777777778,
              "#fb9f3a"
             ],
             [
              0.8888888888888888,
              "#fdca26"
             ],
             [
              1,
              "#f0f921"
             ]
            ],
            "type": "surface"
           }
          ],
          "table": [
           {
            "cells": {
             "fill": {
              "color": "#EBF0F8"
             },
             "line": {
              "color": "white"
             }
            },
            "header": {
             "fill": {
              "color": "#C8D4E3"
             },
             "line": {
              "color": "white"
             }
            },
            "type": "table"
           }
          ]
         },
         "layout": {
          "annotationdefaults": {
           "arrowcolor": "#2a3f5f",
           "arrowhead": 0,
           "arrowwidth": 1
          },
          "autotypenumbers": "strict",
          "coloraxis": {
           "colorbar": {
            "outlinewidth": 0,
            "ticks": ""
           }
          },
          "colorscale": {
           "diverging": [
            [
             0,
             "#8e0152"
            ],
            [
             0.1,
             "#c51b7d"
            ],
            [
             0.2,
             "#de77ae"
            ],
            [
             0.3,
             "#f1b6da"
            ],
            [
             0.4,
             "#fde0ef"
            ],
            [
             0.5,
             "#f7f7f7"
            ],
            [
             0.6,
             "#e6f5d0"
            ],
            [
             0.7,
             "#b8e186"
            ],
            [
             0.8,
             "#7fbc41"
            ],
            [
             0.9,
             "#4d9221"
            ],
            [
             1,
             "#276419"
            ]
           ],
           "sequential": [
            [
             0,
             "#0d0887"
            ],
            [
             0.1111111111111111,
             "#46039f"
            ],
            [
             0.2222222222222222,
             "#7201a8"
            ],
            [
             0.3333333333333333,
             "#9c179e"
            ],
            [
             0.4444444444444444,
             "#bd3786"
            ],
            [
             0.5555555555555556,
             "#d8576b"
            ],
            [
             0.6666666666666666,
             "#ed7953"
            ],
            [
             0.7777777777777778,
             "#fb9f3a"
            ],
            [
             0.8888888888888888,
             "#fdca26"
            ],
            [
             1,
             "#f0f921"
            ]
           ],
           "sequentialminus": [
            [
             0,
             "#0d0887"
            ],
            [
             0.1111111111111111,
             "#46039f"
            ],
            [
             0.2222222222222222,
             "#7201a8"
            ],
            [
             0.3333333333333333,
             "#9c179e"
            ],
            [
             0.4444444444444444,
             "#bd3786"
            ],
            [
             0.5555555555555556,
             "#d8576b"
            ],
            [
             0.6666666666666666,
             "#ed7953"
            ],
            [
             0.7777777777777778,
             "#fb9f3a"
            ],
            [
             0.8888888888888888,
             "#fdca26"
            ],
            [
             1,
             "#f0f921"
            ]
           ]
          },
          "colorway": [
           "#636efa",
           "#EF553B",
           "#00cc96",
           "#ab63fa",
           "#FFA15A",
           "#19d3f3",
           "#FF6692",
           "#B6E880",
           "#FF97FF",
           "#FECB52"
          ],
          "font": {
           "color": "#2a3f5f"
          },
          "geo": {
           "bgcolor": "white",
           "lakecolor": "white",
           "landcolor": "#E5ECF6",
           "showlakes": true,
           "showland": true,
           "subunitcolor": "white"
          },
          "hoverlabel": {
           "align": "left"
          },
          "hovermode": "closest",
          "mapbox": {
           "style": "light"
          },
          "paper_bgcolor": "white",
          "plot_bgcolor": "#E5ECF6",
          "polar": {
           "angularaxis": {
            "gridcolor": "white",
            "linecolor": "white",
            "ticks": ""
           },
           "bgcolor": "#E5ECF6",
           "radialaxis": {
            "gridcolor": "white",
            "linecolor": "white",
            "ticks": ""
           }
          },
          "scene": {
           "xaxis": {
            "backgroundcolor": "#E5ECF6",
            "gridcolor": "white",
            "gridwidth": 2,
            "linecolor": "white",
            "showbackground": true,
            "ticks": "",
            "zerolinecolor": "white"
           },
           "yaxis": {
            "backgroundcolor": "#E5ECF6",
            "gridcolor": "white",
            "gridwidth": 2,
            "linecolor": "white",
            "showbackground": true,
            "ticks": "",
            "zerolinecolor": "white"
           },
           "zaxis": {
            "backgroundcolor": "#E5ECF6",
            "gridcolor": "white",
            "gridwidth": 2,
            "linecolor": "white",
            "showbackground": true,
            "ticks": "",
            "zerolinecolor": "white"
           }
          },
          "shapedefaults": {
           "line": {
            "color": "#2a3f5f"
           }
          },
          "ternary": {
           "aaxis": {
            "gridcolor": "white",
            "linecolor": "white",
            "ticks": ""
           },
           "baxis": {
            "gridcolor": "white",
            "linecolor": "white",
            "ticks": ""
           },
           "bgcolor": "#E5ECF6",
           "caxis": {
            "gridcolor": "white",
            "linecolor": "white",
            "ticks": ""
           }
          },
          "title": {
           "x": 0.05
          },
          "xaxis": {
           "automargin": true,
           "gridcolor": "white",
           "linecolor": "white",
           "ticks": "",
           "title": {
            "standoff": 15
           },
           "zerolinecolor": "white",
           "zerolinewidth": 2
          },
          "yaxis": {
           "automargin": true,
           "gridcolor": "white",
           "linecolor": "white",
           "ticks": "",
           "title": {
            "standoff": 15
           },
           "zerolinecolor": "white",
           "zerolinewidth": 2
          }
         }
        },
        "title": {
         "text": "Site code: COL   "
        },
        "xaxis": {
         "anchor": "y",
         "domain": [
          0,
          1
         ],
         "title": {
          "text": "Year"
         }
        },
        "yaxis": {
         "anchor": "x",
         "domain": [
          0,
          1
         ],
         "title": {
          "text": "Value"
         }
        }
       }
      }
     },
     "metadata": {},
     "output_type": "display_data"
    },
    {
     "data": {
      "application/vnd.plotly.v1+json": {
       "config": {
        "plotlyServerURL": "https://plot.ly"
       },
       "data": [
        {
         "hovertemplate": "Year=%{x}<br>Value=%{y}<extra></extra>",
         "legendgroup": "",
         "line": {
          "color": "#636efa",
          "dash": "solid"
         },
         "marker": {
          "symbol": "circle"
         },
         "mode": "lines",
         "name": "",
         "orientation": "v",
         "showlegend": false,
         "type": "scatter",
         "x": [
          "1600",
          "1601",
          "1602",
          "1603",
          "1604",
          "1605",
          "1606",
          "1607",
          "1608",
          "1609",
          "1610",
          "1611",
          "1612",
          "1613",
          "1614",
          "1615",
          "1616",
          "1617",
          "1618",
          "1619",
          "1620",
          "1621",
          "1622",
          "1623",
          "1624",
          "1625",
          "1626",
          "1627",
          "1628",
          "1629",
          "1630",
          "1631",
          "1632",
          "1633",
          "1634",
          "1635",
          "1636",
          "1637",
          "1638",
          "1639",
          "1640",
          "1641",
          "1642",
          "1643",
          "1644",
          "1645",
          "1646",
          "1647",
          "1648",
          "1649",
          "1650",
          "1651",
          "1652",
          "1653",
          "1654",
          "1655",
          "1656",
          "1657",
          "1658",
          "1659",
          "1660",
          "1661",
          "1662",
          "1663",
          "1664",
          "1665",
          "1666",
          "1667",
          "1668",
          "1669",
          "1670",
          "1671",
          "1672",
          "1673",
          "1674",
          "1675",
          "1676",
          "1677",
          "1678",
          "1679",
          "1680",
          "1681",
          "1682",
          "1683",
          "1684",
          "1685",
          "1686",
          "1687",
          "1688",
          "1689",
          "1690",
          "1691",
          "1692",
          "1693",
          "1694",
          "1695",
          "1696",
          "1697",
          "1698",
          "1699",
          "1700",
          "1701",
          "1702",
          "1703",
          "1704",
          "1705",
          "1706",
          "1707",
          "1708",
          "1709",
          "1710",
          "1711",
          "1712",
          "1713",
          "1714",
          "1715",
          "1716",
          "1717",
          "1718",
          "1719",
          "1720",
          "1721",
          "1722",
          "1723",
          "1724",
          "1725",
          "1726",
          "1727",
          "1728",
          "1729",
          "1730",
          "1731",
          "1732",
          "1733",
          "1734",
          "1735",
          "1736",
          "1737",
          "1738",
          "1739",
          "1740",
          "1741",
          "1742",
          "1743",
          "1744",
          "1745",
          "1746",
          "1747",
          "1748",
          "1749",
          "1750",
          "1751",
          "1752",
          "1753",
          "1754",
          "1755",
          "1756",
          "1757",
          "1758",
          "1759",
          "1760",
          "1761",
          "1762",
          "1763",
          "1764",
          "1765",
          "1766",
          "1767",
          "1768",
          "1769",
          "1770",
          "1771",
          "1772",
          "1773",
          "1774",
          "1775",
          "1776",
          "1777",
          "1778",
          "1779",
          "1780",
          "1781",
          "1782",
          "1783",
          "1784",
          "1785",
          "1786",
          "1787",
          "1788",
          "1789",
          "1790",
          "1791",
          "1792",
          "1793",
          "1794",
          "1795",
          "1796",
          "1797",
          "1798",
          "1799",
          "1800",
          "1801",
          "1802",
          "1803",
          "1804",
          "1805",
          "1806",
          "1807",
          "1808",
          "1809",
          "1810",
          "1811",
          "1812",
          "1813",
          "1814",
          "1815",
          "1816",
          "1817",
          "1818",
          "1819",
          "1820",
          "1821",
          "1822",
          "1823",
          "1824",
          "1825",
          "1826",
          "1827",
          "1828",
          "1829",
          "1830",
          "1831",
          "1832",
          "1833",
          "1834",
          "1835",
          "1836",
          "1837",
          "1838",
          "1839",
          "1840",
          "1841",
          "1842",
          "1843",
          "1844",
          "1845",
          "1846",
          "1847",
          "1848",
          "1849",
          "1850",
          "1851",
          "1852",
          "1853",
          "1854",
          "1855",
          "1856",
          "1857",
          "1858",
          "1859",
          "1860",
          "1861",
          "1862",
          "1863",
          "1864",
          "1865",
          "1866",
          "1867",
          "1868",
          "1869",
          "1870",
          "1871",
          "1872",
          "1873",
          "1874",
          "1875",
          "1876",
          "1877",
          "1878",
          "1879",
          "1880",
          "1881",
          "1882",
          "1883",
          "1884",
          "1885",
          "1886",
          "1887",
          "1888",
          "1889",
          "1890",
          "1891",
          "1892",
          "1893",
          "1894",
          "1895",
          "1896",
          "1897",
          "1898",
          "1899",
          "1900",
          "1901",
          "1902",
          "1903",
          "1904",
          "1905",
          "1906",
          "1907",
          "1908",
          "1909",
          "1910",
          "1911",
          "1912",
          "1913",
          "1914",
          "1915",
          "1916",
          "1917",
          "1918",
          "1919",
          "1920",
          "1921",
          "1922",
          "1923",
          "1924",
          "1925",
          "1926",
          "1927",
          "1928",
          "1929",
          "1930",
          "1931",
          "1932",
          "1933",
          "1934",
          "1935",
          "1936",
          "1937",
          "1938",
          "1939",
          "1940",
          "1941",
          "1942",
          "1943",
          "1944",
          "1945",
          "1946",
          "1947",
          "1948",
          "1949",
          "1950",
          "1951",
          "1952",
          "1953",
          "1954",
          "1955",
          "1956",
          "1957",
          "1958",
          "1959",
          "1960",
          "1961",
          "1962",
          "1963",
          "1964",
          "1965",
          "1966",
          "1967",
          "1968",
          "1969",
          "1970",
          "1971",
          "1972",
          "1973",
          "1974",
          "1975",
          "1976",
          "1977",
          "1978",
          "1979",
          "1980",
          "1981",
          "1982",
          "1983",
          "1984",
          "1985",
          "1986",
          "1987",
          "1988",
          "1989",
          "1990",
          "1991",
          "1992",
          "1993",
          "1994",
          "1995",
          "1996",
          "1997",
          "1998",
          "1999",
          "2000",
          "2001",
          "2002",
          "2003",
          "2004",
          "2005"
         ],
         "xaxis": "x",
         "y": {
          "bdata": "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",
          "dtype": "f8"
         },
         "yaxis": "y"
        }
       ],
       "layout": {
        "legend": {
         "tracegroupgap": 0
        },
        "template": {
         "data": {
          "bar": [
           {
            "error_x": {
             "color": "#2a3f5f"
            },
            "error_y": {
             "color": "#2a3f5f"
            },
            "marker": {
             "line": {
              "color": "#E5ECF6",
              "width": 0.5
             },
             "pattern": {
              "fillmode": "overlay",
              "size": 10,
              "solidity": 0.2
             }
            },
            "type": "bar"
           }
          ],
          "barpolar": [
           {
            "marker": {
             "line": {
              "color": "#E5ECF6",
              "width": 0.5
             },
             "pattern": {
              "fillmode": "overlay",
              "size": 10,
              "solidity": 0.2
             }
            },
            "type": "barpolar"
           }
          ],
          "carpet": [
           {
            "aaxis": {
             "endlinecolor": "#2a3f5f",
             "gridcolor": "white",
             "linecolor": "white",
             "minorgridcolor": "white",
             "startlinecolor": "#2a3f5f"
            },
            "baxis": {
             "endlinecolor": "#2a3f5f",
             "gridcolor": "white",
             "linecolor": "white",
             "minorgridcolor": "white",
             "startlinecolor": "#2a3f5f"
            },
            "type": "carpet"
           }
          ],
          "choropleth": [
           {
            "colorbar": {
             "outlinewidth": 0,
             "ticks": ""
            },
            "type": "choropleth"
           }
          ],
          "contour": [
           {
            "colorbar": {
             "outlinewidth": 0,
             "ticks": ""
            },
            "colorscale": [
             [
              0,
              "#0d0887"
             ],
             [
              0.1111111111111111,
              "#46039f"
             ],
             [
              0.2222222222222222,
              "#7201a8"
             ],
             [
              0.3333333333333333,
              "#9c179e"
             ],
             [
              0.4444444444444444,
              "#bd3786"
             ],
             [
              0.5555555555555556,
              "#d8576b"
             ],
             [
              0.6666666666666666,
              "#ed7953"
             ],
             [
              0.7777777777777778,
              "#fb9f3a"
             ],
             [
              0.8888888888888888,
              "#fdca26"
             ],
             [
              1,
              "#f0f921"
             ]
            ],
            "type": "contour"
           }
          ],
          "contourcarpet": [
           {
            "colorbar": {
             "outlinewidth": 0,
             "ticks": ""
            },
            "type": "contourcarpet"
           }
          ],
          "heatmap": [
           {
            "colorbar": {
             "outlinewidth": 0,
             "ticks": ""
            },
            "colorscale": [
             [
              0,
              "#0d0887"
             ],
             [
              0.1111111111111111,
              "#46039f"
             ],
             [
              0.2222222222222222,
              "#7201a8"
             ],
             [
              0.3333333333333333,
              "#9c179e"
             ],
             [
              0.4444444444444444,
              "#bd3786"
             ],
             [
              0.5555555555555556,
              "#d8576b"
             ],
             [
              0.6666666666666666,
              "#ed7953"
             ],
             [
              0.7777777777777778,
              "#fb9f3a"
             ],
             [
              0.8888888888888888,
              "#fdca26"
             ],
             [
              1,
              "#f0f921"
             ]
            ],
            "type": "heatmap"
           }
          ],
          "histogram": [
           {
            "marker": {
             "pattern": {
              "fillmode": "overlay",
              "size": 10,
              "solidity": 0.2
             }
            },
            "type": "histogram"
           }
          ],
          "histogram2d": [
           {
            "colorbar": {
             "outlinewidth": 0,
             "ticks": ""
            },
            "colorscale": [
             [
              0,
              "#0d0887"
             ],
             [
              0.1111111111111111,
              "#46039f"
             ],
             [
              0.2222222222222222,
              "#7201a8"
             ],
             [
              0.3333333333333333,
              "#9c179e"
             ],
             [
              0.4444444444444444,
              "#bd3786"
             ],
             [
              0.5555555555555556,
              "#d8576b"
             ],
             [
              0.6666666666666666,
              "#ed7953"
             ],
             [
              0.7777777777777778,
              "#fb9f3a"
             ],
             [
              0.8888888888888888,
              "#fdca26"
             ],
             [
              1,
              "#f0f921"
             ]
            ],
            "type": "histogram2d"
           }
          ],
          "histogram2dcontour": [
           {
            "colorbar": {
             "outlinewidth": 0,
             "ticks": ""
            },
            "colorscale": [
             [
              0,
              "#0d0887"
             ],
             [
              0.1111111111111111,
              "#46039f"
             ],
             [
              0.2222222222222222,
              "#7201a8"
             ],
             [
              0.3333333333333333,
              "#9c179e"
             ],
             [
              0.4444444444444444,
              "#bd3786"
             ],
             [
              0.5555555555555556,
              "#d8576b"
             ],
             [
              0.6666666666666666,
              "#ed7953"
             ],
             [
              0.7777777777777778,
              "#fb9f3a"
             ],
             [
              0.8888888888888888,
              "#fdca26"
             ],
             [
              1,
              "#f0f921"
             ]
            ],
            "type": "histogram2dcontour"
           }
          ],
          "mesh3d": [
           {
            "colorbar": {
             "outlinewidth": 0,
             "ticks": ""
            },
            "type": "mesh3d"
           }
          ],
          "parcoords": [
           {
            "line": {
             "colorbar": {
              "outlinewidth": 0,
              "ticks": ""
             }
            },
            "type": "parcoords"
           }
          ],
          "pie": [
           {
            "automargin": true,
            "type": "pie"
           }
          ],
          "scatter": [
           {
            "fillpattern": {
             "fillmode": "overlay",
             "size": 10,
             "solidity": 0.2
            },
            "type": "scatter"
           }
          ],
          "scatter3d": [
           {
            "line": {
             "colorbar": {
              "outlinewidth": 0,
              "ticks": ""
             }
            },
            "marker": {
             "colorbar": {
              "outlinewidth": 0,
              "ticks": ""
             }
            },
            "type": "scatter3d"
           }
          ],
          "scattercarpet": [
           {
            "marker": {
             "colorbar": {
              "outlinewidth": 0,
              "ticks": ""
             }
            },
            "type": "scattercarpet"
           }
          ],
          "scattergeo": [
           {
            "marker": {
             "colorbar": {
              "outlinewidth": 0,
              "ticks": ""
             }
            },
            "type": "scattergeo"
           }
          ],
          "scattergl": [
           {
            "marker": {
             "colorbar": {
              "outlinewidth": 0,
              "ticks": ""
             }
            },
            "type": "scattergl"
           }
          ],
          "scattermap": [
           {
            "marker": {
             "colorbar": {
              "outlinewidth": 0,
              "ticks": ""
             }
            },
            "type": "scattermap"
           }
          ],
          "scattermapbox": [
           {
            "marker": {
             "colorbar": {
              "outlinewidth": 0,
              "ticks": ""
             }
            },
            "type": "scattermapbox"
           }
          ],
          "scatterpolar": [
           {
            "marker": {
             "colorbar": {
              "outlinewidth": 0,
              "ticks": ""
             }
            },
            "type": "scatterpolar"
           }
          ],
          "scatterpolargl": [
           {
            "marker": {
             "colorbar": {
              "outlinewidth": 0,
              "ticks": ""
             }
            },
            "type": "scatterpolargl"
           }
          ],
          "scatterternary": [
           {
            "marker": {
             "colorbar": {
              "outlinewidth": 0,
              "ticks": ""
             }
            },
            "type": "scatterternary"
           }
          ],
          "surface": [
           {
            "colorbar": {
             "outlinewidth": 0,
             "ticks": ""
            },
            "colorscale": [
             [
              0,
              "#0d0887"
             ],
             [
              0.1111111111111111,
              "#46039f"
             ],
             [
              0.2222222222222222,
              "#7201a8"
             ],
             [
              0.3333333333333333,
              "#9c179e"
             ],
             [
              0.4444444444444444,
              "#bd3786"
             ],
             [
              0.5555555555555556,
              "#d8576b"
             ],
             [
              0.6666666666666666,
              "#ed7953"
             ],
             [
              0.7777777777777778,
              "#fb9f3a"
             ],
             [
              0.8888888888888888,
              "#fdca26"
             ],
             [
              1,
              "#f0f921"
             ]
            ],
            "type": "surface"
           }
          ],
          "table": [
           {
            "cells": {
             "fill": {
              "color": "#EBF0F8"
             },
             "line": {
              "color": "white"
             }
            },
            "header": {
             "fill": {
              "color": "#C8D4E3"
             },
             "line": {
              "color": "white"
             }
            },
            "type": "table"
           }
          ]
         },
         "layout": {
          "annotationdefaults": {
           "arrowcolor": "#2a3f5f",
           "arrowhead": 0,
           "arrowwidth": 1
          },
          "autotypenumbers": "strict",
          "coloraxis": {
           "colorbar": {
            "outlinewidth": 0,
            "ticks": ""
           }
          },
          "colorscale": {
           "diverging": [
            [
             0,
             "#8e0152"
            ],
            [
             0.1,
             "#c51b7d"
            ],
            [
             0.2,
             "#de77ae"
            ],
            [
             0.3,
             "#f1b6da"
            ],
            [
             0.4,
             "#fde0ef"
            ],
            [
             0.5,
             "#f7f7f7"
            ],
            [
             0.6,
             "#e6f5d0"
            ],
            [
             0.7,
             "#b8e186"
            ],
            [
             0.8,
             "#7fbc41"
            ],
            [
             0.9,
             "#4d9221"
            ],
            [
             1,
             "#276419"
            ]
           ],
           "sequential": [
            [
             0,
             "#0d0887"
            ],
            [
             0.1111111111111111,
             "#46039f"
            ],
            [
             0.2222222222222222,
             "#7201a8"
            ],
            [
             0.3333333333333333,
             "#9c179e"
            ],
            [
             0.4444444444444444,
             "#bd3786"
            ],
            [
             0.5555555555555556,
             "#d8576b"
            ],
            [
             0.6666666666666666,
             "#ed7953"
            ],
            [
             0.7777777777777778,
             "#fb9f3a"
            ],
            [
             0.8888888888888888,
             "#fdca26"
            ],
            [
             1,
             "#f0f921"
            ]
           ],
           "sequentialminus": [
            [
             0,
             "#0d0887"
            ],
            [
             0.1111111111111111,
             "#46039f"
            ],
            [
             0.2222222222222222,
             "#7201a8"
            ],
            [
             0.3333333333333333,
             "#9c179e"
            ],
            [
             0.4444444444444444,
             "#bd3786"
            ],
            [
             0.5555555555555556,
             "#d8576b"
            ],
            [
             0.6666666666666666,
             "#ed7953"
            ],
            [
             0.7777777777777778,
             "#fb9f3a"
            ],
            [
             0.8888888888888888,
             "#fdca26"
            ],
            [
             1,
             "#f0f921"
            ]
           ]
          },
          "colorway": [
           "#636efa",
           "#EF553B",
           "#00cc96",
           "#ab63fa",
           "#FFA15A",
           "#19d3f3",
           "#FF6692",
           "#B6E880",
           "#FF97FF",
           "#FECB52"
          ],
          "font": {
           "color": "#2a3f5f"
          },
          "geo": {
           "bgcolor": "white",
           "lakecolor": "white",
           "landcolor": "#E5ECF6",
           "showlakes": true,
           "showland": true,
           "subunitcolor": "white"
          },
          "hoverlabel": {
           "align": "left"
          },
          "hovermode": "closest",
          "mapbox": {
           "style": "light"
          },
          "paper_bgcolor": "white",
          "plot_bgcolor": "#E5ECF6",
          "polar": {
           "angularaxis": {
            "gridcolor": "white",
            "linecolor": "white",
            "ticks": ""
           },
           "bgcolor": "#E5ECF6",
           "radialaxis": {
            "gridcolor": "white",
            "linecolor": "white",
            "ticks": ""
           }
          },
          "scene": {
           "xaxis": {
            "backgroundcolor": "#E5ECF6",
            "gridcolor": "white",
            "gridwidth": 2,
            "linecolor": "white",
            "showbackground": true,
            "ticks": "",
            "zerolinecolor": "white"
           },
           "yaxis": {
            "backgroundcolor": "#E5ECF6",
            "gridcolor": "white",
            "gridwidth": 2,
            "linecolor": "white",
            "showbackground": true,
            "ticks": "",
            "zerolinecolor": "white"
           },
           "zaxis": {
            "backgroundcolor": "#E5ECF6",
            "gridcolor": "white",
            "gridwidth": 2,
            "linecolor": "white",
            "showbackground": true,
            "ticks": "",
            "zerolinecolor": "white"
           }
          },
          "shapedefaults": {
           "line": {
            "color": "#2a3f5f"
           }
          },
          "ternary": {
           "aaxis": {
            "gridcolor": "white",
            "linecolor": "white",
            "ticks": ""
           },
           "baxis": {
            "gridcolor": "white",
            "linecolor": "white",
            "ticks": ""
           },
           "bgcolor": "#E5ECF6",
           "caxis": {
            "gridcolor": "white",
            "linecolor": "white",
            "ticks": ""
           }
          },
          "title": {
           "x": 0.05
          },
          "xaxis": {
           "automargin": true,
           "gridcolor": "white",
           "linecolor": "white",
           "ticks": "",
           "title": {
            "standoff": 15
           },
           "zerolinecolor": "white",
           "zerolinewidth": 2
          },
          "yaxis": {
           "automargin": true,
           "gridcolor": "white",
           "linecolor": "white",
           "ticks": "",
           "title": {
            "standoff": 15
           },
           "zerolinecolor": "white",
           "zerolinewidth": 2
          }
         }
        },
        "title": {
         "text": "Site code: FON "
        },
        "xaxis": {
         "anchor": "y",
         "domain": [
          0,
          1
         ],
         "title": {
          "text": "Year"
         }
        },
        "yaxis": {
         "anchor": "x",
         "domain": [
          0,
          1
         ],
         "title": {
          "text": "Value"
         }
        }
       }
      }
     },
     "metadata": {},
     "output_type": "display_data"
    }
   ],
   "source": [
    "for i in l_hard_review:\n",
    "    aux = df_data[df_data['site_code'] == i].reset_index(drop=True)\n",
    "    fig = px.line(aux, x='Year', y='Value', title=f'Site code: {i}')\n",
    "    fig.show()"
   ]
  },
  {
   "cell_type": "code",
   "execution_count": 11,
   "id": "18dfd162",
   "metadata": {},
   "outputs": [
    {
     "data": {
      "application/vnd.plotly.v1+json": {
       "config": {
        "plotlyServerURL": "https://plot.ly"
       },
       "data": [
        {
         "hovertemplate": "Year=%{x}<br>Value=%{y}<extra></extra>",
         "legendgroup": "",
         "line": {
          "color": "#636efa",
          "dash": "solid"
         },
         "marker": {
          "symbol": "circle"
         },
         "mode": "lines",
         "name": "",
         "orientation": "v",
         "showlegend": false,
         "type": "scatter",
         "x": [
          "1600",
          "1601",
          "1602",
          "1603",
          "1604",
          "1605",
          "1606",
          "1607",
          "1608",
          "1609",
          "1610",
          "1611",
          "1612",
          "1613",
          "1614",
          "1615",
          "1616",
          "1617",
          "1618",
          "1619",
          "1620",
          "1621",
          "1622",
          "1623",
          "1624",
          "1625",
          "1626",
          "1627",
          "1628",
          "1629",
          "1630",
          "1631",
          "1632",
          "1633",
          "1634",
          "1635",
          "1636",
          "1637",
          "1638",
          "1639",
          "1640",
          "1641",
          "1642",
          "1643",
          "1644",
          "1645",
          "1646",
          "1647",
          "1648",
          "1649",
          "1650",
          "1651",
          "1652",
          "1653",
          "1654",
          "1655",
          "1656",
          "1657",
          "1658",
          "1659",
          "1660",
          "1661",
          "1662",
          "1663",
          "1664",
          "1665",
          "1666",
          "1667",
          "1668",
          "1669",
          "1670",
          "1671",
          "1672",
          "1673",
          "1674",
          "1675",
          "1676",
          "1677",
          "1678",
          "1679",
          "1680",
          "1681",
          "1682",
          "1683",
          "1684",
          "1685",
          "1686",
          "1687",
          "1688",
          "1689",
          "1690",
          "1691",
          "1692",
          "1693",
          "1694",
          "1695",
          "1696",
          "1697",
          "1698",
          "1699",
          "1700",
          "1701",
          "1702",
          "1703",
          "1704",
          "1705",
          "1706",
          "1707",
          "1708",
          "1709",
          "1710",
          "1711",
          "1712",
          "1713",
          "1714",
          "1715",
          "1716",
          "1717",
          "1718",
          "1719",
          "1720",
          "1721",
          "1722",
          "1723",
          "1724",
          "1725",
          "1726",
          "1727",
          "1728",
          "1729",
          "1730",
          "1731",
          "1732",
          "1733",
          "1734",
          "1735",
          "1736",
          "1737",
          "1738",
          "1739",
          "1740",
          "1741",
          "1742",
          "1743",
          "1744",
          "1745",
          "1746",
          "1747",
          "1748",
          "1749",
          "1750",
          "1751",
          "1752",
          "1753",
          "1754",
          "1755",
          "1756",
          "1757",
          "1758",
          "1759",
          "1760",
          "1761",
          "1762",
          "1763",
          "1764",
          "1765",
          "1766",
          "1767",
          "1768",
          "1769",
          "1770",
          "1771",
          "1772",
          "1773",
          "1774",
          "1775",
          "1776",
          "1777",
          "1778",
          "1779",
          "1780",
          "1781",
          "1782",
          "1783",
          "1784",
          "1785",
          "1786",
          "1787",
          "1788",
          "1789",
          "1790",
          "1791",
          "1792",
          "1793",
          "1794",
          "1795",
          "1796",
          "1797",
          "1798",
          "1799",
          "1800",
          "1801",
          "1802",
          "1803",
          "1804",
          "1805",
          "1806",
          "1807",
          "1808",
          "1809",
          "1810",
          "1811",
          "1812",
          "1813",
          "1814",
          "1815",
          "1816",
          "1817",
          "1818",
          "1819",
          "1820",
          "1821",
          "1822",
          "1823",
          "1824",
          "1825",
          "1826",
          "1827",
          "1828",
          "1829",
          "1830",
          "1831",
          "1832",
          "1833",
          "1834",
          "1835",
          "1836",
          "1837",
          "1838",
          "1839",
          "1840",
          "1841",
          "1842",
          "1843",
          "1844",
          "1845",
          "1846",
          "1847",
          "1848",
          "1849",
          "1850",
          "1851",
          "1852",
          "1853",
          "1854",
          "1855",
          "1856",
          "1857",
          "1858",
          "1859",
          "1860",
          "1861",
          "1862",
          "1863",
          "1864",
          "1865",
          "1866",
          "1867",
          "1868",
          "1869",
          "1870",
          "1871",
          "1872",
          "1873",
          "1874",
          "1875",
          "1876",
          "1877",
          "1878",
          "1879",
          "1880",
          "1881",
          "1882",
          "1883",
          "1884",
          "1885",
          "1886",
          "1887",
          "1888",
          "1889",
          "1890",
          "1891",
          "1892",
          "1893",
          "1894",
          "1895",
          "1896",
          "1897",
          "1898",
          "1899",
          "1900",
          "1901",
          "1902",
          "1903",
          "1904",
          "1905",
          "1906",
          "1907",
          "1908",
          "1909",
          "1910",
          "1911",
          "1912",
          "1913",
          "1914",
          "1915",
          "1916",
          "1917",
          "1918",
          "1919",
          "1920",
          "1921",
          "1922",
          "1923",
          "1924",
          "1925",
          "1926",
          "1927",
          "1928",
          "1929",
          "1930",
          "1931",
          "1932",
          "1933",
          "1934",
          "1935",
          "1936",
          "1937",
          "1938",
          "1939",
          "1940",
          "1941",
          "1942",
          "1943",
          "1944",
          "1945",
          "1946",
          "1947",
          "1948",
          "1949",
          "1950",
          "1951",
          "1952",
          "1953",
          "1954",
          "1955",
          "1956",
          "1957",
          "1958",
          "1959",
          "1960",
          "1961",
          "1962",
          "1963",
          "1964",
          "1965",
          "1966",
          "1967",
          "1968",
          "1969",
          "1970",
          "1971",
          "1972",
          "1973",
          "1974",
          "1975",
          "1976",
          "1977",
          "1978",
          "1979",
          "1980",
          "1981",
          "1982",
          "1983",
          "1984",
          "1985",
          "1986",
          "1987",
          "1988",
          "1989",
          "1990",
          "1991",
          "1992",
          "1993",
          "1994",
          "1995",
          "1996",
          "1997",
          "1998",
          "1999",
          "2000",
          "2001",
          "2002",
          "2003",
          "2004",
          "2005"
         ],
         "xaxis": "x",
         "y": {
          "bdata": "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",
          "dtype": "f8"
         },
         "yaxis": "y"
        }
       ],
       "layout": {
        "legend": {
         "tracegroupgap": 0
        },
        "template": {
         "data": {
          "bar": [
           {
            "error_x": {
             "color": "#2a3f5f"
            },
            "error_y": {
             "color": "#2a3f5f"
            },
            "marker": {
             "line": {
              "color": "#E5ECF6",
              "width": 0.5
             },
             "pattern": {
              "fillmode": "overlay",
              "size": 10,
              "solidity": 0.2
             }
            },
            "type": "bar"
           }
          ],
          "barpolar": [
           {
            "marker": {
             "line": {
              "color": "#E5ECF6",
              "width": 0.5
             },
             "pattern": {
              "fillmode": "overlay",
              "size": 10,
              "solidity": 0.2
             }
            },
            "type": "barpolar"
           }
          ],
          "carpet": [
           {
            "aaxis": {
             "endlinecolor": "#2a3f5f",
             "gridcolor": "white",
             "linecolor": "white",
             "minorgridcolor": "white",
             "startlinecolor": "#2a3f5f"
            },
            "baxis": {
             "endlinecolor": "#2a3f5f",
             "gridcolor": "white",
             "linecolor": "white",
             "minorgridcolor": "white",
             "startlinecolor": "#2a3f5f"
            },
            "type": "carpet"
           }
          ],
          "choropleth": [
           {
            "colorbar": {
             "outlinewidth": 0,
             "ticks": ""
            },
            "type": "choropleth"
           }
          ],
          "contour": [
           {
            "colorbar": {
             "outlinewidth": 0,
             "ticks": ""
            },
            "colorscale": [
             [
              0,
              "#0d0887"
             ],
             [
              0.1111111111111111,
              "#46039f"
             ],
             [
              0.2222222222222222,
              "#7201a8"
             ],
             [
              0.3333333333333333,
              "#9c179e"
             ],
             [
              0.4444444444444444,
              "#bd3786"
             ],
             [
              0.5555555555555556,
              "#d8576b"
             ],
             [
              0.6666666666666666,
              "#ed7953"
             ],
             [
              0.7777777777777778,
              "#fb9f3a"
             ],
             [
              0.8888888888888888,
              "#fdca26"
             ],
             [
              1,
              "#f0f921"
             ]
            ],
            "type": "contour"
           }
          ],
          "contourcarpet": [
           {
            "colorbar": {
             "outlinewidth": 0,
             "ticks": ""
            },
            "type": "contourcarpet"
           }
          ],
          "heatmap": [
           {
            "colorbar": {
             "outlinewidth": 0,
             "ticks": ""
            },
            "colorscale": [
             [
              0,
              "#0d0887"
             ],
             [
              0.1111111111111111,
              "#46039f"
             ],
             [
              0.2222222222222222,
              "#7201a8"
             ],
             [
              0.3333333333333333,
              "#9c179e"
             ],
             [
              0.4444444444444444,
              "#bd3786"
             ],
             [
              0.5555555555555556,
              "#d8576b"
             ],
             [
              0.6666666666666666,
              "#ed7953"
             ],
             [
              0.7777777777777778,
              "#fb9f3a"
             ],
             [
              0.8888888888888888,
              "#fdca26"
             ],
             [
              1,
              "#f0f921"
             ]
            ],
            "type": "heatmap"
           }
          ],
          "histogram": [
           {
            "marker": {
             "pattern": {
              "fillmode": "overlay",
              "size": 10,
              "solidity": 0.2
             }
            },
            "type": "histogram"
           }
          ],
          "histogram2d": [
           {
            "colorbar": {
             "outlinewidth": 0,
             "ticks": ""
            },
            "colorscale": [
             [
              0,
              "#0d0887"
             ],
             [
              0.1111111111111111,
              "#46039f"
             ],
             [
              0.2222222222222222,
              "#7201a8"
             ],
             [
              0.3333333333333333,
              "#9c179e"
             ],
             [
              0.4444444444444444,
              "#bd3786"
             ],
             [
              0.5555555555555556,
              "#d8576b"
             ],
             [
              0.6666666666666666,
              "#ed7953"
             ],
             [
              0.7777777777777778,
              "#fb9f3a"
             ],
             [
              0.8888888888888888,
              "#fdca26"
             ],
             [
              1,
              "#f0f921"
             ]
            ],
            "type": "histogram2d"
           }
          ],
          "histogram2dcontour": [
           {
            "colorbar": {
             "outlinewidth": 0,
             "ticks": ""
            },
            "colorscale": [
             [
              0,
              "#0d0887"
             ],
             [
              0.1111111111111111,
              "#46039f"
             ],
             [
              0.2222222222222222,
              "#7201a8"
             ],
             [
              0.3333333333333333,
              "#9c179e"
             ],
             [
              0.4444444444444444,
              "#bd3786"
             ],
             [
              0.5555555555555556,
              "#d8576b"
             ],
             [
              0.6666666666666666,
              "#ed7953"
             ],
             [
              0.7777777777777778,
              "#fb9f3a"
             ],
             [
              0.8888888888888888,
              "#fdca26"
             ],
             [
              1,
              "#f0f921"
             ]
            ],
            "type": "histogram2dcontour"
           }
          ],
          "mesh3d": [
           {
            "colorbar": {
             "outlinewidth": 0,
             "ticks": ""
            },
            "type": "mesh3d"
           }
          ],
          "parcoords": [
           {
            "line": {
             "colorbar": {
              "outlinewidth": 0,
              "ticks": ""
             }
            },
            "type": "parcoords"
           }
          ],
          "pie": [
           {
            "automargin": true,
            "type": "pie"
           }
          ],
          "scatter": [
           {
            "fillpattern": {
             "fillmode": "overlay",
             "size": 10,
             "solidity": 0.2
            },
            "type": "scatter"
           }
          ],
          "scatter3d": [
           {
            "line": {
             "colorbar": {
              "outlinewidth": 0,
              "ticks": ""
             }
            },
            "marker": {
             "colorbar": {
              "outlinewidth": 0,
              "ticks": ""
             }
            },
            "type": "scatter3d"
           }
          ],
          "scattercarpet": [
           {
            "marker": {
             "colorbar": {
              "outlinewidth": 0,
              "ticks": ""
             }
            },
            "type": "scattercarpet"
           }
          ],
          "scattergeo": [
           {
            "marker": {
             "colorbar": {
              "outlinewidth": 0,
              "ticks": ""
             }
            },
            "type": "scattergeo"
           }
          ],
          "scattergl": [
           {
            "marker": {
             "colorbar": {
              "outlinewidth": 0,
              "ticks": ""
             }
            },
            "type": "scattergl"
           }
          ],
          "scattermap": [
           {
            "marker": {
             "colorbar": {
              "outlinewidth": 0,
              "ticks": ""
             }
            },
            "type": "scattermap"
           }
          ],
          "scattermapbox": [
           {
            "marker": {
             "colorbar": {
              "outlinewidth": 0,
              "ticks": ""
             }
            },
            "type": "scattermapbox"
           }
          ],
          "scatterpolar": [
           {
            "marker": {
             "colorbar": {
              "outlinewidth": 0,
              "ticks": ""
             }
            },
            "type": "scatterpolar"
           }
          ],
          "scatterpolargl": [
           {
            "marker": {
             "colorbar": {
              "outlinewidth": 0,
              "ticks": ""
             }
            },
            "type": "scatterpolargl"
           }
          ],
          "scatterternary": [
           {
            "marker": {
             "colorbar": {
              "outlinewidth": 0,
              "ticks": ""
             }
            },
            "type": "scatterternary"
           }
          ],
          "surface": [
           {
            "colorbar": {
             "outlinewidth": 0,
             "ticks": ""
            },
            "colorscale": [
             [
              0,
              "#0d0887"
             ],
             [
              0.1111111111111111,
              "#46039f"
             ],
             [
              0.2222222222222222,
              "#7201a8"
             ],
             [
              0.3333333333333333,
              "#9c179e"
             ],
             [
              0.4444444444444444,
              "#bd3786"
             ],
             [
              0.5555555555555556,
              "#d8576b"
             ],
             [
              0.6666666666666666,
              "#ed7953"
             ],
             [
              0.7777777777777778,
              "#fb9f3a"
             ],
             [
              0.8888888888888888,
              "#fdca26"
             ],
             [
              1,
              "#f0f921"
             ]
            ],
            "type": "surface"
           }
          ],
          "table": [
           {
            "cells": {
             "fill": {
              "color": "#EBF0F8"
             },
             "line": {
              "color": "white"
             }
            },
            "header": {
             "fill": {
              "color": "#C8D4E3"
             },
             "line": {
              "color": "white"
             }
            },
            "type": "table"
           }
          ]
         },
         "layout": {
          "annotationdefaults": {
           "arrowcolor": "#2a3f5f",
           "arrowhead": 0,
           "arrowwidth": 1
          },
          "autotypenumbers": "strict",
          "coloraxis": {
           "colorbar": {
            "outlinewidth": 0,
            "ticks": ""
           }
          },
          "colorscale": {
           "diverging": [
            [
             0,
             "#8e0152"
            ],
            [
             0.1,
             "#c51b7d"
            ],
            [
             0.2,
             "#de77ae"
            ],
            [
             0.3,
             "#f1b6da"
            ],
            [
             0.4,
             "#fde0ef"
            ],
            [
             0.5,
             "#f7f7f7"
            ],
            [
             0.6,
             "#e6f5d0"
            ],
            [
             0.7,
             "#b8e186"
            ],
            [
             0.8,
             "#7fbc41"
            ],
            [
             0.9,
             "#4d9221"
            ],
            [
             1,
             "#276419"
            ]
           ],
           "sequential": [
            [
             0,
             "#0d0887"
            ],
            [
             0.1111111111111111,
             "#46039f"
            ],
            [
             0.2222222222222222,
             "#7201a8"
            ],
            [
             0.3333333333333333,
             "#9c179e"
            ],
            [
             0.4444444444444444,
             "#bd3786"
            ],
            [
             0.5555555555555556,
             "#d8576b"
            ],
            [
             0.6666666666666666,
             "#ed7953"
            ],
            [
             0.7777777777777778,
             "#fb9f3a"
            ],
            [
             0.8888888888888888,
             "#fdca26"
            ],
            [
             1,
             "#f0f921"
            ]
           ],
           "sequentialminus": [
            [
             0,
             "#0d0887"
            ],
            [
             0.1111111111111111,
             "#46039f"
            ],
            [
             0.2222222222222222,
             "#7201a8"
            ],
            [
             0.3333333333333333,
             "#9c179e"
            ],
            [
             0.4444444444444444,
             "#bd3786"
            ],
            [
             0.5555555555555556,
             "#d8576b"
            ],
            [
             0.6666666666666666,
             "#ed7953"
            ],
            [
             0.7777777777777778,
             "#fb9f3a"
            ],
            [
             0.8888888888888888,
             "#fdca26"
            ],
            [
             1,
             "#f0f921"
            ]
           ]
          },
          "colorway": [
           "#636efa",
           "#EF553B",
           "#00cc96",
           "#ab63fa",
           "#FFA15A",
           "#19d3f3",
           "#FF6692",
           "#B6E880",
           "#FF97FF",
           "#FECB52"
          ],
          "font": {
           "color": "#2a3f5f"
          },
          "geo": {
           "bgcolor": "white",
           "lakecolor": "white",
           "landcolor": "#E5ECF6",
           "showlakes": true,
           "showland": true,
           "subunitcolor": "white"
          },
          "hoverlabel": {
           "align": "left"
          },
          "hovermode": "closest",
          "mapbox": {
           "style": "light"
          },
          "paper_bgcolor": "white",
          "plot_bgcolor": "#E5ECF6",
          "polar": {
           "angularaxis": {
            "gridcolor": "white",
            "linecolor": "white",
            "ticks": ""
           },
           "bgcolor": "#E5ECF6",
           "radialaxis": {
            "gridcolor": "white",
            "linecolor": "white",
            "ticks": ""
           }
          },
          "scene": {
           "xaxis": {
            "backgroundcolor": "#E5ECF6",
            "gridcolor": "white",
            "gridwidth": 2,
            "linecolor": "white",
            "showbackground": true,
            "ticks": "",
            "zerolinecolor": "white"
           },
           "yaxis": {
            "backgroundcolor": "#E5ECF6",
            "gridcolor": "white",
            "gridwidth": 2,
            "linecolor": "white",
            "showbackground": true,
            "ticks": "",
            "zerolinecolor": "white"
           },
           "zaxis": {
            "backgroundcolor": "#E5ECF6",
            "gridcolor": "white",
            "gridwidth": 2,
            "linecolor": "white",
            "showbackground": true,
            "ticks": "",
            "zerolinecolor": "white"
           }
          },
          "shapedefaults": {
           "line": {
            "color": "#2a3f5f"
           }
          },
          "ternary": {
           "aaxis": {
            "gridcolor": "white",
            "linecolor": "white",
            "ticks": ""
           },
           "baxis": {
            "gridcolor": "white",
            "linecolor": "white",
            "ticks": ""
           },
           "bgcolor": "#E5ECF6",
           "caxis": {
            "gridcolor": "white",
            "linecolor": "white",
            "ticks": ""
           }
          },
          "title": {
           "x": 0.05
          },
          "xaxis": {
           "automargin": true,
           "gridcolor": "white",
           "linecolor": "white",
           "ticks": "",
           "title": {
            "standoff": 15
           },
           "zerolinecolor": "white",
           "zerolinewidth": 2
          },
          "yaxis": {
           "automargin": true,
           "gridcolor": "white",
           "linecolor": "white",
           "ticks": "",
           "title": {
            "standoff": 15
           },
           "zerolinecolor": "white",
           "zerolinewidth": 2
          }
         }
        },
        "title": {
         "text": "Site code: CAV "
        },
        "xaxis": {
         "anchor": "y",
         "domain": [
          0,
          1
         ],
         "title": {
          "text": "Year"
         }
        },
        "yaxis": {
         "anchor": "x",
         "domain": [
          0,
          1
         ],
         "title": {
          "text": "Value"
         }
        }
       }
      }
     },
     "metadata": {},
     "output_type": "display_data"
    },
    {
     "data": {
      "application/vnd.plotly.v1+json": {
       "config": {
        "plotlyServerURL": "https://plot.ly"
       },
       "data": [
        {
         "hovertemplate": "Year=%{x}<br>Value=%{y}<extra></extra>",
         "legendgroup": "",
         "line": {
          "color": "#636efa",
          "dash": "solid"
         },
         "marker": {
          "symbol": "circle"
         },
         "mode": "lines",
         "name": "",
         "orientation": "v",
         "showlegend": false,
         "type": "scatter",
         "x": [
          "1600",
          "1601",
          "1602",
          "1603",
          "1604",
          "1605",
          "1606",
          "1607",
          "1608",
          "1609",
          "1610",
          "1611",
          "1612",
          "1613",
          "1614",
          "1615",
          "1616",
          "1617",
          "1618",
          "1619",
          "1620",
          "1621",
          "1622",
          "1623",
          "1624",
          "1625",
          "1626",
          "1627",
          "1628",
          "1629",
          "1630",
          "1631",
          "1632",
          "1633",
          "1634",
          "1635",
          "1636",
          "1637",
          "1638",
          "1639",
          "1640",
          "1641",
          "1642",
          "1643",
          "1644",
          "1645",
          "1646",
          "1647",
          "1648",
          "1649",
          "1650",
          "1651",
          "1652",
          "1653",
          "1654",
          "1655",
          "1656",
          "1657",
          "1658",
          "1659",
          "1660",
          "1661",
          "1662",
          "1663",
          "1664",
          "1665",
          "1666",
          "1667",
          "1668",
          "1669",
          "1670",
          "1671",
          "1672",
          "1673",
          "1674",
          "1675",
          "1676",
          "1677",
          "1678",
          "1679",
          "1680",
          "1681",
          "1682",
          "1683",
          "1684",
          "1685",
          "1686",
          "1687",
          "1688",
          "1689",
          "1690",
          "1691",
          "1692",
          "1693",
          "1694",
          "1695",
          "1696",
          "1697",
          "1698",
          "1699",
          "1700",
          "1701",
          "1702",
          "1703",
          "1704",
          "1705",
          "1706",
          "1707",
          "1708",
          "1709",
          "1710",
          "1711",
          "1712",
          "1713",
          "1714",
          "1715",
          "1716",
          "1717",
          "1718",
          "1719",
          "1720",
          "1721",
          "1722",
          "1723",
          "1724",
          "1725",
          "1726",
          "1727",
          "1728",
          "1729",
          "1730",
          "1731",
          "1732",
          "1733",
          "1734",
          "1735",
          "1736",
          "1737",
          "1738",
          "1739",
          "1740",
          "1741",
          "1742",
          "1743",
          "1744",
          "1745",
          "1746",
          "1747",
          "1748",
          "1749",
          "1750",
          "1751",
          "1752",
          "1753",
          "1754",
          "1755",
          "1756",
          "1757",
          "1758",
          "1759",
          "1760",
          "1761",
          "1762",
          "1763",
          "1764",
          "1765",
          "1766",
          "1767",
          "1768",
          "1769",
          "1770",
          "1771",
          "1772",
          "1773",
          "1774",
          "1775",
          "1776",
          "1777",
          "1778",
          "1779",
          "1780",
          "1781",
          "1782",
          "1783",
          "1784",
          "1785",
          "1786",
          "1787",
          "1788",
          "1789",
          "1790",
          "1791",
          "1792",
          "1793",
          "1794",
          "1795",
          "1796",
          "1797",
          "1798",
          "1799",
          "1800",
          "1801",
          "1802",
          "1803",
          "1804",
          "1805",
          "1806",
          "1807",
          "1808",
          "1809",
          "1810",
          "1811",
          "1812",
          "1813",
          "1814",
          "1815",
          "1816",
          "1817",
          "1818",
          "1819",
          "1820",
          "1821",
          "1822",
          "1823",
          "1824",
          "1825",
          "1826",
          "1827",
          "1828",
          "1829",
          "1830",
          "1831",
          "1832",
          "1833",
          "1834",
          "1835",
          "1836",
          "1837",
          "1838",
          "1839",
          "1840",
          "1841",
          "1842",
          "1843",
          "1844",
          "1845",
          "1846",
          "1847",
          "1848",
          "1849",
          "1850",
          "1851",
          "1852",
          "1853",
          "1854",
          "1855",
          "1856",
          "1857",
          "1858",
          "1859",
          "1860",
          "1861",
          "1862",
          "1863",
          "1864",
          "1865",
          "1866",
          "1867",
          "1868",
          "1869",
          "1870",
          "1871",
          "1872",
          "1873",
          "1874",
          "1875",
          "1876",
          "1877",
          "1878",
          "1879",
          "1880",
          "1881",
          "1882",
          "1883",
          "1884",
          "1885",
          "1886",
          "1887",
          "1888",
          "1889",
          "1890",
          "1891",
          "1892",
          "1893",
          "1894",
          "1895",
          "1896",
          "1897",
          "1898",
          "1899",
          "1900",
          "1901",
          "1902",
          "1903",
          "1904",
          "1905",
          "1906",
          "1907",
          "1908",
          "1909",
          "1910",
          "1911",
          "1912",
          "1913",
          "1914",
          "1915",
          "1916",
          "1917",
          "1918",
          "1919",
          "1920",
          "1921",
          "1922",
          "1923",
          "1924",
          "1925",
          "1926",
          "1927",
          "1928",
          "1929",
          "1930",
          "1931",
          "1932",
          "1933",
          "1934",
          "1935",
          "1936",
          "1937",
          "1938",
          "1939",
          "1940",
          "1941",
          "1942",
          "1943",
          "1944",
          "1945",
          "1946",
          "1947",
          "1948",
          "1949",
          "1950",
          "1951",
          "1952",
          "1953",
          "1954",
          "1955",
          "1956",
          "1957",
          "1958",
          "1959",
          "1960",
          "1961",
          "1962",
          "1963",
          "1964",
          "1965",
          "1966",
          "1967",
          "1968",
          "1969",
          "1970",
          "1971",
          "1972",
          "1973",
          "1974",
          "1975",
          "1976",
          "1977",
          "1978",
          "1979",
          "1980",
          "1981",
          "1982",
          "1983",
          "1984",
          "1985",
          "1986",
          "1987",
          "1988",
          "1989",
          "1990",
          "1991",
          "1992",
          "1993",
          "1994",
          "1995",
          "1996",
          "1997",
          "1998",
          "1999",
          "2000",
          "2001",
          "2002",
          "2003",
          "2004",
          "2005"
         ],
         "xaxis": "x",
         "y": {
          "bdata": "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",
          "dtype": "f8"
         },
         "yaxis": "y"
        }
       ],
       "layout": {
        "legend": {
         "tracegroupgap": 0
        },
        "template": {
         "data": {
          "bar": [
           {
            "error_x": {
             "color": "#2a3f5f"
            },
            "error_y": {
             "color": "#2a3f5f"
            },
            "marker": {
             "line": {
              "color": "#E5ECF6",
              "width": 0.5
             },
             "pattern": {
              "fillmode": "overlay",
              "size": 10,
              "solidity": 0.2
             }
            },
            "type": "bar"
           }
          ],
          "barpolar": [
           {
            "marker": {
             "line": {
              "color": "#E5ECF6",
              "width": 0.5
             },
             "pattern": {
              "fillmode": "overlay",
              "size": 10,
              "solidity": 0.2
             }
            },
            "type": "barpolar"
           }
          ],
          "carpet": [
           {
            "aaxis": {
             "endlinecolor": "#2a3f5f",
             "gridcolor": "white",
             "linecolor": "white",
             "minorgridcolor": "white",
             "startlinecolor": "#2a3f5f"
            },
            "baxis": {
             "endlinecolor": "#2a3f5f",
             "gridcolor": "white",
             "linecolor": "white",
             "minorgridcolor": "white",
             "startlinecolor": "#2a3f5f"
            },
            "type": "carpet"
           }
          ],
          "choropleth": [
           {
            "colorbar": {
             "outlinewidth": 0,
             "ticks": ""
            },
            "type": "choropleth"
           }
          ],
          "contour": [
           {
            "colorbar": {
             "outlinewidth": 0,
             "ticks": ""
            },
            "colorscale": [
             [
              0,
              "#0d0887"
             ],
             [
              0.1111111111111111,
              "#46039f"
             ],
             [
              0.2222222222222222,
              "#7201a8"
             ],
             [
              0.3333333333333333,
              "#9c179e"
             ],
             [
              0.4444444444444444,
              "#bd3786"
             ],
             [
              0.5555555555555556,
              "#d8576b"
             ],
             [
              0.6666666666666666,
              "#ed7953"
             ],
             [
              0.7777777777777778,
              "#fb9f3a"
             ],
             [
              0.8888888888888888,
              "#fdca26"
             ],
             [
              1,
              "#f0f921"
             ]
            ],
            "type": "contour"
           }
          ],
          "contourcarpet": [
           {
            "colorbar": {
             "outlinewidth": 0,
             "ticks": ""
            },
            "type": "contourcarpet"
           }
          ],
          "heatmap": [
           {
            "colorbar": {
             "outlinewidth": 0,
             "ticks": ""
            },
            "colorscale": [
             [
              0,
              "#0d0887"
             ],
             [
              0.1111111111111111,
              "#46039f"
             ],
             [
              0.2222222222222222,
              "#7201a8"
             ],
             [
              0.3333333333333333,
              "#9c179e"
             ],
             [
              0.4444444444444444,
              "#bd3786"
             ],
             [
              0.5555555555555556,
              "#d8576b"
             ],
             [
              0.6666666666666666,
              "#ed7953"
             ],
             [
              0.7777777777777778,
              "#fb9f3a"
             ],
             [
              0.8888888888888888,
              "#fdca26"
             ],
             [
              1,
              "#f0f921"
             ]
            ],
            "type": "heatmap"
           }
          ],
          "histogram": [
           {
            "marker": {
             "pattern": {
              "fillmode": "overlay",
              "size": 10,
              "solidity": 0.2
             }
            },
            "type": "histogram"
           }
          ],
          "histogram2d": [
           {
            "colorbar": {
             "outlinewidth": 0,
             "ticks": ""
            },
            "colorscale": [
             [
              0,
              "#0d0887"
             ],
             [
              0.1111111111111111,
              "#46039f"
             ],
             [
              0.2222222222222222,
              "#7201a8"
             ],
             [
              0.3333333333333333,
              "#9c179e"
             ],
             [
              0.4444444444444444,
              "#bd3786"
             ],
             [
              0.5555555555555556,
              "#d8576b"
             ],
             [
              0.6666666666666666,
              "#ed7953"
             ],
             [
              0.7777777777777778,
              "#fb9f3a"
             ],
             [
              0.8888888888888888,
              "#fdca26"
             ],
             [
              1,
              "#f0f921"
             ]
            ],
            "type": "histogram2d"
           }
          ],
          "histogram2dcontour": [
           {
            "colorbar": {
             "outlinewidth": 0,
             "ticks": ""
            },
            "colorscale": [
             [
              0,
              "#0d0887"
             ],
             [
              0.1111111111111111,
              "#46039f"
             ],
             [
              0.2222222222222222,
              "#7201a8"
             ],
             [
              0.3333333333333333,
              "#9c179e"
             ],
             [
              0.4444444444444444,
              "#bd3786"
             ],
             [
              0.5555555555555556,
              "#d8576b"
             ],
             [
              0.6666666666666666,
              "#ed7953"
             ],
             [
              0.7777777777777778,
              "#fb9f3a"
             ],
             [
              0.8888888888888888,
              "#fdca26"
             ],
             [
              1,
              "#f0f921"
             ]
            ],
            "type": "histogram2dcontour"
           }
          ],
          "mesh3d": [
           {
            "colorbar": {
             "outlinewidth": 0,
             "ticks": ""
            },
            "type": "mesh3d"
           }
          ],
          "parcoords": [
           {
            "line": {
             "colorbar": {
              "outlinewidth": 0,
              "ticks": ""
             }
            },
            "type": "parcoords"
           }
          ],
          "pie": [
           {
            "automargin": true,
            "type": "pie"
           }
          ],
          "scatter": [
           {
            "fillpattern": {
             "fillmode": "overlay",
             "size": 10,
             "solidity": 0.2
            },
            "type": "scatter"
           }
          ],
          "scatter3d": [
           {
            "line": {
             "colorbar": {
              "outlinewidth": 0,
              "ticks": ""
             }
            },
            "marker": {
             "colorbar": {
              "outlinewidth": 0,
              "ticks": ""
             }
            },
            "type": "scatter3d"
           }
          ],
          "scattercarpet": [
           {
            "marker": {
             "colorbar": {
              "outlinewidth": 0,
              "ticks": ""
             }
            },
            "type": "scattercarpet"
           }
          ],
          "scattergeo": [
           {
            "marker": {
             "colorbar": {
              "outlinewidth": 0,
              "ticks": ""
             }
            },
            "type": "scattergeo"
           }
          ],
          "scattergl": [
           {
            "marker": {
             "colorbar": {
              "outlinewidth": 0,
              "ticks": ""
             }
            },
            "type": "scattergl"
           }
          ],
          "scattermap": [
           {
            "marker": {
             "colorbar": {
              "outlinewidth": 0,
              "ticks": ""
             }
            },
            "type": "scattermap"
           }
          ],
          "scattermapbox": [
           {
            "marker": {
             "colorbar": {
              "outlinewidth": 0,
              "ticks": ""
             }
            },
            "type": "scattermapbox"
           }
          ],
          "scatterpolar": [
           {
            "marker": {
             "colorbar": {
              "outlinewidth": 0,
              "ticks": ""
             }
            },
            "type": "scatterpolar"
           }
          ],
          "scatterpolargl": [
           {
            "marker": {
             "colorbar": {
              "outlinewidth": 0,
              "ticks": ""
             }
            },
            "type": "scatterpolargl"
           }
          ],
          "scatterternary": [
           {
            "marker": {
             "colorbar": {
              "outlinewidth": 0,
              "ticks": ""
             }
            },
            "type": "scatterternary"
           }
          ],
          "surface": [
           {
            "colorbar": {
             "outlinewidth": 0,
             "ticks": ""
            },
            "colorscale": [
             [
              0,
              "#0d0887"
             ],
             [
              0.1111111111111111,
              "#46039f"
             ],
             [
              0.2222222222222222,
              "#7201a8"
             ],
             [
              0.3333333333333333,
              "#9c179e"
             ],
             [
              0.4444444444444444,
              "#bd3786"
             ],
             [
              0.5555555555555556,
              "#d8576b"
             ],
             [
              0.6666666666666666,
              "#ed7953"
             ],
             [
              0.7777777777777778,
              "#fb9f3a"
             ],
             [
              0.8888888888888888,
              "#fdca26"
             ],
             [
              1,
              "#f0f921"
             ]
            ],
            "type": "surface"
           }
          ],
          "table": [
           {
            "cells": {
             "fill": {
              "color": "#EBF0F8"
             },
             "line": {
              "color": "white"
             }
            },
            "header": {
             "fill": {
              "color": "#C8D4E3"
             },
             "line": {
              "color": "white"
             }
            },
            "type": "table"
           }
          ]
         },
         "layout": {
          "annotationdefaults": {
           "arrowcolor": "#2a3f5f",
           "arrowhead": 0,
           "arrowwidth": 1
          },
          "autotypenumbers": "strict",
          "coloraxis": {
           "colorbar": {
            "outlinewidth": 0,
            "ticks": ""
           }
          },
          "colorscale": {
           "diverging": [
            [
             0,
             "#8e0152"
            ],
            [
             0.1,
             "#c51b7d"
            ],
            [
             0.2,
             "#de77ae"
            ],
            [
             0.3,
             "#f1b6da"
            ],
            [
             0.4,
             "#fde0ef"
            ],
            [
             0.5,
             "#f7f7f7"
            ],
            [
             0.6,
             "#e6f5d0"
            ],
            [
             0.7,
             "#b8e186"
            ],
            [
             0.8,
             "#7fbc41"
            ],
            [
             0.9,
             "#4d9221"
            ],
            [
             1,
             "#276419"
            ]
           ],
           "sequential": [
            [
             0,
             "#0d0887"
            ],
            [
             0.1111111111111111,
             "#46039f"
            ],
            [
             0.2222222222222222,
             "#7201a8"
            ],
            [
             0.3333333333333333,
             "#9c179e"
            ],
            [
             0.4444444444444444,
             "#bd3786"
            ],
            [
             0.5555555555555556,
             "#d8576b"
            ],
            [
             0.6666666666666666,
             "#ed7953"
            ],
            [
             0.7777777777777778,
             "#fb9f3a"
            ],
            [
             0.8888888888888888,
             "#fdca26"
            ],
            [
             1,
             "#f0f921"
            ]
           ],
           "sequentialminus": [
            [
             0,
             "#0d0887"
            ],
            [
             0.1111111111111111,
             "#46039f"
            ],
            [
             0.2222222222222222,
             "#7201a8"
            ],
            [
             0.3333333333333333,
             "#9c179e"
            ],
            [
             0.4444444444444444,
             "#bd3786"
            ],
            [
             0.5555555555555556,
             "#d8576b"
            ],
            [
             0.6666666666666666,
             "#ed7953"
            ],
            [
             0.7777777777777778,
             "#fb9f3a"
            ],
            [
             0.8888888888888888,
             "#fdca26"
            ],
            [
             1,
             "#f0f921"
            ]
           ]
          },
          "colorway": [
           "#636efa",
           "#EF553B",
           "#00cc96",
           "#ab63fa",
           "#FFA15A",
           "#19d3f3",
           "#FF6692",
           "#B6E880",
           "#FF97FF",
           "#FECB52"
          ],
          "font": {
           "color": "#2a3f5f"
          },
          "geo": {
           "bgcolor": "white",
           "lakecolor": "white",
           "landcolor": "#E5ECF6",
           "showlakes": true,
           "showland": true,
           "subunitcolor": "white"
          },
          "hoverlabel": {
           "align": "left"
          },
          "hovermode": "closest",
          "mapbox": {
           "style": "light"
          },
          "paper_bgcolor": "white",
          "plot_bgcolor": "#E5ECF6",
          "polar": {
           "angularaxis": {
            "gridcolor": "white",
            "linecolor": "white",
            "ticks": ""
           },
           "bgcolor": "#E5ECF6",
           "radialaxis": {
            "gridcolor": "white",
            "linecolor": "white",
            "ticks": ""
           }
          },
          "scene": {
           "xaxis": {
            "backgroundcolor": "#E5ECF6",
            "gridcolor": "white",
            "gridwidth": 2,
            "linecolor": "white",
            "showbackground": true,
            "ticks": "",
            "zerolinecolor": "white"
           },
           "yaxis": {
            "backgroundcolor": "#E5ECF6",
            "gridcolor": "white",
            "gridwidth": 2,
            "linecolor": "white",
            "showbackground": true,
            "ticks": "",
            "zerolinecolor": "white"
           },
           "zaxis": {
            "backgroundcolor": "#E5ECF6",
            "gridcolor": "white",
            "gridwidth": 2,
            "linecolor": "white",
            "showbackground": true,
            "ticks": "",
            "zerolinecolor": "white"
           }
          },
          "shapedefaults": {
           "line": {
            "color": "#2a3f5f"
           }
          },
          "ternary": {
           "aaxis": {
            "gridcolor": "white",
            "linecolor": "white",
            "ticks": ""
           },
           "baxis": {
            "gridcolor": "white",
            "linecolor": "white",
            "ticks": ""
           },
           "bgcolor": "#E5ECF6",
           "caxis": {
            "gridcolor": "white",
            "linecolor": "white",
            "ticks": ""
           }
          },
          "title": {
           "x": 0.05
          },
          "xaxis": {
           "automargin": true,
           "gridcolor": "white",
           "linecolor": "white",
           "ticks": "",
           "title": {
            "standoff": 15
           },
           "zerolinecolor": "white",
           "zerolinewidth": 2
          },
          "yaxis": {
           "automargin": true,
           "gridcolor": "white",
           "linecolor": "white",
           "ticks": "",
           "title": {
            "standoff": 15
           },
           "zerolinecolor": "white",
           "zerolinewidth": 2
          }
         }
        },
        "title": {
         "text": "Site code: GUT "
        },
        "xaxis": {
         "anchor": "y",
         "domain": [
          0,
          1
         ],
         "title": {
          "text": "Year"
         }
        },
        "yaxis": {
         "anchor": "x",
         "domain": [
          0,
          1
         ],
         "title": {
          "text": "Value"
         }
        }
       }
      }
     },
     "metadata": {},
     "output_type": "display_data"
    },
    {
     "data": {
      "application/vnd.plotly.v1+json": {
       "config": {
        "plotlyServerURL": "https://plot.ly"
       },
       "data": [
        {
         "hovertemplate": "Year=%{x}<br>Value=%{y}<extra></extra>",
         "legendgroup": "",
         "line": {
          "color": "#636efa",
          "dash": "solid"
         },
         "marker": {
          "symbol": "circle"
         },
         "mode": "lines",
         "name": "",
         "orientation": "v",
         "showlegend": false,
         "type": "scatter",
         "x": [
          "1600",
          "1601",
          "1602",
          "1603",
          "1604",
          "1605",
          "1606",
          "1607",
          "1608",
          "1609",
          "1610",
          "1611",
          "1612",
          "1613",
          "1614",
          "1615",
          "1616",
          "1617",
          "1618",
          "1619",
          "1620",
          "1621",
          "1622",
          "1623",
          "1624",
          "1625",
          "1626",
          "1627",
          "1628",
          "1629",
          "1630",
          "1631",
          "1632",
          "1633",
          "1634",
          "1635",
          "1636",
          "1637",
          "1638",
          "1639",
          "1640",
          "1641",
          "1642",
          "1643",
          "1644",
          "1645",
          "1646",
          "1647",
          "1648",
          "1649",
          "1650",
          "1651",
          "1652",
          "1653",
          "1654",
          "1655",
          "1656",
          "1657",
          "1658",
          "1659",
          "1660",
          "1661",
          "1662",
          "1663",
          "1664",
          "1665",
          "1666",
          "1667",
          "1668",
          "1669",
          "1670",
          "1671",
          "1672",
          "1673",
          "1674",
          "1675",
          "1676",
          "1677",
          "1678",
          "1679",
          "1680",
          "1681",
          "1682",
          "1683",
          "1684",
          "1685",
          "1686",
          "1687",
          "1688",
          "1689",
          "1690",
          "1691",
          "1692",
          "1693",
          "1694",
          "1695",
          "1696",
          "1697",
          "1698",
          "1699",
          "1700",
          "1701",
          "1702",
          "1703",
          "1704",
          "1705",
          "1706",
          "1707",
          "1708",
          "1709",
          "1710",
          "1711",
          "1712",
          "1713",
          "1714",
          "1715",
          "1716",
          "1717",
          "1718",
          "1719",
          "1720",
          "1721",
          "1722",
          "1723",
          "1724",
          "1725",
          "1726",
          "1727",
          "1728",
          "1729",
          "1730",
          "1731",
          "1732",
          "1733",
          "1734",
          "1735",
          "1736",
          "1737",
          "1738",
          "1739",
          "1740",
          "1741",
          "1742",
          "1743",
          "1744",
          "1745",
          "1746",
          "1747",
          "1748",
          "1749",
          "1750",
          "1751",
          "1752",
          "1753",
          "1754",
          "1755",
          "1756",
          "1757",
          "1758",
          "1759",
          "1760",
          "1761",
          "1762",
          "1763",
          "1764",
          "1765",
          "1766",
          "1767",
          "1768",
          "1769",
          "1770",
          "1771",
          "1772",
          "1773",
          "1774",
          "1775",
          "1776",
          "1777",
          "1778",
          "1779",
          "1780",
          "1781",
          "1782",
          "1783",
          "1784",
          "1785",
          "1786",
          "1787",
          "1788",
          "1789",
          "1790",
          "1791",
          "1792",
          "1793",
          "1794",
          "1795",
          "1796",
          "1797",
          "1798",
          "1799",
          "1800",
          "1801",
          "1802",
          "1803",
          "1804",
          "1805",
          "1806",
          "1807",
          "1808",
          "1809",
          "1810",
          "1811",
          "1812",
          "1813",
          "1814",
          "1815",
          "1816",
          "1817",
          "1818",
          "1819",
          "1820",
          "1821",
          "1822",
          "1823",
          "1824",
          "1825",
          "1826",
          "1827",
          "1828",
          "1829",
          "1830",
          "1831",
          "1832",
          "1833",
          "1834",
          "1835",
          "1836",
          "1837",
          "1838",
          "1839",
          "1840",
          "1841",
          "1842",
          "1843",
          "1844",
          "1845",
          "1846",
          "1847",
          "1848",
          "1849",
          "1850",
          "1851",
          "1852",
          "1853",
          "1854",
          "1855",
          "1856",
          "1857",
          "1858",
          "1859",
          "1860",
          "1861",
          "1862",
          "1863",
          "1864",
          "1865",
          "1866",
          "1867",
          "1868",
          "1869",
          "1870",
          "1871",
          "1872",
          "1873",
          "1874",
          "1875",
          "1876",
          "1877",
          "1878",
          "1879",
          "1880",
          "1881",
          "1882",
          "1883",
          "1884",
          "1885",
          "1886",
          "1887",
          "1888",
          "1889",
          "1890",
          "1891",
          "1892",
          "1893",
          "1894",
          "1895",
          "1896",
          "1897",
          "1898",
          "1899",
          "1900",
          "1901",
          "1902",
          "1903",
          "1904",
          "1905",
          "1906",
          "1907",
          "1908",
          "1909",
          "1910",
          "1911",
          "1912",
          "1913",
          "1914",
          "1915",
          "1916",
          "1917",
          "1918",
          "1919",
          "1920",
          "1921",
          "1922",
          "1923",
          "1924",
          "1925",
          "1926",
          "1927",
          "1928",
          "1929",
          "1930",
          "1931",
          "1932",
          "1933",
          "1934",
          "1935",
          "1936",
          "1937",
          "1938",
          "1939",
          "1940",
          "1941",
          "1942",
          "1943",
          "1944",
          "1945",
          "1946",
          "1947",
          "1948",
          "1949",
          "1950",
          "1951",
          "1952",
          "1953",
          "1954",
          "1955",
          "1956",
          "1957",
          "1958",
          "1959",
          "1960",
          "1961",
          "1962",
          "1963",
          "1964",
          "1965",
          "1966",
          "1967",
          "1968",
          "1969",
          "1970",
          "1971",
          "1972",
          "1973",
          "1974",
          "1975",
          "1976",
          "1977",
          "1978",
          "1979",
          "1980",
          "1981",
          "1982",
          "1983",
          "1984",
          "1985",
          "1986",
          "1987",
          "1988",
          "1989",
          "1990",
          "1991",
          "1992",
          "1993",
          "1994",
          "1995",
          "1996",
          "1997",
          "1998",
          "1999",
          "2000",
          "2001",
          "2002",
          "2003",
          "2004",
          "2005"
         ],
         "xaxis": "x",
         "y": {
          "bdata": "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",
          "dtype": "f8"
         },
         "yaxis": "y"
        }
       ],
       "layout": {
        "legend": {
         "tracegroupgap": 0
        },
        "template": {
         "data": {
          "bar": [
           {
            "error_x": {
             "color": "#2a3f5f"
            },
            "error_y": {
             "color": "#2a3f5f"
            },
            "marker": {
             "line": {
              "color": "#E5ECF6",
              "width": 0.5
             },
             "pattern": {
              "fillmode": "overlay",
              "size": 10,
              "solidity": 0.2
             }
            },
            "type": "bar"
           }
          ],
          "barpolar": [
           {
            "marker": {
             "line": {
              "color": "#E5ECF6",
              "width": 0.5
             },
             "pattern": {
              "fillmode": "overlay",
              "size": 10,
              "solidity": 0.2
             }
            },
            "type": "barpolar"
           }
          ],
          "carpet": [
           {
            "aaxis": {
             "endlinecolor": "#2a3f5f",
             "gridcolor": "white",
             "linecolor": "white",
             "minorgridcolor": "white",
             "startlinecolor": "#2a3f5f"
            },
            "baxis": {
             "endlinecolor": "#2a3f5f",
             "gridcolor": "white",
             "linecolor": "white",
             "minorgridcolor": "white",
             "startlinecolor": "#2a3f5f"
            },
            "type": "carpet"
           }
          ],
          "choropleth": [
           {
            "colorbar": {
             "outlinewidth": 0,
             "ticks": ""
            },
            "type": "choropleth"
           }
          ],
          "contour": [
           {
            "colorbar": {
             "outlinewidth": 0,
             "ticks": ""
            },
            "colorscale": [
             [
              0,
              "#0d0887"
             ],
             [
              0.1111111111111111,
              "#46039f"
             ],
             [
              0.2222222222222222,
              "#7201a8"
             ],
             [
              0.3333333333333333,
              "#9c179e"
             ],
             [
              0.4444444444444444,
              "#bd3786"
             ],
             [
              0.5555555555555556,
              "#d8576b"
             ],
             [
              0.6666666666666666,
              "#ed7953"
             ],
             [
              0.7777777777777778,
              "#fb9f3a"
             ],
             [
              0.8888888888888888,
              "#fdca26"
             ],
             [
              1,
              "#f0f921"
             ]
            ],
            "type": "contour"
           }
          ],
          "contourcarpet": [
           {
            "colorbar": {
             "outlinewidth": 0,
             "ticks": ""
            },
            "type": "contourcarpet"
           }
          ],
          "heatmap": [
           {
            "colorbar": {
             "outlinewidth": 0,
             "ticks": ""
            },
            "colorscale": [
             [
              0,
              "#0d0887"
             ],
             [
              0.1111111111111111,
              "#46039f"
             ],
             [
              0.2222222222222222,
              "#7201a8"
             ],
             [
              0.3333333333333333,
              "#9c179e"
             ],
             [
              0.4444444444444444,
              "#bd3786"
             ],
             [
              0.5555555555555556,
              "#d8576b"
             ],
             [
              0.6666666666666666,
              "#ed7953"
             ],
             [
              0.7777777777777778,
              "#fb9f3a"
             ],
             [
              0.8888888888888888,
              "#fdca26"
             ],
             [
              1,
              "#f0f921"
             ]
            ],
            "type": "heatmap"
           }
          ],
          "histogram": [
           {
            "marker": {
             "pattern": {
              "fillmode": "overlay",
              "size": 10,
              "solidity": 0.2
             }
            },
            "type": "histogram"
           }
          ],
          "histogram2d": [
           {
            "colorbar": {
             "outlinewidth": 0,
             "ticks": ""
            },
            "colorscale": [
             [
              0,
              "#0d0887"
             ],
             [
              0.1111111111111111,
              "#46039f"
             ],
             [
              0.2222222222222222,
              "#7201a8"
             ],
             [
              0.3333333333333333,
              "#9c179e"
             ],
             [
              0.4444444444444444,
              "#bd3786"
             ],
             [
              0.5555555555555556,
              "#d8576b"
             ],
             [
              0.6666666666666666,
              "#ed7953"
             ],
             [
              0.7777777777777778,
              "#fb9f3a"
             ],
             [
              0.8888888888888888,
              "#fdca26"
             ],
             [
              1,
              "#f0f921"
             ]
            ],
            "type": "histogram2d"
           }
          ],
          "histogram2dcontour": [
           {
            "colorbar": {
             "outlinewidth": 0,
             "ticks": ""
            },
            "colorscale": [
             [
              0,
              "#0d0887"
             ],
             [
              0.1111111111111111,
              "#46039f"
             ],
             [
              0.2222222222222222,
              "#7201a8"
             ],
             [
              0.3333333333333333,
              "#9c179e"
             ],
             [
              0.4444444444444444,
              "#bd3786"
             ],
             [
              0.5555555555555556,
              "#d8576b"
             ],
             [
              0.6666666666666666,
              "#ed7953"
             ],
             [
              0.7777777777777778,
              "#fb9f3a"
             ],
             [
              0.8888888888888888,
              "#fdca26"
             ],
             [
              1,
              "#f0f921"
             ]
            ],
            "type": "histogram2dcontour"
           }
          ],
          "mesh3d": [
           {
            "colorbar": {
             "outlinewidth": 0,
             "ticks": ""
            },
            "type": "mesh3d"
           }
          ],
          "parcoords": [
           {
            "line": {
             "colorbar": {
              "outlinewidth": 0,
              "ticks": ""
             }
            },
            "type": "parcoords"
           }
          ],
          "pie": [
           {
            "automargin": true,
            "type": "pie"
           }
          ],
          "scatter": [
           {
            "fillpattern": {
             "fillmode": "overlay",
             "size": 10,
             "solidity": 0.2
            },
            "type": "scatter"
           }
          ],
          "scatter3d": [
           {
            "line": {
             "colorbar": {
              "outlinewidth": 0,
              "ticks": ""
             }
            },
            "marker": {
             "colorbar": {
              "outlinewidth": 0,
              "ticks": ""
             }
            },
            "type": "scatter3d"
           }
          ],
          "scattercarpet": [
           {
            "marker": {
             "colorbar": {
              "outlinewidth": 0,
              "ticks": ""
             }
            },
            "type": "scattercarpet"
           }
          ],
          "scattergeo": [
           {
            "marker": {
             "colorbar": {
              "outlinewidth": 0,
              "ticks": ""
             }
            },
            "type": "scattergeo"
           }
          ],
          "scattergl": [
           {
            "marker": {
             "colorbar": {
              "outlinewidth": 0,
              "ticks": ""
             }
            },
            "type": "scattergl"
           }
          ],
          "scattermap": [
           {
            "marker": {
             "colorbar": {
              "outlinewidth": 0,
              "ticks": ""
             }
            },
            "type": "scattermap"
           }
          ],
          "scattermapbox": [
           {
            "marker": {
             "colorbar": {
              "outlinewidth": 0,
              "ticks": ""
             }
            },
            "type": "scattermapbox"
           }
          ],
          "scatterpolar": [
           {
            "marker": {
             "colorbar": {
              "outlinewidth": 0,
              "ticks": ""
             }
            },
            "type": "scatterpolar"
           }
          ],
          "scatterpolargl": [
           {
            "marker": {
             "colorbar": {
              "outlinewidth": 0,
              "ticks": ""
             }
            },
            "type": "scatterpolargl"
           }
          ],
          "scatterternary": [
           {
            "marker": {
             "colorbar": {
              "outlinewidth": 0,
              "ticks": ""
             }
            },
            "type": "scatterternary"
           }
          ],
          "surface": [
           {
            "colorbar": {
             "outlinewidth": 0,
             "ticks": ""
            },
            "colorscale": [
             [
              0,
              "#0d0887"
             ],
             [
              0.1111111111111111,
              "#46039f"
             ],
             [
              0.2222222222222222,
              "#7201a8"
             ],
             [
              0.3333333333333333,
              "#9c179e"
             ],
             [
              0.4444444444444444,
              "#bd3786"
             ],
             [
              0.5555555555555556,
              "#d8576b"
             ],
             [
              0.6666666666666666,
              "#ed7953"
             ],
             [
              0.7777777777777778,
              "#fb9f3a"
             ],
             [
              0.8888888888888888,
              "#fdca26"
             ],
             [
              1,
              "#f0f921"
             ]
            ],
            "type": "surface"
           }
          ],
          "table": [
           {
            "cells": {
             "fill": {
              "color": "#EBF0F8"
             },
             "line": {
              "color": "white"
             }
            },
            "header": {
             "fill": {
              "color": "#C8D4E3"
             },
             "line": {
              "color": "white"
             }
            },
            "type": "table"
           }
          ]
         },
         "layout": {
          "annotationdefaults": {
           "arrowcolor": "#2a3f5f",
           "arrowhead": 0,
           "arrowwidth": 1
          },
          "autotypenumbers": "strict",
          "coloraxis": {
           "colorbar": {
            "outlinewidth": 0,
            "ticks": ""
           }
          },
          "colorscale": {
           "diverging": [
            [
             0,
             "#8e0152"
            ],
            [
             0.1,
             "#c51b7d"
            ],
            [
             0.2,
             "#de77ae"
            ],
            [
             0.3,
             "#f1b6da"
            ],
            [
             0.4,
             "#fde0ef"
            ],
            [
             0.5,
             "#f7f7f7"
            ],
            [
             0.6,
             "#e6f5d0"
            ],
            [
             0.7,
             "#b8e186"
            ],
            [
             0.8,
             "#7fbc41"
            ],
            [
             0.9,
             "#4d9221"
            ],
            [
             1,
             "#276419"
            ]
           ],
           "sequential": [
            [
             0,
             "#0d0887"
            ],
            [
             0.1111111111111111,
             "#46039f"
            ],
            [
             0.2222222222222222,
             "#7201a8"
            ],
            [
             0.3333333333333333,
             "#9c179e"
            ],
            [
             0.4444444444444444,
             "#bd3786"
            ],
            [
             0.5555555555555556,
             "#d8576b"
            ],
            [
             0.6666666666666666,
             "#ed7953"
            ],
            [
             0.7777777777777778,
             "#fb9f3a"
            ],
            [
             0.8888888888888888,
             "#fdca26"
            ],
            [
             1,
             "#f0f921"
            ]
           ],
           "sequentialminus": [
            [
             0,
             "#0d0887"
            ],
            [
             0.1111111111111111,
             "#46039f"
            ],
            [
             0.2222222222222222,
             "#7201a8"
            ],
            [
             0.3333333333333333,
             "#9c179e"
            ],
            [
             0.4444444444444444,
             "#bd3786"
            ],
            [
             0.5555555555555556,
             "#d8576b"
            ],
            [
             0.6666666666666666,
             "#ed7953"
            ],
            [
             0.7777777777777778,
             "#fb9f3a"
            ],
            [
             0.8888888888888888,
             "#fdca26"
            ],
            [
             1,
             "#f0f921"
            ]
           ]
          },
          "colorway": [
           "#636efa",
           "#EF553B",
           "#00cc96",
           "#ab63fa",
           "#FFA15A",
           "#19d3f3",
           "#FF6692",
           "#B6E880",
           "#FF97FF",
           "#FECB52"
          ],
          "font": {
           "color": "#2a3f5f"
          },
          "geo": {
           "bgcolor": "white",
           "lakecolor": "white",
           "landcolor": "#E5ECF6",
           "showlakes": true,
           "showland": true,
           "subunitcolor": "white"
          },
          "hoverlabel": {
           "align": "left"
          },
          "hovermode": "closest",
          "mapbox": {
           "style": "light"
          },
          "paper_bgcolor": "white",
          "plot_bgcolor": "#E5ECF6",
          "polar": {
           "angularaxis": {
            "gridcolor": "white",
            "linecolor": "white",
            "ticks": ""
           },
           "bgcolor": "#E5ECF6",
           "radialaxis": {
            "gridcolor": "white",
            "linecolor": "white",
            "ticks": ""
           }
          },
          "scene": {
           "xaxis": {
            "backgroundcolor": "#E5ECF6",
            "gridcolor": "white",
            "gridwidth": 2,
            "linecolor": "white",
            "showbackground": true,
            "ticks": "",
            "zerolinecolor": "white"
           },
           "yaxis": {
            "backgroundcolor": "#E5ECF6",
            "gridcolor": "white",
            "gridwidth": 2,
            "linecolor": "white",
            "showbackground": true,
            "ticks": "",
            "zerolinecolor": "white"
           },
           "zaxis": {
            "backgroundcolor": "#E5ECF6",
            "gridcolor": "white",
            "gridwidth": 2,
            "linecolor": "white",
            "showbackground": true,
            "ticks": "",
            "zerolinecolor": "white"
           }
          },
          "shapedefaults": {
           "line": {
            "color": "#2a3f5f"
           }
          },
          "ternary": {
           "aaxis": {
            "gridcolor": "white",
            "linecolor": "white",
            "ticks": ""
           },
           "baxis": {
            "gridcolor": "white",
            "linecolor": "white",
            "ticks": ""
           },
           "bgcolor": "#E5ECF6",
           "caxis": {
            "gridcolor": "white",
            "linecolor": "white",
            "ticks": ""
           }
          },
          "title": {
           "x": 0.05
          },
          "xaxis": {
           "automargin": true,
           "gridcolor": "white",
           "linecolor": "white",
           "ticks": "",
           "title": {
            "standoff": 15
           },
           "zerolinecolor": "white",
           "zerolinewidth": 2
          },
          "yaxis": {
           "automargin": true,
           "gridcolor": "white",
           "linecolor": "white",
           "ticks": "",
           "title": {
            "standoff": 15
           },
           "zerolinecolor": "white",
           "zerolinewidth": 2
          }
         }
        },
        "title": {
         "text": "Site code: LIL"
        },
        "xaxis": {
         "anchor": "y",
         "domain": [
          0,
          1
         ],
         "title": {
          "text": "Year"
         }
        },
        "yaxis": {
         "anchor": "x",
         "domain": [
          0,
          1
         ],
         "title": {
          "text": "Value"
         }
        }
       }
      }
     },
     "metadata": {},
     "output_type": "display_data"
    },
    {
     "data": {
      "application/vnd.plotly.v1+json": {
       "config": {
        "plotlyServerURL": "https://plot.ly"
       },
       "data": [
        {
         "hovertemplate": "Year=%{x}<br>Value=%{y}<extra></extra>",
         "legendgroup": "",
         "line": {
          "color": "#636efa",
          "dash": "solid"
         },
         "marker": {
          "symbol": "circle"
         },
         "mode": "lines",
         "name": "",
         "orientation": "v",
         "showlegend": false,
         "type": "scatter",
         "x": [
          "1600",
          "1601",
          "1602",
          "1603",
          "1604",
          "1605",
          "1606",
          "1607",
          "1608",
          "1609",
          "1610",
          "1611",
          "1612",
          "1613",
          "1614",
          "1615",
          "1616",
          "1617",
          "1618",
          "1619",
          "1620",
          "1621",
          "1622",
          "1623",
          "1624",
          "1625",
          "1626",
          "1627",
          "1628",
          "1629",
          "1630",
          "1631",
          "1632",
          "1633",
          "1634",
          "1635",
          "1636",
          "1637",
          "1638",
          "1639",
          "1640",
          "1641",
          "1642",
          "1643",
          "1644",
          "1645",
          "1646",
          "1647",
          "1648",
          "1649",
          "1650",
          "1651",
          "1652",
          "1653",
          "1654",
          "1655",
          "1656",
          "1657",
          "1658",
          "1659",
          "1660",
          "1661",
          "1662",
          "1663",
          "1664",
          "1665",
          "1666",
          "1667",
          "1668",
          "1669",
          "1670",
          "1671",
          "1672",
          "1673",
          "1674",
          "1675",
          "1676",
          "1677",
          "1678",
          "1679",
          "1680",
          "1681",
          "1682",
          "1683",
          "1684",
          "1685",
          "1686",
          "1687",
          "1688",
          "1689",
          "1690",
          "1691",
          "1692",
          "1693",
          "1694",
          "1695",
          "1696",
          "1697",
          "1698",
          "1699",
          "1700",
          "1701",
          "1702",
          "1703",
          "1704",
          "1705",
          "1706",
          "1707",
          "1708",
          "1709",
          "1710",
          "1711",
          "1712",
          "1713",
          "1714",
          "1715",
          "1716",
          "1717",
          "1718",
          "1719",
          "1720",
          "1721",
          "1722",
          "1723",
          "1724",
          "1725",
          "1726",
          "1727",
          "1728",
          "1729",
          "1730",
          "1731",
          "1732",
          "1733",
          "1734",
          "1735",
          "1736",
          "1737",
          "1738",
          "1739",
          "1740",
          "1741",
          "1742",
          "1743",
          "1744",
          "1745",
          "1746",
          "1747",
          "1748",
          "1749",
          "1750",
          "1751",
          "1752",
          "1753",
          "1754",
          "1755",
          "1756",
          "1757",
          "1758",
          "1759",
          "1760",
          "1761",
          "1762",
          "1763",
          "1764",
          "1765",
          "1766",
          "1767",
          "1768",
          "1769",
          "1770",
          "1771",
          "1772",
          "1773",
          "1774",
          "1775",
          "1776",
          "1777",
          "1778",
          "1779",
          "1780",
          "1781",
          "1782",
          "1783",
          "1784",
          "1785",
          "1786",
          "1787",
          "1788",
          "1789",
          "1790",
          "1791",
          "1792",
          "1793",
          "1794",
          "1795",
          "1796",
          "1797",
          "1798",
          "1799",
          "1800",
          "1801",
          "1802",
          "1803",
          "1804",
          "1805",
          "1806",
          "1807",
          "1808",
          "1809",
          "1810",
          "1811",
          "1812",
          "1813",
          "1814",
          "1815",
          "1816",
          "1817",
          "1818",
          "1819",
          "1820",
          "1821",
          "1822",
          "1823",
          "1824",
          "1825",
          "1826",
          "1827",
          "1828",
          "1829",
          "1830",
          "1831",
          "1832",
          "1833",
          "1834",
          "1835",
          "1836",
          "1837",
          "1838",
          "1839",
          "1840",
          "1841",
          "1842",
          "1843",
          "1844",
          "1845",
          "1846",
          "1847",
          "1848",
          "1849",
          "1850",
          "1851",
          "1852",
          "1853",
          "1854",
          "1855",
          "1856",
          "1857",
          "1858",
          "1859",
          "1860",
          "1861",
          "1862",
          "1863",
          "1864",
          "1865",
          "1866",
          "1867",
          "1868",
          "1869",
          "1870",
          "1871",
          "1872",
          "1873",
          "1874",
          "1875",
          "1876",
          "1877",
          "1878",
          "1879",
          "1880",
          "1881",
          "1882",
          "1883",
          "1884",
          "1885",
          "1886",
          "1887",
          "1888",
          "1889",
          "1890",
          "1891",
          "1892",
          "1893",
          "1894",
          "1895",
          "1896",
          "1897",
          "1898",
          "1899",
          "1900",
          "1901",
          "1902",
          "1903",
          "1904",
          "1905",
          "1906",
          "1907",
          "1908",
          "1909",
          "1910",
          "1911",
          "1912",
          "1913",
          "1914",
          "1915",
          "1916",
          "1917",
          "1918",
          "1919",
          "1920",
          "1921",
          "1922",
          "1923",
          "1924",
          "1925",
          "1926",
          "1927",
          "1928",
          "1929",
          "1930",
          "1931",
          "1932",
          "1933",
          "1934",
          "1935",
          "1936",
          "1937",
          "1938",
          "1939",
          "1940",
          "1941",
          "1942",
          "1943",
          "1944",
          "1945",
          "1946",
          "1947",
          "1948",
          "1949",
          "1950",
          "1951",
          "1952",
          "1953",
          "1954",
          "1955",
          "1956",
          "1957",
          "1958",
          "1959",
          "1960",
          "1961",
          "1962",
          "1963",
          "1964",
          "1965",
          "1966",
          "1967",
          "1968",
          "1969",
          "1970",
          "1971",
          "1972",
          "1973",
          "1974",
          "1975",
          "1976",
          "1977",
          "1978",
          "1979",
          "1980",
          "1981",
          "1982",
          "1983",
          "1984",
          "1985",
          "1986",
          "1987",
          "1988",
          "1989",
          "1990",
          "1991",
          "1992",
          "1993",
          "1994",
          "1995",
          "1996",
          "1997",
          "1998",
          "1999",
          "2000",
          "2001",
          "2002",
          "2003",
          "2004",
          "2005"
         ],
         "xaxis": "x",
         "y": {
          "bdata": "SOF6FK4HNsDhehSuR6E1wKRwPQrXozbAw/UoXI8CNsDD9Shcj8I1wDMzMzMzMzbAcT0K16MwNcCuR+F6FG41wFK4HoXrETXAUrgehesRNsBSuB6F69E1wHE9Ctej8DTAw/UoXI+CNcDhehSuR2E1wKRwPQrXYzXAXI/C9SjcNcBmZmZmZiY2wI/C9ShcDzbAmpmZmZkZNsCPwvUoXA81wM3MzMzMTDXA16NwPQqXNcBxPQrXozA1wFyPwvUonDTA4XoUrkchNcAUrkfhepQ1wArXo3A9ijXAKVyPwvXoNcBxPQrXozA2wJqZmZmZ2TXArkfhehSuN8DNzMzMzIw1wFK4HoXrETXAcT0K16MwNsAfhetRuN41wHE9CtejcDXA16NwPQpXNcC4HoXrUfg0wPYoXI/CNTXAPQrXo3C9NcB7FK5H4bo1wHsUrkfhejXAzczMzMwMNcDsUbgehes0wEjhehSuBzXACtejcD0KNcB7FK5H4fo0wGZmZmZmZjXAKVyPwvVoNcB7FK5H4To2wBSuR+F6lDXA4XoUrkchNcCuR+F6FG42wBSuR+F61DbAH4XrUbheNsD2KFyPwvU0wArXo3A9SjXA16NwPQoXNsC4HoXrUXg1wAAAAAAAQDbA4XoUrkdhNcCPwvUoXM81wAAAAAAAwDXAZmZmZmbmNcAzMzMzM7M1wClcj8L1aDXA16NwPQpXNsCPwvUoXE82wFK4HoXrUTbAw/UoXI/CNcBmZmZmZqY1wOxRuB6FazXA9ihcj8I1NsCuR+F6FK41wNejcD0KlzXAXI/C9SgcNsCF61G4HgU2wHE9CtejsDXAzczMzMzMNMBSuB6F61E1wFyPwvUoXDbA7FG4HoVrNcBI4XoUrsc1wPYoXI/C9TTAmpmZmZkZNsB7FK5H4fo1wB+F61G4XjXAXI/C9SgcNcCuR+F6FC41wOF6FK5HITbA9ihcj8I1NsAfhetRuN41wFyPwvUoHDbA7FG4HoUrNsBI4XoUrgc1wMP1KFyPgjXAexSuR+E6NcAAAAAAAMA1wIXrUbgexTXAhetRuB7FNcC4HoXrUfg0wM3MzMzMTDXAj8L1KFwPNcBcj8L1KNw1wEjhehSuxzXASOF6FK4HNcBSuB6F6xE1wLgehetRuDXAFK5H4XqUNcCPwvUoXA82wIXrUbgeRTbAZmZmZmbmNcD2KFyPwrU0wK5H4XoULjXAKVyPwvVoNcCF61G4HgU1wNejcD0KVzTAmpmZmZlZNMC4HoXrUfg0wFK4HoXrUTXA7FG4HoWrNcDNzMzMzEw2wB+F61G43jXApHA9CtfjNcAUrkfhehQ2wClcj8L16DXAcT0K16NwNcBSuB6F61E1wHE9CtejMDXAj8L1KFwPNcCPwvUoXI81wKRwPQrX4zXAUrgehevRNcCPwvUoXE81wHsUrkfhujXApHA9CtfjNcAK16NwPYo1wMP1KFyPgjXAZmZmZmbmNMAfhetRuJ41wGZmZmZm5jXAuB6F61F4NcAUrkfhetQ1wFK4HoXr0TXACtejcD3KNcCuR+F6FK41wDMzMzMzczXA16NwPQoXNsCamZmZmdk1wArXo3A9yjXAUrgehesRNsCkcD0K1yM1wPYoXI/CNTbA16NwPQoXNsBcj8L1KNw1wM3MzMzMzDXAexSuR+F6NcCuR+F6FK41wHsUrkfhOjXA9ihcj8J1NcBI4XoUrkc1wHsUrkfhOjXAUrgeheuRNcDhehSuR6E1wM3MzMzMDDbAw/UoXI9CNsCF61G4HsU1wMP1KFyPwjXAzczMzMzMNcAfhetRuJ41wNejcD0K1zXAexSuR+F6NcCF61G4HgU2wLgehetRODbASOF6FK6HNcA9CtejcP01wClcj8L1qDXASOF6FK7HNcAzMzMzM3M1wArXo3A9yjXAUrgeheuRNcB7FK5H4To2wOxRuB6FazXAmpmZmZkZNsBI4XoUroc2wMP1KFyPQjbAhetRuB7FNcBcj8L1KJw1wArXo3A9SjbAMzMzMzOzNcDhehSuRyE1wEjhehSuxzXAuB6F61E4NsCF61G4HsU1wFK4HoXrkTbAmpmZmZmZNsDXo3A9Clc2wEjhehSuxzXA9ihcj8L1NcBxPQrXo3A1wKRwPQrXIzbAMzMzMzNzNsDsUbgehas1wIXrUbgeBTbA7FG4HoUrNsDNzMzMzIw2wLgehetR+DXAXI/C9SicNcCF61G4HsU1wI/C9ShczzbApHA9CtdjNsCuR+F6FG42wBSuR+F61DXAFK5H4XpUNsDsUbgehSs2wEjhehSuBzbAMzMzMzNzNsDXo3A9Ctc1wK5H4XoU7jXA16NwPQpXNsB7FK5H4To2wLgehetR+DXAMzMzMzPzNcCamZmZmVk2wGZmZmZmpjTAPQrXo3D9NsDNzMzMzIw2wI/C9ShcjzbACtejcD0KNsAAAAAAAAA2wGZmZmZm5jXAFK5H4XqUNcBI4XoUroc1wFK4HoXrUTbA16NwPQqXNsBI4XoUrkc2wM3MzMzMjDXAw/UoXI/CNcBcj8L1KBw2wArXo3A9SjXAj8L1KFwPNsBcj8L1KFw2wFyPwvUo3DXAMzMzMzNzNsAK16NwPQo2wFyPwvUoXDbA9ihcj8I1NcAfhetRuB42wBSuR+F6FDbAFK5H4XoUNsCamZmZmZk2wOF6FK5H4TXAUrgeheuRNsCuR+F6FG41wM3MzMzMTDbACtejcD1KNcDsUbgehas1wHE9CtejMDbASOF6FK6HNcD2KFyPwrU1wOF6FK5HoTbArkfhehSuNcAK16NwPQo2wOxRuB6FKzbArkfhehTuNcCuR+F6FG42wJqZmZmZ2TXApHA9CtejNsApXI/C9Wg2wDMzMzMz8zXA4XoUrkfhNcAK16NwPQo2wMP1KFyPQjbAZmZmZmamNcCuR+F6FK41wArXo3A9ijbASOF6FK4HNsC4HoXrUfg1wClcj8L1KDbAFK5H4XoUNcBI4XoUroc1wBSuR+F6FDXAFK5H4XrUNcAUrkfhehQ2wJqZmZmZGTbAAAAAAADANsAzMzMzM3M2wK5H4XoUrjbArkfhehRuNsAK16NwPco1wI/C9ShcjzXAZmZmZmYmNsDNzMzMzAw2wJqZmZmZGTbAcT0K16NwNsAzMzMzM7M1wClcj8L1aDbAZmZmZmYmNsDNzMzMzIw1wFK4HoXrUTbACtejcD0KNsAAAAAAAEA2wK5H4XoUbjXAj8L1KFwPNsBxPQrXozA2wFyPwvUo3DbAw/UoXI8CNsAK16NwPQo2wMP1KFyPwjbApHA9CtcjNsCkcD0K12M2wEjhehSuRzbAH4XrUbieNsCF61G4HoU2wArXo3A9CjfA7FG4HoWrNsBcj8L1KNw2wEjhehSuhzbAH4XrUbheNsDD9Shcj8I2wIXrUbgexTbAw/UoXI9CNsDhehSuRyE2wIXrUbgeRTbA16NwPQoXNsD2KFyPwjU3wJqZmZmZWTbAZmZmZmamNsDhehSuR2E1wKRwPQrXozbAuB6F61F4NsAAAAAAAAD4f4XrUbgexTbAmpmZmZlZNsCkcD0K1yM2wI/C9ShcDzbAUrgehetRNsCF61G4HkU2wD0K16Nw/TXAmpmZmZmZNsAzMzMzM/M2wPYoXI/CdTbAPQrXo3C9NcBI4XoUrkc2wFK4HoXrUTbAUrgehevRNcDsUbgehas1wEjhehSuRzbAw/UoXI8CN8CF61G4HoU2wNejcD0KVzbAw/UoXI8CN8DXo3A9Cpc2wIXrUbgehTbA4XoUrkchNsBI4XoUrsc2wHsUrkfhOjbAj8L1KFzPNcDNzMzMzIw2wEjhehSuxzbAw/UoXI/CNsAfhetRuB42wClcj8L1aDXAhetRuB6FNsAUrkfhetQ2wPYoXI/C9TXACtejcD3KNsDNzMzMzEw2wOxRuB6FKzbAFK5H4XoUN8Bcj8L1KBw3wOxRuB6F6zbA4XoUrkdhN8DXo3A9Cpc3wArXo3A9SjfAzczMzMzMNsD2KFyPwvU3wOxRuB6FKzjACtejcD1KN8DsUbgehWs3wKRwPQrX4zbArkfhehRuN8AK16NwPco2wPYoXI/CdTbASOF6FK7HNsBI4XoUrsc2wIXrUbgehTbAAAAAAAAA+H9xPQrXo7A3wArXo3A9CjfAAAAAAABAN8AAAAAAAAD4f6RwPQrXozfACtejcD0KN8C4HoXrUfg1wArXo3A9SjfAj8L1KFzPN8CuR+F6FO43wLgehetReDbAFK5H4XoUN8D2KFyPwjU3wJqZmZmZ2TbAFK5H4XrUNsAzMzMzM3M3wAAAAAAAAPh/AAAAAAAA+H8=",
          "dtype": "f8"
         },
         "yaxis": "y"
        }
       ],
       "layout": {
        "legend": {
         "tracegroupgap": 0
        },
        "template": {
         "data": {
          "bar": [
           {
            "error_x": {
             "color": "#2a3f5f"
            },
            "error_y": {
             "color": "#2a3f5f"
            },
            "marker": {
             "line": {
              "color": "#E5ECF6",
              "width": 0.5
             },
             "pattern": {
              "fillmode": "overlay",
              "size": 10,
              "solidity": 0.2
             }
            },
            "type": "bar"
           }
          ],
          "barpolar": [
           {
            "marker": {
             "line": {
              "color": "#E5ECF6",
              "width": 0.5
             },
             "pattern": {
              "fillmode": "overlay",
              "size": 10,
              "solidity": 0.2
             }
            },
            "type": "barpolar"
           }
          ],
          "carpet": [
           {
            "aaxis": {
             "endlinecolor": "#2a3f5f",
             "gridcolor": "white",
             "linecolor": "white",
             "minorgridcolor": "white",
             "startlinecolor": "#2a3f5f"
            },
            "baxis": {
             "endlinecolor": "#2a3f5f",
             "gridcolor": "white",
             "linecolor": "white",
             "minorgridcolor": "white",
             "startlinecolor": "#2a3f5f"
            },
            "type": "carpet"
           }
          ],
          "choropleth": [
           {
            "colorbar": {
             "outlinewidth": 0,
             "ticks": ""
            },
            "type": "choropleth"
           }
          ],
          "contour": [
           {
            "colorbar": {
             "outlinewidth": 0,
             "ticks": ""
            },
            "colorscale": [
             [
              0,
              "#0d0887"
             ],
             [
              0.1111111111111111,
              "#46039f"
             ],
             [
              0.2222222222222222,
              "#7201a8"
             ],
             [
              0.3333333333333333,
              "#9c179e"
             ],
             [
              0.4444444444444444,
              "#bd3786"
             ],
             [
              0.5555555555555556,
              "#d8576b"
             ],
             [
              0.6666666666666666,
              "#ed7953"
             ],
             [
              0.7777777777777778,
              "#fb9f3a"
             ],
             [
              0.8888888888888888,
              "#fdca26"
             ],
             [
              1,
              "#f0f921"
             ]
            ],
            "type": "contour"
           }
          ],
          "contourcarpet": [
           {
            "colorbar": {
             "outlinewidth": 0,
             "ticks": ""
            },
            "type": "contourcarpet"
           }
          ],
          "heatmap": [
           {
            "colorbar": {
             "outlinewidth": 0,
             "ticks": ""
            },
            "colorscale": [
             [
              0,
              "#0d0887"
             ],
             [
              0.1111111111111111,
              "#46039f"
             ],
             [
              0.2222222222222222,
              "#7201a8"
             ],
             [
              0.3333333333333333,
              "#9c179e"
             ],
             [
              0.4444444444444444,
              "#bd3786"
             ],
             [
              0.5555555555555556,
              "#d8576b"
             ],
             [
              0.6666666666666666,
              "#ed7953"
             ],
             [
              0.7777777777777778,
              "#fb9f3a"
             ],
             [
              0.8888888888888888,
              "#fdca26"
             ],
             [
              1,
              "#f0f921"
             ]
            ],
            "type": "heatmap"
           }
          ],
          "histogram": [
           {
            "marker": {
             "pattern": {
              "fillmode": "overlay",
              "size": 10,
              "solidity": 0.2
             }
            },
            "type": "histogram"
           }
          ],
          "histogram2d": [
           {
            "colorbar": {
             "outlinewidth": 0,
             "ticks": ""
            },
            "colorscale": [
             [
              0,
              "#0d0887"
             ],
             [
              0.1111111111111111,
              "#46039f"
             ],
             [
              0.2222222222222222,
              "#7201a8"
             ],
             [
              0.3333333333333333,
              "#9c179e"
             ],
             [
              0.4444444444444444,
              "#bd3786"
             ],
             [
              0.5555555555555556,
              "#d8576b"
             ],
             [
              0.6666666666666666,
              "#ed7953"
             ],
             [
              0.7777777777777778,
              "#fb9f3a"
             ],
             [
              0.8888888888888888,
              "#fdca26"
             ],
             [
              1,
              "#f0f921"
             ]
            ],
            "type": "histogram2d"
           }
          ],
          "histogram2dcontour": [
           {
            "colorbar": {
             "outlinewidth": 0,
             "ticks": ""
            },
            "colorscale": [
             [
              0,
              "#0d0887"
             ],
             [
              0.1111111111111111,
              "#46039f"
             ],
             [
              0.2222222222222222,
              "#7201a8"
             ],
             [
              0.3333333333333333,
              "#9c179e"
             ],
             [
              0.4444444444444444,
              "#bd3786"
             ],
             [
              0.5555555555555556,
              "#d8576b"
             ],
             [
              0.6666666666666666,
              "#ed7953"
             ],
             [
              0.7777777777777778,
              "#fb9f3a"
             ],
             [
              0.8888888888888888,
              "#fdca26"
             ],
             [
              1,
              "#f0f921"
             ]
            ],
            "type": "histogram2dcontour"
           }
          ],
          "mesh3d": [
           {
            "colorbar": {
             "outlinewidth": 0,
             "ticks": ""
            },
            "type": "mesh3d"
           }
          ],
          "parcoords": [
           {
            "line": {
             "colorbar": {
              "outlinewidth": 0,
              "ticks": ""
             }
            },
            "type": "parcoords"
           }
          ],
          "pie": [
           {
            "automargin": true,
            "type": "pie"
           }
          ],
          "scatter": [
           {
            "fillpattern": {
             "fillmode": "overlay",
             "size": 10,
             "solidity": 0.2
            },
            "type": "scatter"
           }
          ],
          "scatter3d": [
           {
            "line": {
             "colorbar": {
              "outlinewidth": 0,
              "ticks": ""
             }
            },
            "marker": {
             "colorbar": {
              "outlinewidth": 0,
              "ticks": ""
             }
            },
            "type": "scatter3d"
           }
          ],
          "scattercarpet": [
           {
            "marker": {
             "colorbar": {
              "outlinewidth": 0,
              "ticks": ""
             }
            },
            "type": "scattercarpet"
           }
          ],
          "scattergeo": [
           {
            "marker": {
             "colorbar": {
              "outlinewidth": 0,
              "ticks": ""
             }
            },
            "type": "scattergeo"
           }
          ],
          "scattergl": [
           {
            "marker": {
             "colorbar": {
              "outlinewidth": 0,
              "ticks": ""
             }
            },
            "type": "scattergl"
           }
          ],
          "scattermap": [
           {
            "marker": {
             "colorbar": {
              "outlinewidth": 0,
              "ticks": ""
             }
            },
            "type": "scattermap"
           }
          ],
          "scattermapbox": [
           {
            "marker": {
             "colorbar": {
              "outlinewidth": 0,
              "ticks": ""
             }
            },
            "type": "scattermapbox"
           }
          ],
          "scatterpolar": [
           {
            "marker": {
             "colorbar": {
              "outlinewidth": 0,
              "ticks": ""
             }
            },
            "type": "scatterpolar"
           }
          ],
          "scatterpolargl": [
           {
            "marker": {
             "colorbar": {
              "outlinewidth": 0,
              "ticks": ""
             }
            },
            "type": "scatterpolargl"
           }
          ],
          "scatterternary": [
           {
            "marker": {
             "colorbar": {
              "outlinewidth": 0,
              "ticks": ""
             }
            },
            "type": "scatterternary"
           }
          ],
          "surface": [
           {
            "colorbar": {
             "outlinewidth": 0,
             "ticks": ""
            },
            "colorscale": [
             [
              0,
              "#0d0887"
             ],
             [
              0.1111111111111111,
              "#46039f"
             ],
             [
              0.2222222222222222,
              "#7201a8"
             ],
             [
              0.3333333333333333,
              "#9c179e"
             ],
             [
              0.4444444444444444,
              "#bd3786"
             ],
             [
              0.5555555555555556,
              "#d8576b"
             ],
             [
              0.6666666666666666,
              "#ed7953"
             ],
             [
              0.7777777777777778,
              "#fb9f3a"
             ],
             [
              0.8888888888888888,
              "#fdca26"
             ],
             [
              1,
              "#f0f921"
             ]
            ],
            "type": "surface"
           }
          ],
          "table": [
           {
            "cells": {
             "fill": {
              "color": "#EBF0F8"
             },
             "line": {
              "color": "white"
             }
            },
            "header": {
             "fill": {
              "color": "#C8D4E3"
             },
             "line": {
              "color": "white"
             }
            },
            "type": "table"
           }
          ]
         },
         "layout": {
          "annotationdefaults": {
           "arrowcolor": "#2a3f5f",
           "arrowhead": 0,
           "arrowwidth": 1
          },
          "autotypenumbers": "strict",
          "coloraxis": {
           "colorbar": {
            "outlinewidth": 0,
            "ticks": ""
           }
          },
          "colorscale": {
           "diverging": [
            [
             0,
             "#8e0152"
            ],
            [
             0.1,
             "#c51b7d"
            ],
            [
             0.2,
             "#de77ae"
            ],
            [
             0.3,
             "#f1b6da"
            ],
            [
             0.4,
             "#fde0ef"
            ],
            [
             0.5,
             "#f7f7f7"
            ],
            [
             0.6,
             "#e6f5d0"
            ],
            [
             0.7,
             "#b8e186"
            ],
            [
             0.8,
             "#7fbc41"
            ],
            [
             0.9,
             "#4d9221"
            ],
            [
             1,
             "#276419"
            ]
           ],
           "sequential": [
            [
             0,
             "#0d0887"
            ],
            [
             0.1111111111111111,
             "#46039f"
            ],
            [
             0.2222222222222222,
             "#7201a8"
            ],
            [
             0.3333333333333333,
             "#9c179e"
            ],
            [
             0.4444444444444444,
             "#bd3786"
            ],
            [
             0.5555555555555556,
             "#d8576b"
            ],
            [
             0.6666666666666666,
             "#ed7953"
            ],
            [
             0.7777777777777778,
             "#fb9f3a"
            ],
            [
             0.8888888888888888,
             "#fdca26"
            ],
            [
             1,
             "#f0f921"
            ]
           ],
           "sequentialminus": [
            [
             0,
             "#0d0887"
            ],
            [
             0.1111111111111111,
             "#46039f"
            ],
            [
             0.2222222222222222,
             "#7201a8"
            ],
            [
             0.3333333333333333,
             "#9c179e"
            ],
            [
             0.4444444444444444,
             "#bd3786"
            ],
            [
             0.5555555555555556,
             "#d8576b"
            ],
            [
             0.6666666666666666,
             "#ed7953"
            ],
            [
             0.7777777777777778,
             "#fb9f3a"
            ],
            [
             0.8888888888888888,
             "#fdca26"
            ],
            [
             1,
             "#f0f921"
            ]
           ]
          },
          "colorway": [
           "#636efa",
           "#EF553B",
           "#00cc96",
           "#ab63fa",
           "#FFA15A",
           "#19d3f3",
           "#FF6692",
           "#B6E880",
           "#FF97FF",
           "#FECB52"
          ],
          "font": {
           "color": "#2a3f5f"
          },
          "geo": {
           "bgcolor": "white",
           "lakecolor": "white",
           "landcolor": "#E5ECF6",
           "showlakes": true,
           "showland": true,
           "subunitcolor": "white"
          },
          "hoverlabel": {
           "align": "left"
          },
          "hovermode": "closest",
          "mapbox": {
           "style": "light"
          },
          "paper_bgcolor": "white",
          "plot_bgcolor": "#E5ECF6",
          "polar": {
           "angularaxis": {
            "gridcolor": "white",
            "linecolor": "white",
            "ticks": ""
           },
           "bgcolor": "#E5ECF6",
           "radialaxis": {
            "gridcolor": "white",
            "linecolor": "white",
            "ticks": ""
           }
          },
          "scene": {
           "xaxis": {
            "backgroundcolor": "#E5ECF6",
            "gridcolor": "white",
            "gridwidth": 2,
            "linecolor": "white",
            "showbackground": true,
            "ticks": "",
            "zerolinecolor": "white"
           },
           "yaxis": {
            "backgroundcolor": "#E5ECF6",
            "gridcolor": "white",
            "gridwidth": 2,
            "linecolor": "white",
            "showbackground": true,
            "ticks": "",
            "zerolinecolor": "white"
           },
           "zaxis": {
            "backgroundcolor": "#E5ECF6",
            "gridcolor": "white",
            "gridwidth": 2,
            "linecolor": "white",
            "showbackground": true,
            "ticks": "",
            "zerolinecolor": "white"
           }
          },
          "shapedefaults": {
           "line": {
            "color": "#2a3f5f"
           }
          },
          "ternary": {
           "aaxis": {
            "gridcolor": "white",
            "linecolor": "white",
            "ticks": ""
           },
           "baxis": {
            "gridcolor": "white",
            "linecolor": "white",
            "ticks": ""
           },
           "bgcolor": "#E5ECF6",
           "caxis": {
            "gridcolor": "white",
            "linecolor": "white",
            "ticks": ""
           }
          },
          "title": {
           "x": 0.05
          },
          "xaxis": {
           "automargin": true,
           "gridcolor": "white",
           "linecolor": "white",
           "ticks": "",
           "title": {
            "standoff": 15
           },
           "zerolinecolor": "white",
           "zerolinewidth": 2
          },
          "yaxis": {
           "automargin": true,
           "gridcolor": "white",
           "linecolor": "white",
           "ticks": "",
           "title": {
            "standoff": 15
           },
           "zerolinecolor": "white",
           "zerolinewidth": 2
          }
         }
        },
        "title": {
         "text": "Site code: PED "
        },
        "xaxis": {
         "anchor": "y",
         "domain": [
          0,
          1
         ],
         "title": {
          "text": "Year"
         }
        },
        "yaxis": {
         "anchor": "x",
         "domain": [
          0,
          1
         ],
         "title": {
          "text": "Value"
         }
        }
       }
      }
     },
     "metadata": {},
     "output_type": "display_data"
    },
    {
     "data": {
      "application/vnd.plotly.v1+json": {
       "config": {
        "plotlyServerURL": "https://plot.ly"
       },
       "data": [
        {
         "hovertemplate": "Year=%{x}<br>Value=%{y}<extra></extra>",
         "legendgroup": "",
         "line": {
          "color": "#636efa",
          "dash": "solid"
         },
         "marker": {
          "symbol": "circle"
         },
         "mode": "lines",
         "name": "",
         "orientation": "v",
         "showlegend": false,
         "type": "scatter",
         "x": [
          "1600",
          "1601",
          "1602",
          "1603",
          "1604",
          "1605",
          "1606",
          "1607",
          "1608",
          "1609",
          "1610",
          "1611",
          "1612",
          "1613",
          "1614",
          "1615",
          "1616",
          "1617",
          "1618",
          "1619",
          "1620",
          "1621",
          "1622",
          "1623",
          "1624",
          "1625",
          "1626",
          "1627",
          "1628",
          "1629",
          "1630",
          "1631",
          "1632",
          "1633",
          "1634",
          "1635",
          "1636",
          "1637",
          "1638",
          "1639",
          "1640",
          "1641",
          "1642",
          "1643",
          "1644",
          "1645",
          "1646",
          "1647",
          "1648",
          "1649",
          "1650",
          "1651",
          "1652",
          "1653",
          "1654",
          "1655",
          "1656",
          "1657",
          "1658",
          "1659",
          "1660",
          "1661",
          "1662",
          "1663",
          "1664",
          "1665",
          "1666",
          "1667",
          "1668",
          "1669",
          "1670",
          "1671",
          "1672",
          "1673",
          "1674",
          "1675",
          "1676",
          "1677",
          "1678",
          "1679",
          "1680",
          "1681",
          "1682",
          "1683",
          "1684",
          "1685",
          "1686",
          "1687",
          "1688",
          "1689",
          "1690",
          "1691",
          "1692",
          "1693",
          "1694",
          "1695",
          "1696",
          "1697",
          "1698",
          "1699",
          "1700",
          "1701",
          "1702",
          "1703",
          "1704",
          "1705",
          "1706",
          "1707",
          "1708",
          "1709",
          "1710",
          "1711",
          "1712",
          "1713",
          "1714",
          "1715",
          "1716",
          "1717",
          "1718",
          "1719",
          "1720",
          "1721",
          "1722",
          "1723",
          "1724",
          "1725",
          "1726",
          "1727",
          "1728",
          "1729",
          "1730",
          "1731",
          "1732",
          "1733",
          "1734",
          "1735",
          "1736",
          "1737",
          "1738",
          "1739",
          "1740",
          "1741",
          "1742",
          "1743",
          "1744",
          "1745",
          "1746",
          "1747",
          "1748",
          "1749",
          "1750",
          "1751",
          "1752",
          "1753",
          "1754",
          "1755",
          "1756",
          "1757",
          "1758",
          "1759",
          "1760",
          "1761",
          "1762",
          "1763",
          "1764",
          "1765",
          "1766",
          "1767",
          "1768",
          "1769",
          "1770",
          "1771",
          "1772",
          "1773",
          "1774",
          "1775",
          "1776",
          "1777",
          "1778",
          "1779",
          "1780",
          "1781",
          "1782",
          "1783",
          "1784",
          "1785",
          "1786",
          "1787",
          "1788",
          "1789",
          "1790",
          "1791",
          "1792",
          "1793",
          "1794",
          "1795",
          "1796",
          "1797",
          "1798",
          "1799",
          "1800",
          "1801",
          "1802",
          "1803",
          "1804",
          "1805",
          "1806",
          "1807",
          "1808",
          "1809",
          "1810",
          "1811",
          "1812",
          "1813",
          "1814",
          "1815",
          "1816",
          "1817",
          "1818",
          "1819",
          "1820",
          "1821",
          "1822",
          "1823",
          "1824",
          "1825",
          "1826",
          "1827",
          "1828",
          "1829",
          "1830",
          "1831",
          "1832",
          "1833",
          "1834",
          "1835",
          "1836",
          "1837",
          "1838",
          "1839",
          "1840",
          "1841",
          "1842",
          "1843",
          "1844",
          "1845",
          "1846",
          "1847",
          "1848",
          "1849",
          "1850",
          "1851",
          "1852",
          "1853",
          "1854",
          "1855",
          "1856",
          "1857",
          "1858",
          "1859",
          "1860",
          "1861",
          "1862",
          "1863",
          "1864",
          "1865",
          "1866",
          "1867",
          "1868",
          "1869",
          "1870",
          "1871",
          "1872",
          "1873",
          "1874",
          "1875",
          "1876",
          "1877",
          "1878",
          "1879",
          "1880",
          "1881",
          "1882",
          "1883",
          "1884",
          "1885",
          "1886",
          "1887",
          "1888",
          "1889",
          "1890",
          "1891",
          "1892",
          "1893",
          "1894",
          "1895",
          "1896",
          "1897",
          "1898",
          "1899",
          "1900",
          "1901",
          "1902",
          "1903",
          "1904",
          "1905",
          "1906",
          "1907",
          "1908",
          "1909",
          "1910",
          "1911",
          "1912",
          "1913",
          "1914",
          "1915",
          "1916",
          "1917",
          "1918",
          "1919",
          "1920",
          "1921",
          "1922",
          "1923",
          "1924",
          "1925",
          "1926",
          "1927",
          "1928",
          "1929",
          "1930",
          "1931",
          "1932",
          "1933",
          "1934",
          "1935",
          "1936",
          "1937",
          "1938",
          "1939",
          "1940",
          "1941",
          "1942",
          "1943",
          "1944",
          "1945",
          "1946",
          "1947",
          "1948",
          "1949",
          "1950",
          "1951",
          "1952",
          "1953",
          "1954",
          "1955",
          "1956",
          "1957",
          "1958",
          "1959",
          "1960",
          "1961",
          "1962",
          "1963",
          "1964",
          "1965",
          "1966",
          "1967",
          "1968",
          "1969",
          "1970",
          "1971",
          "1972",
          "1973",
          "1974",
          "1975",
          "1976",
          "1977",
          "1978",
          "1979",
          "1980",
          "1981",
          "1982",
          "1983",
          "1984",
          "1985",
          "1986",
          "1987",
          "1988",
          "1989",
          "1990",
          "1991",
          "1992",
          "1993",
          "1994",
          "1995",
          "1996",
          "1997",
          "1998",
          "1999",
          "2000",
          "2001",
          "2002",
          "2003",
          "2004",
          "2005"
         ],
         "xaxis": "x",
         "y": {
          "bdata": "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",
          "dtype": "f8"
         },
         "yaxis": "y"
        }
       ],
       "layout": {
        "legend": {
         "tracegroupgap": 0
        },
        "template": {
         "data": {
          "bar": [
           {
            "error_x": {
             "color": "#2a3f5f"
            },
            "error_y": {
             "color": "#2a3f5f"
            },
            "marker": {
             "line": {
              "color": "#E5ECF6",
              "width": 0.5
             },
             "pattern": {
              "fillmode": "overlay",
              "size": 10,
              "solidity": 0.2
             }
            },
            "type": "bar"
           }
          ],
          "barpolar": [
           {
            "marker": {
             "line": {
              "color": "#E5ECF6",
              "width": 0.5
             },
             "pattern": {
              "fillmode": "overlay",
              "size": 10,
              "solidity": 0.2
             }
            },
            "type": "barpolar"
           }
          ],
          "carpet": [
           {
            "aaxis": {
             "endlinecolor": "#2a3f5f",
             "gridcolor": "white",
             "linecolor": "white",
             "minorgridcolor": "white",
             "startlinecolor": "#2a3f5f"
            },
            "baxis": {
             "endlinecolor": "#2a3f5f",
             "gridcolor": "white",
             "linecolor": "white",
             "minorgridcolor": "white",
             "startlinecolor": "#2a3f5f"
            },
            "type": "carpet"
           }
          ],
          "choropleth": [
           {
            "colorbar": {
             "outlinewidth": 0,
             "ticks": ""
            },
            "type": "choropleth"
           }
          ],
          "contour": [
           {
            "colorbar": {
             "outlinewidth": 0,
             "ticks": ""
            },
            "colorscale": [
             [
              0,
              "#0d0887"
             ],
             [
              0.1111111111111111,
              "#46039f"
             ],
             [
              0.2222222222222222,
              "#7201a8"
             ],
             [
              0.3333333333333333,
              "#9c179e"
             ],
             [
              0.4444444444444444,
              "#bd3786"
             ],
             [
              0.5555555555555556,
              "#d8576b"
             ],
             [
              0.6666666666666666,
              "#ed7953"
             ],
             [
              0.7777777777777778,
              "#fb9f3a"
             ],
             [
              0.8888888888888888,
              "#fdca26"
             ],
             [
              1,
              "#f0f921"
             ]
            ],
            "type": "contour"
           }
          ],
          "contourcarpet": [
           {
            "colorbar": {
             "outlinewidth": 0,
             "ticks": ""
            },
            "type": "contourcarpet"
           }
          ],
          "heatmap": [
           {
            "colorbar": {
             "outlinewidth": 0,
             "ticks": ""
            },
            "colorscale": [
             [
              0,
              "#0d0887"
             ],
             [
              0.1111111111111111,
              "#46039f"
             ],
             [
              0.2222222222222222,
              "#7201a8"
             ],
             [
              0.3333333333333333,
              "#9c179e"
             ],
             [
              0.4444444444444444,
              "#bd3786"
             ],
             [
              0.5555555555555556,
              "#d8576b"
             ],
             [
              0.6666666666666666,
              "#ed7953"
             ],
             [
              0.7777777777777778,
              "#fb9f3a"
             ],
             [
              0.8888888888888888,
              "#fdca26"
             ],
             [
              1,
              "#f0f921"
             ]
            ],
            "type": "heatmap"
           }
          ],
          "histogram": [
           {
            "marker": {
             "pattern": {
              "fillmode": "overlay",
              "size": 10,
              "solidity": 0.2
             }
            },
            "type": "histogram"
           }
          ],
          "histogram2d": [
           {
            "colorbar": {
             "outlinewidth": 0,
             "ticks": ""
            },
            "colorscale": [
             [
              0,
              "#0d0887"
             ],
             [
              0.1111111111111111,
              "#46039f"
             ],
             [
              0.2222222222222222,
              "#7201a8"
             ],
             [
              0.3333333333333333,
              "#9c179e"
             ],
             [
              0.4444444444444444,
              "#bd3786"
             ],
             [
              0.5555555555555556,
              "#d8576b"
             ],
             [
              0.6666666666666666,
              "#ed7953"
             ],
             [
              0.7777777777777778,
              "#fb9f3a"
             ],
             [
              0.8888888888888888,
              "#fdca26"
             ],
             [
              1,
              "#f0f921"
             ]
            ],
            "type": "histogram2d"
           }
          ],
          "histogram2dcontour": [
           {
            "colorbar": {
             "outlinewidth": 0,
             "ticks": ""
            },
            "colorscale": [
             [
              0,
              "#0d0887"
             ],
             [
              0.1111111111111111,
              "#46039f"
             ],
             [
              0.2222222222222222,
              "#7201a8"
             ],
             [
              0.3333333333333333,
              "#9c179e"
             ],
             [
              0.4444444444444444,
              "#bd3786"
             ],
             [
              0.5555555555555556,
              "#d8576b"
             ],
             [
              0.6666666666666666,
              "#ed7953"
             ],
             [
              0.7777777777777778,
              "#fb9f3a"
             ],
             [
              0.8888888888888888,
              "#fdca26"
             ],
             [
              1,
              "#f0f921"
             ]
            ],
            "type": "histogram2dcontour"
           }
          ],
          "mesh3d": [
           {
            "colorbar": {
             "outlinewidth": 0,
             "ticks": ""
            },
            "type": "mesh3d"
           }
          ],
          "parcoords": [
           {
            "line": {
             "colorbar": {
              "outlinewidth": 0,
              "ticks": ""
             }
            },
            "type": "parcoords"
           }
          ],
          "pie": [
           {
            "automargin": true,
            "type": "pie"
           }
          ],
          "scatter": [
           {
            "fillpattern": {
             "fillmode": "overlay",
             "size": 10,
             "solidity": 0.2
            },
            "type": "scatter"
           }
          ],
          "scatter3d": [
           {
            "line": {
             "colorbar": {
              "outlinewidth": 0,
              "ticks": ""
             }
            },
            "marker": {
             "colorbar": {
              "outlinewidth": 0,
              "ticks": ""
             }
            },
            "type": "scatter3d"
           }
          ],
          "scattercarpet": [
           {
            "marker": {
             "colorbar": {
              "outlinewidth": 0,
              "ticks": ""
             }
            },
            "type": "scattercarpet"
           }
          ],
          "scattergeo": [
           {
            "marker": {
             "colorbar": {
              "outlinewidth": 0,
              "ticks": ""
             }
            },
            "type": "scattergeo"
           }
          ],
          "scattergl": [
           {
            "marker": {
             "colorbar": {
              "outlinewidth": 0,
              "ticks": ""
             }
            },
            "type": "scattergl"
           }
          ],
          "scattermap": [
           {
            "marker": {
             "colorbar": {
              "outlinewidth": 0,
              "ticks": ""
             }
            },
            "type": "scattermap"
           }
          ],
          "scattermapbox": [
           {
            "marker": {
             "colorbar": {
              "outlinewidth": 0,
              "ticks": ""
             }
            },
            "type": "scattermapbox"
           }
          ],
          "scatterpolar": [
           {
            "marker": {
             "colorbar": {
              "outlinewidth": 0,
              "ticks": ""
             }
            },
            "type": "scatterpolar"
           }
          ],
          "scatterpolargl": [
           {
            "marker": {
             "colorbar": {
              "outlinewidth": 0,
              "ticks": ""
             }
            },
            "type": "scatterpolargl"
           }
          ],
          "scatterternary": [
           {
            "marker": {
             "colorbar": {
              "outlinewidth": 0,
              "ticks": ""
             }
            },
            "type": "scatterternary"
           }
          ],
          "surface": [
           {
            "colorbar": {
             "outlinewidth": 0,
             "ticks": ""
            },
            "colorscale": [
             [
              0,
              "#0d0887"
             ],
             [
              0.1111111111111111,
              "#46039f"
             ],
             [
              0.2222222222222222,
              "#7201a8"
             ],
             [
              0.3333333333333333,
              "#9c179e"
             ],
             [
              0.4444444444444444,
              "#bd3786"
             ],
             [
              0.5555555555555556,
              "#d8576b"
             ],
             [
              0.6666666666666666,
              "#ed7953"
             ],
             [
              0.7777777777777778,
              "#fb9f3a"
             ],
             [
              0.8888888888888888,
              "#fdca26"
             ],
             [
              1,
              "#f0f921"
             ]
            ],
            "type": "surface"
           }
          ],
          "table": [
           {
            "cells": {
             "fill": {
              "color": "#EBF0F8"
             },
             "line": {
              "color": "white"
             }
            },
            "header": {
             "fill": {
              "color": "#C8D4E3"
             },
             "line": {
              "color": "white"
             }
            },
            "type": "table"
           }
          ]
         },
         "layout": {
          "annotationdefaults": {
           "arrowcolor": "#2a3f5f",
           "arrowhead": 0,
           "arrowwidth": 1
          },
          "autotypenumbers": "strict",
          "coloraxis": {
           "colorbar": {
            "outlinewidth": 0,
            "ticks": ""
           }
          },
          "colorscale": {
           "diverging": [
            [
             0,
             "#8e0152"
            ],
            [
             0.1,
             "#c51b7d"
            ],
            [
             0.2,
             "#de77ae"
            ],
            [
             0.3,
             "#f1b6da"
            ],
            [
             0.4,
             "#fde0ef"
            ],
            [
             0.5,
             "#f7f7f7"
            ],
            [
             0.6,
             "#e6f5d0"
            ],
            [
             0.7,
             "#b8e186"
            ],
            [
             0.8,
             "#7fbc41"
            ],
            [
             0.9,
             "#4d9221"
            ],
            [
             1,
             "#276419"
            ]
           ],
           "sequential": [
            [
             0,
             "#0d0887"
            ],
            [
             0.1111111111111111,
             "#46039f"
            ],
            [
             0.2222222222222222,
             "#7201a8"
            ],
            [
             0.3333333333333333,
             "#9c179e"
            ],
            [
             0.4444444444444444,
             "#bd3786"
            ],
            [
             0.5555555555555556,
             "#d8576b"
            ],
            [
             0.6666666666666666,
             "#ed7953"
            ],
            [
             0.7777777777777778,
             "#fb9f3a"
            ],
            [
             0.8888888888888888,
             "#fdca26"
            ],
            [
             1,
             "#f0f921"
            ]
           ],
           "sequentialminus": [
            [
             0,
             "#0d0887"
            ],
            [
             0.1111111111111111,
             "#46039f"
            ],
            [
             0.2222222222222222,
             "#7201a8"
            ],
            [
             0.3333333333333333,
             "#9c179e"
            ],
            [
             0.4444444444444444,
             "#bd3786"
            ],
            [
             0.5555555555555556,
             "#d8576b"
            ],
            [
             0.6666666666666666,
             "#ed7953"
            ],
            [
             0.7777777777777778,
             "#fb9f3a"
            ],
            [
             0.8888888888888888,
             "#fdca26"
            ],
            [
             1,
             "#f0f921"
            ]
           ]
          },
          "colorway": [
           "#636efa",
           "#EF553B",
           "#00cc96",
           "#ab63fa",
           "#FFA15A",
           "#19d3f3",
           "#FF6692",
           "#B6E880",
           "#FF97FF",
           "#FECB52"
          ],
          "font": {
           "color": "#2a3f5f"
          },
          "geo": {
           "bgcolor": "white",
           "lakecolor": "white",
           "landcolor": "#E5ECF6",
           "showlakes": true,
           "showland": true,
           "subunitcolor": "white"
          },
          "hoverlabel": {
           "align": "left"
          },
          "hovermode": "closest",
          "mapbox": {
           "style": "light"
          },
          "paper_bgcolor": "white",
          "plot_bgcolor": "#E5ECF6",
          "polar": {
           "angularaxis": {
            "gridcolor": "white",
            "linecolor": "white",
            "ticks": ""
           },
           "bgcolor": "#E5ECF6",
           "radialaxis": {
            "gridcolor": "white",
            "linecolor": "white",
            "ticks": ""
           }
          },
          "scene": {
           "xaxis": {
            "backgroundcolor": "#E5ECF6",
            "gridcolor": "white",
            "gridwidth": 2,
            "linecolor": "white",
            "showbackground": true,
            "ticks": "",
            "zerolinecolor": "white"
           },
           "yaxis": {
            "backgroundcolor": "#E5ECF6",
            "gridcolor": "white",
            "gridwidth": 2,
            "linecolor": "white",
            "showbackground": true,
            "ticks": "",
            "zerolinecolor": "white"
           },
           "zaxis": {
            "backgroundcolor": "#E5ECF6",
            "gridcolor": "white",
            "gridwidth": 2,
            "linecolor": "white",
            "showbackground": true,
            "ticks": "",
            "zerolinecolor": "white"
           }
          },
          "shapedefaults": {
           "line": {
            "color": "#2a3f5f"
           }
          },
          "ternary": {
           "aaxis": {
            "gridcolor": "white",
            "linecolor": "white",
            "ticks": ""
           },
           "baxis": {
            "gridcolor": "white",
            "linecolor": "white",
            "ticks": ""
           },
           "bgcolor": "#E5ECF6",
           "caxis": {
            "gridcolor": "white",
            "linecolor": "white",
            "ticks": ""
           }
          },
          "title": {
           "x": 0.05
          },
          "xaxis": {
           "automargin": true,
           "gridcolor": "white",
           "linecolor": "white",
           "ticks": "",
           "title": {
            "standoff": 15
           },
           "zerolinecolor": "white",
           "zerolinewidth": 2
          },
          "yaxis": {
           "automargin": true,
           "gridcolor": "white",
           "linecolor": "white",
           "ticks": "",
           "title": {
            "standoff": 15
           },
           "zerolinecolor": "white",
           "zerolinewidth": 2
          }
         }
        },
        "title": {
         "text": "Site code: REN "
        },
        "xaxis": {
         "anchor": "y",
         "domain": [
          0,
          1
         ],
         "title": {
          "text": "Year"
         }
        },
        "yaxis": {
         "anchor": "x",
         "domain": [
          0,
          1
         ],
         "title": {
          "text": "Value"
         }
        }
       }
      }
     },
     "metadata": {},
     "output_type": "display_data"
    },
    {
     "data": {
      "application/vnd.plotly.v1+json": {
       "config": {
        "plotlyServerURL": "https://plot.ly"
       },
       "data": [
        {
         "hovertemplate": "Year=%{x}<br>Value=%{y}<extra></extra>",
         "legendgroup": "",
         "line": {
          "color": "#636efa",
          "dash": "solid"
         },
         "marker": {
          "symbol": "circle"
         },
         "mode": "lines",
         "name": "",
         "orientation": "v",
         "showlegend": false,
         "type": "scatter",
         "x": [
          "1600",
          "1601",
          "1602",
          "1603",
          "1604",
          "1605",
          "1606",
          "1607",
          "1608",
          "1609",
          "1610",
          "1611",
          "1612",
          "1613",
          "1614",
          "1615",
          "1616",
          "1617",
          "1618",
          "1619",
          "1620",
          "1621",
          "1622",
          "1623",
          "1624",
          "1625",
          "1626",
          "1627",
          "1628",
          "1629",
          "1630",
          "1631",
          "1632",
          "1633",
          "1634",
          "1635",
          "1636",
          "1637",
          "1638",
          "1639",
          "1640",
          "1641",
          "1642",
          "1643",
          "1644",
          "1645",
          "1646",
          "1647",
          "1648",
          "1649",
          "1650",
          "1651",
          "1652",
          "1653",
          "1654",
          "1655",
          "1656",
          "1657",
          "1658",
          "1659",
          "1660",
          "1661",
          "1662",
          "1663",
          "1664",
          "1665",
          "1666",
          "1667",
          "1668",
          "1669",
          "1670",
          "1671",
          "1672",
          "1673",
          "1674",
          "1675",
          "1676",
          "1677",
          "1678",
          "1679",
          "1680",
          "1681",
          "1682",
          "1683",
          "1684",
          "1685",
          "1686",
          "1687",
          "1688",
          "1689",
          "1690",
          "1691",
          "1692",
          "1693",
          "1694",
          "1695",
          "1696",
          "1697",
          "1698",
          "1699",
          "1700",
          "1701",
          "1702",
          "1703",
          "1704",
          "1705",
          "1706",
          "1707",
          "1708",
          "1709",
          "1710",
          "1711",
          "1712",
          "1713",
          "1714",
          "1715",
          "1716",
          "1717",
          "1718",
          "1719",
          "1720",
          "1721",
          "1722",
          "1723",
          "1724",
          "1725",
          "1726",
          "1727",
          "1728",
          "1729",
          "1730",
          "1731",
          "1732",
          "1733",
          "1734",
          "1735",
          "1736",
          "1737",
          "1738",
          "1739",
          "1740",
          "1741",
          "1742",
          "1743",
          "1744",
          "1745",
          "1746",
          "1747",
          "1748",
          "1749",
          "1750",
          "1751",
          "1752",
          "1753",
          "1754",
          "1755",
          "1756",
          "1757",
          "1758",
          "1759",
          "1760",
          "1761",
          "1762",
          "1763",
          "1764",
          "1765",
          "1766",
          "1767",
          "1768",
          "1769",
          "1770",
          "1771",
          "1772",
          "1773",
          "1774",
          "1775",
          "1776",
          "1777",
          "1778",
          "1779",
          "1780",
          "1781",
          "1782",
          "1783",
          "1784",
          "1785",
          "1786",
          "1787",
          "1788",
          "1789",
          "1790",
          "1791",
          "1792",
          "1793",
          "1794",
          "1795",
          "1796",
          "1797",
          "1798",
          "1799",
          "1800",
          "1801",
          "1802",
          "1803",
          "1804",
          "1805",
          "1806",
          "1807",
          "1808",
          "1809",
          "1810",
          "1811",
          "1812",
          "1813",
          "1814",
          "1815",
          "1816",
          "1817",
          "1818",
          "1819",
          "1820",
          "1821",
          "1822",
          "1823",
          "1824",
          "1825",
          "1826",
          "1827",
          "1828",
          "1829",
          "1830",
          "1831",
          "1832",
          "1833",
          "1834",
          "1835",
          "1836",
          "1837",
          "1838",
          "1839",
          "1840",
          "1841",
          "1842",
          "1843",
          "1844",
          "1845",
          "1846",
          "1847",
          "1848",
          "1849",
          "1850",
          "1851",
          "1852",
          "1853",
          "1854",
          "1855",
          "1856",
          "1857",
          "1858",
          "1859",
          "1860",
          "1861",
          "1862",
          "1863",
          "1864",
          "1865",
          "1866",
          "1867",
          "1868",
          "1869",
          "1870",
          "1871",
          "1872",
          "1873",
          "1874",
          "1875",
          "1876",
          "1877",
          "1878",
          "1879",
          "1880",
          "1881",
          "1882",
          "1883",
          "1884",
          "1885",
          "1886",
          "1887",
          "1888",
          "1889",
          "1890",
          "1891",
          "1892",
          "1893",
          "1894",
          "1895",
          "1896",
          "1897",
          "1898",
          "1899",
          "1900",
          "1901",
          "1902",
          "1903",
          "1904",
          "1905",
          "1906",
          "1907",
          "1908",
          "1909",
          "1910",
          "1911",
          "1912",
          "1913",
          "1914",
          "1915",
          "1916",
          "1917",
          "1918",
          "1919",
          "1920",
          "1921",
          "1922",
          "1923",
          "1924",
          "1925",
          "1926",
          "1927",
          "1928",
          "1929",
          "1930",
          "1931",
          "1932",
          "1933",
          "1934",
          "1935",
          "1936",
          "1937",
          "1938",
          "1939",
          "1940",
          "1941",
          "1942",
          "1943",
          "1944",
          "1945",
          "1946",
          "1947",
          "1948",
          "1949",
          "1950",
          "1951",
          "1952",
          "1953",
          "1954",
          "1955",
          "1956",
          "1957",
          "1958",
          "1959",
          "1960",
          "1961",
          "1962",
          "1963",
          "1964",
          "1965",
          "1966",
          "1967",
          "1968",
          "1969",
          "1970",
          "1971",
          "1972",
          "1973",
          "1974",
          "1975",
          "1976",
          "1977",
          "1978",
          "1979",
          "1980",
          "1981",
          "1982",
          "1983",
          "1984",
          "1985",
          "1986",
          "1987",
          "1988",
          "1989",
          "1990",
          "1991",
          "1992",
          "1993",
          "1994",
          "1995",
          "1996",
          "1997",
          "1998",
          "1999",
          "2000",
          "2001",
          "2002",
          "2003",
          "2004",
          "2005"
         ],
         "xaxis": "x",
         "y": {
          "bdata": "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",
          "dtype": "f8"
         },
         "yaxis": "y"
        }
       ],
       "layout": {
        "legend": {
         "tracegroupgap": 0
        },
        "template": {
         "data": {
          "bar": [
           {
            "error_x": {
             "color": "#2a3f5f"
            },
            "error_y": {
             "color": "#2a3f5f"
            },
            "marker": {
             "line": {
              "color": "#E5ECF6",
              "width": 0.5
             },
             "pattern": {
              "fillmode": "overlay",
              "size": 10,
              "solidity": 0.2
             }
            },
            "type": "bar"
           }
          ],
          "barpolar": [
           {
            "marker": {
             "line": {
              "color": "#E5ECF6",
              "width": 0.5
             },
             "pattern": {
              "fillmode": "overlay",
              "size": 10,
              "solidity": 0.2
             }
            },
            "type": "barpolar"
           }
          ],
          "carpet": [
           {
            "aaxis": {
             "endlinecolor": "#2a3f5f",
             "gridcolor": "white",
             "linecolor": "white",
             "minorgridcolor": "white",
             "startlinecolor": "#2a3f5f"
            },
            "baxis": {
             "endlinecolor": "#2a3f5f",
             "gridcolor": "white",
             "linecolor": "white",
             "minorgridcolor": "white",
             "startlinecolor": "#2a3f5f"
            },
            "type": "carpet"
           }
          ],
          "choropleth": [
           {
            "colorbar": {
             "outlinewidth": 0,
             "ticks": ""
            },
            "type": "choropleth"
           }
          ],
          "contour": [
           {
            "colorbar": {
             "outlinewidth": 0,
             "ticks": ""
            },
            "colorscale": [
             [
              0,
              "#0d0887"
             ],
             [
              0.1111111111111111,
              "#46039f"
             ],
             [
              0.2222222222222222,
              "#7201a8"
             ],
             [
              0.3333333333333333,
              "#9c179e"
             ],
             [
              0.4444444444444444,
              "#bd3786"
             ],
             [
              0.5555555555555556,
              "#d8576b"
             ],
             [
              0.6666666666666666,
              "#ed7953"
             ],
             [
              0.7777777777777778,
              "#fb9f3a"
             ],
             [
              0.8888888888888888,
              "#fdca26"
             ],
             [
              1,
              "#f0f921"
             ]
            ],
            "type": "contour"
           }
          ],
          "contourcarpet": [
           {
            "colorbar": {
             "outlinewidth": 0,
             "ticks": ""
            },
            "type": "contourcarpet"
           }
          ],
          "heatmap": [
           {
            "colorbar": {
             "outlinewidth": 0,
             "ticks": ""
            },
            "colorscale": [
             [
              0,
              "#0d0887"
             ],
             [
              0.1111111111111111,
              "#46039f"
             ],
             [
              0.2222222222222222,
              "#7201a8"
             ],
             [
              0.3333333333333333,
              "#9c179e"
             ],
             [
              0.4444444444444444,
              "#bd3786"
             ],
             [
              0.5555555555555556,
              "#d8576b"
             ],
             [
              0.6666666666666666,
              "#ed7953"
             ],
             [
              0.7777777777777778,
              "#fb9f3a"
             ],
             [
              0.8888888888888888,
              "#fdca26"
             ],
             [
              1,
              "#f0f921"
             ]
            ],
            "type": "heatmap"
           }
          ],
          "histogram": [
           {
            "marker": {
             "pattern": {
              "fillmode": "overlay",
              "size": 10,
              "solidity": 0.2
             }
            },
            "type": "histogram"
           }
          ],
          "histogram2d": [
           {
            "colorbar": {
             "outlinewidth": 0,
             "ticks": ""
            },
            "colorscale": [
             [
              0,
              "#0d0887"
             ],
             [
              0.1111111111111111,
              "#46039f"
             ],
             [
              0.2222222222222222,
              "#7201a8"
             ],
             [
              0.3333333333333333,
              "#9c179e"
             ],
             [
              0.4444444444444444,
              "#bd3786"
             ],
             [
              0.5555555555555556,
              "#d8576b"
             ],
             [
              0.6666666666666666,
              "#ed7953"
             ],
             [
              0.7777777777777778,
              "#fb9f3a"
             ],
             [
              0.8888888888888888,
              "#fdca26"
             ],
             [
              1,
              "#f0f921"
             ]
            ],
            "type": "histogram2d"
           }
          ],
          "histogram2dcontour": [
           {
            "colorbar": {
             "outlinewidth": 0,
             "ticks": ""
            },
            "colorscale": [
             [
              0,
              "#0d0887"
             ],
             [
              0.1111111111111111,
              "#46039f"
             ],
             [
              0.2222222222222222,
              "#7201a8"
             ],
             [
              0.3333333333333333,
              "#9c179e"
             ],
             [
              0.4444444444444444,
              "#bd3786"
             ],
             [
              0.5555555555555556,
              "#d8576b"
             ],
             [
              0.6666666666666666,
              "#ed7953"
             ],
             [
              0.7777777777777778,
              "#fb9f3a"
             ],
             [
              0.8888888888888888,
              "#fdca26"
             ],
             [
              1,
              "#f0f921"
             ]
            ],
            "type": "histogram2dcontour"
           }
          ],
          "mesh3d": [
           {
            "colorbar": {
             "outlinewidth": 0,
             "ticks": ""
            },
            "type": "mesh3d"
           }
          ],
          "parcoords": [
           {
            "line": {
             "colorbar": {
              "outlinewidth": 0,
              "ticks": ""
             }
            },
            "type": "parcoords"
           }
          ],
          "pie": [
           {
            "automargin": true,
            "type": "pie"
           }
          ],
          "scatter": [
           {
            "fillpattern": {
             "fillmode": "overlay",
             "size": 10,
             "solidity": 0.2
            },
            "type": "scatter"
           }
          ],
          "scatter3d": [
           {
            "line": {
             "colorbar": {
              "outlinewidth": 0,
              "ticks": ""
             }
            },
            "marker": {
             "colorbar": {
              "outlinewidth": 0,
              "ticks": ""
             }
            },
            "type": "scatter3d"
           }
          ],
          "scattercarpet": [
           {
            "marker": {
             "colorbar": {
              "outlinewidth": 0,
              "ticks": ""
             }
            },
            "type": "scattercarpet"
           }
          ],
          "scattergeo": [
           {
            "marker": {
             "colorbar": {
              "outlinewidth": 0,
              "ticks": ""
             }
            },
            "type": "scattergeo"
           }
          ],
          "scattergl": [
           {
            "marker": {
             "colorbar": {
              "outlinewidth": 0,
              "ticks": ""
             }
            },
            "type": "scattergl"
           }
          ],
          "scattermap": [
           {
            "marker": {
             "colorbar": {
              "outlinewidth": 0,
              "ticks": ""
             }
            },
            "type": "scattermap"
           }
          ],
          "scattermapbox": [
           {
            "marker": {
             "colorbar": {
              "outlinewidth": 0,
              "ticks": ""
             }
            },
            "type": "scattermapbox"
           }
          ],
          "scatterpolar": [
           {
            "marker": {
             "colorbar": {
              "outlinewidth": 0,
              "ticks": ""
             }
            },
            "type": "scatterpolar"
           }
          ],
          "scatterpolargl": [
           {
            "marker": {
             "colorbar": {
              "outlinewidth": 0,
              "ticks": ""
             }
            },
            "type": "scatterpolargl"
           }
          ],
          "scatterternary": [
           {
            "marker": {
             "colorbar": {
              "outlinewidth": 0,
              "ticks": ""
             }
            },
            "type": "scatterternary"
           }
          ],
          "surface": [
           {
            "colorbar": {
             "outlinewidth": 0,
             "ticks": ""
            },
            "colorscale": [
             [
              0,
              "#0d0887"
             ],
             [
              0.1111111111111111,
              "#46039f"
             ],
             [
              0.2222222222222222,
              "#7201a8"
             ],
             [
              0.3333333333333333,
              "#9c179e"
             ],
             [
              0.4444444444444444,
              "#bd3786"
             ],
             [
              0.5555555555555556,
              "#d8576b"
             ],
             [
              0.6666666666666666,
              "#ed7953"
             ],
             [
              0.7777777777777778,
              "#fb9f3a"
             ],
             [
              0.8888888888888888,
              "#fdca26"
             ],
             [
              1,
              "#f0f921"
             ]
            ],
            "type": "surface"
           }
          ],
          "table": [
           {
            "cells": {
             "fill": {
              "color": "#EBF0F8"
             },
             "line": {
              "color": "white"
             }
            },
            "header": {
             "fill": {
              "color": "#C8D4E3"
             },
             "line": {
              "color": "white"
             }
            },
            "type": "table"
           }
          ]
         },
         "layout": {
          "annotationdefaults": {
           "arrowcolor": "#2a3f5f",
           "arrowhead": 0,
           "arrowwidth": 1
          },
          "autotypenumbers": "strict",
          "coloraxis": {
           "colorbar": {
            "outlinewidth": 0,
            "ticks": ""
           }
          },
          "colorscale": {
           "diverging": [
            [
             0,
             "#8e0152"
            ],
            [
             0.1,
             "#c51b7d"
            ],
            [
             0.2,
             "#de77ae"
            ],
            [
             0.3,
             "#f1b6da"
            ],
            [
             0.4,
             "#fde0ef"
            ],
            [
             0.5,
             "#f7f7f7"
            ],
            [
             0.6,
             "#e6f5d0"
            ],
            [
             0.7,
             "#b8e186"
            ],
            [
             0.8,
             "#7fbc41"
            ],
            [
             0.9,
             "#4d9221"
            ],
            [
             1,
             "#276419"
            ]
           ],
           "sequential": [
            [
             0,
             "#0d0887"
            ],
            [
             0.1111111111111111,
             "#46039f"
            ],
            [
             0.2222222222222222,
             "#7201a8"
            ],
            [
             0.3333333333333333,
             "#9c179e"
            ],
            [
             0.4444444444444444,
             "#bd3786"
            ],
            [
             0.5555555555555556,
             "#d8576b"
            ],
            [
             0.6666666666666666,
             "#ed7953"
            ],
            [
             0.7777777777777778,
             "#fb9f3a"
            ],
            [
             0.8888888888888888,
             "#fdca26"
            ],
            [
             1,
             "#f0f921"
            ]
           ],
           "sequentialminus": [
            [
             0,
             "#0d0887"
            ],
            [
             0.1111111111111111,
             "#46039f"
            ],
            [
             0.2222222222222222,
             "#7201a8"
            ],
            [
             0.3333333333333333,
             "#9c179e"
            ],
            [
             0.4444444444444444,
             "#bd3786"
            ],
            [
             0.5555555555555556,
             "#d8576b"
            ],
            [
             0.6666666666666666,
             "#ed7953"
            ],
            [
             0.7777777777777778,
             "#fb9f3a"
            ],
            [
             0.8888888888888888,
             "#fdca26"
            ],
            [
             1,
             "#f0f921"
            ]
           ]
          },
          "colorway": [
           "#636efa",
           "#EF553B",
           "#00cc96",
           "#ab63fa",
           "#FFA15A",
           "#19d3f3",
           "#FF6692",
           "#B6E880",
           "#FF97FF",
           "#FECB52"
          ],
          "font": {
           "color": "#2a3f5f"
          },
          "geo": {
           "bgcolor": "white",
           "lakecolor": "white",
           "landcolor": "#E5ECF6",
           "showlakes": true,
           "showland": true,
           "subunitcolor": "white"
          },
          "hoverlabel": {
           "align": "left"
          },
          "hovermode": "closest",
          "mapbox": {
           "style": "light"
          },
          "paper_bgcolor": "white",
          "plot_bgcolor": "#E5ECF6",
          "polar": {
           "angularaxis": {
            "gridcolor": "white",
            "linecolor": "white",
            "ticks": ""
           },
           "bgcolor": "#E5ECF6",
           "radialaxis": {
            "gridcolor": "white",
            "linecolor": "white",
            "ticks": ""
           }
          },
          "scene": {
           "xaxis": {
            "backgroundcolor": "#E5ECF6",
            "gridcolor": "white",
            "gridwidth": 2,
            "linecolor": "white",
            "showbackground": true,
            "ticks": "",
            "zerolinecolor": "white"
           },
           "yaxis": {
            "backgroundcolor": "#E5ECF6",
            "gridcolor": "white",
            "gridwidth": 2,
            "linecolor": "white",
            "showbackground": true,
            "ticks": "",
            "zerolinecolor": "white"
           },
           "zaxis": {
            "backgroundcolor": "#E5ECF6",
            "gridcolor": "white",
            "gridwidth": 2,
            "linecolor": "white",
            "showbackground": true,
            "ticks": "",
            "zerolinecolor": "white"
           }
          },
          "shapedefaults": {
           "line": {
            "color": "#2a3f5f"
           }
          },
          "ternary": {
           "aaxis": {
            "gridcolor": "white",
            "linecolor": "white",
            "ticks": ""
           },
           "baxis": {
            "gridcolor": "white",
            "linecolor": "white",
            "ticks": ""
           },
           "bgcolor": "#E5ECF6",
           "caxis": {
            "gridcolor": "white",
            "linecolor": "white",
            "ticks": ""
           }
          },
          "title": {
           "x": 0.05
          },
          "xaxis": {
           "automargin": true,
           "gridcolor": "white",
           "linecolor": "white",
           "ticks": "",
           "title": {
            "standoff": 15
           },
           "zerolinecolor": "white",
           "zerolinewidth": 2
          },
          "yaxis": {
           "automargin": true,
           "gridcolor": "white",
           "linecolor": "white",
           "ticks": "",
           "title": {
            "standoff": 15
           },
           "zerolinecolor": "white",
           "zerolinewidth": 2
          }
         }
        },
        "title": {
         "text": "Site code: VIG "
        },
        "xaxis": {
         "anchor": "y",
         "domain": [
          0,
          1
         ],
         "title": {
          "text": "Year"
         }
        },
        "yaxis": {
         "anchor": "x",
         "domain": [
          0,
          1
         ],
         "title": {
          "text": "Value"
         }
        }
       }
      }
     },
     "metadata": {},
     "output_type": "display_data"
    },
    {
     "data": {
      "application/vnd.plotly.v1+json": {
       "config": {
        "plotlyServerURL": "https://plot.ly"
       },
       "data": [
        {
         "hovertemplate": "Year=%{x}<br>Value=%{y}<extra></extra>",
         "legendgroup": "",
         "line": {
          "color": "#636efa",
          "dash": "solid"
         },
         "marker": {
          "symbol": "circle"
         },
         "mode": "lines",
         "name": "",
         "orientation": "v",
         "showlegend": false,
         "type": "scatter",
         "x": [
          "1600",
          "1601",
          "1602",
          "1603",
          "1604",
          "1605",
          "1606",
          "1607",
          "1608",
          "1609",
          "1610",
          "1611",
          "1612",
          "1613",
          "1614",
          "1615",
          "1616",
          "1617",
          "1618",
          "1619",
          "1620",
          "1621",
          "1622",
          "1623",
          "1624",
          "1625",
          "1626",
          "1627",
          "1628",
          "1629",
          "1630",
          "1631",
          "1632",
          "1633",
          "1634",
          "1635",
          "1636",
          "1637",
          "1638",
          "1639",
          "1640",
          "1641",
          "1642",
          "1643",
          "1644",
          "1645",
          "1646",
          "1647",
          "1648",
          "1649",
          "1650",
          "1651",
          "1652",
          "1653",
          "1654",
          "1655",
          "1656",
          "1657",
          "1658",
          "1659",
          "1660",
          "1661",
          "1662",
          "1663",
          "1664",
          "1665",
          "1666",
          "1667",
          "1668",
          "1669",
          "1670",
          "1671",
          "1672",
          "1673",
          "1674",
          "1675",
          "1676",
          "1677",
          "1678",
          "1679",
          "1680",
          "1681",
          "1682",
          "1683",
          "1684",
          "1685",
          "1686",
          "1687",
          "1688",
          "1689",
          "1690",
          "1691",
          "1692",
          "1693",
          "1694",
          "1695",
          "1696",
          "1697",
          "1698",
          "1699",
          "1700",
          "1701",
          "1702",
          "1703",
          "1704",
          "1705",
          "1706",
          "1707",
          "1708",
          "1709",
          "1710",
          "1711",
          "1712",
          "1713",
          "1714",
          "1715",
          "1716",
          "1717",
          "1718",
          "1719",
          "1720",
          "1721",
          "1722",
          "1723",
          "1724",
          "1725",
          "1726",
          "1727",
          "1728",
          "1729",
          "1730",
          "1731",
          "1732",
          "1733",
          "1734",
          "1735",
          "1736",
          "1737",
          "1738",
          "1739",
          "1740",
          "1741",
          "1742",
          "1743",
          "1744",
          "1745",
          "1746",
          "1747",
          "1748",
          "1749",
          "1750",
          "1751",
          "1752",
          "1753",
          "1754",
          "1755",
          "1756",
          "1757",
          "1758",
          "1759",
          "1760",
          "1761",
          "1762",
          "1763",
          "1764",
          "1765",
          "1766",
          "1767",
          "1768",
          "1769",
          "1770",
          "1771",
          "1772",
          "1773",
          "1774",
          "1775",
          "1776",
          "1777",
          "1778",
          "1779",
          "1780",
          "1781",
          "1782",
          "1783",
          "1784",
          "1785",
          "1786",
          "1787",
          "1788",
          "1789",
          "1790",
          "1791",
          "1792",
          "1793",
          "1794",
          "1795",
          "1796",
          "1797",
          "1798",
          "1799",
          "1800",
          "1801",
          "1802",
          "1803",
          "1804",
          "1805",
          "1806",
          "1807",
          "1808",
          "1809",
          "1810",
          "1811",
          "1812",
          "1813",
          "1814",
          "1815",
          "1816",
          "1817",
          "1818",
          "1819",
          "1820",
          "1821",
          "1822",
          "1823",
          "1824",
          "1825",
          "1826",
          "1827",
          "1828",
          "1829",
          "1830",
          "1831",
          "1832",
          "1833",
          "1834",
          "1835",
          "1836",
          "1837",
          "1838",
          "1839",
          "1840",
          "1841",
          "1842",
          "1843",
          "1844",
          "1845",
          "1846",
          "1847",
          "1848",
          "1849",
          "1850",
          "1851",
          "1852",
          "1853",
          "1854",
          "1855",
          "1856",
          "1857",
          "1858",
          "1859",
          "1860",
          "1861",
          "1862",
          "1863",
          "1864",
          "1865",
          "1866",
          "1867",
          "1868",
          "1869",
          "1870",
          "1871",
          "1872",
          "1873",
          "1874",
          "1875",
          "1876",
          "1877",
          "1878",
          "1879",
          "1880",
          "1881",
          "1882",
          "1883",
          "1884",
          "1885",
          "1886",
          "1887",
          "1888",
          "1889",
          "1890",
          "1891",
          "1892",
          "1893",
          "1894",
          "1895",
          "1896",
          "1897",
          "1898",
          "1899",
          "1900",
          "1901",
          "1902",
          "1903",
          "1904",
          "1905",
          "1906",
          "1907",
          "1908",
          "1909",
          "1910",
          "1911",
          "1912",
          "1913",
          "1914",
          "1915",
          "1916",
          "1917",
          "1918",
          "1919",
          "1920",
          "1921",
          "1922",
          "1923",
          "1924",
          "1925",
          "1926",
          "1927",
          "1928",
          "1929",
          "1930",
          "1931",
          "1932",
          "1933",
          "1934",
          "1935",
          "1936",
          "1937",
          "1938",
          "1939",
          "1940",
          "1941",
          "1942",
          "1943",
          "1944",
          "1945",
          "1946",
          "1947",
          "1948",
          "1949",
          "1950",
          "1951",
          "1952",
          "1953",
          "1954",
          "1955",
          "1956",
          "1957",
          "1958",
          "1959",
          "1960",
          "1961",
          "1962",
          "1963",
          "1964",
          "1965",
          "1966",
          "1967",
          "1968",
          "1969",
          "1970",
          "1971",
          "1972",
          "1973",
          "1974",
          "1975",
          "1976",
          "1977",
          "1978",
          "1979",
          "1980",
          "1981",
          "1982",
          "1983",
          "1984",
          "1985",
          "1986",
          "1987",
          "1988",
          "1989",
          "1990",
          "1991",
          "1992",
          "1993",
          "1994",
          "1995",
          "1996",
          "1997",
          "1998",
          "1999",
          "2000",
          "2001",
          "2002",
          "2003",
          "2004",
          "2005"
         ],
         "xaxis": "x",
         "y": {
          "bdata": "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",
          "dtype": "f8"
         },
         "yaxis": "y"
        }
       ],
       "layout": {
        "legend": {
         "tracegroupgap": 0
        },
        "template": {
         "data": {
          "bar": [
           {
            "error_x": {
             "color": "#2a3f5f"
            },
            "error_y": {
             "color": "#2a3f5f"
            },
            "marker": {
             "line": {
              "color": "#E5ECF6",
              "width": 0.5
             },
             "pattern": {
              "fillmode": "overlay",
              "size": 10,
              "solidity": 0.2
             }
            },
            "type": "bar"
           }
          ],
          "barpolar": [
           {
            "marker": {
             "line": {
              "color": "#E5ECF6",
              "width": 0.5
             },
             "pattern": {
              "fillmode": "overlay",
              "size": 10,
              "solidity": 0.2
             }
            },
            "type": "barpolar"
           }
          ],
          "carpet": [
           {
            "aaxis": {
             "endlinecolor": "#2a3f5f",
             "gridcolor": "white",
             "linecolor": "white",
             "minorgridcolor": "white",
             "startlinecolor": "#2a3f5f"
            },
            "baxis": {
             "endlinecolor": "#2a3f5f",
             "gridcolor": "white",
             "linecolor": "white",
             "minorgridcolor": "white",
             "startlinecolor": "#2a3f5f"
            },
            "type": "carpet"
           }
          ],
          "choropleth": [
           {
            "colorbar": {
             "outlinewidth": 0,
             "ticks": ""
            },
            "type": "choropleth"
           }
          ],
          "contour": [
           {
            "colorbar": {
             "outlinewidth": 0,
             "ticks": ""
            },
            "colorscale": [
             [
              0,
              "#0d0887"
             ],
             [
              0.1111111111111111,
              "#46039f"
             ],
             [
              0.2222222222222222,
              "#7201a8"
             ],
             [
              0.3333333333333333,
              "#9c179e"
             ],
             [
              0.4444444444444444,
              "#bd3786"
             ],
             [
              0.5555555555555556,
              "#d8576b"
             ],
             [
              0.6666666666666666,
              "#ed7953"
             ],
             [
              0.7777777777777778,
              "#fb9f3a"
             ],
             [
              0.8888888888888888,
              "#fdca26"
             ],
             [
              1,
              "#f0f921"
             ]
            ],
            "type": "contour"
           }
          ],
          "contourcarpet": [
           {
            "colorbar": {
             "outlinewidth": 0,
             "ticks": ""
            },
            "type": "contourcarpet"
           }
          ],
          "heatmap": [
           {
            "colorbar": {
             "outlinewidth": 0,
             "ticks": ""
            },
            "colorscale": [
             [
              0,
              "#0d0887"
             ],
             [
              0.1111111111111111,
              "#46039f"
             ],
             [
              0.2222222222222222,
              "#7201a8"
             ],
             [
              0.3333333333333333,
              "#9c179e"
             ],
             [
              0.4444444444444444,
              "#bd3786"
             ],
             [
              0.5555555555555556,
              "#d8576b"
             ],
             [
              0.6666666666666666,
              "#ed7953"
             ],
             [
              0.7777777777777778,
              "#fb9f3a"
             ],
             [
              0.8888888888888888,
              "#fdca26"
             ],
             [
              1,
              "#f0f921"
             ]
            ],
            "type": "heatmap"
           }
          ],
          "histogram": [
           {
            "marker": {
             "pattern": {
              "fillmode": "overlay",
              "size": 10,
              "solidity": 0.2
             }
            },
            "type": "histogram"
           }
          ],
          "histogram2d": [
           {
            "colorbar": {
             "outlinewidth": 0,
             "ticks": ""
            },
            "colorscale": [
             [
              0,
              "#0d0887"
             ],
             [
              0.1111111111111111,
              "#46039f"
             ],
             [
              0.2222222222222222,
              "#7201a8"
             ],
             [
              0.3333333333333333,
              "#9c179e"
             ],
             [
              0.4444444444444444,
              "#bd3786"
             ],
             [
              0.5555555555555556,
              "#d8576b"
             ],
             [
              0.6666666666666666,
              "#ed7953"
             ],
             [
              0.7777777777777778,
              "#fb9f3a"
             ],
             [
              0.8888888888888888,
              "#fdca26"
             ],
             [
              1,
              "#f0f921"
             ]
            ],
            "type": "histogram2d"
           }
          ],
          "histogram2dcontour": [
           {
            "colorbar": {
             "outlinewidth": 0,
             "ticks": ""
            },
            "colorscale": [
             [
              0,
              "#0d0887"
             ],
             [
              0.1111111111111111,
              "#46039f"
             ],
             [
              0.2222222222222222,
              "#7201a8"
             ],
             [
              0.3333333333333333,
              "#9c179e"
             ],
             [
              0.4444444444444444,
              "#bd3786"
             ],
             [
              0.5555555555555556,
              "#d8576b"
             ],
             [
              0.6666666666666666,
              "#ed7953"
             ],
             [
              0.7777777777777778,
              "#fb9f3a"
             ],
             [
              0.8888888888888888,
              "#fdca26"
             ],
             [
              1,
              "#f0f921"
             ]
            ],
            "type": "histogram2dcontour"
           }
          ],
          "mesh3d": [
           {
            "colorbar": {
             "outlinewidth": 0,
             "ticks": ""
            },
            "type": "mesh3d"
           }
          ],
          "parcoords": [
           {
            "line": {
             "colorbar": {
              "outlinewidth": 0,
              "ticks": ""
             }
            },
            "type": "parcoords"
           }
          ],
          "pie": [
           {
            "automargin": true,
            "type": "pie"
           }
          ],
          "scatter": [
           {
            "fillpattern": {
             "fillmode": "overlay",
             "size": 10,
             "solidity": 0.2
            },
            "type": "scatter"
           }
          ],
          "scatter3d": [
           {
            "line": {
             "colorbar": {
              "outlinewidth": 0,
              "ticks": ""
             }
            },
            "marker": {
             "colorbar": {
              "outlinewidth": 0,
              "ticks": ""
             }
            },
            "type": "scatter3d"
           }
          ],
          "scattercarpet": [
           {
            "marker": {
             "colorbar": {
              "outlinewidth": 0,
              "ticks": ""
             }
            },
            "type": "scattercarpet"
           }
          ],
          "scattergeo": [
           {
            "marker": {
             "colorbar": {
              "outlinewidth": 0,
              "ticks": ""
             }
            },
            "type": "scattergeo"
           }
          ],
          "scattergl": [
           {
            "marker": {
             "colorbar": {
              "outlinewidth": 0,
              "ticks": ""
             }
            },
            "type": "scattergl"
           }
          ],
          "scattermap": [
           {
            "marker": {
             "colorbar": {
              "outlinewidth": 0,
              "ticks": ""
             }
            },
            "type": "scattermap"
           }
          ],
          "scattermapbox": [
           {
            "marker": {
             "colorbar": {
              "outlinewidth": 0,
              "ticks": ""
             }
            },
            "type": "scattermapbox"
           }
          ],
          "scatterpolar": [
           {
            "marker": {
             "colorbar": {
              "outlinewidth": 0,
              "ticks": ""
             }
            },
            "type": "scatterpolar"
           }
          ],
          "scatterpolargl": [
           {
            "marker": {
             "colorbar": {
              "outlinewidth": 0,
              "ticks": ""
             }
            },
            "type": "scatterpolargl"
           }
          ],
          "scatterternary": [
           {
            "marker": {
             "colorbar": {
              "outlinewidth": 0,
              "ticks": ""
             }
            },
            "type": "scatterternary"
           }
          ],
          "surface": [
           {
            "colorbar": {
             "outlinewidth": 0,
             "ticks": ""
            },
            "colorscale": [
             [
              0,
              "#0d0887"
             ],
             [
              0.1111111111111111,
              "#46039f"
             ],
             [
              0.2222222222222222,
              "#7201a8"
             ],
             [
              0.3333333333333333,
              "#9c179e"
             ],
             [
              0.4444444444444444,
              "#bd3786"
             ],
             [
              0.5555555555555556,
              "#d8576b"
             ],
             [
              0.6666666666666666,
              "#ed7953"
             ],
             [
              0.7777777777777778,
              "#fb9f3a"
             ],
             [
              0.8888888888888888,
              "#fdca26"
             ],
             [
              1,
              "#f0f921"
             ]
            ],
            "type": "surface"
           }
          ],
          "table": [
           {
            "cells": {
             "fill": {
              "color": "#EBF0F8"
             },
             "line": {
              "color": "white"
             }
            },
            "header": {
             "fill": {
              "color": "#C8D4E3"
             },
             "line": {
              "color": "white"
             }
            },
            "type": "table"
           }
          ]
         },
         "layout": {
          "annotationdefaults": {
           "arrowcolor": "#2a3f5f",
           "arrowhead": 0,
           "arrowwidth": 1
          },
          "autotypenumbers": "strict",
          "coloraxis": {
           "colorbar": {
            "outlinewidth": 0,
            "ticks": ""
           }
          },
          "colorscale": {
           "diverging": [
            [
             0,
             "#8e0152"
            ],
            [
             0.1,
             "#c51b7d"
            ],
            [
             0.2,
             "#de77ae"
            ],
            [
             0.3,
             "#f1b6da"
            ],
            [
             0.4,
             "#fde0ef"
            ],
            [
             0.5,
             "#f7f7f7"
            ],
            [
             0.6,
             "#e6f5d0"
            ],
            [
             0.7,
             "#b8e186"
            ],
            [
             0.8,
             "#7fbc41"
            ],
            [
             0.9,
             "#4d9221"
            ],
            [
             1,
             "#276419"
            ]
           ],
           "sequential": [
            [
             0,
             "#0d0887"
            ],
            [
             0.1111111111111111,
             "#46039f"
            ],
            [
             0.2222222222222222,
             "#7201a8"
            ],
            [
             0.3333333333333333,
             "#9c179e"
            ],
            [
             0.4444444444444444,
             "#bd3786"
            ],
            [
             0.5555555555555556,
             "#d8576b"
            ],
            [
             0.6666666666666666,
             "#ed7953"
            ],
            [
             0.7777777777777778,
             "#fb9f3a"
            ],
            [
             0.8888888888888888,
             "#fdca26"
            ],
            [
             1,
             "#f0f921"
            ]
           ],
           "sequentialminus": [
            [
             0,
             "#0d0887"
            ],
            [
             0.1111111111111111,
             "#46039f"
            ],
            [
             0.2222222222222222,
             "#7201a8"
            ],
            [
             0.3333333333333333,
             "#9c179e"
            ],
            [
             0.4444444444444444,
             "#bd3786"
            ],
            [
             0.5555555555555556,
             "#d8576b"
            ],
            [
             0.6666666666666666,
             "#ed7953"
            ],
            [
             0.7777777777777778,
             "#fb9f3a"
            ],
            [
             0.8888888888888888,
             "#fdca26"
            ],
            [
             1,
             "#f0f921"
            ]
           ]
          },
          "colorway": [
           "#636efa",
           "#EF553B",
           "#00cc96",
           "#ab63fa",
           "#FFA15A",
           "#19d3f3",
           "#FF6692",
           "#B6E880",
           "#FF97FF",
           "#FECB52"
          ],
          "font": {
           "color": "#2a3f5f"
          },
          "geo": {
           "bgcolor": "white",
           "lakecolor": "white",
           "landcolor": "#E5ECF6",
           "showlakes": true,
           "showland": true,
           "subunitcolor": "white"
          },
          "hoverlabel": {
           "align": "left"
          },
          "hovermode": "closest",
          "mapbox": {
           "style": "light"
          },
          "paper_bgcolor": "white",
          "plot_bgcolor": "#E5ECF6",
          "polar": {
           "angularaxis": {
            "gridcolor": "white",
            "linecolor": "white",
            "ticks": ""
           },
           "bgcolor": "#E5ECF6",
           "radialaxis": {
            "gridcolor": "white",
            "linecolor": "white",
            "ticks": ""
           }
          },
          "scene": {
           "xaxis": {
            "backgroundcolor": "#E5ECF6",
            "gridcolor": "white",
            "gridwidth": 2,
            "linecolor": "white",
            "showbackground": true,
            "ticks": "",
            "zerolinecolor": "white"
           },
           "yaxis": {
            "backgroundcolor": "#E5ECF6",
            "gridcolor": "white",
            "gridwidth": 2,
            "linecolor": "white",
            "showbackground": true,
            "ticks": "",
            "zerolinecolor": "white"
           },
           "zaxis": {
            "backgroundcolor": "#E5ECF6",
            "gridcolor": "white",
            "gridwidth": 2,
            "linecolor": "white",
            "showbackground": true,
            "ticks": "",
            "zerolinecolor": "white"
           }
          },
          "shapedefaults": {
           "line": {
            "color": "#2a3f5f"
           }
          },
          "ternary": {
           "aaxis": {
            "gridcolor": "white",
            "linecolor": "white",
            "ticks": ""
           },
           "baxis": {
            "gridcolor": "white",
            "linecolor": "white",
            "ticks": ""
           },
           "bgcolor": "#E5ECF6",
           "caxis": {
            "gridcolor": "white",
            "linecolor": "white",
            "ticks": ""
           }
          },
          "title": {
           "x": 0.05
          },
          "xaxis": {
           "automargin": true,
           "gridcolor": "white",
           "linecolor": "white",
           "ticks": "",
           "title": {
            "standoff": 15
           },
           "zerolinecolor": "white",
           "zerolinewidth": 2
          },
          "yaxis": {
           "automargin": true,
           "gridcolor": "white",
           "linecolor": "white",
           "ticks": "",
           "title": {
            "standoff": 15
           },
           "zerolinecolor": "white",
           "zerolinewidth": 2
          }
         }
        },
        "title": {
         "text": "Site code: WIN"
        },
        "xaxis": {
         "anchor": "y",
         "domain": [
          0,
          1
         ],
         "title": {
          "text": "Year"
         }
        },
        "yaxis": {
         "anchor": "x",
         "domain": [
          0,
          1
         ],
         "title": {
          "text": "Value"
         }
        }
       }
      }
     },
     "metadata": {},
     "output_type": "display_data"
    },
    {
     "data": {
      "application/vnd.plotly.v1+json": {
       "config": {
        "plotlyServerURL": "https://plot.ly"
       },
       "data": [
        {
         "hovertemplate": "Year=%{x}<br>Value=%{y}<extra></extra>",
         "legendgroup": "",
         "line": {
          "color": "#636efa",
          "dash": "solid"
         },
         "marker": {
          "symbol": "circle"
         },
         "mode": "lines",
         "name": "",
         "orientation": "v",
         "showlegend": false,
         "type": "scatter",
         "x": [
          "1600",
          "1601",
          "1602",
          "1603",
          "1604",
          "1605",
          "1606",
          "1607",
          "1608",
          "1609",
          "1610",
          "1611",
          "1612",
          "1613",
          "1614",
          "1615",
          "1616",
          "1617",
          "1618",
          "1619",
          "1620",
          "1621",
          "1622",
          "1623",
          "1624",
          "1625",
          "1626",
          "1627",
          "1628",
          "1629",
          "1630",
          "1631",
          "1632",
          "1633",
          "1634",
          "1635",
          "1636",
          "1637",
          "1638",
          "1639",
          "1640",
          "1641",
          "1642",
          "1643",
          "1644",
          "1645",
          "1646",
          "1647",
          "1648",
          "1649",
          "1650",
          "1651",
          "1652",
          "1653",
          "1654",
          "1655",
          "1656",
          "1657",
          "1658",
          "1659",
          "1660",
          "1661",
          "1662",
          "1663",
          "1664",
          "1665",
          "1666",
          "1667",
          "1668",
          "1669",
          "1670",
          "1671",
          "1672",
          "1673",
          "1674",
          "1675",
          "1676",
          "1677",
          "1678",
          "1679",
          "1680",
          "1681",
          "1682",
          "1683",
          "1684",
          "1685",
          "1686",
          "1687",
          "1688",
          "1689",
          "1690",
          "1691",
          "1692",
          "1693",
          "1694",
          "1695",
          "1696",
          "1697",
          "1698",
          "1699",
          "1700",
          "1701",
          "1702",
          "1703",
          "1704",
          "1705",
          "1706",
          "1707",
          "1708",
          "1709",
          "1710",
          "1711",
          "1712",
          "1713",
          "1714",
          "1715",
          "1716",
          "1717",
          "1718",
          "1719",
          "1720",
          "1721",
          "1722",
          "1723",
          "1724",
          "1725",
          "1726",
          "1727",
          "1728",
          "1729",
          "1730",
          "1731",
          "1732",
          "1733",
          "1734",
          "1735",
          "1736",
          "1737",
          "1738",
          "1739",
          "1740",
          "1741",
          "1742",
          "1743",
          "1744",
          "1745",
          "1746",
          "1747",
          "1748",
          "1749",
          "1750",
          "1751",
          "1752",
          "1753",
          "1754",
          "1755",
          "1756",
          "1757",
          "1758",
          "1759",
          "1760",
          "1761",
          "1762",
          "1763",
          "1764",
          "1765",
          "1766",
          "1767",
          "1768",
          "1769",
          "1770",
          "1771",
          "1772",
          "1773",
          "1774",
          "1775",
          "1776",
          "1777",
          "1778",
          "1779",
          "1780",
          "1781",
          "1782",
          "1783",
          "1784",
          "1785",
          "1786",
          "1787",
          "1788",
          "1789",
          "1790",
          "1791",
          "1792",
          "1793",
          "1794",
          "1795",
          "1796",
          "1797",
          "1798",
          "1799",
          "1800",
          "1801",
          "1802",
          "1803",
          "1804",
          "1805",
          "1806",
          "1807",
          "1808",
          "1809",
          "1810",
          "1811",
          "1812",
          "1813",
          "1814",
          "1815",
          "1816",
          "1817",
          "1818",
          "1819",
          "1820",
          "1821",
          "1822",
          "1823",
          "1824",
          "1825",
          "1826",
          "1827",
          "1828",
          "1829",
          "1830",
          "1831",
          "1832",
          "1833",
          "1834",
          "1835",
          "1836",
          "1837",
          "1838",
          "1839",
          "1840",
          "1841",
          "1842",
          "1843",
          "1844",
          "1845",
          "1846",
          "1847",
          "1848",
          "1849",
          "1850",
          "1851",
          "1852",
          "1853",
          "1854",
          "1855",
          "1856",
          "1857",
          "1858",
          "1859",
          "1860",
          "1861",
          "1862",
          "1863",
          "1864",
          "1865",
          "1866",
          "1867",
          "1868",
          "1869",
          "1870",
          "1871",
          "1872",
          "1873",
          "1874",
          "1875",
          "1876",
          "1877",
          "1878",
          "1879",
          "1880",
          "1881",
          "1882",
          "1883",
          "1884",
          "1885",
          "1886",
          "1887",
          "1888",
          "1889",
          "1890",
          "1891",
          "1892",
          "1893",
          "1894",
          "1895",
          "1896",
          "1897",
          "1898",
          "1899",
          "1900",
          "1901",
          "1902",
          "1903",
          "1904",
          "1905",
          "1906",
          "1907",
          "1908",
          "1909",
          "1910",
          "1911",
          "1912",
          "1913",
          "1914",
          "1915",
          "1916",
          "1917",
          "1918",
          "1919",
          "1920",
          "1921",
          "1922",
          "1923",
          "1924",
          "1925",
          "1926",
          "1927",
          "1928",
          "1929",
          "1930",
          "1931",
          "1932",
          "1933",
          "1934",
          "1935",
          "1936",
          "1937",
          "1938",
          "1939",
          "1940",
          "1941",
          "1942",
          "1943",
          "1944",
          "1945",
          "1946",
          "1947",
          "1948",
          "1949",
          "1950",
          "1951",
          "1952",
          "1953",
          "1954",
          "1955",
          "1956",
          "1957",
          "1958",
          "1959",
          "1960",
          "1961",
          "1962",
          "1963",
          "1964",
          "1965",
          "1966",
          "1967",
          "1968",
          "1969",
          "1970",
          "1971",
          "1972",
          "1973",
          "1974",
          "1975",
          "1976",
          "1977",
          "1978",
          "1979",
          "1980",
          "1981",
          "1982",
          "1983",
          "1984",
          "1985",
          "1986",
          "1987",
          "1988",
          "1989",
          "1990",
          "1991",
          "1992",
          "1993",
          "1994",
          "1995",
          "1996",
          "1997",
          "1998",
          "1999",
          "2000",
          "2001",
          "2002",
          "2003",
          "2004",
          "2005"
         ],
         "xaxis": "x",
         "y": {
          "bdata": "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",
          "dtype": "f8"
         },
         "yaxis": "y"
        }
       ],
       "layout": {
        "legend": {
         "tracegroupgap": 0
        },
        "template": {
         "data": {
          "bar": [
           {
            "error_x": {
             "color": "#2a3f5f"
            },
            "error_y": {
             "color": "#2a3f5f"
            },
            "marker": {
             "line": {
              "color": "#E5ECF6",
              "width": 0.5
             },
             "pattern": {
              "fillmode": "overlay",
              "size": 10,
              "solidity": 0.2
             }
            },
            "type": "bar"
           }
          ],
          "barpolar": [
           {
            "marker": {
             "line": {
              "color": "#E5ECF6",
              "width": 0.5
             },
             "pattern": {
              "fillmode": "overlay",
              "size": 10,
              "solidity": 0.2
             }
            },
            "type": "barpolar"
           }
          ],
          "carpet": [
           {
            "aaxis": {
             "endlinecolor": "#2a3f5f",
             "gridcolor": "white",
             "linecolor": "white",
             "minorgridcolor": "white",
             "startlinecolor": "#2a3f5f"
            },
            "baxis": {
             "endlinecolor": "#2a3f5f",
             "gridcolor": "white",
             "linecolor": "white",
             "minorgridcolor": "white",
             "startlinecolor": "#2a3f5f"
            },
            "type": "carpet"
           }
          ],
          "choropleth": [
           {
            "colorbar": {
             "outlinewidth": 0,
             "ticks": ""
            },
            "type": "choropleth"
           }
          ],
          "contour": [
           {
            "colorbar": {
             "outlinewidth": 0,
             "ticks": ""
            },
            "colorscale": [
             [
              0,
              "#0d0887"
             ],
             [
              0.1111111111111111,
              "#46039f"
             ],
             [
              0.2222222222222222,
              "#7201a8"
             ],
             [
              0.3333333333333333,
              "#9c179e"
             ],
             [
              0.4444444444444444,
              "#bd3786"
             ],
             [
              0.5555555555555556,
              "#d8576b"
             ],
             [
              0.6666666666666666,
              "#ed7953"
             ],
             [
              0.7777777777777778,
              "#fb9f3a"
             ],
             [
              0.8888888888888888,
              "#fdca26"
             ],
             [
              1,
              "#f0f921"
             ]
            ],
            "type": "contour"
           }
          ],
          "contourcarpet": [
           {
            "colorbar": {
             "outlinewidth": 0,
             "ticks": ""
            },
            "type": "contourcarpet"
           }
          ],
          "heatmap": [
           {
            "colorbar": {
             "outlinewidth": 0,
             "ticks": ""
            },
            "colorscale": [
             [
              0,
              "#0d0887"
             ],
             [
              0.1111111111111111,
              "#46039f"
             ],
             [
              0.2222222222222222,
              "#7201a8"
             ],
             [
              0.3333333333333333,
              "#9c179e"
             ],
             [
              0.4444444444444444,
              "#bd3786"
             ],
             [
              0.5555555555555556,
              "#d8576b"
             ],
             [
              0.6666666666666666,
              "#ed7953"
             ],
             [
              0.7777777777777778,
              "#fb9f3a"
             ],
             [
              0.8888888888888888,
              "#fdca26"
             ],
             [
              1,
              "#f0f921"
             ]
            ],
            "type": "heatmap"
           }
          ],
          "histogram": [
           {
            "marker": {
             "pattern": {
              "fillmode": "overlay",
              "size": 10,
              "solidity": 0.2
             }
            },
            "type": "histogram"
           }
          ],
          "histogram2d": [
           {
            "colorbar": {
             "outlinewidth": 0,
             "ticks": ""
            },
            "colorscale": [
             [
              0,
              "#0d0887"
             ],
             [
              0.1111111111111111,
              "#46039f"
             ],
             [
              0.2222222222222222,
              "#7201a8"
             ],
             [
              0.3333333333333333,
              "#9c179e"
             ],
             [
              0.4444444444444444,
              "#bd3786"
             ],
             [
              0.5555555555555556,
              "#d8576b"
             ],
             [
              0.6666666666666666,
              "#ed7953"
             ],
             [
              0.7777777777777778,
              "#fb9f3a"
             ],
             [
              0.8888888888888888,
              "#fdca26"
             ],
             [
              1,
              "#f0f921"
             ]
            ],
            "type": "histogram2d"
           }
          ],
          "histogram2dcontour": [
           {
            "colorbar": {
             "outlinewidth": 0,
             "ticks": ""
            },
            "colorscale": [
             [
              0,
              "#0d0887"
             ],
             [
              0.1111111111111111,
              "#46039f"
             ],
             [
              0.2222222222222222,
              "#7201a8"
             ],
             [
              0.3333333333333333,
              "#9c179e"
             ],
             [
              0.4444444444444444,
              "#bd3786"
             ],
             [
              0.5555555555555556,
              "#d8576b"
             ],
             [
              0.6666666666666666,
              "#ed7953"
             ],
             [
              0.7777777777777778,
              "#fb9f3a"
             ],
             [
              0.8888888888888888,
              "#fdca26"
             ],
             [
              1,
              "#f0f921"
             ]
            ],
            "type": "histogram2dcontour"
           }
          ],
          "mesh3d": [
           {
            "colorbar": {
             "outlinewidth": 0,
             "ticks": ""
            },
            "type": "mesh3d"
           }
          ],
          "parcoords": [
           {
            "line": {
             "colorbar": {
              "outlinewidth": 0,
              "ticks": ""
             }
            },
            "type": "parcoords"
           }
          ],
          "pie": [
           {
            "automargin": true,
            "type": "pie"
           }
          ],
          "scatter": [
           {
            "fillpattern": {
             "fillmode": "overlay",
             "size": 10,
             "solidity": 0.2
            },
            "type": "scatter"
           }
          ],
          "scatter3d": [
           {
            "line": {
             "colorbar": {
              "outlinewidth": 0,
              "ticks": ""
             }
            },
            "marker": {
             "colorbar": {
              "outlinewidth": 0,
              "ticks": ""
             }
            },
            "type": "scatter3d"
           }
          ],
          "scattercarpet": [
           {
            "marker": {
             "colorbar": {
              "outlinewidth": 0,
              "ticks": ""
             }
            },
            "type": "scattercarpet"
           }
          ],
          "scattergeo": [
           {
            "marker": {
             "colorbar": {
              "outlinewidth": 0,
              "ticks": ""
             }
            },
            "type": "scattergeo"
           }
          ],
          "scattergl": [
           {
            "marker": {
             "colorbar": {
              "outlinewidth": 0,
              "ticks": ""
             }
            },
            "type": "scattergl"
           }
          ],
          "scattermap": [
           {
            "marker": {
             "colorbar": {
              "outlinewidth": 0,
              "ticks": ""
             }
            },
            "type": "scattermap"
           }
          ],
          "scattermapbox": [
           {
            "marker": {
             "colorbar": {
              "outlinewidth": 0,
              "ticks": ""
             }
            },
            "type": "scattermapbox"
           }
          ],
          "scatterpolar": [
           {
            "marker": {
             "colorbar": {
              "outlinewidth": 0,
              "ticks": ""
             }
            },
            "type": "scatterpolar"
           }
          ],
          "scatterpolargl": [
           {
            "marker": {
             "colorbar": {
              "outlinewidth": 0,
              "ticks": ""
             }
            },
            "type": "scatterpolargl"
           }
          ],
          "scatterternary": [
           {
            "marker": {
             "colorbar": {
              "outlinewidth": 0,
              "ticks": ""
             }
            },
            "type": "scatterternary"
           }
          ],
          "surface": [
           {
            "colorbar": {
             "outlinewidth": 0,
             "ticks": ""
            },
            "colorscale": [
             [
              0,
              "#0d0887"
             ],
             [
              0.1111111111111111,
              "#46039f"
             ],
             [
              0.2222222222222222,
              "#7201a8"
             ],
             [
              0.3333333333333333,
              "#9c179e"
             ],
             [
              0.4444444444444444,
              "#bd3786"
             ],
             [
              0.5555555555555556,
              "#d8576b"
             ],
             [
              0.6666666666666666,
              "#ed7953"
             ],
             [
              0.7777777777777778,
              "#fb9f3a"
             ],
             [
              0.8888888888888888,
              "#fdca26"
             ],
             [
              1,
              "#f0f921"
             ]
            ],
            "type": "surface"
           }
          ],
          "table": [
           {
            "cells": {
             "fill": {
              "color": "#EBF0F8"
             },
             "line": {
              "color": "white"
             }
            },
            "header": {
             "fill": {
              "color": "#C8D4E3"
             },
             "line": {
              "color": "white"
             }
            },
            "type": "table"
           }
          ]
         },
         "layout": {
          "annotationdefaults": {
           "arrowcolor": "#2a3f5f",
           "arrowhead": 0,
           "arrowwidth": 1
          },
          "autotypenumbers": "strict",
          "coloraxis": {
           "colorbar": {
            "outlinewidth": 0,
            "ticks": ""
           }
          },
          "colorscale": {
           "diverging": [
            [
             0,
             "#8e0152"
            ],
            [
             0.1,
             "#c51b7d"
            ],
            [
             0.2,
             "#de77ae"
            ],
            [
             0.3,
             "#f1b6da"
            ],
            [
             0.4,
             "#fde0ef"
            ],
            [
             0.5,
             "#f7f7f7"
            ],
            [
             0.6,
             "#e6f5d0"
            ],
            [
             0.7,
             "#b8e186"
            ],
            [
             0.8,
             "#7fbc41"
            ],
            [
             0.9,
             "#4d9221"
            ],
            [
             1,
             "#276419"
            ]
           ],
           "sequential": [
            [
             0,
             "#0d0887"
            ],
            [
             0.1111111111111111,
             "#46039f"
            ],
            [
             0.2222222222222222,
             "#7201a8"
            ],
            [
             0.3333333333333333,
             "#9c179e"
            ],
            [
             0.4444444444444444,
             "#bd3786"
            ],
            [
             0.5555555555555556,
             "#d8576b"
            ],
            [
             0.6666666666666666,
             "#ed7953"
            ],
            [
             0.7777777777777778,
             "#fb9f3a"
            ],
            [
             0.8888888888888888,
             "#fdca26"
            ],
            [
             1,
             "#f0f921"
            ]
           ],
           "sequentialminus": [
            [
             0,
             "#0d0887"
            ],
            [
             0.1111111111111111,
             "#46039f"
            ],
            [
             0.2222222222222222,
             "#7201a8"
            ],
            [
             0.3333333333333333,
             "#9c179e"
            ],
            [
             0.4444444444444444,
             "#bd3786"
            ],
            [
             0.5555555555555556,
             "#d8576b"
            ],
            [
             0.6666666666666666,
             "#ed7953"
            ],
            [
             0.7777777777777778,
             "#fb9f3a"
            ],
            [
             0.8888888888888888,
             "#fdca26"
            ],
            [
             1,
             "#f0f921"
            ]
           ]
          },
          "colorway": [
           "#636efa",
           "#EF553B",
           "#00cc96",
           "#ab63fa",
           "#FFA15A",
           "#19d3f3",
           "#FF6692",
           "#B6E880",
           "#FF97FF",
           "#FECB52"
          ],
          "font": {
           "color": "#2a3f5f"
          },
          "geo": {
           "bgcolor": "white",
           "lakecolor": "white",
           "landcolor": "#E5ECF6",
           "showlakes": true,
           "showland": true,
           "subunitcolor": "white"
          },
          "hoverlabel": {
           "align": "left"
          },
          "hovermode": "closest",
          "mapbox": {
           "style": "light"
          },
          "paper_bgcolor": "white",
          "plot_bgcolor": "#E5ECF6",
          "polar": {
           "angularaxis": {
            "gridcolor": "white",
            "linecolor": "white",
            "ticks": ""
           },
           "bgcolor": "#E5ECF6",
           "radialaxis": {
            "gridcolor": "white",
            "linecolor": "white",
            "ticks": ""
           }
          },
          "scene": {
           "xaxis": {
            "backgroundcolor": "#E5ECF6",
            "gridcolor": "white",
            "gridwidth": 2,
            "linecolor": "white",
            "showbackground": true,
            "ticks": "",
            "zerolinecolor": "white"
           },
           "yaxis": {
            "backgroundcolor": "#E5ECF6",
            "gridcolor": "white",
            "gridwidth": 2,
            "linecolor": "white",
            "showbackground": true,
            "ticks": "",
            "zerolinecolor": "white"
           },
           "zaxis": {
            "backgroundcolor": "#E5ECF6",
            "gridcolor": "white",
            "gridwidth": 2,
            "linecolor": "white",
            "showbackground": true,
            "ticks": "",
            "zerolinecolor": "white"
           }
          },
          "shapedefaults": {
           "line": {
            "color": "#2a3f5f"
           }
          },
          "ternary": {
           "aaxis": {
            "gridcolor": "white",
            "linecolor": "white",
            "ticks": ""
           },
           "baxis": {
            "gridcolor": "white",
            "linecolor": "white",
            "ticks": ""
           },
           "bgcolor": "#E5ECF6",
           "caxis": {
            "gridcolor": "white",
            "linecolor": "white",
            "ticks": ""
           }
          },
          "title": {
           "x": 0.05
          },
          "xaxis": {
           "automargin": true,
           "gridcolor": "white",
           "linecolor": "white",
           "ticks": "",
           "title": {
            "standoff": 15
           },
           "zerolinecolor": "white",
           "zerolinewidth": 2
          },
          "yaxis": {
           "automargin": true,
           "gridcolor": "white",
           "linecolor": "white",
           "ticks": "",
           "title": {
            "standoff": 15
           },
           "zerolinecolor": "white",
           "zerolinewidth": 2
          }
         }
        },
        "title": {
         "text": "Site code: WOB "
        },
        "xaxis": {
         "anchor": "y",
         "domain": [
          0,
          1
         ],
         "title": {
          "text": "Year"
         }
        },
        "yaxis": {
         "anchor": "x",
         "domain": [
          0,
          1
         ],
         "title": {
          "text": "Value"
         }
        }
       }
      }
     },
     "metadata": {},
     "output_type": "display_data"
    }
   ],
   "source": [
    "l_low_review = df_low_missing_data['site_code'].tolist()\n",
    "\n",
    "for i in l_low_review:\n",
    "    aux = df_data[(df_data['site_code'] == i)].reset_index(drop=True)\n",
    "\n",
    "    fig = px.line(aux, x='Year', y='Value', title=f'Site code: {i}')\n",
    "    fig.show()"
   ]
  },
  {
   "cell_type": "code",
   "execution_count": 12,
   "id": "ddf50f0d",
   "metadata": {},
   "outputs": [],
   "source": [
    "l_review = l_hard_review + l_low_review+l_more_data\n",
    "l_no_problem = list(df_data.site_code.unique())\n",
    "l_no_problem = [i for i in l_no_problem if i not in l_review]"
   ]
  },
  {
   "cell_type": "code",
   "execution_count": 13,
   "id": "69f42f47",
   "metadata": {},
   "outputs": [
    {
     "data": {
      "application/vnd.plotly.v1+json": {
       "config": {
        "plotlyServerURL": "https://plot.ly"
       },
       "data": [
        {
         "hovertemplate": "Year=%{x}<br>Value=%{y}<extra></extra>",
         "legendgroup": "",
         "line": {
          "color": "#636efa",
          "dash": "solid"
         },
         "marker": {
          "symbol": "circle"
         },
         "mode": "lines",
         "name": "",
         "orientation": "v",
         "showlegend": false,
         "type": "scatter",
         "x": [
          "1600",
          "1601",
          "1602",
          "1603",
          "1604",
          "1605",
          "1606",
          "1607",
          "1608",
          "1609",
          "1610",
          "1611",
          "1612",
          "1613",
          "1614",
          "1615",
          "1616",
          "1617",
          "1618",
          "1619",
          "1620",
          "1621",
          "1622",
          "1623",
          "1624",
          "1625",
          "1626",
          "1627",
          "1628",
          "1629",
          "1630",
          "1631",
          "1632",
          "1633",
          "1634",
          "1635",
          "1636",
          "1637",
          "1638",
          "1639",
          "1640",
          "1641",
          "1642",
          "1643",
          "1644",
          "1645",
          "1646",
          "1647",
          "1648",
          "1649",
          "1650",
          "1651",
          "1652",
          "1653",
          "1654",
          "1655",
          "1656",
          "1657",
          "1658",
          "1659",
          "1660",
          "1661",
          "1662",
          "1663",
          "1664",
          "1665",
          "1666",
          "1667",
          "1668",
          "1669",
          "1670",
          "1671",
          "1672",
          "1673",
          "1674",
          "1675",
          "1676",
          "1677",
          "1678",
          "1679",
          "1680",
          "1681",
          "1682",
          "1683",
          "1684",
          "1685",
          "1686",
          "1687",
          "1688",
          "1689",
          "1690",
          "1691",
          "1692",
          "1693",
          "1694",
          "1695",
          "1696",
          "1697",
          "1698",
          "1699",
          "1700",
          "1701",
          "1702",
          "1703",
          "1704",
          "1705",
          "1706",
          "1707",
          "1708",
          "1709",
          "1710",
          "1711",
          "1712",
          "1713",
          "1714",
          "1715",
          "1716",
          "1717",
          "1718",
          "1719",
          "1720",
          "1721",
          "1722",
          "1723",
          "1724",
          "1725",
          "1726",
          "1727",
          "1728",
          "1729",
          "1730",
          "1731",
          "1732",
          "1733",
          "1734",
          "1735",
          "1736",
          "1737",
          "1738",
          "1739",
          "1740",
          "1741",
          "1742",
          "1743",
          "1744",
          "1745",
          "1746",
          "1747",
          "1748",
          "1749",
          "1750",
          "1751",
          "1752",
          "1753",
          "1754",
          "1755",
          "1756",
          "1757",
          "1758",
          "1759",
          "1760",
          "1761",
          "1762",
          "1763",
          "1764",
          "1765",
          "1766",
          "1767",
          "1768",
          "1769",
          "1770",
          "1771",
          "1772",
          "1773",
          "1774",
          "1775",
          "1776",
          "1777",
          "1778",
          "1779",
          "1780",
          "1781",
          "1782",
          "1783",
          "1784",
          "1785",
          "1786",
          "1787",
          "1788",
          "1789",
          "1790",
          "1791",
          "1792",
          "1793",
          "1794",
          "1795",
          "1796",
          "1797",
          "1798",
          "1799",
          "1800",
          "1801",
          "1802",
          "1803",
          "1804",
          "1805",
          "1806",
          "1807",
          "1808",
          "1809",
          "1810",
          "1811",
          "1812",
          "1813",
          "1814",
          "1815",
          "1816",
          "1817",
          "1818",
          "1819",
          "1820",
          "1821",
          "1822",
          "1823",
          "1824",
          "1825",
          "1826",
          "1827",
          "1828",
          "1829",
          "1830",
          "1831",
          "1832",
          "1833",
          "1834",
          "1835",
          "1836",
          "1837",
          "1838",
          "1839",
          "1840",
          "1841",
          "1842",
          "1843",
          "1844",
          "1845",
          "1846",
          "1847",
          "1848",
          "1849",
          "1850",
          "1851",
          "1852",
          "1853",
          "1854",
          "1855",
          "1856",
          "1857",
          "1858",
          "1859",
          "1860",
          "1861",
          "1862",
          "1863",
          "1864",
          "1865",
          "1866",
          "1867",
          "1868",
          "1869",
          "1870",
          "1871",
          "1872",
          "1873",
          "1874",
          "1875",
          "1876",
          "1877",
          "1878",
          "1879",
          "1880",
          "1881",
          "1882",
          "1883",
          "1884",
          "1885",
          "1886",
          "1887",
          "1888",
          "1889",
          "1890",
          "1891",
          "1892",
          "1893",
          "1894",
          "1895",
          "1896",
          "1897",
          "1898",
          "1899",
          "1900",
          "1901",
          "1902",
          "1903",
          "1904",
          "1905",
          "1906",
          "1907",
          "1908",
          "1909",
          "1910",
          "1911",
          "1912",
          "1913",
          "1914",
          "1915",
          "1916",
          "1917",
          "1918",
          "1919",
          "1920",
          "1921",
          "1922",
          "1923",
          "1924",
          "1925",
          "1926",
          "1927",
          "1928",
          "1929",
          "1930",
          "1931",
          "1932",
          "1933",
          "1934",
          "1935",
          "1936",
          "1937",
          "1938",
          "1939",
          "1940",
          "1941",
          "1942",
          "1943",
          "1944",
          "1945",
          "1946",
          "1947",
          "1948",
          "1949",
          "1950",
          "1951",
          "1952",
          "1953",
          "1954",
          "1955",
          "1956",
          "1957",
          "1958",
          "1959",
          "1960",
          "1961",
          "1962",
          "1963",
          "1964",
          "1965",
          "1966",
          "1967",
          "1968",
          "1969",
          "1970",
          "1971",
          "1972",
          "1973",
          "1974",
          "1975",
          "1976",
          "1977",
          "1978",
          "1979",
          "1980",
          "1981",
          "1982",
          "1983",
          "1984",
          "1985",
          "1986",
          "1987",
          "1988",
          "1989",
          "1990",
          "1991",
          "1992",
          "1993",
          "1994",
          "1995",
          "1996",
          "1997",
          "1998",
          "1999",
          "2000",
          "2001",
          "2002",
          "2003",
          "2004",
          "2005"
         ],
         "xaxis": "x",
         "y": {
          "bdata": "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",
          "dtype": "f8"
         },
         "yaxis": "y"
        }
       ],
       "layout": {
        "legend": {
         "tracegroupgap": 0
        },
        "template": {
         "data": {
          "bar": [
           {
            "error_x": {
             "color": "#2a3f5f"
            },
            "error_y": {
             "color": "#2a3f5f"
            },
            "marker": {
             "line": {
              "color": "#E5ECF6",
              "width": 0.5
             },
             "pattern": {
              "fillmode": "overlay",
              "size": 10,
              "solidity": 0.2
             }
            },
            "type": "bar"
           }
          ],
          "barpolar": [
           {
            "marker": {
             "line": {
              "color": "#E5ECF6",
              "width": 0.5
             },
             "pattern": {
              "fillmode": "overlay",
              "size": 10,
              "solidity": 0.2
             }
            },
            "type": "barpolar"
           }
          ],
          "carpet": [
           {
            "aaxis": {
             "endlinecolor": "#2a3f5f",
             "gridcolor": "white",
             "linecolor": "white",
             "minorgridcolor": "white",
             "startlinecolor": "#2a3f5f"
            },
            "baxis": {
             "endlinecolor": "#2a3f5f",
             "gridcolor": "white",
             "linecolor": "white",
             "minorgridcolor": "white",
             "startlinecolor": "#2a3f5f"
            },
            "type": "carpet"
           }
          ],
          "choropleth": [
           {
            "colorbar": {
             "outlinewidth": 0,
             "ticks": ""
            },
            "type": "choropleth"
           }
          ],
          "contour": [
           {
            "colorbar": {
             "outlinewidth": 0,
             "ticks": ""
            },
            "colorscale": [
             [
              0,
              "#0d0887"
             ],
             [
              0.1111111111111111,
              "#46039f"
             ],
             [
              0.2222222222222222,
              "#7201a8"
             ],
             [
              0.3333333333333333,
              "#9c179e"
             ],
             [
              0.4444444444444444,
              "#bd3786"
             ],
             [
              0.5555555555555556,
              "#d8576b"
             ],
             [
              0.6666666666666666,
              "#ed7953"
             ],
             [
              0.7777777777777778,
              "#fb9f3a"
             ],
             [
              0.8888888888888888,
              "#fdca26"
             ],
             [
              1,
              "#f0f921"
             ]
            ],
            "type": "contour"
           }
          ],
          "contourcarpet": [
           {
            "colorbar": {
             "outlinewidth": 0,
             "ticks": ""
            },
            "type": "contourcarpet"
           }
          ],
          "heatmap": [
           {
            "colorbar": {
             "outlinewidth": 0,
             "ticks": ""
            },
            "colorscale": [
             [
              0,
              "#0d0887"
             ],
             [
              0.1111111111111111,
              "#46039f"
             ],
             [
              0.2222222222222222,
              "#7201a8"
             ],
             [
              0.3333333333333333,
              "#9c179e"
             ],
             [
              0.4444444444444444,
              "#bd3786"
             ],
             [
              0.5555555555555556,
              "#d8576b"
             ],
             [
              0.6666666666666666,
              "#ed7953"
             ],
             [
              0.7777777777777778,
              "#fb9f3a"
             ],
             [
              0.8888888888888888,
              "#fdca26"
             ],
             [
              1,
              "#f0f921"
             ]
            ],
            "type": "heatmap"
           }
          ],
          "histogram": [
           {
            "marker": {
             "pattern": {
              "fillmode": "overlay",
              "size": 10,
              "solidity": 0.2
             }
            },
            "type": "histogram"
           }
          ],
          "histogram2d": [
           {
            "colorbar": {
             "outlinewidth": 0,
             "ticks": ""
            },
            "colorscale": [
             [
              0,
              "#0d0887"
             ],
             [
              0.1111111111111111,
              "#46039f"
             ],
             [
              0.2222222222222222,
              "#7201a8"
             ],
             [
              0.3333333333333333,
              "#9c179e"
             ],
             [
              0.4444444444444444,
              "#bd3786"
             ],
             [
              0.5555555555555556,
              "#d8576b"
             ],
             [
              0.6666666666666666,
              "#ed7953"
             ],
             [
              0.7777777777777778,
              "#fb9f3a"
             ],
             [
              0.8888888888888888,
              "#fdca26"
             ],
             [
              1,
              "#f0f921"
             ]
            ],
            "type": "histogram2d"
           }
          ],
          "histogram2dcontour": [
           {
            "colorbar": {
             "outlinewidth": 0,
             "ticks": ""
            },
            "colorscale": [
             [
              0,
              "#0d0887"
             ],
             [
              0.1111111111111111,
              "#46039f"
             ],
             [
              0.2222222222222222,
              "#7201a8"
             ],
             [
              0.3333333333333333,
              "#9c179e"
             ],
             [
              0.4444444444444444,
              "#bd3786"
             ],
             [
              0.5555555555555556,
              "#d8576b"
             ],
             [
              0.6666666666666666,
              "#ed7953"
             ],
             [
              0.7777777777777778,
              "#fb9f3a"
             ],
             [
              0.8888888888888888,
              "#fdca26"
             ],
             [
              1,
              "#f0f921"
             ]
            ],
            "type": "histogram2dcontour"
           }
          ],
          "mesh3d": [
           {
            "colorbar": {
             "outlinewidth": 0,
             "ticks": ""
            },
            "type": "mesh3d"
           }
          ],
          "parcoords": [
           {
            "line": {
             "colorbar": {
              "outlinewidth": 0,
              "ticks": ""
             }
            },
            "type": "parcoords"
           }
          ],
          "pie": [
           {
            "automargin": true,
            "type": "pie"
           }
          ],
          "scatter": [
           {
            "fillpattern": {
             "fillmode": "overlay",
             "size": 10,
             "solidity": 0.2
            },
            "type": "scatter"
           }
          ],
          "scatter3d": [
           {
            "line": {
             "colorbar": {
              "outlinewidth": 0,
              "ticks": ""
             }
            },
            "marker": {
             "colorbar": {
              "outlinewidth": 0,
              "ticks": ""
             }
            },
            "type": "scatter3d"
           }
          ],
          "scattercarpet": [
           {
            "marker": {
             "colorbar": {
              "outlinewidth": 0,
              "ticks": ""
             }
            },
            "type": "scattercarpet"
           }
          ],
          "scattergeo": [
           {
            "marker": {
             "colorbar": {
              "outlinewidth": 0,
              "ticks": ""
             }
            },
            "type": "scattergeo"
           }
          ],
          "scattergl": [
           {
            "marker": {
             "colorbar": {
              "outlinewidth": 0,
              "ticks": ""
             }
            },
            "type": "scattergl"
           }
          ],
          "scattermap": [
           {
            "marker": {
             "colorbar": {
              "outlinewidth": 0,
              "ticks": ""
             }
            },
            "type": "scattermap"
           }
          ],
          "scattermapbox": [
           {
            "marker": {
             "colorbar": {
              "outlinewidth": 0,
              "ticks": ""
             }
            },
            "type": "scattermapbox"
           }
          ],
          "scatterpolar": [
           {
            "marker": {
             "colorbar": {
              "outlinewidth": 0,
              "ticks": ""
             }
            },
            "type": "scatterpolar"
           }
          ],
          "scatterpolargl": [
           {
            "marker": {
             "colorbar": {
              "outlinewidth": 0,
              "ticks": ""
             }
            },
            "type": "scatterpolargl"
           }
          ],
          "scatterternary": [
           {
            "marker": {
             "colorbar": {
              "outlinewidth": 0,
              "ticks": ""
             }
            },
            "type": "scatterternary"
           }
          ],
          "surface": [
           {
            "colorbar": {
             "outlinewidth": 0,
             "ticks": ""
            },
            "colorscale": [
             [
              0,
              "#0d0887"
             ],
             [
              0.1111111111111111,
              "#46039f"
             ],
             [
              0.2222222222222222,
              "#7201a8"
             ],
             [
              0.3333333333333333,
              "#9c179e"
             ],
             [
              0.4444444444444444,
              "#bd3786"
             ],
             [
              0.5555555555555556,
              "#d8576b"
             ],
             [
              0.6666666666666666,
              "#ed7953"
             ],
             [
              0.7777777777777778,
              "#fb9f3a"
             ],
             [
              0.8888888888888888,
              "#fdca26"
             ],
             [
              1,
              "#f0f921"
             ]
            ],
            "type": "surface"
           }
          ],
          "table": [
           {
            "cells": {
             "fill": {
              "color": "#EBF0F8"
             },
             "line": {
              "color": "white"
             }
            },
            "header": {
             "fill": {
              "color": "#C8D4E3"
             },
             "line": {
              "color": "white"
             }
            },
            "type": "table"
           }
          ]
         },
         "layout": {
          "annotationdefaults": {
           "arrowcolor": "#2a3f5f",
           "arrowhead": 0,
           "arrowwidth": 1
          },
          "autotypenumbers": "strict",
          "coloraxis": {
           "colorbar": {
            "outlinewidth": 0,
            "ticks": ""
           }
          },
          "colorscale": {
           "diverging": [
            [
             0,
             "#8e0152"
            ],
            [
             0.1,
             "#c51b7d"
            ],
            [
             0.2,
             "#de77ae"
            ],
            [
             0.3,
             "#f1b6da"
            ],
            [
             0.4,
             "#fde0ef"
            ],
            [
             0.5,
             "#f7f7f7"
            ],
            [
             0.6,
             "#e6f5d0"
            ],
            [
             0.7,
             "#b8e186"
            ],
            [
             0.8,
             "#7fbc41"
            ],
            [
             0.9,
             "#4d9221"
            ],
            [
             1,
             "#276419"
            ]
           ],
           "sequential": [
            [
             0,
             "#0d0887"
            ],
            [
             0.1111111111111111,
             "#46039f"
            ],
            [
             0.2222222222222222,
             "#7201a8"
            ],
            [
             0.3333333333333333,
             "#9c179e"
            ],
            [
             0.4444444444444444,
             "#bd3786"
            ],
            [
             0.5555555555555556,
             "#d8576b"
            ],
            [
             0.6666666666666666,
             "#ed7953"
            ],
            [
             0.7777777777777778,
             "#fb9f3a"
            ],
            [
             0.8888888888888888,
             "#fdca26"
            ],
            [
             1,
             "#f0f921"
            ]
           ],
           "sequentialminus": [
            [
             0,
             "#0d0887"
            ],
            [
             0.1111111111111111,
             "#46039f"
            ],
            [
             0.2222222222222222,
             "#7201a8"
            ],
            [
             0.3333333333333333,
             "#9c179e"
            ],
            [
             0.4444444444444444,
             "#bd3786"
            ],
            [
             0.5555555555555556,
             "#d8576b"
            ],
            [
             0.6666666666666666,
             "#ed7953"
            ],
            [
             0.7777777777777778,
             "#fb9f3a"
            ],
            [
             0.8888888888888888,
             "#fdca26"
            ],
            [
             1,
             "#f0f921"
            ]
           ]
          },
          "colorway": [
           "#636efa",
           "#EF553B",
           "#00cc96",
           "#ab63fa",
           "#FFA15A",
           "#19d3f3",
           "#FF6692",
           "#B6E880",
           "#FF97FF",
           "#FECB52"
          ],
          "font": {
           "color": "#2a3f5f"
          },
          "geo": {
           "bgcolor": "white",
           "lakecolor": "white",
           "landcolor": "#E5ECF6",
           "showlakes": true,
           "showland": true,
           "subunitcolor": "white"
          },
          "hoverlabel": {
           "align": "left"
          },
          "hovermode": "closest",
          "mapbox": {
           "style": "light"
          },
          "paper_bgcolor": "white",
          "plot_bgcolor": "#E5ECF6",
          "polar": {
           "angularaxis": {
            "gridcolor": "white",
            "linecolor": "white",
            "ticks": ""
           },
           "bgcolor": "#E5ECF6",
           "radialaxis": {
            "gridcolor": "white",
            "linecolor": "white",
            "ticks": ""
           }
          },
          "scene": {
           "xaxis": {
            "backgroundcolor": "#E5ECF6",
            "gridcolor": "white",
            "gridwidth": 2,
            "linecolor": "white",
            "showbackground": true,
            "ticks": "",
            "zerolinecolor": "white"
           },
           "yaxis": {
            "backgroundcolor": "#E5ECF6",
            "gridcolor": "white",
            "gridwidth": 2,
            "linecolor": "white",
            "showbackground": true,
            "ticks": "",
            "zerolinecolor": "white"
           },
           "zaxis": {
            "backgroundcolor": "#E5ECF6",
            "gridcolor": "white",
            "gridwidth": 2,
            "linecolor": "white",
            "showbackground": true,
            "ticks": "",
            "zerolinecolor": "white"
           }
          },
          "shapedefaults": {
           "line": {
            "color": "#2a3f5f"
           }
          },
          "ternary": {
           "aaxis": {
            "gridcolor": "white",
            "linecolor": "white",
            "ticks": ""
           },
           "baxis": {
            "gridcolor": "white",
            "linecolor": "white",
            "ticks": ""
           },
           "bgcolor": "#E5ECF6",
           "caxis": {
            "gridcolor": "white",
            "linecolor": "white",
            "ticks": ""
           }
          },
          "title": {
           "x": 0.05
          },
          "xaxis": {
           "automargin": true,
           "gridcolor": "white",
           "linecolor": "white",
           "ticks": "",
           "title": {
            "standoff": 15
           },
           "zerolinecolor": "white",
           "zerolinewidth": 2
          },
          "yaxis": {
           "automargin": true,
           "gridcolor": "white",
           "linecolor": "white",
           "ticks": "",
           "title": {
            "standoff": 15
           },
           "zerolinecolor": "white",
           "zerolinewidth": 2
          }
         }
        },
        "title": {
         "text": "Site code: AHI"
        },
        "xaxis": {
         "anchor": "y",
         "domain": [
          0,
          1
         ],
         "title": {
          "text": "Year"
         }
        },
        "yaxis": {
         "anchor": "x",
         "domain": [
          0,
          1
         ],
         "title": {
          "text": "Value"
         }
        }
       }
      }
     },
     "metadata": {},
     "output_type": "display_data"
    },
    {
     "data": {
      "application/vnd.plotly.v1+json": {
       "config": {
        "plotlyServerURL": "https://plot.ly"
       },
       "data": [
        {
         "hovertemplate": "Year=%{x}<br>Value=%{y}<extra></extra>",
         "legendgroup": "",
         "line": {
          "color": "#636efa",
          "dash": "solid"
         },
         "marker": {
          "symbol": "circle"
         },
         "mode": "lines",
         "name": "",
         "orientation": "v",
         "showlegend": false,
         "type": "scatter",
         "x": [
          "1600",
          "1601",
          "1602",
          "1603",
          "1604",
          "1605",
          "1606",
          "1607",
          "1608",
          "1609",
          "1610",
          "1611",
          "1612",
          "1613",
          "1614",
          "1615",
          "1616",
          "1617",
          "1618",
          "1619",
          "1620",
          "1621",
          "1622",
          "1623",
          "1624",
          "1625",
          "1626",
          "1627",
          "1628",
          "1629",
          "1630",
          "1631",
          "1632",
          "1633",
          "1634",
          "1635",
          "1636",
          "1637",
          "1638",
          "1639",
          "1640",
          "1641",
          "1642",
          "1643",
          "1644",
          "1645",
          "1646",
          "1647",
          "1648",
          "1649",
          "1650",
          "1651",
          "1652",
          "1653",
          "1654",
          "1655",
          "1656",
          "1657",
          "1658",
          "1659",
          "1660",
          "1661",
          "1662",
          "1663",
          "1664",
          "1665",
          "1666",
          "1667",
          "1668",
          "1669",
          "1670",
          "1671",
          "1672",
          "1673",
          "1674",
          "1675",
          "1676",
          "1677",
          "1678",
          "1679",
          "1680",
          "1681",
          "1682",
          "1683",
          "1684",
          "1685",
          "1686",
          "1687",
          "1688",
          "1689",
          "1690",
          "1691",
          "1692",
          "1693",
          "1694",
          "1695",
          "1696",
          "1697",
          "1698",
          "1699",
          "1700",
          "1701",
          "1702",
          "1703",
          "1704",
          "1705",
          "1706",
          "1707",
          "1708",
          "1709",
          "1710",
          "1711",
          "1712",
          "1713",
          "1714",
          "1715",
          "1716",
          "1717",
          "1718",
          "1719",
          "1720",
          "1721",
          "1722",
          "1723",
          "1724",
          "1725",
          "1726",
          "1727",
          "1728",
          "1729",
          "1730",
          "1731",
          "1732",
          "1733",
          "1734",
          "1735",
          "1736",
          "1737",
          "1738",
          "1739",
          "1740",
          "1741",
          "1742",
          "1743",
          "1744",
          "1745",
          "1746",
          "1747",
          "1748",
          "1749",
          "1750",
          "1751",
          "1752",
          "1753",
          "1754",
          "1755",
          "1756",
          "1757",
          "1758",
          "1759",
          "1760",
          "1761",
          "1762",
          "1763",
          "1764",
          "1765",
          "1766",
          "1767",
          "1768",
          "1769",
          "1770",
          "1771",
          "1772",
          "1773",
          "1774",
          "1775",
          "1776",
          "1777",
          "1778",
          "1779",
          "1780",
          "1781",
          "1782",
          "1783",
          "1784",
          "1785",
          "1786",
          "1787",
          "1788",
          "1789",
          "1790",
          "1791",
          "1792",
          "1793",
          "1794",
          "1795",
          "1796",
          "1797",
          "1798",
          "1799",
          "1800",
          "1801",
          "1802",
          "1803",
          "1804",
          "1805",
          "1806",
          "1807",
          "1808",
          "1809",
          "1810",
          "1811",
          "1812",
          "1813",
          "1814",
          "1815",
          "1816",
          "1817",
          "1818",
          "1819",
          "1820",
          "1821",
          "1822",
          "1823",
          "1824",
          "1825",
          "1826",
          "1827",
          "1828",
          "1829",
          "1830",
          "1831",
          "1832",
          "1833",
          "1834",
          "1835",
          "1836",
          "1837",
          "1838",
          "1839",
          "1840",
          "1841",
          "1842",
          "1843",
          "1844",
          "1845",
          "1846",
          "1847",
          "1848",
          "1849",
          "1850",
          "1851",
          "1852",
          "1853",
          "1854",
          "1855",
          "1856",
          "1857",
          "1858",
          "1859",
          "1860",
          "1861",
          "1862",
          "1863",
          "1864",
          "1865",
          "1866",
          "1867",
          "1868",
          "1869",
          "1870",
          "1871",
          "1872",
          "1873",
          "1874",
          "1875",
          "1876",
          "1877",
          "1878",
          "1879",
          "1880",
          "1881",
          "1882",
          "1883",
          "1884",
          "1885",
          "1886",
          "1887",
          "1888",
          "1889",
          "1890",
          "1891",
          "1892",
          "1893",
          "1894",
          "1895",
          "1896",
          "1897",
          "1898",
          "1899",
          "1900",
          "1901",
          "1902",
          "1903",
          "1904",
          "1905",
          "1906",
          "1907",
          "1908",
          "1909",
          "1910",
          "1911",
          "1912",
          "1913",
          "1914",
          "1915",
          "1916",
          "1917",
          "1918",
          "1919",
          "1920",
          "1921",
          "1922",
          "1923",
          "1924",
          "1925",
          "1926",
          "1927",
          "1928",
          "1929",
          "1930",
          "1931",
          "1932",
          "1933",
          "1934",
          "1935",
          "1936",
          "1937",
          "1938",
          "1939",
          "1940",
          "1941",
          "1942",
          "1943",
          "1944",
          "1945",
          "1946",
          "1947",
          "1948",
          "1949",
          "1950",
          "1951",
          "1952",
          "1953",
          "1954",
          "1955",
          "1956",
          "1957",
          "1958",
          "1959",
          "1960",
          "1961",
          "1962",
          "1963",
          "1964",
          "1965",
          "1966",
          "1967",
          "1968",
          "1969",
          "1970",
          "1971",
          "1972",
          "1973",
          "1974",
          "1975",
          "1976",
          "1977",
          "1978",
          "1979",
          "1980",
          "1981",
          "1982",
          "1983",
          "1984",
          "1985",
          "1986",
          "1987",
          "1988",
          "1989",
          "1990",
          "1991",
          "1992",
          "1993",
          "1994",
          "1995",
          "1996",
          "1997",
          "1998",
          "1999",
          "2000",
          "2001",
          "2002",
          "2003",
          "2004",
          "2005"
         ],
         "xaxis": "x",
         "y": {
          "bdata": "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",
          "dtype": "f8"
         },
         "yaxis": "y"
        }
       ],
       "layout": {
        "legend": {
         "tracegroupgap": 0
        },
        "template": {
         "data": {
          "bar": [
           {
            "error_x": {
             "color": "#2a3f5f"
            },
            "error_y": {
             "color": "#2a3f5f"
            },
            "marker": {
             "line": {
              "color": "#E5ECF6",
              "width": 0.5
             },
             "pattern": {
              "fillmode": "overlay",
              "size": 10,
              "solidity": 0.2
             }
            },
            "type": "bar"
           }
          ],
          "barpolar": [
           {
            "marker": {
             "line": {
              "color": "#E5ECF6",
              "width": 0.5
             },
             "pattern": {
              "fillmode": "overlay",
              "size": 10,
              "solidity": 0.2
             }
            },
            "type": "barpolar"
           }
          ],
          "carpet": [
           {
            "aaxis": {
             "endlinecolor": "#2a3f5f",
             "gridcolor": "white",
             "linecolor": "white",
             "minorgridcolor": "white",
             "startlinecolor": "#2a3f5f"
            },
            "baxis": {
             "endlinecolor": "#2a3f5f",
             "gridcolor": "white",
             "linecolor": "white",
             "minorgridcolor": "white",
             "startlinecolor": "#2a3f5f"
            },
            "type": "carpet"
           }
          ],
          "choropleth": [
           {
            "colorbar": {
             "outlinewidth": 0,
             "ticks": ""
            },
            "type": "choropleth"
           }
          ],
          "contour": [
           {
            "colorbar": {
             "outlinewidth": 0,
             "ticks": ""
            },
            "colorscale": [
             [
              0,
              "#0d0887"
             ],
             [
              0.1111111111111111,
              "#46039f"
             ],
             [
              0.2222222222222222,
              "#7201a8"
             ],
             [
              0.3333333333333333,
              "#9c179e"
             ],
             [
              0.4444444444444444,
              "#bd3786"
             ],
             [
              0.5555555555555556,
              "#d8576b"
             ],
             [
              0.6666666666666666,
              "#ed7953"
             ],
             [
              0.7777777777777778,
              "#fb9f3a"
             ],
             [
              0.8888888888888888,
              "#fdca26"
             ],
             [
              1,
              "#f0f921"
             ]
            ],
            "type": "contour"
           }
          ],
          "contourcarpet": [
           {
            "colorbar": {
             "outlinewidth": 0,
             "ticks": ""
            },
            "type": "contourcarpet"
           }
          ],
          "heatmap": [
           {
            "colorbar": {
             "outlinewidth": 0,
             "ticks": ""
            },
            "colorscale": [
             [
              0,
              "#0d0887"
             ],
             [
              0.1111111111111111,
              "#46039f"
             ],
             [
              0.2222222222222222,
              "#7201a8"
             ],
             [
              0.3333333333333333,
              "#9c179e"
             ],
             [
              0.4444444444444444,
              "#bd3786"
             ],
             [
              0.5555555555555556,
              "#d8576b"
             ],
             [
              0.6666666666666666,
              "#ed7953"
             ],
             [
              0.7777777777777778,
              "#fb9f3a"
             ],
             [
              0.8888888888888888,
              "#fdca26"
             ],
             [
              1,
              "#f0f921"
             ]
            ],
            "type": "heatmap"
           }
          ],
          "histogram": [
           {
            "marker": {
             "pattern": {
              "fillmode": "overlay",
              "size": 10,
              "solidity": 0.2
             }
            },
            "type": "histogram"
           }
          ],
          "histogram2d": [
           {
            "colorbar": {
             "outlinewidth": 0,
             "ticks": ""
            },
            "colorscale": [
             [
              0,
              "#0d0887"
             ],
             [
              0.1111111111111111,
              "#46039f"
             ],
             [
              0.2222222222222222,
              "#7201a8"
             ],
             [
              0.3333333333333333,
              "#9c179e"
             ],
             [
              0.4444444444444444,
              "#bd3786"
             ],
             [
              0.5555555555555556,
              "#d8576b"
             ],
             [
              0.6666666666666666,
              "#ed7953"
             ],
             [
              0.7777777777777778,
              "#fb9f3a"
             ],
             [
              0.8888888888888888,
              "#fdca26"
             ],
             [
              1,
              "#f0f921"
             ]
            ],
            "type": "histogram2d"
           }
          ],
          "histogram2dcontour": [
           {
            "colorbar": {
             "outlinewidth": 0,
             "ticks": ""
            },
            "colorscale": [
             [
              0,
              "#0d0887"
             ],
             [
              0.1111111111111111,
              "#46039f"
             ],
             [
              0.2222222222222222,
              "#7201a8"
             ],
             [
              0.3333333333333333,
              "#9c179e"
             ],
             [
              0.4444444444444444,
              "#bd3786"
             ],
             [
              0.5555555555555556,
              "#d8576b"
             ],
             [
              0.6666666666666666,
              "#ed7953"
             ],
             [
              0.7777777777777778,
              "#fb9f3a"
             ],
             [
              0.8888888888888888,
              "#fdca26"
             ],
             [
              1,
              "#f0f921"
             ]
            ],
            "type": "histogram2dcontour"
           }
          ],
          "mesh3d": [
           {
            "colorbar": {
             "outlinewidth": 0,
             "ticks": ""
            },
            "type": "mesh3d"
           }
          ],
          "parcoords": [
           {
            "line": {
             "colorbar": {
              "outlinewidth": 0,
              "ticks": ""
             }
            },
            "type": "parcoords"
           }
          ],
          "pie": [
           {
            "automargin": true,
            "type": "pie"
           }
          ],
          "scatter": [
           {
            "fillpattern": {
             "fillmode": "overlay",
             "size": 10,
             "solidity": 0.2
            },
            "type": "scatter"
           }
          ],
          "scatter3d": [
           {
            "line": {
             "colorbar": {
              "outlinewidth": 0,
              "ticks": ""
             }
            },
            "marker": {
             "colorbar": {
              "outlinewidth": 0,
              "ticks": ""
             }
            },
            "type": "scatter3d"
           }
          ],
          "scattercarpet": [
           {
            "marker": {
             "colorbar": {
              "outlinewidth": 0,
              "ticks": ""
             }
            },
            "type": "scattercarpet"
           }
          ],
          "scattergeo": [
           {
            "marker": {
             "colorbar": {
              "outlinewidth": 0,
              "ticks": ""
             }
            },
            "type": "scattergeo"
           }
          ],
          "scattergl": [
           {
            "marker": {
             "colorbar": {
              "outlinewidth": 0,
              "ticks": ""
             }
            },
            "type": "scattergl"
           }
          ],
          "scattermap": [
           {
            "marker": {
             "colorbar": {
              "outlinewidth": 0,
              "ticks": ""
             }
            },
            "type": "scattermap"
           }
          ],
          "scattermapbox": [
           {
            "marker": {
             "colorbar": {
              "outlinewidth": 0,
              "ticks": ""
             }
            },
            "type": "scattermapbox"
           }
          ],
          "scatterpolar": [
           {
            "marker": {
             "colorbar": {
              "outlinewidth": 0,
              "ticks": ""
             }
            },
            "type": "scatterpolar"
           }
          ],
          "scatterpolargl": [
           {
            "marker": {
             "colorbar": {
              "outlinewidth": 0,
              "ticks": ""
             }
            },
            "type": "scatterpolargl"
           }
          ],
          "scatterternary": [
           {
            "marker": {
             "colorbar": {
              "outlinewidth": 0,
              "ticks": ""
             }
            },
            "type": "scatterternary"
           }
          ],
          "surface": [
           {
            "colorbar": {
             "outlinewidth": 0,
             "ticks": ""
            },
            "colorscale": [
             [
              0,
              "#0d0887"
             ],
             [
              0.1111111111111111,
              "#46039f"
             ],
             [
              0.2222222222222222,
              "#7201a8"
             ],
             [
              0.3333333333333333,
              "#9c179e"
             ],
             [
              0.4444444444444444,
              "#bd3786"
             ],
             [
              0.5555555555555556,
              "#d8576b"
             ],
             [
              0.6666666666666666,
              "#ed7953"
             ],
             [
              0.7777777777777778,
              "#fb9f3a"
             ],
             [
              0.8888888888888888,
              "#fdca26"
             ],
             [
              1,
              "#f0f921"
             ]
            ],
            "type": "surface"
           }
          ],
          "table": [
           {
            "cells": {
             "fill": {
              "color": "#EBF0F8"
             },
             "line": {
              "color": "white"
             }
            },
            "header": {
             "fill": {
              "color": "#C8D4E3"
             },
             "line": {
              "color": "white"
             }
            },
            "type": "table"
           }
          ]
         },
         "layout": {
          "annotationdefaults": {
           "arrowcolor": "#2a3f5f",
           "arrowhead": 0,
           "arrowwidth": 1
          },
          "autotypenumbers": "strict",
          "coloraxis": {
           "colorbar": {
            "outlinewidth": 0,
            "ticks": ""
           }
          },
          "colorscale": {
           "diverging": [
            [
             0,
             "#8e0152"
            ],
            [
             0.1,
             "#c51b7d"
            ],
            [
             0.2,
             "#de77ae"
            ],
            [
             0.3,
             "#f1b6da"
            ],
            [
             0.4,
             "#fde0ef"
            ],
            [
             0.5,
             "#f7f7f7"
            ],
            [
             0.6,
             "#e6f5d0"
            ],
            [
             0.7,
             "#b8e186"
            ],
            [
             0.8,
             "#7fbc41"
            ],
            [
             0.9,
             "#4d9221"
            ],
            [
             1,
             "#276419"
            ]
           ],
           "sequential": [
            [
             0,
             "#0d0887"
            ],
            [
             0.1111111111111111,
             "#46039f"
            ],
            [
             0.2222222222222222,
             "#7201a8"
            ],
            [
             0.3333333333333333,
             "#9c179e"
            ],
            [
             0.4444444444444444,
             "#bd3786"
            ],
            [
             0.5555555555555556,
             "#d8576b"
            ],
            [
             0.6666666666666666,
             "#ed7953"
            ],
            [
             0.7777777777777778,
             "#fb9f3a"
            ],
            [
             0.8888888888888888,
             "#fdca26"
            ],
            [
             1,
             "#f0f921"
            ]
           ],
           "sequentialminus": [
            [
             0,
             "#0d0887"
            ],
            [
             0.1111111111111111,
             "#46039f"
            ],
            [
             0.2222222222222222,
             "#7201a8"
            ],
            [
             0.3333333333333333,
             "#9c179e"
            ],
            [
             0.4444444444444444,
             "#bd3786"
            ],
            [
             0.5555555555555556,
             "#d8576b"
            ],
            [
             0.6666666666666666,
             "#ed7953"
            ],
            [
             0.7777777777777778,
             "#fb9f3a"
            ],
            [
             0.8888888888888888,
             "#fdca26"
            ],
            [
             1,
             "#f0f921"
            ]
           ]
          },
          "colorway": [
           "#636efa",
           "#EF553B",
           "#00cc96",
           "#ab63fa",
           "#FFA15A",
           "#19d3f3",
           "#FF6692",
           "#B6E880",
           "#FF97FF",
           "#FECB52"
          ],
          "font": {
           "color": "#2a3f5f"
          },
          "geo": {
           "bgcolor": "white",
           "lakecolor": "white",
           "landcolor": "#E5ECF6",
           "showlakes": true,
           "showland": true,
           "subunitcolor": "white"
          },
          "hoverlabel": {
           "align": "left"
          },
          "hovermode": "closest",
          "mapbox": {
           "style": "light"
          },
          "paper_bgcolor": "white",
          "plot_bgcolor": "#E5ECF6",
          "polar": {
           "angularaxis": {
            "gridcolor": "white",
            "linecolor": "white",
            "ticks": ""
           },
           "bgcolor": "#E5ECF6",
           "radialaxis": {
            "gridcolor": "white",
            "linecolor": "white",
            "ticks": ""
           }
          },
          "scene": {
           "xaxis": {
            "backgroundcolor": "#E5ECF6",
            "gridcolor": "white",
            "gridwidth": 2,
            "linecolor": "white",
            "showbackground": true,
            "ticks": "",
            "zerolinecolor": "white"
           },
           "yaxis": {
            "backgroundcolor": "#E5ECF6",
            "gridcolor": "white",
            "gridwidth": 2,
            "linecolor": "white",
            "showbackground": true,
            "ticks": "",
            "zerolinecolor": "white"
           },
           "zaxis": {
            "backgroundcolor": "#E5ECF6",
            "gridcolor": "white",
            "gridwidth": 2,
            "linecolor": "white",
            "showbackground": true,
            "ticks": "",
            "zerolinecolor": "white"
           }
          },
          "shapedefaults": {
           "line": {
            "color": "#2a3f5f"
           }
          },
          "ternary": {
           "aaxis": {
            "gridcolor": "white",
            "linecolor": "white",
            "ticks": ""
           },
           "baxis": {
            "gridcolor": "white",
            "linecolor": "white",
            "ticks": ""
           },
           "bgcolor": "#E5ECF6",
           "caxis": {
            "gridcolor": "white",
            "linecolor": "white",
            "ticks": ""
           }
          },
          "title": {
           "x": 0.05
          },
          "xaxis": {
           "automargin": true,
           "gridcolor": "white",
           "linecolor": "white",
           "ticks": "",
           "title": {
            "standoff": 15
           },
           "zerolinecolor": "white",
           "zerolinewidth": 2
          },
          "yaxis": {
           "automargin": true,
           "gridcolor": "white",
           "linecolor": "white",
           "ticks": "",
           "title": {
            "standoff": 15
           },
           "zerolinecolor": "white",
           "zerolinewidth": 2
          }
         }
        },
        "title": {
         "text": "Site code: BRO"
        },
        "xaxis": {
         "anchor": "y",
         "domain": [
          0,
          1
         ],
         "title": {
          "text": "Year"
         }
        },
        "yaxis": {
         "anchor": "x",
         "domain": [
          0,
          1
         ],
         "title": {
          "text": "Value"
         }
        }
       }
      }
     },
     "metadata": {},
     "output_type": "display_data"
    },
    {
     "data": {
      "application/vnd.plotly.v1+json": {
       "config": {
        "plotlyServerURL": "https://plot.ly"
       },
       "data": [
        {
         "hovertemplate": "Year=%{x}<br>Value=%{y}<extra></extra>",
         "legendgroup": "",
         "line": {
          "color": "#636efa",
          "dash": "solid"
         },
         "marker": {
          "symbol": "circle"
         },
         "mode": "lines",
         "name": "",
         "orientation": "v",
         "showlegend": false,
         "type": "scatter",
         "x": [
          "1600",
          "1601",
          "1602",
          "1603",
          "1604",
          "1605",
          "1606",
          "1607",
          "1608",
          "1609",
          "1610",
          "1611",
          "1612",
          "1613",
          "1614",
          "1615",
          "1616",
          "1617",
          "1618",
          "1619",
          "1620",
          "1621",
          "1622",
          "1623",
          "1624",
          "1625",
          "1626",
          "1627",
          "1628",
          "1629",
          "1630",
          "1631",
          "1632",
          "1633",
          "1634",
          "1635",
          "1636",
          "1637",
          "1638",
          "1639",
          "1640",
          "1641",
          "1642",
          "1643",
          "1644",
          "1645",
          "1646",
          "1647",
          "1648",
          "1649",
          "1650",
          "1651",
          "1652",
          "1653",
          "1654",
          "1655",
          "1656",
          "1657",
          "1658",
          "1659",
          "1660",
          "1661",
          "1662",
          "1663",
          "1664",
          "1665",
          "1666",
          "1667",
          "1668",
          "1669",
          "1670",
          "1671",
          "1672",
          "1673",
          "1674",
          "1675",
          "1676",
          "1677",
          "1678",
          "1679",
          "1680",
          "1681",
          "1682",
          "1683",
          "1684",
          "1685",
          "1686",
          "1687",
          "1688",
          "1689",
          "1690",
          "1691",
          "1692",
          "1693",
          "1694",
          "1695",
          "1696",
          "1697",
          "1698",
          "1699",
          "1700",
          "1701",
          "1702",
          "1703",
          "1704",
          "1705",
          "1706",
          "1707",
          "1708",
          "1709",
          "1710",
          "1711",
          "1712",
          "1713",
          "1714",
          "1715",
          "1716",
          "1717",
          "1718",
          "1719",
          "1720",
          "1721",
          "1722",
          "1723",
          "1724",
          "1725",
          "1726",
          "1727",
          "1728",
          "1729",
          "1730",
          "1731",
          "1732",
          "1733",
          "1734",
          "1735",
          "1736",
          "1737",
          "1738",
          "1739",
          "1740",
          "1741",
          "1742",
          "1743",
          "1744",
          "1745",
          "1746",
          "1747",
          "1748",
          "1749",
          "1750",
          "1751",
          "1752",
          "1753",
          "1754",
          "1755",
          "1756",
          "1757",
          "1758",
          "1759",
          "1760",
          "1761",
          "1762",
          "1763",
          "1764",
          "1765",
          "1766",
          "1767",
          "1768",
          "1769",
          "1770",
          "1771",
          "1772",
          "1773",
          "1774",
          "1775",
          "1776",
          "1777",
          "1778",
          "1779",
          "1780",
          "1781",
          "1782",
          "1783",
          "1784",
          "1785",
          "1786",
          "1787",
          "1788",
          "1789",
          "1790",
          "1791",
          "1792",
          "1793",
          "1794",
          "1795",
          "1796",
          "1797",
          "1798",
          "1799",
          "1800",
          "1801",
          "1802",
          "1803",
          "1804",
          "1805",
          "1806",
          "1807",
          "1808",
          "1809",
          "1810",
          "1811",
          "1812",
          "1813",
          "1814",
          "1815",
          "1816",
          "1817",
          "1818",
          "1819",
          "1820",
          "1821",
          "1822",
          "1823",
          "1824",
          "1825",
          "1826",
          "1827",
          "1828",
          "1829",
          "1830",
          "1831",
          "1832",
          "1833",
          "1834",
          "1835",
          "1836",
          "1837",
          "1838",
          "1839",
          "1840",
          "1841",
          "1842",
          "1843",
          "1844",
          "1845",
          "1846",
          "1847",
          "1848",
          "1849",
          "1850",
          "1851",
          "1852",
          "1853",
          "1854",
          "1855",
          "1856",
          "1857",
          "1858",
          "1859",
          "1860",
          "1861",
          "1862",
          "1863",
          "1864",
          "1865",
          "1866",
          "1867",
          "1868",
          "1869",
          "1870",
          "1871",
          "1872",
          "1873",
          "1874",
          "1875",
          "1876",
          "1877",
          "1878",
          "1879",
          "1880",
          "1881",
          "1882",
          "1883",
          "1884",
          "1885",
          "1886",
          "1887",
          "1888",
          "1889",
          "1890",
          "1891",
          "1892",
          "1893",
          "1894",
          "1895",
          "1896",
          "1897",
          "1898",
          "1899",
          "1900",
          "1901",
          "1902",
          "1903",
          "1904",
          "1905",
          "1906",
          "1907",
          "1908",
          "1909",
          "1910",
          "1911",
          "1912",
          "1913",
          "1914",
          "1915",
          "1916",
          "1917",
          "1918",
          "1919",
          "1920",
          "1921",
          "1922",
          "1923",
          "1924",
          "1925",
          "1926",
          "1927",
          "1928",
          "1929",
          "1930",
          "1931",
          "1932",
          "1933",
          "1934",
          "1935",
          "1936",
          "1937",
          "1938",
          "1939",
          "1940",
          "1941",
          "1942",
          "1943",
          "1944",
          "1945",
          "1946",
          "1947",
          "1948",
          "1949",
          "1950",
          "1951",
          "1952",
          "1953",
          "1954",
          "1955",
          "1956",
          "1957",
          "1958",
          "1959",
          "1960",
          "1961",
          "1962",
          "1963",
          "1964",
          "1965",
          "1966",
          "1967",
          "1968",
          "1969",
          "1970",
          "1971",
          "1972",
          "1973",
          "1974",
          "1975",
          "1976",
          "1977",
          "1978",
          "1979",
          "1980",
          "1981",
          "1982",
          "1983",
          "1984",
          "1985",
          "1986",
          "1987",
          "1988",
          "1989",
          "1990",
          "1991",
          "1992",
          "1993",
          "1994",
          "1995",
          "1996",
          "1997",
          "1998",
          "1999",
          "2000",
          "2001",
          "2002",
          "2003",
          "2004",
          "2005"
         ],
         "xaxis": "x",
         "y": {
          "bdata": "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",
          "dtype": "f8"
         },
         "yaxis": "y"
        }
       ],
       "layout": {
        "legend": {
         "tracegroupgap": 0
        },
        "template": {
         "data": {
          "bar": [
           {
            "error_x": {
             "color": "#2a3f5f"
            },
            "error_y": {
             "color": "#2a3f5f"
            },
            "marker": {
             "line": {
              "color": "#E5ECF6",
              "width": 0.5
             },
             "pattern": {
              "fillmode": "overlay",
              "size": 10,
              "solidity": 0.2
             }
            },
            "type": "bar"
           }
          ],
          "barpolar": [
           {
            "marker": {
             "line": {
              "color": "#E5ECF6",
              "width": 0.5
             },
             "pattern": {
              "fillmode": "overlay",
              "size": 10,
              "solidity": 0.2
             }
            },
            "type": "barpolar"
           }
          ],
          "carpet": [
           {
            "aaxis": {
             "endlinecolor": "#2a3f5f",
             "gridcolor": "white",
             "linecolor": "white",
             "minorgridcolor": "white",
             "startlinecolor": "#2a3f5f"
            },
            "baxis": {
             "endlinecolor": "#2a3f5f",
             "gridcolor": "white",
             "linecolor": "white",
             "minorgridcolor": "white",
             "startlinecolor": "#2a3f5f"
            },
            "type": "carpet"
           }
          ],
          "choropleth": [
           {
            "colorbar": {
             "outlinewidth": 0,
             "ticks": ""
            },
            "type": "choropleth"
           }
          ],
          "contour": [
           {
            "colorbar": {
             "outlinewidth": 0,
             "ticks": ""
            },
            "colorscale": [
             [
              0,
              "#0d0887"
             ],
             [
              0.1111111111111111,
              "#46039f"
             ],
             [
              0.2222222222222222,
              "#7201a8"
             ],
             [
              0.3333333333333333,
              "#9c179e"
             ],
             [
              0.4444444444444444,
              "#bd3786"
             ],
             [
              0.5555555555555556,
              "#d8576b"
             ],
             [
              0.6666666666666666,
              "#ed7953"
             ],
             [
              0.7777777777777778,
              "#fb9f3a"
             ],
             [
              0.8888888888888888,
              "#fdca26"
             ],
             [
              1,
              "#f0f921"
             ]
            ],
            "type": "contour"
           }
          ],
          "contourcarpet": [
           {
            "colorbar": {
             "outlinewidth": 0,
             "ticks": ""
            },
            "type": "contourcarpet"
           }
          ],
          "heatmap": [
           {
            "colorbar": {
             "outlinewidth": 0,
             "ticks": ""
            },
            "colorscale": [
             [
              0,
              "#0d0887"
             ],
             [
              0.1111111111111111,
              "#46039f"
             ],
             [
              0.2222222222222222,
              "#7201a8"
             ],
             [
              0.3333333333333333,
              "#9c179e"
             ],
             [
              0.4444444444444444,
              "#bd3786"
             ],
             [
              0.5555555555555556,
              "#d8576b"
             ],
             [
              0.6666666666666666,
              "#ed7953"
             ],
             [
              0.7777777777777778,
              "#fb9f3a"
             ],
             [
              0.8888888888888888,
              "#fdca26"
             ],
             [
              1,
              "#f0f921"
             ]
            ],
            "type": "heatmap"
           }
          ],
          "histogram": [
           {
            "marker": {
             "pattern": {
              "fillmode": "overlay",
              "size": 10,
              "solidity": 0.2
             }
            },
            "type": "histogram"
           }
          ],
          "histogram2d": [
           {
            "colorbar": {
             "outlinewidth": 0,
             "ticks": ""
            },
            "colorscale": [
             [
              0,
              "#0d0887"
             ],
             [
              0.1111111111111111,
              "#46039f"
             ],
             [
              0.2222222222222222,
              "#7201a8"
             ],
             [
              0.3333333333333333,
              "#9c179e"
             ],
             [
              0.4444444444444444,
              "#bd3786"
             ],
             [
              0.5555555555555556,
              "#d8576b"
             ],
             [
              0.6666666666666666,
              "#ed7953"
             ],
             [
              0.7777777777777778,
              "#fb9f3a"
             ],
             [
              0.8888888888888888,
              "#fdca26"
             ],
             [
              1,
              "#f0f921"
             ]
            ],
            "type": "histogram2d"
           }
          ],
          "histogram2dcontour": [
           {
            "colorbar": {
             "outlinewidth": 0,
             "ticks": ""
            },
            "colorscale": [
             [
              0,
              "#0d0887"
             ],
             [
              0.1111111111111111,
              "#46039f"
             ],
             [
              0.2222222222222222,
              "#7201a8"
             ],
             [
              0.3333333333333333,
              "#9c179e"
             ],
             [
              0.4444444444444444,
              "#bd3786"
             ],
             [
              0.5555555555555556,
              "#d8576b"
             ],
             [
              0.6666666666666666,
              "#ed7953"
             ],
             [
              0.7777777777777778,
              "#fb9f3a"
             ],
             [
              0.8888888888888888,
              "#fdca26"
             ],
             [
              1,
              "#f0f921"
             ]
            ],
            "type": "histogram2dcontour"
           }
          ],
          "mesh3d": [
           {
            "colorbar": {
             "outlinewidth": 0,
             "ticks": ""
            },
            "type": "mesh3d"
           }
          ],
          "parcoords": [
           {
            "line": {
             "colorbar": {
              "outlinewidth": 0,
              "ticks": ""
             }
            },
            "type": "parcoords"
           }
          ],
          "pie": [
           {
            "automargin": true,
            "type": "pie"
           }
          ],
          "scatter": [
           {
            "fillpattern": {
             "fillmode": "overlay",
             "size": 10,
             "solidity": 0.2
            },
            "type": "scatter"
           }
          ],
          "scatter3d": [
           {
            "line": {
             "colorbar": {
              "outlinewidth": 0,
              "ticks": ""
             }
            },
            "marker": {
             "colorbar": {
              "outlinewidth": 0,
              "ticks": ""
             }
            },
            "type": "scatter3d"
           }
          ],
          "scattercarpet": [
           {
            "marker": {
             "colorbar": {
              "outlinewidth": 0,
              "ticks": ""
             }
            },
            "type": "scattercarpet"
           }
          ],
          "scattergeo": [
           {
            "marker": {
             "colorbar": {
              "outlinewidth": 0,
              "ticks": ""
             }
            },
            "type": "scattergeo"
           }
          ],
          "scattergl": [
           {
            "marker": {
             "colorbar": {
              "outlinewidth": 0,
              "ticks": ""
             }
            },
            "type": "scattergl"
           }
          ],
          "scattermap": [
           {
            "marker": {
             "colorbar": {
              "outlinewidth": 0,
              "ticks": ""
             }
            },
            "type": "scattermap"
           }
          ],
          "scattermapbox": [
           {
            "marker": {
             "colorbar": {
              "outlinewidth": 0,
              "ticks": ""
             }
            },
            "type": "scattermapbox"
           }
          ],
          "scatterpolar": [
           {
            "marker": {
             "colorbar": {
              "outlinewidth": 0,
              "ticks": ""
             }
            },
            "type": "scatterpolar"
           }
          ],
          "scatterpolargl": [
           {
            "marker": {
             "colorbar": {
              "outlinewidth": 0,
              "ticks": ""
             }
            },
            "type": "scatterpolargl"
           }
          ],
          "scatterternary": [
           {
            "marker": {
             "colorbar": {
              "outlinewidth": 0,
              "ticks": ""
             }
            },
            "type": "scatterternary"
           }
          ],
          "surface": [
           {
            "colorbar": {
             "outlinewidth": 0,
             "ticks": ""
            },
            "colorscale": [
             [
              0,
              "#0d0887"
             ],
             [
              0.1111111111111111,
              "#46039f"
             ],
             [
              0.2222222222222222,
              "#7201a8"
             ],
             [
              0.3333333333333333,
              "#9c179e"
             ],
             [
              0.4444444444444444,
              "#bd3786"
             ],
             [
              0.5555555555555556,
              "#d8576b"
             ],
             [
              0.6666666666666666,
              "#ed7953"
             ],
             [
              0.7777777777777778,
              "#fb9f3a"
             ],
             [
              0.8888888888888888,
              "#fdca26"
             ],
             [
              1,
              "#f0f921"
             ]
            ],
            "type": "surface"
           }
          ],
          "table": [
           {
            "cells": {
             "fill": {
              "color": "#EBF0F8"
             },
             "line": {
              "color": "white"
             }
            },
            "header": {
             "fill": {
              "color": "#C8D4E3"
             },
             "line": {
              "color": "white"
             }
            },
            "type": "table"
           }
          ]
         },
         "layout": {
          "annotationdefaults": {
           "arrowcolor": "#2a3f5f",
           "arrowhead": 0,
           "arrowwidth": 1
          },
          "autotypenumbers": "strict",
          "coloraxis": {
           "colorbar": {
            "outlinewidth": 0,
            "ticks": ""
           }
          },
          "colorscale": {
           "diverging": [
            [
             0,
             "#8e0152"
            ],
            [
             0.1,
             "#c51b7d"
            ],
            [
             0.2,
             "#de77ae"
            ],
            [
             0.3,
             "#f1b6da"
            ],
            [
             0.4,
             "#fde0ef"
            ],
            [
             0.5,
             "#f7f7f7"
            ],
            [
             0.6,
             "#e6f5d0"
            ],
            [
             0.7,
             "#b8e186"
            ],
            [
             0.8,
             "#7fbc41"
            ],
            [
             0.9,
             "#4d9221"
            ],
            [
             1,
             "#276419"
            ]
           ],
           "sequential": [
            [
             0,
             "#0d0887"
            ],
            [
             0.1111111111111111,
             "#46039f"
            ],
            [
             0.2222222222222222,
             "#7201a8"
            ],
            [
             0.3333333333333333,
             "#9c179e"
            ],
            [
             0.4444444444444444,
             "#bd3786"
            ],
            [
             0.5555555555555556,
             "#d8576b"
            ],
            [
             0.6666666666666666,
             "#ed7953"
            ],
            [
             0.7777777777777778,
             "#fb9f3a"
            ],
            [
             0.8888888888888888,
             "#fdca26"
            ],
            [
             1,
             "#f0f921"
            ]
           ],
           "sequentialminus": [
            [
             0,
             "#0d0887"
            ],
            [
             0.1111111111111111,
             "#46039f"
            ],
            [
             0.2222222222222222,
             "#7201a8"
            ],
            [
             0.3333333333333333,
             "#9c179e"
            ],
            [
             0.4444444444444444,
             "#bd3786"
            ],
            [
             0.5555555555555556,
             "#d8576b"
            ],
            [
             0.6666666666666666,
             "#ed7953"
            ],
            [
             0.7777777777777778,
             "#fb9f3a"
            ],
            [
             0.8888888888888888,
             "#fdca26"
            ],
            [
             1,
             "#f0f921"
            ]
           ]
          },
          "colorway": [
           "#636efa",
           "#EF553B",
           "#00cc96",
           "#ab63fa",
           "#FFA15A",
           "#19d3f3",
           "#FF6692",
           "#B6E880",
           "#FF97FF",
           "#FECB52"
          ],
          "font": {
           "color": "#2a3f5f"
          },
          "geo": {
           "bgcolor": "white",
           "lakecolor": "white",
           "landcolor": "#E5ECF6",
           "showlakes": true,
           "showland": true,
           "subunitcolor": "white"
          },
          "hoverlabel": {
           "align": "left"
          },
          "hovermode": "closest",
          "mapbox": {
           "style": "light"
          },
          "paper_bgcolor": "white",
          "plot_bgcolor": "#E5ECF6",
          "polar": {
           "angularaxis": {
            "gridcolor": "white",
            "linecolor": "white",
            "ticks": ""
           },
           "bgcolor": "#E5ECF6",
           "radialaxis": {
            "gridcolor": "white",
            "linecolor": "white",
            "ticks": ""
           }
          },
          "scene": {
           "xaxis": {
            "backgroundcolor": "#E5ECF6",
            "gridcolor": "white",
            "gridwidth": 2,
            "linecolor": "white",
            "showbackground": true,
            "ticks": "",
            "zerolinecolor": "white"
           },
           "yaxis": {
            "backgroundcolor": "#E5ECF6",
            "gridcolor": "white",
            "gridwidth": 2,
            "linecolor": "white",
            "showbackground": true,
            "ticks": "",
            "zerolinecolor": "white"
           },
           "zaxis": {
            "backgroundcolor": "#E5ECF6",
            "gridcolor": "white",
            "gridwidth": 2,
            "linecolor": "white",
            "showbackground": true,
            "ticks": "",
            "zerolinecolor": "white"
           }
          },
          "shapedefaults": {
           "line": {
            "color": "#2a3f5f"
           }
          },
          "ternary": {
           "aaxis": {
            "gridcolor": "white",
            "linecolor": "white",
            "ticks": ""
           },
           "baxis": {
            "gridcolor": "white",
            "linecolor": "white",
            "ticks": ""
           },
           "bgcolor": "#E5ECF6",
           "caxis": {
            "gridcolor": "white",
            "linecolor": "white",
            "ticks": ""
           }
          },
          "title": {
           "x": 0.05
          },
          "xaxis": {
           "automargin": true,
           "gridcolor": "white",
           "linecolor": "white",
           "ticks": "",
           "title": {
            "standoff": 15
           },
           "zerolinecolor": "white",
           "zerolinewidth": 2
          },
          "yaxis": {
           "automargin": true,
           "gridcolor": "white",
           "linecolor": "white",
           "ticks": "",
           "title": {
            "standoff": 15
           },
           "zerolinecolor": "white",
           "zerolinewidth": 2
          }
         }
        },
        "title": {
         "text": "Site code: CAZ "
        },
        "xaxis": {
         "anchor": "y",
         "domain": [
          0,
          1
         ],
         "title": {
          "text": "Year"
         }
        },
        "yaxis": {
         "anchor": "x",
         "domain": [
          0,
          1
         ],
         "title": {
          "text": "Value"
         }
        }
       }
      }
     },
     "metadata": {},
     "output_type": "display_data"
    },
    {
     "data": {
      "application/vnd.plotly.v1+json": {
       "config": {
        "plotlyServerURL": "https://plot.ly"
       },
       "data": [
        {
         "hovertemplate": "Year=%{x}<br>Value=%{y}<extra></extra>",
         "legendgroup": "",
         "line": {
          "color": "#636efa",
          "dash": "solid"
         },
         "marker": {
          "symbol": "circle"
         },
         "mode": "lines",
         "name": "",
         "orientation": "v",
         "showlegend": false,
         "type": "scatter",
         "x": [
          "1600",
          "1601",
          "1602",
          "1603",
          "1604",
          "1605",
          "1606",
          "1607",
          "1608",
          "1609",
          "1610",
          "1611",
          "1612",
          "1613",
          "1614",
          "1615",
          "1616",
          "1617",
          "1618",
          "1619",
          "1620",
          "1621",
          "1622",
          "1623",
          "1624",
          "1625",
          "1626",
          "1627",
          "1628",
          "1629",
          "1630",
          "1631",
          "1632",
          "1633",
          "1634",
          "1635",
          "1636",
          "1637",
          "1638",
          "1639",
          "1640",
          "1641",
          "1642",
          "1643",
          "1644",
          "1645",
          "1646",
          "1647",
          "1648",
          "1649",
          "1650",
          "1651",
          "1652",
          "1653",
          "1654",
          "1655",
          "1656",
          "1657",
          "1658",
          "1659",
          "1660",
          "1661",
          "1662",
          "1663",
          "1664",
          "1665",
          "1666",
          "1667",
          "1668",
          "1669",
          "1670",
          "1671",
          "1672",
          "1673",
          "1674",
          "1675",
          "1676",
          "1677",
          "1678",
          "1679",
          "1680",
          "1681",
          "1682",
          "1683",
          "1684",
          "1685",
          "1686",
          "1687",
          "1688",
          "1689",
          "1690",
          "1691",
          "1692",
          "1693",
          "1694",
          "1695",
          "1696",
          "1697",
          "1698",
          "1699",
          "1700",
          "1701",
          "1702",
          "1703",
          "1704",
          "1705",
          "1706",
          "1707",
          "1708",
          "1709",
          "1710",
          "1711",
          "1712",
          "1713",
          "1714",
          "1715",
          "1716",
          "1717",
          "1718",
          "1719",
          "1720",
          "1721",
          "1722",
          "1723",
          "1724",
          "1725",
          "1726",
          "1727",
          "1728",
          "1729",
          "1730",
          "1731",
          "1732",
          "1733",
          "1734",
          "1735",
          "1736",
          "1737",
          "1738",
          "1739",
          "1740",
          "1741",
          "1742",
          "1743",
          "1744",
          "1745",
          "1746",
          "1747",
          "1748",
          "1749",
          "1750",
          "1751",
          "1752",
          "1753",
          "1754",
          "1755",
          "1756",
          "1757",
          "1758",
          "1759",
          "1760",
          "1761",
          "1762",
          "1763",
          "1764",
          "1765",
          "1766",
          "1767",
          "1768",
          "1769",
          "1770",
          "1771",
          "1772",
          "1773",
          "1774",
          "1775",
          "1776",
          "1777",
          "1778",
          "1779",
          "1780",
          "1781",
          "1782",
          "1783",
          "1784",
          "1785",
          "1786",
          "1787",
          "1788",
          "1789",
          "1790",
          "1791",
          "1792",
          "1793",
          "1794",
          "1795",
          "1796",
          "1797",
          "1798",
          "1799",
          "1800",
          "1801",
          "1802",
          "1803",
          "1804",
          "1805",
          "1806",
          "1807",
          "1808",
          "1809",
          "1810",
          "1811",
          "1812",
          "1813",
          "1814",
          "1815",
          "1816",
          "1817",
          "1818",
          "1819",
          "1820",
          "1821",
          "1822",
          "1823",
          "1824",
          "1825",
          "1826",
          "1827",
          "1828",
          "1829",
          "1830",
          "1831",
          "1832",
          "1833",
          "1834",
          "1835",
          "1836",
          "1837",
          "1838",
          "1839",
          "1840",
          "1841",
          "1842",
          "1843",
          "1844",
          "1845",
          "1846",
          "1847",
          "1848",
          "1849",
          "1850",
          "1851",
          "1852",
          "1853",
          "1854",
          "1855",
          "1856",
          "1857",
          "1858",
          "1859",
          "1860",
          "1861",
          "1862",
          "1863",
          "1864",
          "1865",
          "1866",
          "1867",
          "1868",
          "1869",
          "1870",
          "1871",
          "1872",
          "1873",
          "1874",
          "1875",
          "1876",
          "1877",
          "1878",
          "1879",
          "1880",
          "1881",
          "1882",
          "1883",
          "1884",
          "1885",
          "1886",
          "1887",
          "1888",
          "1889",
          "1890",
          "1891",
          "1892",
          "1893",
          "1894",
          "1895",
          "1896",
          "1897",
          "1898",
          "1899",
          "1900",
          "1901",
          "1902",
          "1903",
          "1904",
          "1905",
          "1906",
          "1907",
          "1908",
          "1909",
          "1910",
          "1911",
          "1912",
          "1913",
          "1914",
          "1915",
          "1916",
          "1917",
          "1918",
          "1919",
          "1920",
          "1921",
          "1922",
          "1923",
          "1924",
          "1925",
          "1926",
          "1927",
          "1928",
          "1929",
          "1930",
          "1931",
          "1932",
          "1933",
          "1934",
          "1935",
          "1936",
          "1937",
          "1938",
          "1939",
          "1940",
          "1941",
          "1942",
          "1943",
          "1944",
          "1945",
          "1946",
          "1947",
          "1948",
          "1949",
          "1950",
          "1951",
          "1952",
          "1953",
          "1954",
          "1955",
          "1956",
          "1957",
          "1958",
          "1959",
          "1960",
          "1961",
          "1962",
          "1963",
          "1964",
          "1965",
          "1966",
          "1967",
          "1968",
          "1969",
          "1970",
          "1971",
          "1972",
          "1973",
          "1974",
          "1975",
          "1976",
          "1977",
          "1978",
          "1979",
          "1980",
          "1981",
          "1982",
          "1983",
          "1984",
          "1985",
          "1986",
          "1987",
          "1988",
          "1989",
          "1990",
          "1991",
          "1992",
          "1993",
          "1994",
          "1995",
          "1996",
          "1997",
          "1998",
          "1999",
          "2000",
          "2001",
          "2002",
          "2003",
          "2004",
          "2005"
         ],
         "xaxis": "x",
         "y": {
          "bdata": "zczMzMzMN8CamZmZmZk2wGZmZmZmZjfAzczMzMxMN8BmZmZmZuY3wM3MzMzMTDfAMzMzMzMzN8DNzMzMzMw3wJqZmZmZmTfAzczMzMxMN8CamZmZmRk3wDMzMzMzMzfAAAAAAAAAN8CamZmZmRk3wJqZmZmZmTfAzczMzMxMN8AAAAAAAIA3wJqZmZmZGTfAAAAAAACAN8AAAAAAAIA3wAAAAAAAADjAMzMzMzMzN8AAAAAAAAA3wJqZmZmZmTfAMzMzMzMzN8DNzMzMzEw3wJqZmZmZGTfAmpmZmZmZN8DNzMzMzEw3wAAAAAAAADfAzczMzMxMN8AAAAAAAAA3wJqZmZmZmTfAzczMzMxMN8CamZmZmRk3wGZmZmZm5jfAZmZmZmZmN8BmZmZmZuY3wJqZmZmZGTfAzczMzMxMN8AAAAAAAAA3wJqZmZmZmTfAAAAAAACAN8DNzMzMzEw3wGZmZmZmZjfAmpmZmZmZN8CamZmZmZk3wDMzMzMzszfAmpmZmZkZN8CamZmZmRk3wAAAAAAAgDfAZmZmZmZmN8AAAAAAAAA3wGZmZmZmZjfAmpmZmZkZN8BmZmZmZuY2wDMzMzMzMzfAzczMzMxMN8AAAAAAAAA3wM3MzMzMzDbAZmZmZmbmNsCamZmZmRk3wAAAAAAAgDfAmpmZmZkZN8AAAAAAAIA2wM3MzMzMTDbAzczMzMzMNsAAAAAAAAA3wDMzMzMzszfAMzMzMzOzN8CamZmZmZk2wDMzMzMzszbAzczMzMxMN8AzMzMzM7M2wGZmZmZm5jbAmpmZmZmZNsDNzMzMzEw2wGZmZmZm5jbAMzMzMzOzN8BmZmZmZmY3wAAAAAAAgDfAmpmZmZmZN8DNzMzMzMw3wAAAAAAAgDfAzczMzMxMNsDNzMzMzEw3wAAAAAAAADfAMzMzMzMzN8BmZmZmZmY3wDMzMzMzszbAZmZmZmbmNsDNzMzMzMw2wM3MzMzMzDbAAAAAAACAN8CamZmZmRk3wGZmZmZm5jbAZmZmZmbmNsAAAAAAAIA2wDMzMzMzszbAzczMzMxMN8BmZmZmZmY3wJqZmZmZmTfAzczMzMzMNsAzMzMzM7M2wM3MzMzMTDfAAAAAAAAAN8CamZmZmRk3wM3MzMzMzDbAMzMzMzMzN8BmZmZmZmY2wDMzMzMzszbAMzMzMzOzNsAAAAAAAAA3wJqZmZmZGTfAAAAAAAAAN8BmZmZmZuY2wAAAAAAAADfAMzMzMzMzN8AAAAAAAAA3wJqZmZmZGTfAZmZmZmZmN8BmZmZmZmY3wDMzMzMzMzfAZmZmZmZmN8CamZmZmZk3wM3MzMzMTDfAmpmZmZkZN8AAAAAAAIA3wJqZmZmZmTfAAAAAAAAAN8CamZmZmZk2wDMzMzMzszfAzczMzMxMN8BmZmZmZuY2wM3MzMzMzDbAAAAAAAAAN8AzMzMzMzM3wGZmZmZmZjfAZmZmZmZmNsAzMzMzM7M2wM3MzMzMzDbAZmZmZmbmNsAAAAAAAAA3wM3MzMzMTDfAMzMzMzMzN8CamZmZmRk3wM3MzMzMTDfAzczMzMxMN8BmZmZmZmY3wDMzMzMzMzfAMzMzMzMzN8DNzMzMzEw3wJqZmZmZmTbAZmZmZmZmN8AAAAAAAAA3wDMzMzMzszbAAAAAAACANsDNzMzMzMw2wAAAAAAAgDfAmpmZmZkZN8AzMzMzMzM3wJqZmZmZmTbAZmZmZmbmNsBmZmZmZuY2wGZmZmZm5jbAZmZmZmbmNsDNzMzMzMw2wJqZmZmZmTfAzczMzMzMN8AAAAAAAIA3wAAAAAAAgDfAZmZmZmZmN8AzMzMzMzM3wGZmZmZmZjfAAAAAAAAAN8BmZmZmZmY3wM3MzMzMTDfAMzMzMzOzN8AzMzMzM7M3wJqZmZmZGTfAZmZmZmZmN8AAAAAAAIA3wGZmZmZmZjfAAAAAAAAAN8AzMzMzM7M3wGZmZmZmZjfAMzMzMzMzN8DNzMzMzEw4wAAAAAAAADjAMzMzMzOzNsAzMzMzM7M3wAAAAAAAgDfAAAAAAACAN8BmZmZmZmY3wJqZmZmZmTfAMzMzMzOzN8CamZmZmRk3wJqZmZmZmTfAAAAAAAAAN8DNzMzMzMw3wDMzMzMzMzjAZmZmZmZmN8DNzMzMzMw3wM3MzMzMzDfAmpmZmZmZN8AAAAAAAAA4wJqZmZmZGTjAzczMzMzMN8AzMzMzM7M3wJqZmZmZmTfAMzMzMzOzN8AzMzMzMzM3wDMzMzMzszfAmpmZmZmZN8CamZmZmZk3wGZmZmZm5jfAmpmZmZkZN8CamZmZmZk3wM3MzMzMTDfAZmZmZmZmN8CamZmZmZk3wJqZmZmZGTjAMzMzMzOzN8AzMzMzMzM3wM3MzMzMzDfAmpmZmZmZN8CamZmZmRk3wDMzMzMzszfAAAAAAACAN8BmZmZmZuY2wJqZmZmZmTfAZmZmZmbmNsCamZmZmZk3wGZmZmZmZjfAMzMzMzMzN8DNzMzMzMw3wDMzMzMzMzjAMzMzMzOzN8DNzMzMzMw3wJqZmZmZmTfAMzMzMzOzN8AzMzMzM7M3wGZmZmZmZjfAzczMzMzMN8CamZmZmRk4wJqZmZmZmTfAAAAAAACAN8CamZmZmZk3wM3MzMzMzDfAzczMzMxMN8AzMzMzMzM3wGZmZmZmZjfAMzMzMzOzN8AAAAAAAIA3wDMzMzMzMzfAZmZmZmZmN8DNzMzMzMw3wDMzMzMzMzfAmpmZmZmZNsCamZmZmZk3wDMzMzMzszfAzczMzMxMN8DNzMzMzMw3wAAAAAAAgDfAZmZmZmbmNsAzMzMzMzM3wGZmZmZmZjfAZmZmZmZmN8CamZmZmRk3wAAAAAAAgDfAAAAAAACAN8AzMzMzM7M3wAAAAAAAgDfAzczMzMxMN8DNzMzMzEw3wAAAAAAAADfAAAAAAACAN8AAAAAAAAA4wDMzMzMzMzjAZmZmZmZmN8CamZmZmZk2wAAAAAAAgDfAZmZmZmZmN8DNzMzMzEw3wJqZmZmZmTfAZmZmZmbmNsDNzMzMzEw3wGZmZmZmZjfAmpmZmZmZN8CamZmZmRk3wGZmZmZmZjfAAAAAAAAAN8BmZmZmZuY3wJqZmZmZGTfAzczMzMxMN8DNzMzMzMw3wM3MzMzMTDfAZmZmZmZmN8DNzMzMzMw3wAAAAAAAADjAAAAAAAAAOMBmZmZmZmY3wGZmZmZm5jfAmpmZmZmZN8BmZmZmZuY3wAAAAAAAADjAAAAAAAAAOMBmZmZmZmY4wGZmZmZmZjjAZmZmZmbmOMCamZmZmZk4wM3MzMzMTDjAZmZmZmZmN8AAAAAAAIA3wGZmZmZm5jfAAAAAAAAAOMAAAAAAAIA4wGZmZmZmZjjAAAAAAACAOMDNzMzMzMw3wM3MzMzMzDfAAAAAAAAAOMDNzMzMzEw4wAAAAAAAgDjAMzMzMzOzN8AAAAAAAAA3wDMzMzMzszfAAAAAAACAN8CamZmZmZk4wGZmZmZmZjjAMzMzMzOzN8CamZmZmZk3wDMzMzMzszfAAAAAAAAAOMAAAAAAAAA4wM3MzMzMTDjAAAAAAAAAOMDNzMzMzMw3wM3MzMzMzDfAzczMzMzMN8AAAAAAAAA4wM3MzMzMzDfAzczMzMxMOMAAAAAAAIA4wM3MzMzMTDjAmpmZmZkZOMDNzMzMzMw3wGZmZmZm5jfAMzMzMzOzOMAzMzMzM7M4wM3MzMzMTDjAZmZmZmbmN8CamZmZmRk4wDMzMzMzMzjAZmZmZmZmOMCamZmZmRk4wM3MzMzMTDjAzczMzMxMOMAzMzMzM7M4wJqZmZmZGTjAmpmZmZkZOMCamZmZmZk4wDMzMzMzMznAmpmZmZmZOMDNzMzMzEw4wJqZmZmZmTjAAAAAAACAOMCamZmZmZk4wAAAAAAAADnAZmZmZmbmOMAzMzMzM7M4wGZmZmZm5jjAmpmZmZkZOMCamZmZmRk4wAAAAAAAgDjAzczMzMxMOMDNzMzMzMw4wAAAAAAAADnAzczMzMzMOMDNzMzMzMw4wAAAAAAAgDjAZmZmZmbmOMBmZmZmZuY4wJqZmZmZGTnAMzMzMzMzOcBmZmZmZmY5wAAAAAAAADnAMzMzMzOzOcBmZmZmZuY4wGZmZmZm5jjAMzMzMzOzOcCamZmZmZk5wGZmZmZm5jnAMzMzMzOzOcAAAAAAAAA5wM3MzMzMTDnAZmZmZmbmOcBmZmZmZmY5wDMzMzMzsznAmpmZmZmZOcAAAAAAAAA6wDMzMzMzsznAMzMzMzOzOcAAAAAAAAD4fwAAAAAAAPh/AAAAAAAA+H8=",
          "dtype": "f8"
         },
         "yaxis": "y"
        }
       ],
       "layout": {
        "legend": {
         "tracegroupgap": 0
        },
        "template": {
         "data": {
          "bar": [
           {
            "error_x": {
             "color": "#2a3f5f"
            },
            "error_y": {
             "color": "#2a3f5f"
            },
            "marker": {
             "line": {
              "color": "#E5ECF6",
              "width": 0.5
             },
             "pattern": {
              "fillmode": "overlay",
              "size": 10,
              "solidity": 0.2
             }
            },
            "type": "bar"
           }
          ],
          "barpolar": [
           {
            "marker": {
             "line": {
              "color": "#E5ECF6",
              "width": 0.5
             },
             "pattern": {
              "fillmode": "overlay",
              "size": 10,
              "solidity": 0.2
             }
            },
            "type": "barpolar"
           }
          ],
          "carpet": [
           {
            "aaxis": {
             "endlinecolor": "#2a3f5f",
             "gridcolor": "white",
             "linecolor": "white",
             "minorgridcolor": "white",
             "startlinecolor": "#2a3f5f"
            },
            "baxis": {
             "endlinecolor": "#2a3f5f",
             "gridcolor": "white",
             "linecolor": "white",
             "minorgridcolor": "white",
             "startlinecolor": "#2a3f5f"
            },
            "type": "carpet"
           }
          ],
          "choropleth": [
           {
            "colorbar": {
             "outlinewidth": 0,
             "ticks": ""
            },
            "type": "choropleth"
           }
          ],
          "contour": [
           {
            "colorbar": {
             "outlinewidth": 0,
             "ticks": ""
            },
            "colorscale": [
             [
              0,
              "#0d0887"
             ],
             [
              0.1111111111111111,
              "#46039f"
             ],
             [
              0.2222222222222222,
              "#7201a8"
             ],
             [
              0.3333333333333333,
              "#9c179e"
             ],
             [
              0.4444444444444444,
              "#bd3786"
             ],
             [
              0.5555555555555556,
              "#d8576b"
             ],
             [
              0.6666666666666666,
              "#ed7953"
             ],
             [
              0.7777777777777778,
              "#fb9f3a"
             ],
             [
              0.8888888888888888,
              "#fdca26"
             ],
             [
              1,
              "#f0f921"
             ]
            ],
            "type": "contour"
           }
          ],
          "contourcarpet": [
           {
            "colorbar": {
             "outlinewidth": 0,
             "ticks": ""
            },
            "type": "contourcarpet"
           }
          ],
          "heatmap": [
           {
            "colorbar": {
             "outlinewidth": 0,
             "ticks": ""
            },
            "colorscale": [
             [
              0,
              "#0d0887"
             ],
             [
              0.1111111111111111,
              "#46039f"
             ],
             [
              0.2222222222222222,
              "#7201a8"
             ],
             [
              0.3333333333333333,
              "#9c179e"
             ],
             [
              0.4444444444444444,
              "#bd3786"
             ],
             [
              0.5555555555555556,
              "#d8576b"
             ],
             [
              0.6666666666666666,
              "#ed7953"
             ],
             [
              0.7777777777777778,
              "#fb9f3a"
             ],
             [
              0.8888888888888888,
              "#fdca26"
             ],
             [
              1,
              "#f0f921"
             ]
            ],
            "type": "heatmap"
           }
          ],
          "histogram": [
           {
            "marker": {
             "pattern": {
              "fillmode": "overlay",
              "size": 10,
              "solidity": 0.2
             }
            },
            "type": "histogram"
           }
          ],
          "histogram2d": [
           {
            "colorbar": {
             "outlinewidth": 0,
             "ticks": ""
            },
            "colorscale": [
             [
              0,
              "#0d0887"
             ],
             [
              0.1111111111111111,
              "#46039f"
             ],
             [
              0.2222222222222222,
              "#7201a8"
             ],
             [
              0.3333333333333333,
              "#9c179e"
             ],
             [
              0.4444444444444444,
              "#bd3786"
             ],
             [
              0.5555555555555556,
              "#d8576b"
             ],
             [
              0.6666666666666666,
              "#ed7953"
             ],
             [
              0.7777777777777778,
              "#fb9f3a"
             ],
             [
              0.8888888888888888,
              "#fdca26"
             ],
             [
              1,
              "#f0f921"
             ]
            ],
            "type": "histogram2d"
           }
          ],
          "histogram2dcontour": [
           {
            "colorbar": {
             "outlinewidth": 0,
             "ticks": ""
            },
            "colorscale": [
             [
              0,
              "#0d0887"
             ],
             [
              0.1111111111111111,
              "#46039f"
             ],
             [
              0.2222222222222222,
              "#7201a8"
             ],
             [
              0.3333333333333333,
              "#9c179e"
             ],
             [
              0.4444444444444444,
              "#bd3786"
             ],
             [
              0.5555555555555556,
              "#d8576b"
             ],
             [
              0.6666666666666666,
              "#ed7953"
             ],
             [
              0.7777777777777778,
              "#fb9f3a"
             ],
             [
              0.8888888888888888,
              "#fdca26"
             ],
             [
              1,
              "#f0f921"
             ]
            ],
            "type": "histogram2dcontour"
           }
          ],
          "mesh3d": [
           {
            "colorbar": {
             "outlinewidth": 0,
             "ticks": ""
            },
            "type": "mesh3d"
           }
          ],
          "parcoords": [
           {
            "line": {
             "colorbar": {
              "outlinewidth": 0,
              "ticks": ""
             }
            },
            "type": "parcoords"
           }
          ],
          "pie": [
           {
            "automargin": true,
            "type": "pie"
           }
          ],
          "scatter": [
           {
            "fillpattern": {
             "fillmode": "overlay",
             "size": 10,
             "solidity": 0.2
            },
            "type": "scatter"
           }
          ],
          "scatter3d": [
           {
            "line": {
             "colorbar": {
              "outlinewidth": 0,
              "ticks": ""
             }
            },
            "marker": {
             "colorbar": {
              "outlinewidth": 0,
              "ticks": ""
             }
            },
            "type": "scatter3d"
           }
          ],
          "scattercarpet": [
           {
            "marker": {
             "colorbar": {
              "outlinewidth": 0,
              "ticks": ""
             }
            },
            "type": "scattercarpet"
           }
          ],
          "scattergeo": [
           {
            "marker": {
             "colorbar": {
              "outlinewidth": 0,
              "ticks": ""
             }
            },
            "type": "scattergeo"
           }
          ],
          "scattergl": [
           {
            "marker": {
             "colorbar": {
              "outlinewidth": 0,
              "ticks": ""
             }
            },
            "type": "scattergl"
           }
          ],
          "scattermap": [
           {
            "marker": {
             "colorbar": {
              "outlinewidth": 0,
              "ticks": ""
             }
            },
            "type": "scattermap"
           }
          ],
          "scattermapbox": [
           {
            "marker": {
             "colorbar": {
              "outlinewidth": 0,
              "ticks": ""
             }
            },
            "type": "scattermapbox"
           }
          ],
          "scatterpolar": [
           {
            "marker": {
             "colorbar": {
              "outlinewidth": 0,
              "ticks": ""
             }
            },
            "type": "scatterpolar"
           }
          ],
          "scatterpolargl": [
           {
            "marker": {
             "colorbar": {
              "outlinewidth": 0,
              "ticks": ""
             }
            },
            "type": "scatterpolargl"
           }
          ],
          "scatterternary": [
           {
            "marker": {
             "colorbar": {
              "outlinewidth": 0,
              "ticks": ""
             }
            },
            "type": "scatterternary"
           }
          ],
          "surface": [
           {
            "colorbar": {
             "outlinewidth": 0,
             "ticks": ""
            },
            "colorscale": [
             [
              0,
              "#0d0887"
             ],
             [
              0.1111111111111111,
              "#46039f"
             ],
             [
              0.2222222222222222,
              "#7201a8"
             ],
             [
              0.3333333333333333,
              "#9c179e"
             ],
             [
              0.4444444444444444,
              "#bd3786"
             ],
             [
              0.5555555555555556,
              "#d8576b"
             ],
             [
              0.6666666666666666,
              "#ed7953"
             ],
             [
              0.7777777777777778,
              "#fb9f3a"
             ],
             [
              0.8888888888888888,
              "#fdca26"
             ],
             [
              1,
              "#f0f921"
             ]
            ],
            "type": "surface"
           }
          ],
          "table": [
           {
            "cells": {
             "fill": {
              "color": "#EBF0F8"
             },
             "line": {
              "color": "white"
             }
            },
            "header": {
             "fill": {
              "color": "#C8D4E3"
             },
             "line": {
              "color": "white"
             }
            },
            "type": "table"
           }
          ]
         },
         "layout": {
          "annotationdefaults": {
           "arrowcolor": "#2a3f5f",
           "arrowhead": 0,
           "arrowwidth": 1
          },
          "autotypenumbers": "strict",
          "coloraxis": {
           "colorbar": {
            "outlinewidth": 0,
            "ticks": ""
           }
          },
          "colorscale": {
           "diverging": [
            [
             0,
             "#8e0152"
            ],
            [
             0.1,
             "#c51b7d"
            ],
            [
             0.2,
             "#de77ae"
            ],
            [
             0.3,
             "#f1b6da"
            ],
            [
             0.4,
             "#fde0ef"
            ],
            [
             0.5,
             "#f7f7f7"
            ],
            [
             0.6,
             "#e6f5d0"
            ],
            [
             0.7,
             "#b8e186"
            ],
            [
             0.8,
             "#7fbc41"
            ],
            [
             0.9,
             "#4d9221"
            ],
            [
             1,
             "#276419"
            ]
           ],
           "sequential": [
            [
             0,
             "#0d0887"
            ],
            [
             0.1111111111111111,
             "#46039f"
            ],
            [
             0.2222222222222222,
             "#7201a8"
            ],
            [
             0.3333333333333333,
             "#9c179e"
            ],
            [
             0.4444444444444444,
             "#bd3786"
            ],
            [
             0.5555555555555556,
             "#d8576b"
            ],
            [
             0.6666666666666666,
             "#ed7953"
            ],
            [
             0.7777777777777778,
             "#fb9f3a"
            ],
            [
             0.8888888888888888,
             "#fdca26"
            ],
            [
             1,
             "#f0f921"
            ]
           ],
           "sequentialminus": [
            [
             0,
             "#0d0887"
            ],
            [
             0.1111111111111111,
             "#46039f"
            ],
            [
             0.2222222222222222,
             "#7201a8"
            ],
            [
             0.3333333333333333,
             "#9c179e"
            ],
            [
             0.4444444444444444,
             "#bd3786"
            ],
            [
             0.5555555555555556,
             "#d8576b"
            ],
            [
             0.6666666666666666,
             "#ed7953"
            ],
            [
             0.7777777777777778,
             "#fb9f3a"
            ],
            [
             0.8888888888888888,
             "#fdca26"
            ],
            [
             1,
             "#f0f921"
            ]
           ]
          },
          "colorway": [
           "#636efa",
           "#EF553B",
           "#00cc96",
           "#ab63fa",
           "#FFA15A",
           "#19d3f3",
           "#FF6692",
           "#B6E880",
           "#FF97FF",
           "#FECB52"
          ],
          "font": {
           "color": "#2a3f5f"
          },
          "geo": {
           "bgcolor": "white",
           "lakecolor": "white",
           "landcolor": "#E5ECF6",
           "showlakes": true,
           "showland": true,
           "subunitcolor": "white"
          },
          "hoverlabel": {
           "align": "left"
          },
          "hovermode": "closest",
          "mapbox": {
           "style": "light"
          },
          "paper_bgcolor": "white",
          "plot_bgcolor": "#E5ECF6",
          "polar": {
           "angularaxis": {
            "gridcolor": "white",
            "linecolor": "white",
            "ticks": ""
           },
           "bgcolor": "#E5ECF6",
           "radialaxis": {
            "gridcolor": "white",
            "linecolor": "white",
            "ticks": ""
           }
          },
          "scene": {
           "xaxis": {
            "backgroundcolor": "#E5ECF6",
            "gridcolor": "white",
            "gridwidth": 2,
            "linecolor": "white",
            "showbackground": true,
            "ticks": "",
            "zerolinecolor": "white"
           },
           "yaxis": {
            "backgroundcolor": "#E5ECF6",
            "gridcolor": "white",
            "gridwidth": 2,
            "linecolor": "white",
            "showbackground": true,
            "ticks": "",
            "zerolinecolor": "white"
           },
           "zaxis": {
            "backgroundcolor": "#E5ECF6",
            "gridcolor": "white",
            "gridwidth": 2,
            "linecolor": "white",
            "showbackground": true,
            "ticks": "",
            "zerolinecolor": "white"
           }
          },
          "shapedefaults": {
           "line": {
            "color": "#2a3f5f"
           }
          },
          "ternary": {
           "aaxis": {
            "gridcolor": "white",
            "linecolor": "white",
            "ticks": ""
           },
           "baxis": {
            "gridcolor": "white",
            "linecolor": "white",
            "ticks": ""
           },
           "bgcolor": "#E5ECF6",
           "caxis": {
            "gridcolor": "white",
            "linecolor": "white",
            "ticks": ""
           }
          },
          "title": {
           "x": 0.05
          },
          "xaxis": {
           "automargin": true,
           "gridcolor": "white",
           "linecolor": "white",
           "ticks": "",
           "title": {
            "standoff": 15
           },
           "zerolinecolor": "white",
           "zerolinewidth": 2
          },
          "yaxis": {
           "automargin": true,
           "gridcolor": "white",
           "linecolor": "white",
           "ticks": "",
           "title": {
            "standoff": 15
           },
           "zerolinecolor": "white",
           "zerolinewidth": 2
          }
         }
        },
        "title": {
         "text": "Site code: ILO"
        },
        "xaxis": {
         "anchor": "y",
         "domain": [
          0,
          1
         ],
         "title": {
          "text": "Year"
         }
        },
        "yaxis": {
         "anchor": "x",
         "domain": [
          0,
          1
         ],
         "title": {
          "text": "Value"
         }
        }
       }
      }
     },
     "metadata": {},
     "output_type": "display_data"
    },
    {
     "data": {
      "application/vnd.plotly.v1+json": {
       "config": {
        "plotlyServerURL": "https://plot.ly"
       },
       "data": [
        {
         "hovertemplate": "Year=%{x}<br>Value=%{y}<extra></extra>",
         "legendgroup": "",
         "line": {
          "color": "#636efa",
          "dash": "solid"
         },
         "marker": {
          "symbol": "circle"
         },
         "mode": "lines",
         "name": "",
         "orientation": "v",
         "showlegend": false,
         "type": "scatter",
         "x": [
          "1600",
          "1601",
          "1602",
          "1603",
          "1604",
          "1605",
          "1606",
          "1607",
          "1608",
          "1609",
          "1610",
          "1611",
          "1612",
          "1613",
          "1614",
          "1615",
          "1616",
          "1617",
          "1618",
          "1619",
          "1620",
          "1621",
          "1622",
          "1623",
          "1624",
          "1625",
          "1626",
          "1627",
          "1628",
          "1629",
          "1630",
          "1631",
          "1632",
          "1633",
          "1634",
          "1635",
          "1636",
          "1637",
          "1638",
          "1639",
          "1640",
          "1641",
          "1642",
          "1643",
          "1644",
          "1645",
          "1646",
          "1647",
          "1648",
          "1649",
          "1650",
          "1651",
          "1652",
          "1653",
          "1654",
          "1655",
          "1656",
          "1657",
          "1658",
          "1659",
          "1660",
          "1661",
          "1662",
          "1663",
          "1664",
          "1665",
          "1666",
          "1667",
          "1668",
          "1669",
          "1670",
          "1671",
          "1672",
          "1673",
          "1674",
          "1675",
          "1676",
          "1677",
          "1678",
          "1679",
          "1680",
          "1681",
          "1682",
          "1683",
          "1684",
          "1685",
          "1686",
          "1687",
          "1688",
          "1689",
          "1690",
          "1691",
          "1692",
          "1693",
          "1694",
          "1695",
          "1696",
          "1697",
          "1698",
          "1699",
          "1700",
          "1701",
          "1702",
          "1703",
          "1704",
          "1705",
          "1706",
          "1707",
          "1708",
          "1709",
          "1710",
          "1711",
          "1712",
          "1713",
          "1714",
          "1715",
          "1716",
          "1717",
          "1718",
          "1719",
          "1720",
          "1721",
          "1722",
          "1723",
          "1724",
          "1725",
          "1726",
          "1727",
          "1728",
          "1729",
          "1730",
          "1731",
          "1732",
          "1733",
          "1734",
          "1735",
          "1736",
          "1737",
          "1738",
          "1739",
          "1740",
          "1741",
          "1742",
          "1743",
          "1744",
          "1745",
          "1746",
          "1747",
          "1748",
          "1749",
          "1750",
          "1751",
          "1752",
          "1753",
          "1754",
          "1755",
          "1756",
          "1757",
          "1758",
          "1759",
          "1760",
          "1761",
          "1762",
          "1763",
          "1764",
          "1765",
          "1766",
          "1767",
          "1768",
          "1769",
          "1770",
          "1771",
          "1772",
          "1773",
          "1774",
          "1775",
          "1776",
          "1777",
          "1778",
          "1779",
          "1780",
          "1781",
          "1782",
          "1783",
          "1784",
          "1785",
          "1786",
          "1787",
          "1788",
          "1789",
          "1790",
          "1791",
          "1792",
          "1793",
          "1794",
          "1795",
          "1796",
          "1797",
          "1798",
          "1799",
          "1800",
          "1801",
          "1802",
          "1803",
          "1804",
          "1805",
          "1806",
          "1807",
          "1808",
          "1809",
          "1810",
          "1811",
          "1812",
          "1813",
          "1814",
          "1815",
          "1816",
          "1817",
          "1818",
          "1819",
          "1820",
          "1821",
          "1822",
          "1823",
          "1824",
          "1825",
          "1826",
          "1827",
          "1828",
          "1829",
          "1830",
          "1831",
          "1832",
          "1833",
          "1834",
          "1835",
          "1836",
          "1837",
          "1838",
          "1839",
          "1840",
          "1841",
          "1842",
          "1843",
          "1844",
          "1845",
          "1846",
          "1847",
          "1848",
          "1849",
          "1850",
          "1851",
          "1852",
          "1853",
          "1854",
          "1855",
          "1856",
          "1857",
          "1858",
          "1859",
          "1860",
          "1861",
          "1862",
          "1863",
          "1864",
          "1865",
          "1866",
          "1867",
          "1868",
          "1869",
          "1870",
          "1871",
          "1872",
          "1873",
          "1874",
          "1875",
          "1876",
          "1877",
          "1878",
          "1879",
          "1880",
          "1881",
          "1882",
          "1883",
          "1884",
          "1885",
          "1886",
          "1887",
          "1888",
          "1889",
          "1890",
          "1891",
          "1892",
          "1893",
          "1894",
          "1895",
          "1896",
          "1897",
          "1898",
          "1899",
          "1900",
          "1901",
          "1902",
          "1903",
          "1904",
          "1905",
          "1906",
          "1907",
          "1908",
          "1909",
          "1910",
          "1911",
          "1912",
          "1913",
          "1914",
          "1915",
          "1916",
          "1917",
          "1918",
          "1919",
          "1920",
          "1921",
          "1922",
          "1923",
          "1924",
          "1925",
          "1926",
          "1927",
          "1928",
          "1929",
          "1930",
          "1931",
          "1932",
          "1933",
          "1934",
          "1935",
          "1936",
          "1937",
          "1938",
          "1939",
          "1940",
          "1941",
          "1942",
          "1943",
          "1944",
          "1945",
          "1946",
          "1947",
          "1948",
          "1949",
          "1950",
          "1951",
          "1952",
          "1953",
          "1954",
          "1955",
          "1956",
          "1957",
          "1958",
          "1959",
          "1960",
          "1961",
          "1962",
          "1963",
          "1964",
          "1965",
          "1966",
          "1967",
          "1968",
          "1969",
          "1970",
          "1971",
          "1972",
          "1973",
          "1974",
          "1975",
          "1976",
          "1977",
          "1978",
          "1979",
          "1980",
          "1981",
          "1982",
          "1983",
          "1984",
          "1985",
          "1986",
          "1987",
          "1988",
          "1989",
          "1990",
          "1991",
          "1992",
          "1993",
          "1994",
          "1995",
          "1996",
          "1997",
          "1998",
          "1999",
          "2000",
          "2001",
          "2002",
          "2003",
          "2004",
          "2005"
         ],
         "xaxis": "x",
         "y": {
          "bdata": "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",
          "dtype": "f8"
         },
         "yaxis": "y"
        }
       ],
       "layout": {
        "legend": {
         "tracegroupgap": 0
        },
        "template": {
         "data": {
          "bar": [
           {
            "error_x": {
             "color": "#2a3f5f"
            },
            "error_y": {
             "color": "#2a3f5f"
            },
            "marker": {
             "line": {
              "color": "#E5ECF6",
              "width": 0.5
             },
             "pattern": {
              "fillmode": "overlay",
              "size": 10,
              "solidity": 0.2
             }
            },
            "type": "bar"
           }
          ],
          "barpolar": [
           {
            "marker": {
             "line": {
              "color": "#E5ECF6",
              "width": 0.5
             },
             "pattern": {
              "fillmode": "overlay",
              "size": 10,
              "solidity": 0.2
             }
            },
            "type": "barpolar"
           }
          ],
          "carpet": [
           {
            "aaxis": {
             "endlinecolor": "#2a3f5f",
             "gridcolor": "white",
             "linecolor": "white",
             "minorgridcolor": "white",
             "startlinecolor": "#2a3f5f"
            },
            "baxis": {
             "endlinecolor": "#2a3f5f",
             "gridcolor": "white",
             "linecolor": "white",
             "minorgridcolor": "white",
             "startlinecolor": "#2a3f5f"
            },
            "type": "carpet"
           }
          ],
          "choropleth": [
           {
            "colorbar": {
             "outlinewidth": 0,
             "ticks": ""
            },
            "type": "choropleth"
           }
          ],
          "contour": [
           {
            "colorbar": {
             "outlinewidth": 0,
             "ticks": ""
            },
            "colorscale": [
             [
              0,
              "#0d0887"
             ],
             [
              0.1111111111111111,
              "#46039f"
             ],
             [
              0.2222222222222222,
              "#7201a8"
             ],
             [
              0.3333333333333333,
              "#9c179e"
             ],
             [
              0.4444444444444444,
              "#bd3786"
             ],
             [
              0.5555555555555556,
              "#d8576b"
             ],
             [
              0.6666666666666666,
              "#ed7953"
             ],
             [
              0.7777777777777778,
              "#fb9f3a"
             ],
             [
              0.8888888888888888,
              "#fdca26"
             ],
             [
              1,
              "#f0f921"
             ]
            ],
            "type": "contour"
           }
          ],
          "contourcarpet": [
           {
            "colorbar": {
             "outlinewidth": 0,
             "ticks": ""
            },
            "type": "contourcarpet"
           }
          ],
          "heatmap": [
           {
            "colorbar": {
             "outlinewidth": 0,
             "ticks": ""
            },
            "colorscale": [
             [
              0,
              "#0d0887"
             ],
             [
              0.1111111111111111,
              "#46039f"
             ],
             [
              0.2222222222222222,
              "#7201a8"
             ],
             [
              0.3333333333333333,
              "#9c179e"
             ],
             [
              0.4444444444444444,
              "#bd3786"
             ],
             [
              0.5555555555555556,
              "#d8576b"
             ],
             [
              0.6666666666666666,
              "#ed7953"
             ],
             [
              0.7777777777777778,
              "#fb9f3a"
             ],
             [
              0.8888888888888888,
              "#fdca26"
             ],
             [
              1,
              "#f0f921"
             ]
            ],
            "type": "heatmap"
           }
          ],
          "histogram": [
           {
            "marker": {
             "pattern": {
              "fillmode": "overlay",
              "size": 10,
              "solidity": 0.2
             }
            },
            "type": "histogram"
           }
          ],
          "histogram2d": [
           {
            "colorbar": {
             "outlinewidth": 0,
             "ticks": ""
            },
            "colorscale": [
             [
              0,
              "#0d0887"
             ],
             [
              0.1111111111111111,
              "#46039f"
             ],
             [
              0.2222222222222222,
              "#7201a8"
             ],
             [
              0.3333333333333333,
              "#9c179e"
             ],
             [
              0.4444444444444444,
              "#bd3786"
             ],
             [
              0.5555555555555556,
              "#d8576b"
             ],
             [
              0.6666666666666666,
              "#ed7953"
             ],
             [
              0.7777777777777778,
              "#fb9f3a"
             ],
             [
              0.8888888888888888,
              "#fdca26"
             ],
             [
              1,
              "#f0f921"
             ]
            ],
            "type": "histogram2d"
           }
          ],
          "histogram2dcontour": [
           {
            "colorbar": {
             "outlinewidth": 0,
             "ticks": ""
            },
            "colorscale": [
             [
              0,
              "#0d0887"
             ],
             [
              0.1111111111111111,
              "#46039f"
             ],
             [
              0.2222222222222222,
              "#7201a8"
             ],
             [
              0.3333333333333333,
              "#9c179e"
             ],
             [
              0.4444444444444444,
              "#bd3786"
             ],
             [
              0.5555555555555556,
              "#d8576b"
             ],
             [
              0.6666666666666666,
              "#ed7953"
             ],
             [
              0.7777777777777778,
              "#fb9f3a"
             ],
             [
              0.8888888888888888,
              "#fdca26"
             ],
             [
              1,
              "#f0f921"
             ]
            ],
            "type": "histogram2dcontour"
           }
          ],
          "mesh3d": [
           {
            "colorbar": {
             "outlinewidth": 0,
             "ticks": ""
            },
            "type": "mesh3d"
           }
          ],
          "parcoords": [
           {
            "line": {
             "colorbar": {
              "outlinewidth": 0,
              "ticks": ""
             }
            },
            "type": "parcoords"
           }
          ],
          "pie": [
           {
            "automargin": true,
            "type": "pie"
           }
          ],
          "scatter": [
           {
            "fillpattern": {
             "fillmode": "overlay",
             "size": 10,
             "solidity": 0.2
            },
            "type": "scatter"
           }
          ],
          "scatter3d": [
           {
            "line": {
             "colorbar": {
              "outlinewidth": 0,
              "ticks": ""
             }
            },
            "marker": {
             "colorbar": {
              "outlinewidth": 0,
              "ticks": ""
             }
            },
            "type": "scatter3d"
           }
          ],
          "scattercarpet": [
           {
            "marker": {
             "colorbar": {
              "outlinewidth": 0,
              "ticks": ""
             }
            },
            "type": "scattercarpet"
           }
          ],
          "scattergeo": [
           {
            "marker": {
             "colorbar": {
              "outlinewidth": 0,
              "ticks": ""
             }
            },
            "type": "scattergeo"
           }
          ],
          "scattergl": [
           {
            "marker": {
             "colorbar": {
              "outlinewidth": 0,
              "ticks": ""
             }
            },
            "type": "scattergl"
           }
          ],
          "scattermap": [
           {
            "marker": {
             "colorbar": {
              "outlinewidth": 0,
              "ticks": ""
             }
            },
            "type": "scattermap"
           }
          ],
          "scattermapbox": [
           {
            "marker": {
             "colorbar": {
              "outlinewidth": 0,
              "ticks": ""
             }
            },
            "type": "scattermapbox"
           }
          ],
          "scatterpolar": [
           {
            "marker": {
             "colorbar": {
              "outlinewidth": 0,
              "ticks": ""
             }
            },
            "type": "scatterpolar"
           }
          ],
          "scatterpolargl": [
           {
            "marker": {
             "colorbar": {
              "outlinewidth": 0,
              "ticks": ""
             }
            },
            "type": "scatterpolargl"
           }
          ],
          "scatterternary": [
           {
            "marker": {
             "colorbar": {
              "outlinewidth": 0,
              "ticks": ""
             }
            },
            "type": "scatterternary"
           }
          ],
          "surface": [
           {
            "colorbar": {
             "outlinewidth": 0,
             "ticks": ""
            },
            "colorscale": [
             [
              0,
              "#0d0887"
             ],
             [
              0.1111111111111111,
              "#46039f"
             ],
             [
              0.2222222222222222,
              "#7201a8"
             ],
             [
              0.3333333333333333,
              "#9c179e"
             ],
             [
              0.4444444444444444,
              "#bd3786"
             ],
             [
              0.5555555555555556,
              "#d8576b"
             ],
             [
              0.6666666666666666,
              "#ed7953"
             ],
             [
              0.7777777777777778,
              "#fb9f3a"
             ],
             [
              0.8888888888888888,
              "#fdca26"
             ],
             [
              1,
              "#f0f921"
             ]
            ],
            "type": "surface"
           }
          ],
          "table": [
           {
            "cells": {
             "fill": {
              "color": "#EBF0F8"
             },
             "line": {
              "color": "white"
             }
            },
            "header": {
             "fill": {
              "color": "#C8D4E3"
             },
             "line": {
              "color": "white"
             }
            },
            "type": "table"
           }
          ]
         },
         "layout": {
          "annotationdefaults": {
           "arrowcolor": "#2a3f5f",
           "arrowhead": 0,
           "arrowwidth": 1
          },
          "autotypenumbers": "strict",
          "coloraxis": {
           "colorbar": {
            "outlinewidth": 0,
            "ticks": ""
           }
          },
          "colorscale": {
           "diverging": [
            [
             0,
             "#8e0152"
            ],
            [
             0.1,
             "#c51b7d"
            ],
            [
             0.2,
             "#de77ae"
            ],
            [
             0.3,
             "#f1b6da"
            ],
            [
             0.4,
             "#fde0ef"
            ],
            [
             0.5,
             "#f7f7f7"
            ],
            [
             0.6,
             "#e6f5d0"
            ],
            [
             0.7,
             "#b8e186"
            ],
            [
             0.8,
             "#7fbc41"
            ],
            [
             0.9,
             "#4d9221"
            ],
            [
             1,
             "#276419"
            ]
           ],
           "sequential": [
            [
             0,
             "#0d0887"
            ],
            [
             0.1111111111111111,
             "#46039f"
            ],
            [
             0.2222222222222222,
             "#7201a8"
            ],
            [
             0.3333333333333333,
             "#9c179e"
            ],
            [
             0.4444444444444444,
             "#bd3786"
            ],
            [
             0.5555555555555556,
             "#d8576b"
            ],
            [
             0.6666666666666666,
             "#ed7953"
            ],
            [
             0.7777777777777778,
             "#fb9f3a"
            ],
            [
             0.8888888888888888,
             "#fdca26"
            ],
            [
             1,
             "#f0f921"
            ]
           ],
           "sequentialminus": [
            [
             0,
             "#0d0887"
            ],
            [
             0.1111111111111111,
             "#46039f"
            ],
            [
             0.2222222222222222,
             "#7201a8"
            ],
            [
             0.3333333333333333,
             "#9c179e"
            ],
            [
             0.4444444444444444,
             "#bd3786"
            ],
            [
             0.5555555555555556,
             "#d8576b"
            ],
            [
             0.6666666666666666,
             "#ed7953"
            ],
            [
             0.7777777777777778,
             "#fb9f3a"
            ],
            [
             0.8888888888888888,
             "#fdca26"
            ],
            [
             1,
             "#f0f921"
            ]
           ]
          },
          "colorway": [
           "#636efa",
           "#EF553B",
           "#00cc96",
           "#ab63fa",
           "#FFA15A",
           "#19d3f3",
           "#FF6692",
           "#B6E880",
           "#FF97FF",
           "#FECB52"
          ],
          "font": {
           "color": "#2a3f5f"
          },
          "geo": {
           "bgcolor": "white",
           "lakecolor": "white",
           "landcolor": "#E5ECF6",
           "showlakes": true,
           "showland": true,
           "subunitcolor": "white"
          },
          "hoverlabel": {
           "align": "left"
          },
          "hovermode": "closest",
          "mapbox": {
           "style": "light"
          },
          "paper_bgcolor": "white",
          "plot_bgcolor": "#E5ECF6",
          "polar": {
           "angularaxis": {
            "gridcolor": "white",
            "linecolor": "white",
            "ticks": ""
           },
           "bgcolor": "#E5ECF6",
           "radialaxis": {
            "gridcolor": "white",
            "linecolor": "white",
            "ticks": ""
           }
          },
          "scene": {
           "xaxis": {
            "backgroundcolor": "#E5ECF6",
            "gridcolor": "white",
            "gridwidth": 2,
            "linecolor": "white",
            "showbackground": true,
            "ticks": "",
            "zerolinecolor": "white"
           },
           "yaxis": {
            "backgroundcolor": "#E5ECF6",
            "gridcolor": "white",
            "gridwidth": 2,
            "linecolor": "white",
            "showbackground": true,
            "ticks": "",
            "zerolinecolor": "white"
           },
           "zaxis": {
            "backgroundcolor": "#E5ECF6",
            "gridcolor": "white",
            "gridwidth": 2,
            "linecolor": "white",
            "showbackground": true,
            "ticks": "",
            "zerolinecolor": "white"
           }
          },
          "shapedefaults": {
           "line": {
            "color": "#2a3f5f"
           }
          },
          "ternary": {
           "aaxis": {
            "gridcolor": "white",
            "linecolor": "white",
            "ticks": ""
           },
           "baxis": {
            "gridcolor": "white",
            "linecolor": "white",
            "ticks": ""
           },
           "bgcolor": "#E5ECF6",
           "caxis": {
            "gridcolor": "white",
            "linecolor": "white",
            "ticks": ""
           }
          },
          "title": {
           "x": 0.05
          },
          "xaxis": {
           "automargin": true,
           "gridcolor": "white",
           "linecolor": "white",
           "ticks": "",
           "title": {
            "standoff": 15
           },
           "zerolinecolor": "white",
           "zerolinewidth": 2
          },
          "yaxis": {
           "automargin": true,
           "gridcolor": "white",
           "linecolor": "white",
           "ticks": "",
           "title": {
            "standoff": 15
           },
           "zerolinecolor": "white",
           "zerolinewidth": 2
          }
         }
        },
        "title": {
         "text": "Site code: INA "
        },
        "xaxis": {
         "anchor": "y",
         "domain": [
          0,
          1
         ],
         "title": {
          "text": "Year"
         }
        },
        "yaxis": {
         "anchor": "x",
         "domain": [
          0,
          1
         ],
         "title": {
          "text": "Value"
         }
        }
       }
      }
     },
     "metadata": {},
     "output_type": "display_data"
    },
    {
     "data": {
      "application/vnd.plotly.v1+json": {
       "config": {
        "plotlyServerURL": "https://plot.ly"
       },
       "data": [
        {
         "hovertemplate": "Year=%{x}<br>Value=%{y}<extra></extra>",
         "legendgroup": "",
         "line": {
          "color": "#636efa",
          "dash": "solid"
         },
         "marker": {
          "symbol": "circle"
         },
         "mode": "lines",
         "name": "",
         "orientation": "v",
         "showlegend": false,
         "type": "scatter",
         "x": [
          "1600",
          "1601",
          "1602",
          "1603",
          "1604",
          "1605",
          "1606",
          "1607",
          "1608",
          "1609",
          "1610",
          "1611",
          "1612",
          "1613",
          "1614",
          "1615",
          "1616",
          "1617",
          "1618",
          "1619",
          "1620",
          "1621",
          "1622",
          "1623",
          "1624",
          "1625",
          "1626",
          "1627",
          "1628",
          "1629",
          "1630",
          "1631",
          "1632",
          "1633",
          "1634",
          "1635",
          "1636",
          "1637",
          "1638",
          "1639",
          "1640",
          "1641",
          "1642",
          "1643",
          "1644",
          "1645",
          "1646",
          "1647",
          "1648",
          "1649",
          "1650",
          "1651",
          "1652",
          "1653",
          "1654",
          "1655",
          "1656",
          "1657",
          "1658",
          "1659",
          "1660",
          "1661",
          "1662",
          "1663",
          "1664",
          "1665",
          "1666",
          "1667",
          "1668",
          "1669",
          "1670",
          "1671",
          "1672",
          "1673",
          "1674",
          "1675",
          "1676",
          "1677",
          "1678",
          "1679",
          "1680",
          "1681",
          "1682",
          "1683",
          "1684",
          "1685",
          "1686",
          "1687",
          "1688",
          "1689",
          "1690",
          "1691",
          "1692",
          "1693",
          "1694",
          "1695",
          "1696",
          "1697",
          "1698",
          "1699",
          "1700",
          "1701",
          "1702",
          "1703",
          "1704",
          "1705",
          "1706",
          "1707",
          "1708",
          "1709",
          "1710",
          "1711",
          "1712",
          "1713",
          "1714",
          "1715",
          "1716",
          "1717",
          "1718",
          "1719",
          "1720",
          "1721",
          "1722",
          "1723",
          "1724",
          "1725",
          "1726",
          "1727",
          "1728",
          "1729",
          "1730",
          "1731",
          "1732",
          "1733",
          "1734",
          "1735",
          "1736",
          "1737",
          "1738",
          "1739",
          "1740",
          "1741",
          "1742",
          "1743",
          "1744",
          "1745",
          "1746",
          "1747",
          "1748",
          "1749",
          "1750",
          "1751",
          "1752",
          "1753",
          "1754",
          "1755",
          "1756",
          "1757",
          "1758",
          "1759",
          "1760",
          "1761",
          "1762",
          "1763",
          "1764",
          "1765",
          "1766",
          "1767",
          "1768",
          "1769",
          "1770",
          "1771",
          "1772",
          "1773",
          "1774",
          "1775",
          "1776",
          "1777",
          "1778",
          "1779",
          "1780",
          "1781",
          "1782",
          "1783",
          "1784",
          "1785",
          "1786",
          "1787",
          "1788",
          "1789",
          "1790",
          "1791",
          "1792",
          "1793",
          "1794",
          "1795",
          "1796",
          "1797",
          "1798",
          "1799",
          "1800",
          "1801",
          "1802",
          "1803",
          "1804",
          "1805",
          "1806",
          "1807",
          "1808",
          "1809",
          "1810",
          "1811",
          "1812",
          "1813",
          "1814",
          "1815",
          "1816",
          "1817",
          "1818",
          "1819",
          "1820",
          "1821",
          "1822",
          "1823",
          "1824",
          "1825",
          "1826",
          "1827",
          "1828",
          "1829",
          "1830",
          "1831",
          "1832",
          "1833",
          "1834",
          "1835",
          "1836",
          "1837",
          "1838",
          "1839",
          "1840",
          "1841",
          "1842",
          "1843",
          "1844",
          "1845",
          "1846",
          "1847",
          "1848",
          "1849",
          "1850",
          "1851",
          "1852",
          "1853",
          "1854",
          "1855",
          "1856",
          "1857",
          "1858",
          "1859",
          "1860",
          "1861",
          "1862",
          "1863",
          "1864",
          "1865",
          "1866",
          "1867",
          "1868",
          "1869",
          "1870",
          "1871",
          "1872",
          "1873",
          "1874",
          "1875",
          "1876",
          "1877",
          "1878",
          "1879",
          "1880",
          "1881",
          "1882",
          "1883",
          "1884",
          "1885",
          "1886",
          "1887",
          "1888",
          "1889",
          "1890",
          "1891",
          "1892",
          "1893",
          "1894",
          "1895",
          "1896",
          "1897",
          "1898",
          "1899",
          "1900",
          "1901",
          "1902",
          "1903",
          "1904",
          "1905",
          "1906",
          "1907",
          "1908",
          "1909",
          "1910",
          "1911",
          "1912",
          "1913",
          "1914",
          "1915",
          "1916",
          "1917",
          "1918",
          "1919",
          "1920",
          "1921",
          "1922",
          "1923",
          "1924",
          "1925",
          "1926",
          "1927",
          "1928",
          "1929",
          "1930",
          "1931",
          "1932",
          "1933",
          "1934",
          "1935",
          "1936",
          "1937",
          "1938",
          "1939",
          "1940",
          "1941",
          "1942",
          "1943",
          "1944",
          "1945",
          "1946",
          "1947",
          "1948",
          "1949",
          "1950",
          "1951",
          "1952",
          "1953",
          "1954",
          "1955",
          "1956",
          "1957",
          "1958",
          "1959",
          "1960",
          "1961",
          "1962",
          "1963",
          "1964",
          "1965",
          "1966",
          "1967",
          "1968",
          "1969",
          "1970",
          "1971",
          "1972",
          "1973",
          "1974",
          "1975",
          "1976",
          "1977",
          "1978",
          "1979",
          "1980",
          "1981",
          "1982",
          "1983",
          "1984",
          "1985",
          "1986",
          "1987",
          "1988",
          "1989",
          "1990",
          "1991",
          "1992",
          "1993",
          "1994",
          "1995",
          "1996",
          "1997",
          "1998",
          "1999",
          "2000",
          "2001",
          "2002",
          "2003",
          "2004",
          "2005"
         ],
         "xaxis": "x",
         "y": {
          "bdata": "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",
          "dtype": "f8"
         },
         "yaxis": "y"
        }
       ],
       "layout": {
        "legend": {
         "tracegroupgap": 0
        },
        "template": {
         "data": {
          "bar": [
           {
            "error_x": {
             "color": "#2a3f5f"
            },
            "error_y": {
             "color": "#2a3f5f"
            },
            "marker": {
             "line": {
              "color": "#E5ECF6",
              "width": 0.5
             },
             "pattern": {
              "fillmode": "overlay",
              "size": 10,
              "solidity": 0.2
             }
            },
            "type": "bar"
           }
          ],
          "barpolar": [
           {
            "marker": {
             "line": {
              "color": "#E5ECF6",
              "width": 0.5
             },
             "pattern": {
              "fillmode": "overlay",
              "size": 10,
              "solidity": 0.2
             }
            },
            "type": "barpolar"
           }
          ],
          "carpet": [
           {
            "aaxis": {
             "endlinecolor": "#2a3f5f",
             "gridcolor": "white",
             "linecolor": "white",
             "minorgridcolor": "white",
             "startlinecolor": "#2a3f5f"
            },
            "baxis": {
             "endlinecolor": "#2a3f5f",
             "gridcolor": "white",
             "linecolor": "white",
             "minorgridcolor": "white",
             "startlinecolor": "#2a3f5f"
            },
            "type": "carpet"
           }
          ],
          "choropleth": [
           {
            "colorbar": {
             "outlinewidth": 0,
             "ticks": ""
            },
            "type": "choropleth"
           }
          ],
          "contour": [
           {
            "colorbar": {
             "outlinewidth": 0,
             "ticks": ""
            },
            "colorscale": [
             [
              0,
              "#0d0887"
             ],
             [
              0.1111111111111111,
              "#46039f"
             ],
             [
              0.2222222222222222,
              "#7201a8"
             ],
             [
              0.3333333333333333,
              "#9c179e"
             ],
             [
              0.4444444444444444,
              "#bd3786"
             ],
             [
              0.5555555555555556,
              "#d8576b"
             ],
             [
              0.6666666666666666,
              "#ed7953"
             ],
             [
              0.7777777777777778,
              "#fb9f3a"
             ],
             [
              0.8888888888888888,
              "#fdca26"
             ],
             [
              1,
              "#f0f921"
             ]
            ],
            "type": "contour"
           }
          ],
          "contourcarpet": [
           {
            "colorbar": {
             "outlinewidth": 0,
             "ticks": ""
            },
            "type": "contourcarpet"
           }
          ],
          "heatmap": [
           {
            "colorbar": {
             "outlinewidth": 0,
             "ticks": ""
            },
            "colorscale": [
             [
              0,
              "#0d0887"
             ],
             [
              0.1111111111111111,
              "#46039f"
             ],
             [
              0.2222222222222222,
              "#7201a8"
             ],
             [
              0.3333333333333333,
              "#9c179e"
             ],
             [
              0.4444444444444444,
              "#bd3786"
             ],
             [
              0.5555555555555556,
              "#d8576b"
             ],
             [
              0.6666666666666666,
              "#ed7953"
             ],
             [
              0.7777777777777778,
              "#fb9f3a"
             ],
             [
              0.8888888888888888,
              "#fdca26"
             ],
             [
              1,
              "#f0f921"
             ]
            ],
            "type": "heatmap"
           }
          ],
          "histogram": [
           {
            "marker": {
             "pattern": {
              "fillmode": "overlay",
              "size": 10,
              "solidity": 0.2
             }
            },
            "type": "histogram"
           }
          ],
          "histogram2d": [
           {
            "colorbar": {
             "outlinewidth": 0,
             "ticks": ""
            },
            "colorscale": [
             [
              0,
              "#0d0887"
             ],
             [
              0.1111111111111111,
              "#46039f"
             ],
             [
              0.2222222222222222,
              "#7201a8"
             ],
             [
              0.3333333333333333,
              "#9c179e"
             ],
             [
              0.4444444444444444,
              "#bd3786"
             ],
             [
              0.5555555555555556,
              "#d8576b"
             ],
             [
              0.6666666666666666,
              "#ed7953"
             ],
             [
              0.7777777777777778,
              "#fb9f3a"
             ],
             [
              0.8888888888888888,
              "#fdca26"
             ],
             [
              1,
              "#f0f921"
             ]
            ],
            "type": "histogram2d"
           }
          ],
          "histogram2dcontour": [
           {
            "colorbar": {
             "outlinewidth": 0,
             "ticks": ""
            },
            "colorscale": [
             [
              0,
              "#0d0887"
             ],
             [
              0.1111111111111111,
              "#46039f"
             ],
             [
              0.2222222222222222,
              "#7201a8"
             ],
             [
              0.3333333333333333,
              "#9c179e"
             ],
             [
              0.4444444444444444,
              "#bd3786"
             ],
             [
              0.5555555555555556,
              "#d8576b"
             ],
             [
              0.6666666666666666,
              "#ed7953"
             ],
             [
              0.7777777777777778,
              "#fb9f3a"
             ],
             [
              0.8888888888888888,
              "#fdca26"
             ],
             [
              1,
              "#f0f921"
             ]
            ],
            "type": "histogram2dcontour"
           }
          ],
          "mesh3d": [
           {
            "colorbar": {
             "outlinewidth": 0,
             "ticks": ""
            },
            "type": "mesh3d"
           }
          ],
          "parcoords": [
           {
            "line": {
             "colorbar": {
              "outlinewidth": 0,
              "ticks": ""
             }
            },
            "type": "parcoords"
           }
          ],
          "pie": [
           {
            "automargin": true,
            "type": "pie"
           }
          ],
          "scatter": [
           {
            "fillpattern": {
             "fillmode": "overlay",
             "size": 10,
             "solidity": 0.2
            },
            "type": "scatter"
           }
          ],
          "scatter3d": [
           {
            "line": {
             "colorbar": {
              "outlinewidth": 0,
              "ticks": ""
             }
            },
            "marker": {
             "colorbar": {
              "outlinewidth": 0,
              "ticks": ""
             }
            },
            "type": "scatter3d"
           }
          ],
          "scattercarpet": [
           {
            "marker": {
             "colorbar": {
              "outlinewidth": 0,
              "ticks": ""
             }
            },
            "type": "scattercarpet"
           }
          ],
          "scattergeo": [
           {
            "marker": {
             "colorbar": {
              "outlinewidth": 0,
              "ticks": ""
             }
            },
            "type": "scattergeo"
           }
          ],
          "scattergl": [
           {
            "marker": {
             "colorbar": {
              "outlinewidth": 0,
              "ticks": ""
             }
            },
            "type": "scattergl"
           }
          ],
          "scattermap": [
           {
            "marker": {
             "colorbar": {
              "outlinewidth": 0,
              "ticks": ""
             }
            },
            "type": "scattermap"
           }
          ],
          "scattermapbox": [
           {
            "marker": {
             "colorbar": {
              "outlinewidth": 0,
              "ticks": ""
             }
            },
            "type": "scattermapbox"
           }
          ],
          "scatterpolar": [
           {
            "marker": {
             "colorbar": {
              "outlinewidth": 0,
              "ticks": ""
             }
            },
            "type": "scatterpolar"
           }
          ],
          "scatterpolargl": [
           {
            "marker": {
             "colorbar": {
              "outlinewidth": 0,
              "ticks": ""
             }
            },
            "type": "scatterpolargl"
           }
          ],
          "scatterternary": [
           {
            "marker": {
             "colorbar": {
              "outlinewidth": 0,
              "ticks": ""
             }
            },
            "type": "scatterternary"
           }
          ],
          "surface": [
           {
            "colorbar": {
             "outlinewidth": 0,
             "ticks": ""
            },
            "colorscale": [
             [
              0,
              "#0d0887"
             ],
             [
              0.1111111111111111,
              "#46039f"
             ],
             [
              0.2222222222222222,
              "#7201a8"
             ],
             [
              0.3333333333333333,
              "#9c179e"
             ],
             [
              0.4444444444444444,
              "#bd3786"
             ],
             [
              0.5555555555555556,
              "#d8576b"
             ],
             [
              0.6666666666666666,
              "#ed7953"
             ],
             [
              0.7777777777777778,
              "#fb9f3a"
             ],
             [
              0.8888888888888888,
              "#fdca26"
             ],
             [
              1,
              "#f0f921"
             ]
            ],
            "type": "surface"
           }
          ],
          "table": [
           {
            "cells": {
             "fill": {
              "color": "#EBF0F8"
             },
             "line": {
              "color": "white"
             }
            },
            "header": {
             "fill": {
              "color": "#C8D4E3"
             },
             "line": {
              "color": "white"
             }
            },
            "type": "table"
           }
          ]
         },
         "layout": {
          "annotationdefaults": {
           "arrowcolor": "#2a3f5f",
           "arrowhead": 0,
           "arrowwidth": 1
          },
          "autotypenumbers": "strict",
          "coloraxis": {
           "colorbar": {
            "outlinewidth": 0,
            "ticks": ""
           }
          },
          "colorscale": {
           "diverging": [
            [
             0,
             "#8e0152"
            ],
            [
             0.1,
             "#c51b7d"
            ],
            [
             0.2,
             "#de77ae"
            ],
            [
             0.3,
             "#f1b6da"
            ],
            [
             0.4,
             "#fde0ef"
            ],
            [
             0.5,
             "#f7f7f7"
            ],
            [
             0.6,
             "#e6f5d0"
            ],
            [
             0.7,
             "#b8e186"
            ],
            [
             0.8,
             "#7fbc41"
            ],
            [
             0.9,
             "#4d9221"
            ],
            [
             1,
             "#276419"
            ]
           ],
           "sequential": [
            [
             0,
             "#0d0887"
            ],
            [
             0.1111111111111111,
             "#46039f"
            ],
            [
             0.2222222222222222,
             "#7201a8"
            ],
            [
             0.3333333333333333,
             "#9c179e"
            ],
            [
             0.4444444444444444,
             "#bd3786"
            ],
            [
             0.5555555555555556,
             "#d8576b"
            ],
            [
             0.6666666666666666,
             "#ed7953"
            ],
            [
             0.7777777777777778,
             "#fb9f3a"
            ],
            [
             0.8888888888888888,
             "#fdca26"
            ],
            [
             1,
             "#f0f921"
            ]
           ],
           "sequentialminus": [
            [
             0,
             "#0d0887"
            ],
            [
             0.1111111111111111,
             "#46039f"
            ],
            [
             0.2222222222222222,
             "#7201a8"
            ],
            [
             0.3333333333333333,
             "#9c179e"
            ],
            [
             0.4444444444444444,
             "#bd3786"
            ],
            [
             0.5555555555555556,
             "#d8576b"
            ],
            [
             0.6666666666666666,
             "#ed7953"
            ],
            [
             0.7777777777777778,
             "#fb9f3a"
            ],
            [
             0.8888888888888888,
             "#fdca26"
            ],
            [
             1,
             "#f0f921"
            ]
           ]
          },
          "colorway": [
           "#636efa",
           "#EF553B",
           "#00cc96",
           "#ab63fa",
           "#FFA15A",
           "#19d3f3",
           "#FF6692",
           "#B6E880",
           "#FF97FF",
           "#FECB52"
          ],
          "font": {
           "color": "#2a3f5f"
          },
          "geo": {
           "bgcolor": "white",
           "lakecolor": "white",
           "landcolor": "#E5ECF6",
           "showlakes": true,
           "showland": true,
           "subunitcolor": "white"
          },
          "hoverlabel": {
           "align": "left"
          },
          "hovermode": "closest",
          "mapbox": {
           "style": "light"
          },
          "paper_bgcolor": "white",
          "plot_bgcolor": "#E5ECF6",
          "polar": {
           "angularaxis": {
            "gridcolor": "white",
            "linecolor": "white",
            "ticks": ""
           },
           "bgcolor": "#E5ECF6",
           "radialaxis": {
            "gridcolor": "white",
            "linecolor": "white",
            "ticks": ""
           }
          },
          "scene": {
           "xaxis": {
            "backgroundcolor": "#E5ECF6",
            "gridcolor": "white",
            "gridwidth": 2,
            "linecolor": "white",
            "showbackground": true,
            "ticks": "",
            "zerolinecolor": "white"
           },
           "yaxis": {
            "backgroundcolor": "#E5ECF6",
            "gridcolor": "white",
            "gridwidth": 2,
            "linecolor": "white",
            "showbackground": true,
            "ticks": "",
            "zerolinecolor": "white"
           },
           "zaxis": {
            "backgroundcolor": "#E5ECF6",
            "gridcolor": "white",
            "gridwidth": 2,
            "linecolor": "white",
            "showbackground": true,
            "ticks": "",
            "zerolinecolor": "white"
           }
          },
          "shapedefaults": {
           "line": {
            "color": "#2a3f5f"
           }
          },
          "ternary": {
           "aaxis": {
            "gridcolor": "white",
            "linecolor": "white",
            "ticks": ""
           },
           "baxis": {
            "gridcolor": "white",
            "linecolor": "white",
            "ticks": ""
           },
           "bgcolor": "#E5ECF6",
           "caxis": {
            "gridcolor": "white",
            "linecolor": "white",
            "ticks": ""
           }
          },
          "title": {
           "x": 0.05
          },
          "xaxis": {
           "automargin": true,
           "gridcolor": "white",
           "linecolor": "white",
           "ticks": "",
           "title": {
            "standoff": 15
           },
           "zerolinecolor": "white",
           "zerolinewidth": 2
          },
          "yaxis": {
           "automargin": true,
           "gridcolor": "white",
           "linecolor": "white",
           "ticks": "",
           "title": {
            "standoff": 15
           },
           "zerolinecolor": "white",
           "zerolinewidth": 2
          }
         }
        },
        "title": {
         "text": "Site code: LAI "
        },
        "xaxis": {
         "anchor": "y",
         "domain": [
          0,
          1
         ],
         "title": {
          "text": "Year"
         }
        },
        "yaxis": {
         "anchor": "x",
         "domain": [
          0,
          1
         ],
         "title": {
          "text": "Value"
         }
        }
       }
      }
     },
     "metadata": {},
     "output_type": "display_data"
    },
    {
     "data": {
      "application/vnd.plotly.v1+json": {
       "config": {
        "plotlyServerURL": "https://plot.ly"
       },
       "data": [
        {
         "hovertemplate": "Year=%{x}<br>Value=%{y}<extra></extra>",
         "legendgroup": "",
         "line": {
          "color": "#636efa",
          "dash": "solid"
         },
         "marker": {
          "symbol": "circle"
         },
         "mode": "lines",
         "name": "",
         "orientation": "v",
         "showlegend": false,
         "type": "scatter",
         "x": [
          "1600",
          "1601",
          "1602",
          "1603",
          "1604",
          "1605",
          "1606",
          "1607",
          "1608",
          "1609",
          "1610",
          "1611",
          "1612",
          "1613",
          "1614",
          "1615",
          "1616",
          "1617",
          "1618",
          "1619",
          "1620",
          "1621",
          "1622",
          "1623",
          "1624",
          "1625",
          "1626",
          "1627",
          "1628",
          "1629",
          "1630",
          "1631",
          "1632",
          "1633",
          "1634",
          "1635",
          "1636",
          "1637",
          "1638",
          "1639",
          "1640",
          "1641",
          "1642",
          "1643",
          "1644",
          "1645",
          "1646",
          "1647",
          "1648",
          "1649",
          "1650",
          "1651",
          "1652",
          "1653",
          "1654",
          "1655",
          "1656",
          "1657",
          "1658",
          "1659",
          "1660",
          "1661",
          "1662",
          "1663",
          "1664",
          "1665",
          "1666",
          "1667",
          "1668",
          "1669",
          "1670",
          "1671",
          "1672",
          "1673",
          "1674",
          "1675",
          "1676",
          "1677",
          "1678",
          "1679",
          "1680",
          "1681",
          "1682",
          "1683",
          "1684",
          "1685",
          "1686",
          "1687",
          "1688",
          "1689",
          "1690",
          "1691",
          "1692",
          "1693",
          "1694",
          "1695",
          "1696",
          "1697",
          "1698",
          "1699",
          "1700",
          "1701",
          "1702",
          "1703",
          "1704",
          "1705",
          "1706",
          "1707",
          "1708",
          "1709",
          "1710",
          "1711",
          "1712",
          "1713",
          "1714",
          "1715",
          "1716",
          "1717",
          "1718",
          "1719",
          "1720",
          "1721",
          "1722",
          "1723",
          "1724",
          "1725",
          "1726",
          "1727",
          "1728",
          "1729",
          "1730",
          "1731",
          "1732",
          "1733",
          "1734",
          "1735",
          "1736",
          "1737",
          "1738",
          "1739",
          "1740",
          "1741",
          "1742",
          "1743",
          "1744",
          "1745",
          "1746",
          "1747",
          "1748",
          "1749",
          "1750",
          "1751",
          "1752",
          "1753",
          "1754",
          "1755",
          "1756",
          "1757",
          "1758",
          "1759",
          "1760",
          "1761",
          "1762",
          "1763",
          "1764",
          "1765",
          "1766",
          "1767",
          "1768",
          "1769",
          "1770",
          "1771",
          "1772",
          "1773",
          "1774",
          "1775",
          "1776",
          "1777",
          "1778",
          "1779",
          "1780",
          "1781",
          "1782",
          "1783",
          "1784",
          "1785",
          "1786",
          "1787",
          "1788",
          "1789",
          "1790",
          "1791",
          "1792",
          "1793",
          "1794",
          "1795",
          "1796",
          "1797",
          "1798",
          "1799",
          "1800",
          "1801",
          "1802",
          "1803",
          "1804",
          "1805",
          "1806",
          "1807",
          "1808",
          "1809",
          "1810",
          "1811",
          "1812",
          "1813",
          "1814",
          "1815",
          "1816",
          "1817",
          "1818",
          "1819",
          "1820",
          "1821",
          "1822",
          "1823",
          "1824",
          "1825",
          "1826",
          "1827",
          "1828",
          "1829",
          "1830",
          "1831",
          "1832",
          "1833",
          "1834",
          "1835",
          "1836",
          "1837",
          "1838",
          "1839",
          "1840",
          "1841",
          "1842",
          "1843",
          "1844",
          "1845",
          "1846",
          "1847",
          "1848",
          "1849",
          "1850",
          "1851",
          "1852",
          "1853",
          "1854",
          "1855",
          "1856",
          "1857",
          "1858",
          "1859",
          "1860",
          "1861",
          "1862",
          "1863",
          "1864",
          "1865",
          "1866",
          "1867",
          "1868",
          "1869",
          "1870",
          "1871",
          "1872",
          "1873",
          "1874",
          "1875",
          "1876",
          "1877",
          "1878",
          "1879",
          "1880",
          "1881",
          "1882",
          "1883",
          "1884",
          "1885",
          "1886",
          "1887",
          "1888",
          "1889",
          "1890",
          "1891",
          "1892",
          "1893",
          "1894",
          "1895",
          "1896",
          "1897",
          "1898",
          "1899",
          "1900",
          "1901",
          "1902",
          "1903",
          "1904",
          "1905",
          "1906",
          "1907",
          "1908",
          "1909",
          "1910",
          "1911",
          "1912",
          "1913",
          "1914",
          "1915",
          "1916",
          "1917",
          "1918",
          "1919",
          "1920",
          "1921",
          "1922",
          "1923",
          "1924",
          "1925",
          "1926",
          "1927",
          "1928",
          "1929",
          "1930",
          "1931",
          "1932",
          "1933",
          "1934",
          "1935",
          "1936",
          "1937",
          "1938",
          "1939",
          "1940",
          "1941",
          "1942",
          "1943",
          "1944",
          "1945",
          "1946",
          "1947",
          "1948",
          "1949",
          "1950",
          "1951",
          "1952",
          "1953",
          "1954",
          "1955",
          "1956",
          "1957",
          "1958",
          "1959",
          "1960",
          "1961",
          "1962",
          "1963",
          "1964",
          "1965",
          "1966",
          "1967",
          "1968",
          "1969",
          "1970",
          "1971",
          "1972",
          "1973",
          "1974",
          "1975",
          "1976",
          "1977",
          "1978",
          "1979",
          "1980",
          "1981",
          "1982",
          "1983",
          "1984",
          "1985",
          "1986",
          "1987",
          "1988",
          "1989",
          "1990",
          "1991",
          "1992",
          "1993",
          "1994",
          "1995",
          "1996",
          "1997",
          "1998",
          "1999",
          "2000",
          "2001",
          "2002",
          "2003",
          "2004",
          "2005"
         ],
         "xaxis": "x",
         "y": {
          "bdata": "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",
          "dtype": "f8"
         },
         "yaxis": "y"
        }
       ],
       "layout": {
        "legend": {
         "tracegroupgap": 0
        },
        "template": {
         "data": {
          "bar": [
           {
            "error_x": {
             "color": "#2a3f5f"
            },
            "error_y": {
             "color": "#2a3f5f"
            },
            "marker": {
             "line": {
              "color": "#E5ECF6",
              "width": 0.5
             },
             "pattern": {
              "fillmode": "overlay",
              "size": 10,
              "solidity": 0.2
             }
            },
            "type": "bar"
           }
          ],
          "barpolar": [
           {
            "marker": {
             "line": {
              "color": "#E5ECF6",
              "width": 0.5
             },
             "pattern": {
              "fillmode": "overlay",
              "size": 10,
              "solidity": 0.2
             }
            },
            "type": "barpolar"
           }
          ],
          "carpet": [
           {
            "aaxis": {
             "endlinecolor": "#2a3f5f",
             "gridcolor": "white",
             "linecolor": "white",
             "minorgridcolor": "white",
             "startlinecolor": "#2a3f5f"
            },
            "baxis": {
             "endlinecolor": "#2a3f5f",
             "gridcolor": "white",
             "linecolor": "white",
             "minorgridcolor": "white",
             "startlinecolor": "#2a3f5f"
            },
            "type": "carpet"
           }
          ],
          "choropleth": [
           {
            "colorbar": {
             "outlinewidth": 0,
             "ticks": ""
            },
            "type": "choropleth"
           }
          ],
          "contour": [
           {
            "colorbar": {
             "outlinewidth": 0,
             "ticks": ""
            },
            "colorscale": [
             [
              0,
              "#0d0887"
             ],
             [
              0.1111111111111111,
              "#46039f"
             ],
             [
              0.2222222222222222,
              "#7201a8"
             ],
             [
              0.3333333333333333,
              "#9c179e"
             ],
             [
              0.4444444444444444,
              "#bd3786"
             ],
             [
              0.5555555555555556,
              "#d8576b"
             ],
             [
              0.6666666666666666,
              "#ed7953"
             ],
             [
              0.7777777777777778,
              "#fb9f3a"
             ],
             [
              0.8888888888888888,
              "#fdca26"
             ],
             [
              1,
              "#f0f921"
             ]
            ],
            "type": "contour"
           }
          ],
          "contourcarpet": [
           {
            "colorbar": {
             "outlinewidth": 0,
             "ticks": ""
            },
            "type": "contourcarpet"
           }
          ],
          "heatmap": [
           {
            "colorbar": {
             "outlinewidth": 0,
             "ticks": ""
            },
            "colorscale": [
             [
              0,
              "#0d0887"
             ],
             [
              0.1111111111111111,
              "#46039f"
             ],
             [
              0.2222222222222222,
              "#7201a8"
             ],
             [
              0.3333333333333333,
              "#9c179e"
             ],
             [
              0.4444444444444444,
              "#bd3786"
             ],
             [
              0.5555555555555556,
              "#d8576b"
             ],
             [
              0.6666666666666666,
              "#ed7953"
             ],
             [
              0.7777777777777778,
              "#fb9f3a"
             ],
             [
              0.8888888888888888,
              "#fdca26"
             ],
             [
              1,
              "#f0f921"
             ]
            ],
            "type": "heatmap"
           }
          ],
          "histogram": [
           {
            "marker": {
             "pattern": {
              "fillmode": "overlay",
              "size": 10,
              "solidity": 0.2
             }
            },
            "type": "histogram"
           }
          ],
          "histogram2d": [
           {
            "colorbar": {
             "outlinewidth": 0,
             "ticks": ""
            },
            "colorscale": [
             [
              0,
              "#0d0887"
             ],
             [
              0.1111111111111111,
              "#46039f"
             ],
             [
              0.2222222222222222,
              "#7201a8"
             ],
             [
              0.3333333333333333,
              "#9c179e"
             ],
             [
              0.4444444444444444,
              "#bd3786"
             ],
             [
              0.5555555555555556,
              "#d8576b"
             ],
             [
              0.6666666666666666,
              "#ed7953"
             ],
             [
              0.7777777777777778,
              "#fb9f3a"
             ],
             [
              0.8888888888888888,
              "#fdca26"
             ],
             [
              1,
              "#f0f921"
             ]
            ],
            "type": "histogram2d"
           }
          ],
          "histogram2dcontour": [
           {
            "colorbar": {
             "outlinewidth": 0,
             "ticks": ""
            },
            "colorscale": [
             [
              0,
              "#0d0887"
             ],
             [
              0.1111111111111111,
              "#46039f"
             ],
             [
              0.2222222222222222,
              "#7201a8"
             ],
             [
              0.3333333333333333,
              "#9c179e"
             ],
             [
              0.4444444444444444,
              "#bd3786"
             ],
             [
              0.5555555555555556,
              "#d8576b"
             ],
             [
              0.6666666666666666,
              "#ed7953"
             ],
             [
              0.7777777777777778,
              "#fb9f3a"
             ],
             [
              0.8888888888888888,
              "#fdca26"
             ],
             [
              1,
              "#f0f921"
             ]
            ],
            "type": "histogram2dcontour"
           }
          ],
          "mesh3d": [
           {
            "colorbar": {
             "outlinewidth": 0,
             "ticks": ""
            },
            "type": "mesh3d"
           }
          ],
          "parcoords": [
           {
            "line": {
             "colorbar": {
              "outlinewidth": 0,
              "ticks": ""
             }
            },
            "type": "parcoords"
           }
          ],
          "pie": [
           {
            "automargin": true,
            "type": "pie"
           }
          ],
          "scatter": [
           {
            "fillpattern": {
             "fillmode": "overlay",
             "size": 10,
             "solidity": 0.2
            },
            "type": "scatter"
           }
          ],
          "scatter3d": [
           {
            "line": {
             "colorbar": {
              "outlinewidth": 0,
              "ticks": ""
             }
            },
            "marker": {
             "colorbar": {
              "outlinewidth": 0,
              "ticks": ""
             }
            },
            "type": "scatter3d"
           }
          ],
          "scattercarpet": [
           {
            "marker": {
             "colorbar": {
              "outlinewidth": 0,
              "ticks": ""
             }
            },
            "type": "scattercarpet"
           }
          ],
          "scattergeo": [
           {
            "marker": {
             "colorbar": {
              "outlinewidth": 0,
              "ticks": ""
             }
            },
            "type": "scattergeo"
           }
          ],
          "scattergl": [
           {
            "marker": {
             "colorbar": {
              "outlinewidth": 0,
              "ticks": ""
             }
            },
            "type": "scattergl"
           }
          ],
          "scattermap": [
           {
            "marker": {
             "colorbar": {
              "outlinewidth": 0,
              "ticks": ""
             }
            },
            "type": "scattermap"
           }
          ],
          "scattermapbox": [
           {
            "marker": {
             "colorbar": {
              "outlinewidth": 0,
              "ticks": ""
             }
            },
            "type": "scattermapbox"
           }
          ],
          "scatterpolar": [
           {
            "marker": {
             "colorbar": {
              "outlinewidth": 0,
              "ticks": ""
             }
            },
            "type": "scatterpolar"
           }
          ],
          "scatterpolargl": [
           {
            "marker": {
             "colorbar": {
              "outlinewidth": 0,
              "ticks": ""
             }
            },
            "type": "scatterpolargl"
           }
          ],
          "scatterternary": [
           {
            "marker": {
             "colorbar": {
              "outlinewidth": 0,
              "ticks": ""
             }
            },
            "type": "scatterternary"
           }
          ],
          "surface": [
           {
            "colorbar": {
             "outlinewidth": 0,
             "ticks": ""
            },
            "colorscale": [
             [
              0,
              "#0d0887"
             ],
             [
              0.1111111111111111,
              "#46039f"
             ],
             [
              0.2222222222222222,
              "#7201a8"
             ],
             [
              0.3333333333333333,
              "#9c179e"
             ],
             [
              0.4444444444444444,
              "#bd3786"
             ],
             [
              0.5555555555555556,
              "#d8576b"
             ],
             [
              0.6666666666666666,
              "#ed7953"
             ],
             [
              0.7777777777777778,
              "#fb9f3a"
             ],
             [
              0.8888888888888888,
              "#fdca26"
             ],
             [
              1,
              "#f0f921"
             ]
            ],
            "type": "surface"
           }
          ],
          "table": [
           {
            "cells": {
             "fill": {
              "color": "#EBF0F8"
             },
             "line": {
              "color": "white"
             }
            },
            "header": {
             "fill": {
              "color": "#C8D4E3"
             },
             "line": {
              "color": "white"
             }
            },
            "type": "table"
           }
          ]
         },
         "layout": {
          "annotationdefaults": {
           "arrowcolor": "#2a3f5f",
           "arrowhead": 0,
           "arrowwidth": 1
          },
          "autotypenumbers": "strict",
          "coloraxis": {
           "colorbar": {
            "outlinewidth": 0,
            "ticks": ""
           }
          },
          "colorscale": {
           "diverging": [
            [
             0,
             "#8e0152"
            ],
            [
             0.1,
             "#c51b7d"
            ],
            [
             0.2,
             "#de77ae"
            ],
            [
             0.3,
             "#f1b6da"
            ],
            [
             0.4,
             "#fde0ef"
            ],
            [
             0.5,
             "#f7f7f7"
            ],
            [
             0.6,
             "#e6f5d0"
            ],
            [
             0.7,
             "#b8e186"
            ],
            [
             0.8,
             "#7fbc41"
            ],
            [
             0.9,
             "#4d9221"
            ],
            [
             1,
             "#276419"
            ]
           ],
           "sequential": [
            [
             0,
             "#0d0887"
            ],
            [
             0.1111111111111111,
             "#46039f"
            ],
            [
             0.2222222222222222,
             "#7201a8"
            ],
            [
             0.3333333333333333,
             "#9c179e"
            ],
            [
             0.4444444444444444,
             "#bd3786"
            ],
            [
             0.5555555555555556,
             "#d8576b"
            ],
            [
             0.6666666666666666,
             "#ed7953"
            ],
            [
             0.7777777777777778,
             "#fb9f3a"
            ],
            [
             0.8888888888888888,
             "#fdca26"
            ],
            [
             1,
             "#f0f921"
            ]
           ],
           "sequentialminus": [
            [
             0,
             "#0d0887"
            ],
            [
             0.1111111111111111,
             "#46039f"
            ],
            [
             0.2222222222222222,
             "#7201a8"
            ],
            [
             0.3333333333333333,
             "#9c179e"
            ],
            [
             0.4444444444444444,
             "#bd3786"
            ],
            [
             0.5555555555555556,
             "#d8576b"
            ],
            [
             0.6666666666666666,
             "#ed7953"
            ],
            [
             0.7777777777777778,
             "#fb9f3a"
            ],
            [
             0.8888888888888888,
             "#fdca26"
            ],
            [
             1,
             "#f0f921"
            ]
           ]
          },
          "colorway": [
           "#636efa",
           "#EF553B",
           "#00cc96",
           "#ab63fa",
           "#FFA15A",
           "#19d3f3",
           "#FF6692",
           "#B6E880",
           "#FF97FF",
           "#FECB52"
          ],
          "font": {
           "color": "#2a3f5f"
          },
          "geo": {
           "bgcolor": "white",
           "lakecolor": "white",
           "landcolor": "#E5ECF6",
           "showlakes": true,
           "showland": true,
           "subunitcolor": "white"
          },
          "hoverlabel": {
           "align": "left"
          },
          "hovermode": "closest",
          "mapbox": {
           "style": "light"
          },
          "paper_bgcolor": "white",
          "plot_bgcolor": "#E5ECF6",
          "polar": {
           "angularaxis": {
            "gridcolor": "white",
            "linecolor": "white",
            "ticks": ""
           },
           "bgcolor": "#E5ECF6",
           "radialaxis": {
            "gridcolor": "white",
            "linecolor": "white",
            "ticks": ""
           }
          },
          "scene": {
           "xaxis": {
            "backgroundcolor": "#E5ECF6",
            "gridcolor": "white",
            "gridwidth": 2,
            "linecolor": "white",
            "showbackground": true,
            "ticks": "",
            "zerolinecolor": "white"
           },
           "yaxis": {
            "backgroundcolor": "#E5ECF6",
            "gridcolor": "white",
            "gridwidth": 2,
            "linecolor": "white",
            "showbackground": true,
            "ticks": "",
            "zerolinecolor": "white"
           },
           "zaxis": {
            "backgroundcolor": "#E5ECF6",
            "gridcolor": "white",
            "gridwidth": 2,
            "linecolor": "white",
            "showbackground": true,
            "ticks": "",
            "zerolinecolor": "white"
           }
          },
          "shapedefaults": {
           "line": {
            "color": "#2a3f5f"
           }
          },
          "ternary": {
           "aaxis": {
            "gridcolor": "white",
            "linecolor": "white",
            "ticks": ""
           },
           "baxis": {
            "gridcolor": "white",
            "linecolor": "white",
            "ticks": ""
           },
           "bgcolor": "#E5ECF6",
           "caxis": {
            "gridcolor": "white",
            "linecolor": "white",
            "ticks": ""
           }
          },
          "title": {
           "x": 0.05
          },
          "xaxis": {
           "automargin": true,
           "gridcolor": "white",
           "linecolor": "white",
           "ticks": "",
           "title": {
            "standoff": 15
           },
           "zerolinecolor": "white",
           "zerolinewidth": 2
          },
          "yaxis": {
           "automargin": true,
           "gridcolor": "white",
           "linecolor": "white",
           "ticks": "",
           "title": {
            "standoff": 15
           },
           "zerolinecolor": "white",
           "zerolinewidth": 2
          }
         }
        },
        "title": {
         "text": "Site code: LOC "
        },
        "xaxis": {
         "anchor": "y",
         "domain": [
          0,
          1
         ],
         "title": {
          "text": "Year"
         }
        },
        "yaxis": {
         "anchor": "x",
         "domain": [
          0,
          1
         ],
         "title": {
          "text": "Value"
         }
        }
       }
      }
     },
     "metadata": {},
     "output_type": "display_data"
    },
    {
     "data": {
      "application/vnd.plotly.v1+json": {
       "config": {
        "plotlyServerURL": "https://plot.ly"
       },
       "data": [
        {
         "hovertemplate": "Year=%{x}<br>Value=%{y}<extra></extra>",
         "legendgroup": "",
         "line": {
          "color": "#636efa",
          "dash": "solid"
         },
         "marker": {
          "symbol": "circle"
         },
         "mode": "lines",
         "name": "",
         "orientation": "v",
         "showlegend": false,
         "type": "scatter",
         "x": [
          "1600",
          "1601",
          "1602",
          "1603",
          "1604",
          "1605",
          "1606",
          "1607",
          "1608",
          "1609",
          "1610",
          "1611",
          "1612",
          "1613",
          "1614",
          "1615",
          "1616",
          "1617",
          "1618",
          "1619",
          "1620",
          "1621",
          "1622",
          "1623",
          "1624",
          "1625",
          "1626",
          "1627",
          "1628",
          "1629",
          "1630",
          "1631",
          "1632",
          "1633",
          "1634",
          "1635",
          "1636",
          "1637",
          "1638",
          "1639",
          "1640",
          "1641",
          "1642",
          "1643",
          "1644",
          "1645",
          "1646",
          "1647",
          "1648",
          "1649",
          "1650",
          "1651",
          "1652",
          "1653",
          "1654",
          "1655",
          "1656",
          "1657",
          "1658",
          "1659",
          "1660",
          "1661",
          "1662",
          "1663",
          "1664",
          "1665",
          "1666",
          "1667",
          "1668",
          "1669",
          "1670",
          "1671",
          "1672",
          "1673",
          "1674",
          "1675",
          "1676",
          "1677",
          "1678",
          "1679",
          "1680",
          "1681",
          "1682",
          "1683",
          "1684",
          "1685",
          "1686",
          "1687",
          "1688",
          "1689",
          "1690",
          "1691",
          "1692",
          "1693",
          "1694",
          "1695",
          "1696",
          "1697",
          "1698",
          "1699",
          "1700",
          "1701",
          "1702",
          "1703",
          "1704",
          "1705",
          "1706",
          "1707",
          "1708",
          "1709",
          "1710",
          "1711",
          "1712",
          "1713",
          "1714",
          "1715",
          "1716",
          "1717",
          "1718",
          "1719",
          "1720",
          "1721",
          "1722",
          "1723",
          "1724",
          "1725",
          "1726",
          "1727",
          "1728",
          "1729",
          "1730",
          "1731",
          "1732",
          "1733",
          "1734",
          "1735",
          "1736",
          "1737",
          "1738",
          "1739",
          "1740",
          "1741",
          "1742",
          "1743",
          "1744",
          "1745",
          "1746",
          "1747",
          "1748",
          "1749",
          "1750",
          "1751",
          "1752",
          "1753",
          "1754",
          "1755",
          "1756",
          "1757",
          "1758",
          "1759",
          "1760",
          "1761",
          "1762",
          "1763",
          "1764",
          "1765",
          "1766",
          "1767",
          "1768",
          "1769",
          "1770",
          "1771",
          "1772",
          "1773",
          "1774",
          "1775",
          "1776",
          "1777",
          "1778",
          "1779",
          "1780",
          "1781",
          "1782",
          "1783",
          "1784",
          "1785",
          "1786",
          "1787",
          "1788",
          "1789",
          "1790",
          "1791",
          "1792",
          "1793",
          "1794",
          "1795",
          "1796",
          "1797",
          "1798",
          "1799",
          "1800",
          "1801",
          "1802",
          "1803",
          "1804",
          "1805",
          "1806",
          "1807",
          "1808",
          "1809",
          "1810",
          "1811",
          "1812",
          "1813",
          "1814",
          "1815",
          "1816",
          "1817",
          "1818",
          "1819",
          "1820",
          "1821",
          "1822",
          "1823",
          "1824",
          "1825",
          "1826",
          "1827",
          "1828",
          "1829",
          "1830",
          "1831",
          "1832",
          "1833",
          "1834",
          "1835",
          "1836",
          "1837",
          "1838",
          "1839",
          "1840",
          "1841",
          "1842",
          "1843",
          "1844",
          "1845",
          "1846",
          "1847",
          "1848",
          "1849",
          "1850",
          "1851",
          "1852",
          "1853",
          "1854",
          "1855",
          "1856",
          "1857",
          "1858",
          "1859",
          "1860",
          "1861",
          "1862",
          "1863",
          "1864",
          "1865",
          "1866",
          "1867",
          "1868",
          "1869",
          "1870",
          "1871",
          "1872",
          "1873",
          "1874",
          "1875",
          "1876",
          "1877",
          "1878",
          "1879",
          "1880",
          "1881",
          "1882",
          "1883",
          "1884",
          "1885",
          "1886",
          "1887",
          "1888",
          "1889",
          "1890",
          "1891",
          "1892",
          "1893",
          "1894",
          "1895",
          "1896",
          "1897",
          "1898",
          "1899",
          "1900",
          "1901",
          "1902",
          "1903",
          "1904",
          "1905",
          "1906",
          "1907",
          "1908",
          "1909",
          "1910",
          "1911",
          "1912",
          "1913",
          "1914",
          "1915",
          "1916",
          "1917",
          "1918",
          "1919",
          "1920",
          "1921",
          "1922",
          "1923",
          "1924",
          "1925",
          "1926",
          "1927",
          "1928",
          "1929",
          "1930",
          "1931",
          "1932",
          "1933",
          "1934",
          "1935",
          "1936",
          "1937",
          "1938",
          "1939",
          "1940",
          "1941",
          "1942",
          "1943",
          "1944",
          "1945",
          "1946",
          "1947",
          "1948",
          "1949",
          "1950",
          "1951",
          "1952",
          "1953",
          "1954",
          "1955",
          "1956",
          "1957",
          "1958",
          "1959",
          "1960",
          "1961",
          "1962",
          "1963",
          "1964",
          "1965",
          "1966",
          "1967",
          "1968",
          "1969",
          "1970",
          "1971",
          "1972",
          "1973",
          "1974",
          "1975",
          "1976",
          "1977",
          "1978",
          "1979",
          "1980",
          "1981",
          "1982",
          "1983",
          "1984",
          "1985",
          "1986",
          "1987",
          "1988",
          "1989",
          "1990",
          "1991",
          "1992",
          "1993",
          "1994",
          "1995",
          "1996",
          "1997",
          "1998",
          "1999",
          "2000",
          "2001",
          "2002",
          "2003",
          "2004",
          "2005"
         ],
         "xaxis": "x",
         "y": {
          "bdata": "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",
          "dtype": "f8"
         },
         "yaxis": "y"
        }
       ],
       "layout": {
        "legend": {
         "tracegroupgap": 0
        },
        "template": {
         "data": {
          "bar": [
           {
            "error_x": {
             "color": "#2a3f5f"
            },
            "error_y": {
             "color": "#2a3f5f"
            },
            "marker": {
             "line": {
              "color": "#E5ECF6",
              "width": 0.5
             },
             "pattern": {
              "fillmode": "overlay",
              "size": 10,
              "solidity": 0.2
             }
            },
            "type": "bar"
           }
          ],
          "barpolar": [
           {
            "marker": {
             "line": {
              "color": "#E5ECF6",
              "width": 0.5
             },
             "pattern": {
              "fillmode": "overlay",
              "size": 10,
              "solidity": 0.2
             }
            },
            "type": "barpolar"
           }
          ],
          "carpet": [
           {
            "aaxis": {
             "endlinecolor": "#2a3f5f",
             "gridcolor": "white",
             "linecolor": "white",
             "minorgridcolor": "white",
             "startlinecolor": "#2a3f5f"
            },
            "baxis": {
             "endlinecolor": "#2a3f5f",
             "gridcolor": "white",
             "linecolor": "white",
             "minorgridcolor": "white",
             "startlinecolor": "#2a3f5f"
            },
            "type": "carpet"
           }
          ],
          "choropleth": [
           {
            "colorbar": {
             "outlinewidth": 0,
             "ticks": ""
            },
            "type": "choropleth"
           }
          ],
          "contour": [
           {
            "colorbar": {
             "outlinewidth": 0,
             "ticks": ""
            },
            "colorscale": [
             [
              0,
              "#0d0887"
             ],
             [
              0.1111111111111111,
              "#46039f"
             ],
             [
              0.2222222222222222,
              "#7201a8"
             ],
             [
              0.3333333333333333,
              "#9c179e"
             ],
             [
              0.4444444444444444,
              "#bd3786"
             ],
             [
              0.5555555555555556,
              "#d8576b"
             ],
             [
              0.6666666666666666,
              "#ed7953"
             ],
             [
              0.7777777777777778,
              "#fb9f3a"
             ],
             [
              0.8888888888888888,
              "#fdca26"
             ],
             [
              1,
              "#f0f921"
             ]
            ],
            "type": "contour"
           }
          ],
          "contourcarpet": [
           {
            "colorbar": {
             "outlinewidth": 0,
             "ticks": ""
            },
            "type": "contourcarpet"
           }
          ],
          "heatmap": [
           {
            "colorbar": {
             "outlinewidth": 0,
             "ticks": ""
            },
            "colorscale": [
             [
              0,
              "#0d0887"
             ],
             [
              0.1111111111111111,
              "#46039f"
             ],
             [
              0.2222222222222222,
              "#7201a8"
             ],
             [
              0.3333333333333333,
              "#9c179e"
             ],
             [
              0.4444444444444444,
              "#bd3786"
             ],
             [
              0.5555555555555556,
              "#d8576b"
             ],
             [
              0.6666666666666666,
              "#ed7953"
             ],
             [
              0.7777777777777778,
              "#fb9f3a"
             ],
             [
              0.8888888888888888,
              "#fdca26"
             ],
             [
              1,
              "#f0f921"
             ]
            ],
            "type": "heatmap"
           }
          ],
          "histogram": [
           {
            "marker": {
             "pattern": {
              "fillmode": "overlay",
              "size": 10,
              "solidity": 0.2
             }
            },
            "type": "histogram"
           }
          ],
          "histogram2d": [
           {
            "colorbar": {
             "outlinewidth": 0,
             "ticks": ""
            },
            "colorscale": [
             [
              0,
              "#0d0887"
             ],
             [
              0.1111111111111111,
              "#46039f"
             ],
             [
              0.2222222222222222,
              "#7201a8"
             ],
             [
              0.3333333333333333,
              "#9c179e"
             ],
             [
              0.4444444444444444,
              "#bd3786"
             ],
             [
              0.5555555555555556,
              "#d8576b"
             ],
             [
              0.6666666666666666,
              "#ed7953"
             ],
             [
              0.7777777777777778,
              "#fb9f3a"
             ],
             [
              0.8888888888888888,
              "#fdca26"
             ],
             [
              1,
              "#f0f921"
             ]
            ],
            "type": "histogram2d"
           }
          ],
          "histogram2dcontour": [
           {
            "colorbar": {
             "outlinewidth": 0,
             "ticks": ""
            },
            "colorscale": [
             [
              0,
              "#0d0887"
             ],
             [
              0.1111111111111111,
              "#46039f"
             ],
             [
              0.2222222222222222,
              "#7201a8"
             ],
             [
              0.3333333333333333,
              "#9c179e"
             ],
             [
              0.4444444444444444,
              "#bd3786"
             ],
             [
              0.5555555555555556,
              "#d8576b"
             ],
             [
              0.6666666666666666,
              "#ed7953"
             ],
             [
              0.7777777777777778,
              "#fb9f3a"
             ],
             [
              0.8888888888888888,
              "#fdca26"
             ],
             [
              1,
              "#f0f921"
             ]
            ],
            "type": "histogram2dcontour"
           }
          ],
          "mesh3d": [
           {
            "colorbar": {
             "outlinewidth": 0,
             "ticks": ""
            },
            "type": "mesh3d"
           }
          ],
          "parcoords": [
           {
            "line": {
             "colorbar": {
              "outlinewidth": 0,
              "ticks": ""
             }
            },
            "type": "parcoords"
           }
          ],
          "pie": [
           {
            "automargin": true,
            "type": "pie"
           }
          ],
          "scatter": [
           {
            "fillpattern": {
             "fillmode": "overlay",
             "size": 10,
             "solidity": 0.2
            },
            "type": "scatter"
           }
          ],
          "scatter3d": [
           {
            "line": {
             "colorbar": {
              "outlinewidth": 0,
              "ticks": ""
             }
            },
            "marker": {
             "colorbar": {
              "outlinewidth": 0,
              "ticks": ""
             }
            },
            "type": "scatter3d"
           }
          ],
          "scattercarpet": [
           {
            "marker": {
             "colorbar": {
              "outlinewidth": 0,
              "ticks": ""
             }
            },
            "type": "scattercarpet"
           }
          ],
          "scattergeo": [
           {
            "marker": {
             "colorbar": {
              "outlinewidth": 0,
              "ticks": ""
             }
            },
            "type": "scattergeo"
           }
          ],
          "scattergl": [
           {
            "marker": {
             "colorbar": {
              "outlinewidth": 0,
              "ticks": ""
             }
            },
            "type": "scattergl"
           }
          ],
          "scattermap": [
           {
            "marker": {
             "colorbar": {
              "outlinewidth": 0,
              "ticks": ""
             }
            },
            "type": "scattermap"
           }
          ],
          "scattermapbox": [
           {
            "marker": {
             "colorbar": {
              "outlinewidth": 0,
              "ticks": ""
             }
            },
            "type": "scattermapbox"
           }
          ],
          "scatterpolar": [
           {
            "marker": {
             "colorbar": {
              "outlinewidth": 0,
              "ticks": ""
             }
            },
            "type": "scatterpolar"
           }
          ],
          "scatterpolargl": [
           {
            "marker": {
             "colorbar": {
              "outlinewidth": 0,
              "ticks": ""
             }
            },
            "type": "scatterpolargl"
           }
          ],
          "scatterternary": [
           {
            "marker": {
             "colorbar": {
              "outlinewidth": 0,
              "ticks": ""
             }
            },
            "type": "scatterternary"
           }
          ],
          "surface": [
           {
            "colorbar": {
             "outlinewidth": 0,
             "ticks": ""
            },
            "colorscale": [
             [
              0,
              "#0d0887"
             ],
             [
              0.1111111111111111,
              "#46039f"
             ],
             [
              0.2222222222222222,
              "#7201a8"
             ],
             [
              0.3333333333333333,
              "#9c179e"
             ],
             [
              0.4444444444444444,
              "#bd3786"
             ],
             [
              0.5555555555555556,
              "#d8576b"
             ],
             [
              0.6666666666666666,
              "#ed7953"
             ],
             [
              0.7777777777777778,
              "#fb9f3a"
             ],
             [
              0.8888888888888888,
              "#fdca26"
             ],
             [
              1,
              "#f0f921"
             ]
            ],
            "type": "surface"
           }
          ],
          "table": [
           {
            "cells": {
             "fill": {
              "color": "#EBF0F8"
             },
             "line": {
              "color": "white"
             }
            },
            "header": {
             "fill": {
              "color": "#C8D4E3"
             },
             "line": {
              "color": "white"
             }
            },
            "type": "table"
           }
          ]
         },
         "layout": {
          "annotationdefaults": {
           "arrowcolor": "#2a3f5f",
           "arrowhead": 0,
           "arrowwidth": 1
          },
          "autotypenumbers": "strict",
          "coloraxis": {
           "colorbar": {
            "outlinewidth": 0,
            "ticks": ""
           }
          },
          "colorscale": {
           "diverging": [
            [
             0,
             "#8e0152"
            ],
            [
             0.1,
             "#c51b7d"
            ],
            [
             0.2,
             "#de77ae"
            ],
            [
             0.3,
             "#f1b6da"
            ],
            [
             0.4,
             "#fde0ef"
            ],
            [
             0.5,
             "#f7f7f7"
            ],
            [
             0.6,
             "#e6f5d0"
            ],
            [
             0.7,
             "#b8e186"
            ],
            [
             0.8,
             "#7fbc41"
            ],
            [
             0.9,
             "#4d9221"
            ],
            [
             1,
             "#276419"
            ]
           ],
           "sequential": [
            [
             0,
             "#0d0887"
            ],
            [
             0.1111111111111111,
             "#46039f"
            ],
            [
             0.2222222222222222,
             "#7201a8"
            ],
            [
             0.3333333333333333,
             "#9c179e"
            ],
            [
             0.4444444444444444,
             "#bd3786"
            ],
            [
             0.5555555555555556,
             "#d8576b"
            ],
            [
             0.6666666666666666,
             "#ed7953"
            ],
            [
             0.7777777777777778,
             "#fb9f3a"
            ],
            [
             0.8888888888888888,
             "#fdca26"
            ],
            [
             1,
             "#f0f921"
            ]
           ],
           "sequentialminus": [
            [
             0,
             "#0d0887"
            ],
            [
             0.1111111111111111,
             "#46039f"
            ],
            [
             0.2222222222222222,
             "#7201a8"
            ],
            [
             0.3333333333333333,
             "#9c179e"
            ],
            [
             0.4444444444444444,
             "#bd3786"
            ],
            [
             0.5555555555555556,
             "#d8576b"
            ],
            [
             0.6666666666666666,
             "#ed7953"
            ],
            [
             0.7777777777777778,
             "#fb9f3a"
            ],
            [
             0.8888888888888888,
             "#fdca26"
            ],
            [
             1,
             "#f0f921"
            ]
           ]
          },
          "colorway": [
           "#636efa",
           "#EF553B",
           "#00cc96",
           "#ab63fa",
           "#FFA15A",
           "#19d3f3",
           "#FF6692",
           "#B6E880",
           "#FF97FF",
           "#FECB52"
          ],
          "font": {
           "color": "#2a3f5f"
          },
          "geo": {
           "bgcolor": "white",
           "lakecolor": "white",
           "landcolor": "#E5ECF6",
           "showlakes": true,
           "showland": true,
           "subunitcolor": "white"
          },
          "hoverlabel": {
           "align": "left"
          },
          "hovermode": "closest",
          "mapbox": {
           "style": "light"
          },
          "paper_bgcolor": "white",
          "plot_bgcolor": "#E5ECF6",
          "polar": {
           "angularaxis": {
            "gridcolor": "white",
            "linecolor": "white",
            "ticks": ""
           },
           "bgcolor": "#E5ECF6",
           "radialaxis": {
            "gridcolor": "white",
            "linecolor": "white",
            "ticks": ""
           }
          },
          "scene": {
           "xaxis": {
            "backgroundcolor": "#E5ECF6",
            "gridcolor": "white",
            "gridwidth": 2,
            "linecolor": "white",
            "showbackground": true,
            "ticks": "",
            "zerolinecolor": "white"
           },
           "yaxis": {
            "backgroundcolor": "#E5ECF6",
            "gridcolor": "white",
            "gridwidth": 2,
            "linecolor": "white",
            "showbackground": true,
            "ticks": "",
            "zerolinecolor": "white"
           },
           "zaxis": {
            "backgroundcolor": "#E5ECF6",
            "gridcolor": "white",
            "gridwidth": 2,
            "linecolor": "white",
            "showbackground": true,
            "ticks": "",
            "zerolinecolor": "white"
           }
          },
          "shapedefaults": {
           "line": {
            "color": "#2a3f5f"
           }
          },
          "ternary": {
           "aaxis": {
            "gridcolor": "white",
            "linecolor": "white",
            "ticks": ""
           },
           "baxis": {
            "gridcolor": "white",
            "linecolor": "white",
            "ticks": ""
           },
           "bgcolor": "#E5ECF6",
           "caxis": {
            "gridcolor": "white",
            "linecolor": "white",
            "ticks": ""
           }
          },
          "title": {
           "x": 0.05
          },
          "xaxis": {
           "automargin": true,
           "gridcolor": "white",
           "linecolor": "white",
           "ticks": "",
           "title": {
            "standoff": 15
           },
           "zerolinecolor": "white",
           "zerolinewidth": 2
          },
          "yaxis": {
           "automargin": true,
           "gridcolor": "white",
           "linecolor": "white",
           "ticks": "",
           "title": {
            "standoff": 15
           },
           "zerolinecolor": "white",
           "zerolinewidth": 2
          }
         }
        },
        "title": {
         "text": "Site code: NIE1"
        },
        "xaxis": {
         "anchor": "y",
         "domain": [
          0,
          1
         ],
         "title": {
          "text": "Year"
         }
        },
        "yaxis": {
         "anchor": "x",
         "domain": [
          0,
          1
         ],
         "title": {
          "text": "Value"
         }
        }
       }
      }
     },
     "metadata": {},
     "output_type": "display_data"
    },
    {
     "data": {
      "application/vnd.plotly.v1+json": {
       "config": {
        "plotlyServerURL": "https://plot.ly"
       },
       "data": [
        {
         "hovertemplate": "Year=%{x}<br>Value=%{y}<extra></extra>",
         "legendgroup": "",
         "line": {
          "color": "#636efa",
          "dash": "solid"
         },
         "marker": {
          "symbol": "circle"
         },
         "mode": "lines",
         "name": "",
         "orientation": "v",
         "showlegend": false,
         "type": "scatter",
         "x": [
          "1600",
          "1601",
          "1602",
          "1603",
          "1604",
          "1605",
          "1606",
          "1607",
          "1608",
          "1609",
          "1610",
          "1611",
          "1612",
          "1613",
          "1614",
          "1615",
          "1616",
          "1617",
          "1618",
          "1619",
          "1620",
          "1621",
          "1622",
          "1623",
          "1624",
          "1625",
          "1626",
          "1627",
          "1628",
          "1629",
          "1630",
          "1631",
          "1632",
          "1633",
          "1634",
          "1635",
          "1636",
          "1637",
          "1638",
          "1639",
          "1640",
          "1641",
          "1642",
          "1643",
          "1644",
          "1645",
          "1646",
          "1647",
          "1648",
          "1649",
          "1650",
          "1651",
          "1652",
          "1653",
          "1654",
          "1655",
          "1656",
          "1657",
          "1658",
          "1659",
          "1660",
          "1661",
          "1662",
          "1663",
          "1664",
          "1665",
          "1666",
          "1667",
          "1668",
          "1669",
          "1670",
          "1671",
          "1672",
          "1673",
          "1674",
          "1675",
          "1676",
          "1677",
          "1678",
          "1679",
          "1680",
          "1681",
          "1682",
          "1683",
          "1684",
          "1685",
          "1686",
          "1687",
          "1688",
          "1689",
          "1690",
          "1691",
          "1692",
          "1693",
          "1694",
          "1695",
          "1696",
          "1697",
          "1698",
          "1699",
          "1700",
          "1701",
          "1702",
          "1703",
          "1704",
          "1705",
          "1706",
          "1707",
          "1708",
          "1709",
          "1710",
          "1711",
          "1712",
          "1713",
          "1714",
          "1715",
          "1716",
          "1717",
          "1718",
          "1719",
          "1720",
          "1721",
          "1722",
          "1723",
          "1724",
          "1725",
          "1726",
          "1727",
          "1728",
          "1729",
          "1730",
          "1731",
          "1732",
          "1733",
          "1734",
          "1735",
          "1736",
          "1737",
          "1738",
          "1739",
          "1740",
          "1741",
          "1742",
          "1743",
          "1744",
          "1745",
          "1746",
          "1747",
          "1748",
          "1749",
          "1750",
          "1751",
          "1752",
          "1753",
          "1754",
          "1755",
          "1756",
          "1757",
          "1758",
          "1759",
          "1760",
          "1761",
          "1762",
          "1763",
          "1764",
          "1765",
          "1766",
          "1767",
          "1768",
          "1769",
          "1770",
          "1771",
          "1772",
          "1773",
          "1774",
          "1775",
          "1776",
          "1777",
          "1778",
          "1779",
          "1780",
          "1781",
          "1782",
          "1783",
          "1784",
          "1785",
          "1786",
          "1787",
          "1788",
          "1789",
          "1790",
          "1791",
          "1792",
          "1793",
          "1794",
          "1795",
          "1796",
          "1797",
          "1798",
          "1799",
          "1800",
          "1801",
          "1802",
          "1803",
          "1804",
          "1805",
          "1806",
          "1807",
          "1808",
          "1809",
          "1810",
          "1811",
          "1812",
          "1813",
          "1814",
          "1815",
          "1816",
          "1817",
          "1818",
          "1819",
          "1820",
          "1821",
          "1822",
          "1823",
          "1824",
          "1825",
          "1826",
          "1827",
          "1828",
          "1829",
          "1830",
          "1831",
          "1832",
          "1833",
          "1834",
          "1835",
          "1836",
          "1837",
          "1838",
          "1839",
          "1840",
          "1841",
          "1842",
          "1843",
          "1844",
          "1845",
          "1846",
          "1847",
          "1848",
          "1849",
          "1850",
          "1851",
          "1852",
          "1853",
          "1854",
          "1855",
          "1856",
          "1857",
          "1858",
          "1859",
          "1860",
          "1861",
          "1862",
          "1863",
          "1864",
          "1865",
          "1866",
          "1867",
          "1868",
          "1869",
          "1870",
          "1871",
          "1872",
          "1873",
          "1874",
          "1875",
          "1876",
          "1877",
          "1878",
          "1879",
          "1880",
          "1881",
          "1882",
          "1883",
          "1884",
          "1885",
          "1886",
          "1887",
          "1888",
          "1889",
          "1890",
          "1891",
          "1892",
          "1893",
          "1894",
          "1895",
          "1896",
          "1897",
          "1898",
          "1899",
          "1900",
          "1901",
          "1902",
          "1903",
          "1904",
          "1905",
          "1906",
          "1907",
          "1908",
          "1909",
          "1910",
          "1911",
          "1912",
          "1913",
          "1914",
          "1915",
          "1916",
          "1917",
          "1918",
          "1919",
          "1920",
          "1921",
          "1922",
          "1923",
          "1924",
          "1925",
          "1926",
          "1927",
          "1928",
          "1929",
          "1930",
          "1931",
          "1932",
          "1933",
          "1934",
          "1935",
          "1936",
          "1937",
          "1938",
          "1939",
          "1940",
          "1941",
          "1942",
          "1943",
          "1944",
          "1945",
          "1946",
          "1947",
          "1948",
          "1949",
          "1950",
          "1951",
          "1952",
          "1953",
          "1954",
          "1955",
          "1956",
          "1957",
          "1958",
          "1959",
          "1960",
          "1961",
          "1962",
          "1963",
          "1964",
          "1965",
          "1966",
          "1967",
          "1968",
          "1969",
          "1970",
          "1971",
          "1972",
          "1973",
          "1974",
          "1975",
          "1976",
          "1977",
          "1978",
          "1979",
          "1980",
          "1981",
          "1982",
          "1983",
          "1984",
          "1985",
          "1986",
          "1987",
          "1988",
          "1989",
          "1990",
          "1991",
          "1992",
          "1993",
          "1994",
          "1995",
          "1996",
          "1997",
          "1998",
          "1999",
          "2000",
          "2001",
          "2002",
          "2003",
          "2004",
          "2005"
         ],
         "xaxis": "x",
         "y": {
          "bdata": "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",
          "dtype": "f8"
         },
         "yaxis": "y"
        }
       ],
       "layout": {
        "legend": {
         "tracegroupgap": 0
        },
        "template": {
         "data": {
          "bar": [
           {
            "error_x": {
             "color": "#2a3f5f"
            },
            "error_y": {
             "color": "#2a3f5f"
            },
            "marker": {
             "line": {
              "color": "#E5ECF6",
              "width": 0.5
             },
             "pattern": {
              "fillmode": "overlay",
              "size": 10,
              "solidity": 0.2
             }
            },
            "type": "bar"
           }
          ],
          "barpolar": [
           {
            "marker": {
             "line": {
              "color": "#E5ECF6",
              "width": 0.5
             },
             "pattern": {
              "fillmode": "overlay",
              "size": 10,
              "solidity": 0.2
             }
            },
            "type": "barpolar"
           }
          ],
          "carpet": [
           {
            "aaxis": {
             "endlinecolor": "#2a3f5f",
             "gridcolor": "white",
             "linecolor": "white",
             "minorgridcolor": "white",
             "startlinecolor": "#2a3f5f"
            },
            "baxis": {
             "endlinecolor": "#2a3f5f",
             "gridcolor": "white",
             "linecolor": "white",
             "minorgridcolor": "white",
             "startlinecolor": "#2a3f5f"
            },
            "type": "carpet"
           }
          ],
          "choropleth": [
           {
            "colorbar": {
             "outlinewidth": 0,
             "ticks": ""
            },
            "type": "choropleth"
           }
          ],
          "contour": [
           {
            "colorbar": {
             "outlinewidth": 0,
             "ticks": ""
            },
            "colorscale": [
             [
              0,
              "#0d0887"
             ],
             [
              0.1111111111111111,
              "#46039f"
             ],
             [
              0.2222222222222222,
              "#7201a8"
             ],
             [
              0.3333333333333333,
              "#9c179e"
             ],
             [
              0.4444444444444444,
              "#bd3786"
             ],
             [
              0.5555555555555556,
              "#d8576b"
             ],
             [
              0.6666666666666666,
              "#ed7953"
             ],
             [
              0.7777777777777778,
              "#fb9f3a"
             ],
             [
              0.8888888888888888,
              "#fdca26"
             ],
             [
              1,
              "#f0f921"
             ]
            ],
            "type": "contour"
           }
          ],
          "contourcarpet": [
           {
            "colorbar": {
             "outlinewidth": 0,
             "ticks": ""
            },
            "type": "contourcarpet"
           }
          ],
          "heatmap": [
           {
            "colorbar": {
             "outlinewidth": 0,
             "ticks": ""
            },
            "colorscale": [
             [
              0,
              "#0d0887"
             ],
             [
              0.1111111111111111,
              "#46039f"
             ],
             [
              0.2222222222222222,
              "#7201a8"
             ],
             [
              0.3333333333333333,
              "#9c179e"
             ],
             [
              0.4444444444444444,
              "#bd3786"
             ],
             [
              0.5555555555555556,
              "#d8576b"
             ],
             [
              0.6666666666666666,
              "#ed7953"
             ],
             [
              0.7777777777777778,
              "#fb9f3a"
             ],
             [
              0.8888888888888888,
              "#fdca26"
             ],
             [
              1,
              "#f0f921"
             ]
            ],
            "type": "heatmap"
           }
          ],
          "histogram": [
           {
            "marker": {
             "pattern": {
              "fillmode": "overlay",
              "size": 10,
              "solidity": 0.2
             }
            },
            "type": "histogram"
           }
          ],
          "histogram2d": [
           {
            "colorbar": {
             "outlinewidth": 0,
             "ticks": ""
            },
            "colorscale": [
             [
              0,
              "#0d0887"
             ],
             [
              0.1111111111111111,
              "#46039f"
             ],
             [
              0.2222222222222222,
              "#7201a8"
             ],
             [
              0.3333333333333333,
              "#9c179e"
             ],
             [
              0.4444444444444444,
              "#bd3786"
             ],
             [
              0.5555555555555556,
              "#d8576b"
             ],
             [
              0.6666666666666666,
              "#ed7953"
             ],
             [
              0.7777777777777778,
              "#fb9f3a"
             ],
             [
              0.8888888888888888,
              "#fdca26"
             ],
             [
              1,
              "#f0f921"
             ]
            ],
            "type": "histogram2d"
           }
          ],
          "histogram2dcontour": [
           {
            "colorbar": {
             "outlinewidth": 0,
             "ticks": ""
            },
            "colorscale": [
             [
              0,
              "#0d0887"
             ],
             [
              0.1111111111111111,
              "#46039f"
             ],
             [
              0.2222222222222222,
              "#7201a8"
             ],
             [
              0.3333333333333333,
              "#9c179e"
             ],
             [
              0.4444444444444444,
              "#bd3786"
             ],
             [
              0.5555555555555556,
              "#d8576b"
             ],
             [
              0.6666666666666666,
              "#ed7953"
             ],
             [
              0.7777777777777778,
              "#fb9f3a"
             ],
             [
              0.8888888888888888,
              "#fdca26"
             ],
             [
              1,
              "#f0f921"
             ]
            ],
            "type": "histogram2dcontour"
           }
          ],
          "mesh3d": [
           {
            "colorbar": {
             "outlinewidth": 0,
             "ticks": ""
            },
            "type": "mesh3d"
           }
          ],
          "parcoords": [
           {
            "line": {
             "colorbar": {
              "outlinewidth": 0,
              "ticks": ""
             }
            },
            "type": "parcoords"
           }
          ],
          "pie": [
           {
            "automargin": true,
            "type": "pie"
           }
          ],
          "scatter": [
           {
            "fillpattern": {
             "fillmode": "overlay",
             "size": 10,
             "solidity": 0.2
            },
            "type": "scatter"
           }
          ],
          "scatter3d": [
           {
            "line": {
             "colorbar": {
              "outlinewidth": 0,
              "ticks": ""
             }
            },
            "marker": {
             "colorbar": {
              "outlinewidth": 0,
              "ticks": ""
             }
            },
            "type": "scatter3d"
           }
          ],
          "scattercarpet": [
           {
            "marker": {
             "colorbar": {
              "outlinewidth": 0,
              "ticks": ""
             }
            },
            "type": "scattercarpet"
           }
          ],
          "scattergeo": [
           {
            "marker": {
             "colorbar": {
              "outlinewidth": 0,
              "ticks": ""
             }
            },
            "type": "scattergeo"
           }
          ],
          "scattergl": [
           {
            "marker": {
             "colorbar": {
              "outlinewidth": 0,
              "ticks": ""
             }
            },
            "type": "scattergl"
           }
          ],
          "scattermap": [
           {
            "marker": {
             "colorbar": {
              "outlinewidth": 0,
              "ticks": ""
             }
            },
            "type": "scattermap"
           }
          ],
          "scattermapbox": [
           {
            "marker": {
             "colorbar": {
              "outlinewidth": 0,
              "ticks": ""
             }
            },
            "type": "scattermapbox"
           }
          ],
          "scatterpolar": [
           {
            "marker": {
             "colorbar": {
              "outlinewidth": 0,
              "ticks": ""
             }
            },
            "type": "scatterpolar"
           }
          ],
          "scatterpolargl": [
           {
            "marker": {
             "colorbar": {
              "outlinewidth": 0,
              "ticks": ""
             }
            },
            "type": "scatterpolargl"
           }
          ],
          "scatterternary": [
           {
            "marker": {
             "colorbar": {
              "outlinewidth": 0,
              "ticks": ""
             }
            },
            "type": "scatterternary"
           }
          ],
          "surface": [
           {
            "colorbar": {
             "outlinewidth": 0,
             "ticks": ""
            },
            "colorscale": [
             [
              0,
              "#0d0887"
             ],
             [
              0.1111111111111111,
              "#46039f"
             ],
             [
              0.2222222222222222,
              "#7201a8"
             ],
             [
              0.3333333333333333,
              "#9c179e"
             ],
             [
              0.4444444444444444,
              "#bd3786"
             ],
             [
              0.5555555555555556,
              "#d8576b"
             ],
             [
              0.6666666666666666,
              "#ed7953"
             ],
             [
              0.7777777777777778,
              "#fb9f3a"
             ],
             [
              0.8888888888888888,
              "#fdca26"
             ],
             [
              1,
              "#f0f921"
             ]
            ],
            "type": "surface"
           }
          ],
          "table": [
           {
            "cells": {
             "fill": {
              "color": "#EBF0F8"
             },
             "line": {
              "color": "white"
             }
            },
            "header": {
             "fill": {
              "color": "#C8D4E3"
             },
             "line": {
              "color": "white"
             }
            },
            "type": "table"
           }
          ]
         },
         "layout": {
          "annotationdefaults": {
           "arrowcolor": "#2a3f5f",
           "arrowhead": 0,
           "arrowwidth": 1
          },
          "autotypenumbers": "strict",
          "coloraxis": {
           "colorbar": {
            "outlinewidth": 0,
            "ticks": ""
           }
          },
          "colorscale": {
           "diverging": [
            [
             0,
             "#8e0152"
            ],
            [
             0.1,
             "#c51b7d"
            ],
            [
             0.2,
             "#de77ae"
            ],
            [
             0.3,
             "#f1b6da"
            ],
            [
             0.4,
             "#fde0ef"
            ],
            [
             0.5,
             "#f7f7f7"
            ],
            [
             0.6,
             "#e6f5d0"
            ],
            [
             0.7,
             "#b8e186"
            ],
            [
             0.8,
             "#7fbc41"
            ],
            [
             0.9,
             "#4d9221"
            ],
            [
             1,
             "#276419"
            ]
           ],
           "sequential": [
            [
             0,
             "#0d0887"
            ],
            [
             0.1111111111111111,
             "#46039f"
            ],
            [
             0.2222222222222222,
             "#7201a8"
            ],
            [
             0.3333333333333333,
             "#9c179e"
            ],
            [
             0.4444444444444444,
             "#bd3786"
            ],
            [
             0.5555555555555556,
             "#d8576b"
            ],
            [
             0.6666666666666666,
             "#ed7953"
            ],
            [
             0.7777777777777778,
             "#fb9f3a"
            ],
            [
             0.8888888888888888,
             "#fdca26"
            ],
            [
             1,
             "#f0f921"
            ]
           ],
           "sequentialminus": [
            [
             0,
             "#0d0887"
            ],
            [
             0.1111111111111111,
             "#46039f"
            ],
            [
             0.2222222222222222,
             "#7201a8"
            ],
            [
             0.3333333333333333,
             "#9c179e"
            ],
            [
             0.4444444444444444,
             "#bd3786"
            ],
            [
             0.5555555555555556,
             "#d8576b"
            ],
            [
             0.6666666666666666,
             "#ed7953"
            ],
            [
             0.7777777777777778,
             "#fb9f3a"
            ],
            [
             0.8888888888888888,
             "#fdca26"
            ],
            [
             1,
             "#f0f921"
            ]
           ]
          },
          "colorway": [
           "#636efa",
           "#EF553B",
           "#00cc96",
           "#ab63fa",
           "#FFA15A",
           "#19d3f3",
           "#FF6692",
           "#B6E880",
           "#FF97FF",
           "#FECB52"
          ],
          "font": {
           "color": "#2a3f5f"
          },
          "geo": {
           "bgcolor": "white",
           "lakecolor": "white",
           "landcolor": "#E5ECF6",
           "showlakes": true,
           "showland": true,
           "subunitcolor": "white"
          },
          "hoverlabel": {
           "align": "left"
          },
          "hovermode": "closest",
          "mapbox": {
           "style": "light"
          },
          "paper_bgcolor": "white",
          "plot_bgcolor": "#E5ECF6",
          "polar": {
           "angularaxis": {
            "gridcolor": "white",
            "linecolor": "white",
            "ticks": ""
           },
           "bgcolor": "#E5ECF6",
           "radialaxis": {
            "gridcolor": "white",
            "linecolor": "white",
            "ticks": ""
           }
          },
          "scene": {
           "xaxis": {
            "backgroundcolor": "#E5ECF6",
            "gridcolor": "white",
            "gridwidth": 2,
            "linecolor": "white",
            "showbackground": true,
            "ticks": "",
            "zerolinecolor": "white"
           },
           "yaxis": {
            "backgroundcolor": "#E5ECF6",
            "gridcolor": "white",
            "gridwidth": 2,
            "linecolor": "white",
            "showbackground": true,
            "ticks": "",
            "zerolinecolor": "white"
           },
           "zaxis": {
            "backgroundcolor": "#E5ECF6",
            "gridcolor": "white",
            "gridwidth": 2,
            "linecolor": "white",
            "showbackground": true,
            "ticks": "",
            "zerolinecolor": "white"
           }
          },
          "shapedefaults": {
           "line": {
            "color": "#2a3f5f"
           }
          },
          "ternary": {
           "aaxis": {
            "gridcolor": "white",
            "linecolor": "white",
            "ticks": ""
           },
           "baxis": {
            "gridcolor": "white",
            "linecolor": "white",
            "ticks": ""
           },
           "bgcolor": "#E5ECF6",
           "caxis": {
            "gridcolor": "white",
            "linecolor": "white",
            "ticks": ""
           }
          },
          "title": {
           "x": 0.05
          },
          "xaxis": {
           "automargin": true,
           "gridcolor": "white",
           "linecolor": "white",
           "ticks": "",
           "title": {
            "standoff": 15
           },
           "zerolinecolor": "white",
           "zerolinewidth": 2
          },
          "yaxis": {
           "automargin": true,
           "gridcolor": "white",
           "linecolor": "white",
           "ticks": "",
           "title": {
            "standoff": 15
           },
           "zerolinecolor": "white",
           "zerolinewidth": 2
          }
         }
        },
        "title": {
         "text": "Site code: NIE2"
        },
        "xaxis": {
         "anchor": "y",
         "domain": [
          0,
          1
         ],
         "title": {
          "text": "Year"
         }
        },
        "yaxis": {
         "anchor": "x",
         "domain": [
          0,
          1
         ],
         "title": {
          "text": "Value"
         }
        }
       }
      }
     },
     "metadata": {},
     "output_type": "display_data"
    },
    {
     "data": {
      "application/vnd.plotly.v1+json": {
       "config": {
        "plotlyServerURL": "https://plot.ly"
       },
       "data": [
        {
         "hovertemplate": "Year=%{x}<br>Value=%{y}<extra></extra>",
         "legendgroup": "",
         "line": {
          "color": "#636efa",
          "dash": "solid"
         },
         "marker": {
          "symbol": "circle"
         },
         "mode": "lines",
         "name": "",
         "orientation": "v",
         "showlegend": false,
         "type": "scatter",
         "x": [
          "1600",
          "1601",
          "1602",
          "1603",
          "1604",
          "1605",
          "1606",
          "1607",
          "1608",
          "1609",
          "1610",
          "1611",
          "1612",
          "1613",
          "1614",
          "1615",
          "1616",
          "1617",
          "1618",
          "1619",
          "1620",
          "1621",
          "1622",
          "1623",
          "1624",
          "1625",
          "1626",
          "1627",
          "1628",
          "1629",
          "1630",
          "1631",
          "1632",
          "1633",
          "1634",
          "1635",
          "1636",
          "1637",
          "1638",
          "1639",
          "1640",
          "1641",
          "1642",
          "1643",
          "1644",
          "1645",
          "1646",
          "1647",
          "1648",
          "1649",
          "1650",
          "1651",
          "1652",
          "1653",
          "1654",
          "1655",
          "1656",
          "1657",
          "1658",
          "1659",
          "1660",
          "1661",
          "1662",
          "1663",
          "1664",
          "1665",
          "1666",
          "1667",
          "1668",
          "1669",
          "1670",
          "1671",
          "1672",
          "1673",
          "1674",
          "1675",
          "1676",
          "1677",
          "1678",
          "1679",
          "1680",
          "1681",
          "1682",
          "1683",
          "1684",
          "1685",
          "1686",
          "1687",
          "1688",
          "1689",
          "1690",
          "1691",
          "1692",
          "1693",
          "1694",
          "1695",
          "1696",
          "1697",
          "1698",
          "1699",
          "1700",
          "1701",
          "1702",
          "1703",
          "1704",
          "1705",
          "1706",
          "1707",
          "1708",
          "1709",
          "1710",
          "1711",
          "1712",
          "1713",
          "1714",
          "1715",
          "1716",
          "1717",
          "1718",
          "1719",
          "1720",
          "1721",
          "1722",
          "1723",
          "1724",
          "1725",
          "1726",
          "1727",
          "1728",
          "1729",
          "1730",
          "1731",
          "1732",
          "1733",
          "1734",
          "1735",
          "1736",
          "1737",
          "1738",
          "1739",
          "1740",
          "1741",
          "1742",
          "1743",
          "1744",
          "1745",
          "1746",
          "1747",
          "1748",
          "1749",
          "1750",
          "1751",
          "1752",
          "1753",
          "1754",
          "1755",
          "1756",
          "1757",
          "1758",
          "1759",
          "1760",
          "1761",
          "1762",
          "1763",
          "1764",
          "1765",
          "1766",
          "1767",
          "1768",
          "1769",
          "1770",
          "1771",
          "1772",
          "1773",
          "1774",
          "1775",
          "1776",
          "1777",
          "1778",
          "1779",
          "1780",
          "1781",
          "1782",
          "1783",
          "1784",
          "1785",
          "1786",
          "1787",
          "1788",
          "1789",
          "1790",
          "1791",
          "1792",
          "1793",
          "1794",
          "1795",
          "1796",
          "1797",
          "1798",
          "1799",
          "1800",
          "1801",
          "1802",
          "1803",
          "1804",
          "1805",
          "1806",
          "1807",
          "1808",
          "1809",
          "1810",
          "1811",
          "1812",
          "1813",
          "1814",
          "1815",
          "1816",
          "1817",
          "1818",
          "1819",
          "1820",
          "1821",
          "1822",
          "1823",
          "1824",
          "1825",
          "1826",
          "1827",
          "1828",
          "1829",
          "1830",
          "1831",
          "1832",
          "1833",
          "1834",
          "1835",
          "1836",
          "1837",
          "1838",
          "1839",
          "1840",
          "1841",
          "1842",
          "1843",
          "1844",
          "1845",
          "1846",
          "1847",
          "1848",
          "1849",
          "1850",
          "1851",
          "1852",
          "1853",
          "1854",
          "1855",
          "1856",
          "1857",
          "1858",
          "1859",
          "1860",
          "1861",
          "1862",
          "1863",
          "1864",
          "1865",
          "1866",
          "1867",
          "1868",
          "1869",
          "1870",
          "1871",
          "1872",
          "1873",
          "1874",
          "1875",
          "1876",
          "1877",
          "1878",
          "1879",
          "1880",
          "1881",
          "1882",
          "1883",
          "1884",
          "1885",
          "1886",
          "1887",
          "1888",
          "1889",
          "1890",
          "1891",
          "1892",
          "1893",
          "1894",
          "1895",
          "1896",
          "1897",
          "1898",
          "1899",
          "1900",
          "1901",
          "1902",
          "1903",
          "1904",
          "1905",
          "1906",
          "1907",
          "1908",
          "1909",
          "1910",
          "1911",
          "1912",
          "1913",
          "1914",
          "1915",
          "1916",
          "1917",
          "1918",
          "1919",
          "1920",
          "1921",
          "1922",
          "1923",
          "1924",
          "1925",
          "1926",
          "1927",
          "1928",
          "1929",
          "1930",
          "1931",
          "1932",
          "1933",
          "1934",
          "1935",
          "1936",
          "1937",
          "1938",
          "1939",
          "1940",
          "1941",
          "1942",
          "1943",
          "1944",
          "1945",
          "1946",
          "1947",
          "1948",
          "1949",
          "1950",
          "1951",
          "1952",
          "1953",
          "1954",
          "1955",
          "1956",
          "1957",
          "1958",
          "1959",
          "1960",
          "1961",
          "1962",
          "1963",
          "1964",
          "1965",
          "1966",
          "1967",
          "1968",
          "1969",
          "1970",
          "1971",
          "1972",
          "1973",
          "1974",
          "1975",
          "1976",
          "1977",
          "1978",
          "1979",
          "1980",
          "1981",
          "1982",
          "1983",
          "1984",
          "1985",
          "1986",
          "1987",
          "1988",
          "1989",
          "1990",
          "1991",
          "1992",
          "1993",
          "1994",
          "1995",
          "1996",
          "1997",
          "1998",
          "1999",
          "2000",
          "2001",
          "2002",
          "2003",
          "2004",
          "2005"
         ],
         "xaxis": "x",
         "y": {
          "bdata": "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",
          "dtype": "f8"
         },
         "yaxis": "y"
        }
       ],
       "layout": {
        "legend": {
         "tracegroupgap": 0
        },
        "template": {
         "data": {
          "bar": [
           {
            "error_x": {
             "color": "#2a3f5f"
            },
            "error_y": {
             "color": "#2a3f5f"
            },
            "marker": {
             "line": {
              "color": "#E5ECF6",
              "width": 0.5
             },
             "pattern": {
              "fillmode": "overlay",
              "size": 10,
              "solidity": 0.2
             }
            },
            "type": "bar"
           }
          ],
          "barpolar": [
           {
            "marker": {
             "line": {
              "color": "#E5ECF6",
              "width": 0.5
             },
             "pattern": {
              "fillmode": "overlay",
              "size": 10,
              "solidity": 0.2
             }
            },
            "type": "barpolar"
           }
          ],
          "carpet": [
           {
            "aaxis": {
             "endlinecolor": "#2a3f5f",
             "gridcolor": "white",
             "linecolor": "white",
             "minorgridcolor": "white",
             "startlinecolor": "#2a3f5f"
            },
            "baxis": {
             "endlinecolor": "#2a3f5f",
             "gridcolor": "white",
             "linecolor": "white",
             "minorgridcolor": "white",
             "startlinecolor": "#2a3f5f"
            },
            "type": "carpet"
           }
          ],
          "choropleth": [
           {
            "colorbar": {
             "outlinewidth": 0,
             "ticks": ""
            },
            "type": "choropleth"
           }
          ],
          "contour": [
           {
            "colorbar": {
             "outlinewidth": 0,
             "ticks": ""
            },
            "colorscale": [
             [
              0,
              "#0d0887"
             ],
             [
              0.1111111111111111,
              "#46039f"
             ],
             [
              0.2222222222222222,
              "#7201a8"
             ],
             [
              0.3333333333333333,
              "#9c179e"
             ],
             [
              0.4444444444444444,
              "#bd3786"
             ],
             [
              0.5555555555555556,
              "#d8576b"
             ],
             [
              0.6666666666666666,
              "#ed7953"
             ],
             [
              0.7777777777777778,
              "#fb9f3a"
             ],
             [
              0.8888888888888888,
              "#fdca26"
             ],
             [
              1,
              "#f0f921"
             ]
            ],
            "type": "contour"
           }
          ],
          "contourcarpet": [
           {
            "colorbar": {
             "outlinewidth": 0,
             "ticks": ""
            },
            "type": "contourcarpet"
           }
          ],
          "heatmap": [
           {
            "colorbar": {
             "outlinewidth": 0,
             "ticks": ""
            },
            "colorscale": [
             [
              0,
              "#0d0887"
             ],
             [
              0.1111111111111111,
              "#46039f"
             ],
             [
              0.2222222222222222,
              "#7201a8"
             ],
             [
              0.3333333333333333,
              "#9c179e"
             ],
             [
              0.4444444444444444,
              "#bd3786"
             ],
             [
              0.5555555555555556,
              "#d8576b"
             ],
             [
              0.6666666666666666,
              "#ed7953"
             ],
             [
              0.7777777777777778,
              "#fb9f3a"
             ],
             [
              0.8888888888888888,
              "#fdca26"
             ],
             [
              1,
              "#f0f921"
             ]
            ],
            "type": "heatmap"
           }
          ],
          "histogram": [
           {
            "marker": {
             "pattern": {
              "fillmode": "overlay",
              "size": 10,
              "solidity": 0.2
             }
            },
            "type": "histogram"
           }
          ],
          "histogram2d": [
           {
            "colorbar": {
             "outlinewidth": 0,
             "ticks": ""
            },
            "colorscale": [
             [
              0,
              "#0d0887"
             ],
             [
              0.1111111111111111,
              "#46039f"
             ],
             [
              0.2222222222222222,
              "#7201a8"
             ],
             [
              0.3333333333333333,
              "#9c179e"
             ],
             [
              0.4444444444444444,
              "#bd3786"
             ],
             [
              0.5555555555555556,
              "#d8576b"
             ],
             [
              0.6666666666666666,
              "#ed7953"
             ],
             [
              0.7777777777777778,
              "#fb9f3a"
             ],
             [
              0.8888888888888888,
              "#fdca26"
             ],
             [
              1,
              "#f0f921"
             ]
            ],
            "type": "histogram2d"
           }
          ],
          "histogram2dcontour": [
           {
            "colorbar": {
             "outlinewidth": 0,
             "ticks": ""
            },
            "colorscale": [
             [
              0,
              "#0d0887"
             ],
             [
              0.1111111111111111,
              "#46039f"
             ],
             [
              0.2222222222222222,
              "#7201a8"
             ],
             [
              0.3333333333333333,
              "#9c179e"
             ],
             [
              0.4444444444444444,
              "#bd3786"
             ],
             [
              0.5555555555555556,
              "#d8576b"
             ],
             [
              0.6666666666666666,
              "#ed7953"
             ],
             [
              0.7777777777777778,
              "#fb9f3a"
             ],
             [
              0.8888888888888888,
              "#fdca26"
             ],
             [
              1,
              "#f0f921"
             ]
            ],
            "type": "histogram2dcontour"
           }
          ],
          "mesh3d": [
           {
            "colorbar": {
             "outlinewidth": 0,
             "ticks": ""
            },
            "type": "mesh3d"
           }
          ],
          "parcoords": [
           {
            "line": {
             "colorbar": {
              "outlinewidth": 0,
              "ticks": ""
             }
            },
            "type": "parcoords"
           }
          ],
          "pie": [
           {
            "automargin": true,
            "type": "pie"
           }
          ],
          "scatter": [
           {
            "fillpattern": {
             "fillmode": "overlay",
             "size": 10,
             "solidity": 0.2
            },
            "type": "scatter"
           }
          ],
          "scatter3d": [
           {
            "line": {
             "colorbar": {
              "outlinewidth": 0,
              "ticks": ""
             }
            },
            "marker": {
             "colorbar": {
              "outlinewidth": 0,
              "ticks": ""
             }
            },
            "type": "scatter3d"
           }
          ],
          "scattercarpet": [
           {
            "marker": {
             "colorbar": {
              "outlinewidth": 0,
              "ticks": ""
             }
            },
            "type": "scattercarpet"
           }
          ],
          "scattergeo": [
           {
            "marker": {
             "colorbar": {
              "outlinewidth": 0,
              "ticks": ""
             }
            },
            "type": "scattergeo"
           }
          ],
          "scattergl": [
           {
            "marker": {
             "colorbar": {
              "outlinewidth": 0,
              "ticks": ""
             }
            },
            "type": "scattergl"
           }
          ],
          "scattermap": [
           {
            "marker": {
             "colorbar": {
              "outlinewidth": 0,
              "ticks": ""
             }
            },
            "type": "scattermap"
           }
          ],
          "scattermapbox": [
           {
            "marker": {
             "colorbar": {
              "outlinewidth": 0,
              "ticks": ""
             }
            },
            "type": "scattermapbox"
           }
          ],
          "scatterpolar": [
           {
            "marker": {
             "colorbar": {
              "outlinewidth": 0,
              "ticks": ""
             }
            },
            "type": "scatterpolar"
           }
          ],
          "scatterpolargl": [
           {
            "marker": {
             "colorbar": {
              "outlinewidth": 0,
              "ticks": ""
             }
            },
            "type": "scatterpolargl"
           }
          ],
          "scatterternary": [
           {
            "marker": {
             "colorbar": {
              "outlinewidth": 0,
              "ticks": ""
             }
            },
            "type": "scatterternary"
           }
          ],
          "surface": [
           {
            "colorbar": {
             "outlinewidth": 0,
             "ticks": ""
            },
            "colorscale": [
             [
              0,
              "#0d0887"
             ],
             [
              0.1111111111111111,
              "#46039f"
             ],
             [
              0.2222222222222222,
              "#7201a8"
             ],
             [
              0.3333333333333333,
              "#9c179e"
             ],
             [
              0.4444444444444444,
              "#bd3786"
             ],
             [
              0.5555555555555556,
              "#d8576b"
             ],
             [
              0.6666666666666666,
              "#ed7953"
             ],
             [
              0.7777777777777778,
              "#fb9f3a"
             ],
             [
              0.8888888888888888,
              "#fdca26"
             ],
             [
              1,
              "#f0f921"
             ]
            ],
            "type": "surface"
           }
          ],
          "table": [
           {
            "cells": {
             "fill": {
              "color": "#EBF0F8"
             },
             "line": {
              "color": "white"
             }
            },
            "header": {
             "fill": {
              "color": "#C8D4E3"
             },
             "line": {
              "color": "white"
             }
            },
            "type": "table"
           }
          ]
         },
         "layout": {
          "annotationdefaults": {
           "arrowcolor": "#2a3f5f",
           "arrowhead": 0,
           "arrowwidth": 1
          },
          "autotypenumbers": "strict",
          "coloraxis": {
           "colorbar": {
            "outlinewidth": 0,
            "ticks": ""
           }
          },
          "colorscale": {
           "diverging": [
            [
             0,
             "#8e0152"
            ],
            [
             0.1,
             "#c51b7d"
            ],
            [
             0.2,
             "#de77ae"
            ],
            [
             0.3,
             "#f1b6da"
            ],
            [
             0.4,
             "#fde0ef"
            ],
            [
             0.5,
             "#f7f7f7"
            ],
            [
             0.6,
             "#e6f5d0"
            ],
            [
             0.7,
             "#b8e186"
            ],
            [
             0.8,
             "#7fbc41"
            ],
            [
             0.9,
             "#4d9221"
            ],
            [
             1,
             "#276419"
            ]
           ],
           "sequential": [
            [
             0,
             "#0d0887"
            ],
            [
             0.1111111111111111,
             "#46039f"
            ],
            [
             0.2222222222222222,
             "#7201a8"
            ],
            [
             0.3333333333333333,
             "#9c179e"
            ],
            [
             0.4444444444444444,
             "#bd3786"
            ],
            [
             0.5555555555555556,
             "#d8576b"
            ],
            [
             0.6666666666666666,
             "#ed7953"
            ],
            [
             0.7777777777777778,
             "#fb9f3a"
            ],
            [
             0.8888888888888888,
             "#fdca26"
            ],
            [
             1,
             "#f0f921"
            ]
           ],
           "sequentialminus": [
            [
             0,
             "#0d0887"
            ],
            [
             0.1111111111111111,
             "#46039f"
            ],
            [
             0.2222222222222222,
             "#7201a8"
            ],
            [
             0.3333333333333333,
             "#9c179e"
            ],
            [
             0.4444444444444444,
             "#bd3786"
            ],
            [
             0.5555555555555556,
             "#d8576b"
            ],
            [
             0.6666666666666666,
             "#ed7953"
            ],
            [
             0.7777777777777778,
             "#fb9f3a"
            ],
            [
             0.8888888888888888,
             "#fdca26"
            ],
            [
             1,
             "#f0f921"
            ]
           ]
          },
          "colorway": [
           "#636efa",
           "#EF553B",
           "#00cc96",
           "#ab63fa",
           "#FFA15A",
           "#19d3f3",
           "#FF6692",
           "#B6E880",
           "#FF97FF",
           "#FECB52"
          ],
          "font": {
           "color": "#2a3f5f"
          },
          "geo": {
           "bgcolor": "white",
           "lakecolor": "white",
           "landcolor": "#E5ECF6",
           "showlakes": true,
           "showland": true,
           "subunitcolor": "white"
          },
          "hoverlabel": {
           "align": "left"
          },
          "hovermode": "closest",
          "mapbox": {
           "style": "light"
          },
          "paper_bgcolor": "white",
          "plot_bgcolor": "#E5ECF6",
          "polar": {
           "angularaxis": {
            "gridcolor": "white",
            "linecolor": "white",
            "ticks": ""
           },
           "bgcolor": "#E5ECF6",
           "radialaxis": {
            "gridcolor": "white",
            "linecolor": "white",
            "ticks": ""
           }
          },
          "scene": {
           "xaxis": {
            "backgroundcolor": "#E5ECF6",
            "gridcolor": "white",
            "gridwidth": 2,
            "linecolor": "white",
            "showbackground": true,
            "ticks": "",
            "zerolinecolor": "white"
           },
           "yaxis": {
            "backgroundcolor": "#E5ECF6",
            "gridcolor": "white",
            "gridwidth": 2,
            "linecolor": "white",
            "showbackground": true,
            "ticks": "",
            "zerolinecolor": "white"
           },
           "zaxis": {
            "backgroundcolor": "#E5ECF6",
            "gridcolor": "white",
            "gridwidth": 2,
            "linecolor": "white",
            "showbackground": true,
            "ticks": "",
            "zerolinecolor": "white"
           }
          },
          "shapedefaults": {
           "line": {
            "color": "#2a3f5f"
           }
          },
          "ternary": {
           "aaxis": {
            "gridcolor": "white",
            "linecolor": "white",
            "ticks": ""
           },
           "baxis": {
            "gridcolor": "white",
            "linecolor": "white",
            "ticks": ""
           },
           "bgcolor": "#E5ECF6",
           "caxis": {
            "gridcolor": "white",
            "linecolor": "white",
            "ticks": ""
           }
          },
          "title": {
           "x": 0.05
          },
          "xaxis": {
           "automargin": true,
           "gridcolor": "white",
           "linecolor": "white",
           "ticks": "",
           "title": {
            "standoff": 15
           },
           "zerolinecolor": "white",
           "zerolinewidth": 2
          },
          "yaxis": {
           "automargin": true,
           "gridcolor": "white",
           "linecolor": "white",
           "ticks": "",
           "title": {
            "standoff": 15
           },
           "zerolinecolor": "white",
           "zerolinewidth": 2
          }
         }
        },
        "title": {
         "text": "Site code: PAN "
        },
        "xaxis": {
         "anchor": "y",
         "domain": [
          0,
          1
         ],
         "title": {
          "text": "Year"
         }
        },
        "yaxis": {
         "anchor": "x",
         "domain": [
          0,
          1
         ],
         "title": {
          "text": "Value"
         }
        }
       }
      }
     },
     "metadata": {},
     "output_type": "display_data"
    },
    {
     "data": {
      "application/vnd.plotly.v1+json": {
       "config": {
        "plotlyServerURL": "https://plot.ly"
       },
       "data": [
        {
         "hovertemplate": "Year=%{x}<br>Value=%{y}<extra></extra>",
         "legendgroup": "",
         "line": {
          "color": "#636efa",
          "dash": "solid"
         },
         "marker": {
          "symbol": "circle"
         },
         "mode": "lines",
         "name": "",
         "orientation": "v",
         "showlegend": false,
         "type": "scatter",
         "x": [
          "1600",
          "1601",
          "1602",
          "1603",
          "1604",
          "1605",
          "1606",
          "1607",
          "1608",
          "1609",
          "1610",
          "1611",
          "1612",
          "1613",
          "1614",
          "1615",
          "1616",
          "1617",
          "1618",
          "1619",
          "1620",
          "1621",
          "1622",
          "1623",
          "1624",
          "1625",
          "1626",
          "1627",
          "1628",
          "1629",
          "1630",
          "1631",
          "1632",
          "1633",
          "1634",
          "1635",
          "1636",
          "1637",
          "1638",
          "1639",
          "1640",
          "1641",
          "1642",
          "1643",
          "1644",
          "1645",
          "1646",
          "1647",
          "1648",
          "1649",
          "1650",
          "1651",
          "1652",
          "1653",
          "1654",
          "1655",
          "1656",
          "1657",
          "1658",
          "1659",
          "1660",
          "1661",
          "1662",
          "1663",
          "1664",
          "1665",
          "1666",
          "1667",
          "1668",
          "1669",
          "1670",
          "1671",
          "1672",
          "1673",
          "1674",
          "1675",
          "1676",
          "1677",
          "1678",
          "1679",
          "1680",
          "1681",
          "1682",
          "1683",
          "1684",
          "1685",
          "1686",
          "1687",
          "1688",
          "1689",
          "1690",
          "1691",
          "1692",
          "1693",
          "1694",
          "1695",
          "1696",
          "1697",
          "1698",
          "1699",
          "1700",
          "1701",
          "1702",
          "1703",
          "1704",
          "1705",
          "1706",
          "1707",
          "1708",
          "1709",
          "1710",
          "1711",
          "1712",
          "1713",
          "1714",
          "1715",
          "1716",
          "1717",
          "1718",
          "1719",
          "1720",
          "1721",
          "1722",
          "1723",
          "1724",
          "1725",
          "1726",
          "1727",
          "1728",
          "1729",
          "1730",
          "1731",
          "1732",
          "1733",
          "1734",
          "1735",
          "1736",
          "1737",
          "1738",
          "1739",
          "1740",
          "1741",
          "1742",
          "1743",
          "1744",
          "1745",
          "1746",
          "1747",
          "1748",
          "1749",
          "1750",
          "1751",
          "1752",
          "1753",
          "1754",
          "1755",
          "1756",
          "1757",
          "1758",
          "1759",
          "1760",
          "1761",
          "1762",
          "1763",
          "1764",
          "1765",
          "1766",
          "1767",
          "1768",
          "1769",
          "1770",
          "1771",
          "1772",
          "1773",
          "1774",
          "1775",
          "1776",
          "1777",
          "1778",
          "1779",
          "1780",
          "1781",
          "1782",
          "1783",
          "1784",
          "1785",
          "1786",
          "1787",
          "1788",
          "1789",
          "1790",
          "1791",
          "1792",
          "1793",
          "1794",
          "1795",
          "1796",
          "1797",
          "1798",
          "1799",
          "1800",
          "1801",
          "1802",
          "1803",
          "1804",
          "1805",
          "1806",
          "1807",
          "1808",
          "1809",
          "1810",
          "1811",
          "1812",
          "1813",
          "1814",
          "1815",
          "1816",
          "1817",
          "1818",
          "1819",
          "1820",
          "1821",
          "1822",
          "1823",
          "1824",
          "1825",
          "1826",
          "1827",
          "1828",
          "1829",
          "1830",
          "1831",
          "1832",
          "1833",
          "1834",
          "1835",
          "1836",
          "1837",
          "1838",
          "1839",
          "1840",
          "1841",
          "1842",
          "1843",
          "1844",
          "1845",
          "1846",
          "1847",
          "1848",
          "1849",
          "1850",
          "1851",
          "1852",
          "1853",
          "1854",
          "1855",
          "1856",
          "1857",
          "1858",
          "1859",
          "1860",
          "1861",
          "1862",
          "1863",
          "1864",
          "1865",
          "1866",
          "1867",
          "1868",
          "1869",
          "1870",
          "1871",
          "1872",
          "1873",
          "1874",
          "1875",
          "1876",
          "1877",
          "1878",
          "1879",
          "1880",
          "1881",
          "1882",
          "1883",
          "1884",
          "1885",
          "1886",
          "1887",
          "1888",
          "1889",
          "1890",
          "1891",
          "1892",
          "1893",
          "1894",
          "1895",
          "1896",
          "1897",
          "1898",
          "1899",
          "1900",
          "1901",
          "1902",
          "1903",
          "1904",
          "1905",
          "1906",
          "1907",
          "1908",
          "1909",
          "1910",
          "1911",
          "1912",
          "1913",
          "1914",
          "1915",
          "1916",
          "1917",
          "1918",
          "1919",
          "1920",
          "1921",
          "1922",
          "1923",
          "1924",
          "1925",
          "1926",
          "1927",
          "1928",
          "1929",
          "1930",
          "1931",
          "1932",
          "1933",
          "1934",
          "1935",
          "1936",
          "1937",
          "1938",
          "1939",
          "1940",
          "1941",
          "1942",
          "1943",
          "1944",
          "1945",
          "1946",
          "1947",
          "1948",
          "1949",
          "1950",
          "1951",
          "1952",
          "1953",
          "1954",
          "1955",
          "1956",
          "1957",
          "1958",
          "1959",
          "1960",
          "1961",
          "1962",
          "1963",
          "1964",
          "1965",
          "1966",
          "1967",
          "1968",
          "1969",
          "1970",
          "1971",
          "1972",
          "1973",
          "1974",
          "1975",
          "1976",
          "1977",
          "1978",
          "1979",
          "1980",
          "1981",
          "1982",
          "1983",
          "1984",
          "1985",
          "1986",
          "1987",
          "1988",
          "1989",
          "1990",
          "1991",
          "1992",
          "1993",
          "1994",
          "1995",
          "1996",
          "1997",
          "1998",
          "1999",
          "2000",
          "2001",
          "2002",
          "2003",
          "2004",
          "2005"
         ],
         "xaxis": "x",
         "y": {
          "bdata": "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",
          "dtype": "f8"
         },
         "yaxis": "y"
        }
       ],
       "layout": {
        "legend": {
         "tracegroupgap": 0
        },
        "template": {
         "data": {
          "bar": [
           {
            "error_x": {
             "color": "#2a3f5f"
            },
            "error_y": {
             "color": "#2a3f5f"
            },
            "marker": {
             "line": {
              "color": "#E5ECF6",
              "width": 0.5
             },
             "pattern": {
              "fillmode": "overlay",
              "size": 10,
              "solidity": 0.2
             }
            },
            "type": "bar"
           }
          ],
          "barpolar": [
           {
            "marker": {
             "line": {
              "color": "#E5ECF6",
              "width": 0.5
             },
             "pattern": {
              "fillmode": "overlay",
              "size": 10,
              "solidity": 0.2
             }
            },
            "type": "barpolar"
           }
          ],
          "carpet": [
           {
            "aaxis": {
             "endlinecolor": "#2a3f5f",
             "gridcolor": "white",
             "linecolor": "white",
             "minorgridcolor": "white",
             "startlinecolor": "#2a3f5f"
            },
            "baxis": {
             "endlinecolor": "#2a3f5f",
             "gridcolor": "white",
             "linecolor": "white",
             "minorgridcolor": "white",
             "startlinecolor": "#2a3f5f"
            },
            "type": "carpet"
           }
          ],
          "choropleth": [
           {
            "colorbar": {
             "outlinewidth": 0,
             "ticks": ""
            },
            "type": "choropleth"
           }
          ],
          "contour": [
           {
            "colorbar": {
             "outlinewidth": 0,
             "ticks": ""
            },
            "colorscale": [
             [
              0,
              "#0d0887"
             ],
             [
              0.1111111111111111,
              "#46039f"
             ],
             [
              0.2222222222222222,
              "#7201a8"
             ],
             [
              0.3333333333333333,
              "#9c179e"
             ],
             [
              0.4444444444444444,
              "#bd3786"
             ],
             [
              0.5555555555555556,
              "#d8576b"
             ],
             [
              0.6666666666666666,
              "#ed7953"
             ],
             [
              0.7777777777777778,
              "#fb9f3a"
             ],
             [
              0.8888888888888888,
              "#fdca26"
             ],
             [
              1,
              "#f0f921"
             ]
            ],
            "type": "contour"
           }
          ],
          "contourcarpet": [
           {
            "colorbar": {
             "outlinewidth": 0,
             "ticks": ""
            },
            "type": "contourcarpet"
           }
          ],
          "heatmap": [
           {
            "colorbar": {
             "outlinewidth": 0,
             "ticks": ""
            },
            "colorscale": [
             [
              0,
              "#0d0887"
             ],
             [
              0.1111111111111111,
              "#46039f"
             ],
             [
              0.2222222222222222,
              "#7201a8"
             ],
             [
              0.3333333333333333,
              "#9c179e"
             ],
             [
              0.4444444444444444,
              "#bd3786"
             ],
             [
              0.5555555555555556,
              "#d8576b"
             ],
             [
              0.6666666666666666,
              "#ed7953"
             ],
             [
              0.7777777777777778,
              "#fb9f3a"
             ],
             [
              0.8888888888888888,
              "#fdca26"
             ],
             [
              1,
              "#f0f921"
             ]
            ],
            "type": "heatmap"
           }
          ],
          "histogram": [
           {
            "marker": {
             "pattern": {
              "fillmode": "overlay",
              "size": 10,
              "solidity": 0.2
             }
            },
            "type": "histogram"
           }
          ],
          "histogram2d": [
           {
            "colorbar": {
             "outlinewidth": 0,
             "ticks": ""
            },
            "colorscale": [
             [
              0,
              "#0d0887"
             ],
             [
              0.1111111111111111,
              "#46039f"
             ],
             [
              0.2222222222222222,
              "#7201a8"
             ],
             [
              0.3333333333333333,
              "#9c179e"
             ],
             [
              0.4444444444444444,
              "#bd3786"
             ],
             [
              0.5555555555555556,
              "#d8576b"
             ],
             [
              0.6666666666666666,
              "#ed7953"
             ],
             [
              0.7777777777777778,
              "#fb9f3a"
             ],
             [
              0.8888888888888888,
              "#fdca26"
             ],
             [
              1,
              "#f0f921"
             ]
            ],
            "type": "histogram2d"
           }
          ],
          "histogram2dcontour": [
           {
            "colorbar": {
             "outlinewidth": 0,
             "ticks": ""
            },
            "colorscale": [
             [
              0,
              "#0d0887"
             ],
             [
              0.1111111111111111,
              "#46039f"
             ],
             [
              0.2222222222222222,
              "#7201a8"
             ],
             [
              0.3333333333333333,
              "#9c179e"
             ],
             [
              0.4444444444444444,
              "#bd3786"
             ],
             [
              0.5555555555555556,
              "#d8576b"
             ],
             [
              0.6666666666666666,
              "#ed7953"
             ],
             [
              0.7777777777777778,
              "#fb9f3a"
             ],
             [
              0.8888888888888888,
              "#fdca26"
             ],
             [
              1,
              "#f0f921"
             ]
            ],
            "type": "histogram2dcontour"
           }
          ],
          "mesh3d": [
           {
            "colorbar": {
             "outlinewidth": 0,
             "ticks": ""
            },
            "type": "mesh3d"
           }
          ],
          "parcoords": [
           {
            "line": {
             "colorbar": {
              "outlinewidth": 0,
              "ticks": ""
             }
            },
            "type": "parcoords"
           }
          ],
          "pie": [
           {
            "automargin": true,
            "type": "pie"
           }
          ],
          "scatter": [
           {
            "fillpattern": {
             "fillmode": "overlay",
             "size": 10,
             "solidity": 0.2
            },
            "type": "scatter"
           }
          ],
          "scatter3d": [
           {
            "line": {
             "colorbar": {
              "outlinewidth": 0,
              "ticks": ""
             }
            },
            "marker": {
             "colorbar": {
              "outlinewidth": 0,
              "ticks": ""
             }
            },
            "type": "scatter3d"
           }
          ],
          "scattercarpet": [
           {
            "marker": {
             "colorbar": {
              "outlinewidth": 0,
              "ticks": ""
             }
            },
            "type": "scattercarpet"
           }
          ],
          "scattergeo": [
           {
            "marker": {
             "colorbar": {
              "outlinewidth": 0,
              "ticks": ""
             }
            },
            "type": "scattergeo"
           }
          ],
          "scattergl": [
           {
            "marker": {
             "colorbar": {
              "outlinewidth": 0,
              "ticks": ""
             }
            },
            "type": "scattergl"
           }
          ],
          "scattermap": [
           {
            "marker": {
             "colorbar": {
              "outlinewidth": 0,
              "ticks": ""
             }
            },
            "type": "scattermap"
           }
          ],
          "scattermapbox": [
           {
            "marker": {
             "colorbar": {
              "outlinewidth": 0,
              "ticks": ""
             }
            },
            "type": "scattermapbox"
           }
          ],
          "scatterpolar": [
           {
            "marker": {
             "colorbar": {
              "outlinewidth": 0,
              "ticks": ""
             }
            },
            "type": "scatterpolar"
           }
          ],
          "scatterpolargl": [
           {
            "marker": {
             "colorbar": {
              "outlinewidth": 0,
              "ticks": ""
             }
            },
            "type": "scatterpolargl"
           }
          ],
          "scatterternary": [
           {
            "marker": {
             "colorbar": {
              "outlinewidth": 0,
              "ticks": ""
             }
            },
            "type": "scatterternary"
           }
          ],
          "surface": [
           {
            "colorbar": {
             "outlinewidth": 0,
             "ticks": ""
            },
            "colorscale": [
             [
              0,
              "#0d0887"
             ],
             [
              0.1111111111111111,
              "#46039f"
             ],
             [
              0.2222222222222222,
              "#7201a8"
             ],
             [
              0.3333333333333333,
              "#9c179e"
             ],
             [
              0.4444444444444444,
              "#bd3786"
             ],
             [
              0.5555555555555556,
              "#d8576b"
             ],
             [
              0.6666666666666666,
              "#ed7953"
             ],
             [
              0.7777777777777778,
              "#fb9f3a"
             ],
             [
              0.8888888888888888,
              "#fdca26"
             ],
             [
              1,
              "#f0f921"
             ]
            ],
            "type": "surface"
           }
          ],
          "table": [
           {
            "cells": {
             "fill": {
              "color": "#EBF0F8"
             },
             "line": {
              "color": "white"
             }
            },
            "header": {
             "fill": {
              "color": "#C8D4E3"
             },
             "line": {
              "color": "white"
             }
            },
            "type": "table"
           }
          ]
         },
         "layout": {
          "annotationdefaults": {
           "arrowcolor": "#2a3f5f",
           "arrowhead": 0,
           "arrowwidth": 1
          },
          "autotypenumbers": "strict",
          "coloraxis": {
           "colorbar": {
            "outlinewidth": 0,
            "ticks": ""
           }
          },
          "colorscale": {
           "diverging": [
            [
             0,
             "#8e0152"
            ],
            [
             0.1,
             "#c51b7d"
            ],
            [
             0.2,
             "#de77ae"
            ],
            [
             0.3,
             "#f1b6da"
            ],
            [
             0.4,
             "#fde0ef"
            ],
            [
             0.5,
             "#f7f7f7"
            ],
            [
             0.6,
             "#e6f5d0"
            ],
            [
             0.7,
             "#b8e186"
            ],
            [
             0.8,
             "#7fbc41"
            ],
            [
             0.9,
             "#4d9221"
            ],
            [
             1,
             "#276419"
            ]
           ],
           "sequential": [
            [
             0,
             "#0d0887"
            ],
            [
             0.1111111111111111,
             "#46039f"
            ],
            [
             0.2222222222222222,
             "#7201a8"
            ],
            [
             0.3333333333333333,
             "#9c179e"
            ],
            [
             0.4444444444444444,
             "#bd3786"
            ],
            [
             0.5555555555555556,
             "#d8576b"
            ],
            [
             0.6666666666666666,
             "#ed7953"
            ],
            [
             0.7777777777777778,
             "#fb9f3a"
            ],
            [
             0.8888888888888888,
             "#fdca26"
            ],
            [
             1,
             "#f0f921"
            ]
           ],
           "sequentialminus": [
            [
             0,
             "#0d0887"
            ],
            [
             0.1111111111111111,
             "#46039f"
            ],
            [
             0.2222222222222222,
             "#7201a8"
            ],
            [
             0.3333333333333333,
             "#9c179e"
            ],
            [
             0.4444444444444444,
             "#bd3786"
            ],
            [
             0.5555555555555556,
             "#d8576b"
            ],
            [
             0.6666666666666666,
             "#ed7953"
            ],
            [
             0.7777777777777778,
             "#fb9f3a"
            ],
            [
             0.8888888888888888,
             "#fdca26"
            ],
            [
             1,
             "#f0f921"
            ]
           ]
          },
          "colorway": [
           "#636efa",
           "#EF553B",
           "#00cc96",
           "#ab63fa",
           "#FFA15A",
           "#19d3f3",
           "#FF6692",
           "#B6E880",
           "#FF97FF",
           "#FECB52"
          ],
          "font": {
           "color": "#2a3f5f"
          },
          "geo": {
           "bgcolor": "white",
           "lakecolor": "white",
           "landcolor": "#E5ECF6",
           "showlakes": true,
           "showland": true,
           "subunitcolor": "white"
          },
          "hoverlabel": {
           "align": "left"
          },
          "hovermode": "closest",
          "mapbox": {
           "style": "light"
          },
          "paper_bgcolor": "white",
          "plot_bgcolor": "#E5ECF6",
          "polar": {
           "angularaxis": {
            "gridcolor": "white",
            "linecolor": "white",
            "ticks": ""
           },
           "bgcolor": "#E5ECF6",
           "radialaxis": {
            "gridcolor": "white",
            "linecolor": "white",
            "ticks": ""
           }
          },
          "scene": {
           "xaxis": {
            "backgroundcolor": "#E5ECF6",
            "gridcolor": "white",
            "gridwidth": 2,
            "linecolor": "white",
            "showbackground": true,
            "ticks": "",
            "zerolinecolor": "white"
           },
           "yaxis": {
            "backgroundcolor": "#E5ECF6",
            "gridcolor": "white",
            "gridwidth": 2,
            "linecolor": "white",
            "showbackground": true,
            "ticks": "",
            "zerolinecolor": "white"
           },
           "zaxis": {
            "backgroundcolor": "#E5ECF6",
            "gridcolor": "white",
            "gridwidth": 2,
            "linecolor": "white",
            "showbackground": true,
            "ticks": "",
            "zerolinecolor": "white"
           }
          },
          "shapedefaults": {
           "line": {
            "color": "#2a3f5f"
           }
          },
          "ternary": {
           "aaxis": {
            "gridcolor": "white",
            "linecolor": "white",
            "ticks": ""
           },
           "baxis": {
            "gridcolor": "white",
            "linecolor": "white",
            "ticks": ""
           },
           "bgcolor": "#E5ECF6",
           "caxis": {
            "gridcolor": "white",
            "linecolor": "white",
            "ticks": ""
           }
          },
          "title": {
           "x": 0.05
          },
          "xaxis": {
           "automargin": true,
           "gridcolor": "white",
           "linecolor": "white",
           "ticks": "",
           "title": {
            "standoff": 15
           },
           "zerolinecolor": "white",
           "zerolinewidth": 2
          },
          "yaxis": {
           "automargin": true,
           "gridcolor": "white",
           "linecolor": "white",
           "ticks": "",
           "title": {
            "standoff": 15
           },
           "zerolinecolor": "white",
           "zerolinewidth": 2
          }
         }
        },
        "title": {
         "text": "Site code: POE "
        },
        "xaxis": {
         "anchor": "y",
         "domain": [
          0,
          1
         ],
         "title": {
          "text": "Year"
         }
        },
        "yaxis": {
         "anchor": "x",
         "domain": [
          0,
          1
         ],
         "title": {
          "text": "Value"
         }
        }
       }
      }
     },
     "metadata": {},
     "output_type": "display_data"
    },
    {
     "data": {
      "application/vnd.plotly.v1+json": {
       "config": {
        "plotlyServerURL": "https://plot.ly"
       },
       "data": [
        {
         "hovertemplate": "Year=%{x}<br>Value=%{y}<extra></extra>",
         "legendgroup": "",
         "line": {
          "color": "#636efa",
          "dash": "solid"
         },
         "marker": {
          "symbol": "circle"
         },
         "mode": "lines",
         "name": "",
         "orientation": "v",
         "showlegend": false,
         "type": "scatter",
         "x": [
          "1600",
          "1601",
          "1602",
          "1603",
          "1604",
          "1605",
          "1606",
          "1607",
          "1608",
          "1609",
          "1610",
          "1611",
          "1612",
          "1613",
          "1614",
          "1615",
          "1616",
          "1617",
          "1618",
          "1619",
          "1620",
          "1621",
          "1622",
          "1623",
          "1624",
          "1625",
          "1626",
          "1627",
          "1628",
          "1629",
          "1630",
          "1631",
          "1632",
          "1633",
          "1634",
          "1635",
          "1636",
          "1637",
          "1638",
          "1639",
          "1640",
          "1641",
          "1642",
          "1643",
          "1644",
          "1645",
          "1646",
          "1647",
          "1648",
          "1649",
          "1650",
          "1651",
          "1652",
          "1653",
          "1654",
          "1655",
          "1656",
          "1657",
          "1658",
          "1659",
          "1660",
          "1661",
          "1662",
          "1663",
          "1664",
          "1665",
          "1666",
          "1667",
          "1668",
          "1669",
          "1670",
          "1671",
          "1672",
          "1673",
          "1674",
          "1675",
          "1676",
          "1677",
          "1678",
          "1679",
          "1680",
          "1681",
          "1682",
          "1683",
          "1684",
          "1685",
          "1686",
          "1687",
          "1688",
          "1689",
          "1690",
          "1691",
          "1692",
          "1693",
          "1694",
          "1695",
          "1696",
          "1697",
          "1698",
          "1699",
          "1700",
          "1701",
          "1702",
          "1703",
          "1704",
          "1705",
          "1706",
          "1707",
          "1708",
          "1709",
          "1710",
          "1711",
          "1712",
          "1713",
          "1714",
          "1715",
          "1716",
          "1717",
          "1718",
          "1719",
          "1720",
          "1721",
          "1722",
          "1723",
          "1724",
          "1725",
          "1726",
          "1727",
          "1728",
          "1729",
          "1730",
          "1731",
          "1732",
          "1733",
          "1734",
          "1735",
          "1736",
          "1737",
          "1738",
          "1739",
          "1740",
          "1741",
          "1742",
          "1743",
          "1744",
          "1745",
          "1746",
          "1747",
          "1748",
          "1749",
          "1750",
          "1751",
          "1752",
          "1753",
          "1754",
          "1755",
          "1756",
          "1757",
          "1758",
          "1759",
          "1760",
          "1761",
          "1762",
          "1763",
          "1764",
          "1765",
          "1766",
          "1767",
          "1768",
          "1769",
          "1770",
          "1771",
          "1772",
          "1773",
          "1774",
          "1775",
          "1776",
          "1777",
          "1778",
          "1779",
          "1780",
          "1781",
          "1782",
          "1783",
          "1784",
          "1785",
          "1786",
          "1787",
          "1788",
          "1789",
          "1790",
          "1791",
          "1792",
          "1793",
          "1794",
          "1795",
          "1796",
          "1797",
          "1798",
          "1799",
          "1800",
          "1801",
          "1802",
          "1803",
          "1804",
          "1805",
          "1806",
          "1807",
          "1808",
          "1809",
          "1810",
          "1811",
          "1812",
          "1813",
          "1814",
          "1815",
          "1816",
          "1817",
          "1818",
          "1819",
          "1820",
          "1821",
          "1822",
          "1823",
          "1824",
          "1825",
          "1826",
          "1827",
          "1828",
          "1829",
          "1830",
          "1831",
          "1832",
          "1833",
          "1834",
          "1835",
          "1836",
          "1837",
          "1838",
          "1839",
          "1840",
          "1841",
          "1842",
          "1843",
          "1844",
          "1845",
          "1846",
          "1847",
          "1848",
          "1849",
          "1850",
          "1851",
          "1852",
          "1853",
          "1854",
          "1855",
          "1856",
          "1857",
          "1858",
          "1859",
          "1860",
          "1861",
          "1862",
          "1863",
          "1864",
          "1865",
          "1866",
          "1867",
          "1868",
          "1869",
          "1870",
          "1871",
          "1872",
          "1873",
          "1874",
          "1875",
          "1876",
          "1877",
          "1878",
          "1879",
          "1880",
          "1881",
          "1882",
          "1883",
          "1884",
          "1885",
          "1886",
          "1887",
          "1888",
          "1889",
          "1890",
          "1891",
          "1892",
          "1893",
          "1894",
          "1895",
          "1896",
          "1897",
          "1898",
          "1899",
          "1900",
          "1901",
          "1902",
          "1903",
          "1904",
          "1905",
          "1906",
          "1907",
          "1908",
          "1909",
          "1910",
          "1911",
          "1912",
          "1913",
          "1914",
          "1915",
          "1916",
          "1917",
          "1918",
          "1919",
          "1920",
          "1921",
          "1922",
          "1923",
          "1924",
          "1925",
          "1926",
          "1927",
          "1928",
          "1929",
          "1930",
          "1931",
          "1932",
          "1933",
          "1934",
          "1935",
          "1936",
          "1937",
          "1938",
          "1939",
          "1940",
          "1941",
          "1942",
          "1943",
          "1944",
          "1945",
          "1946",
          "1947",
          "1948",
          "1949",
          "1950",
          "1951",
          "1952",
          "1953",
          "1954",
          "1955",
          "1956",
          "1957",
          "1958",
          "1959",
          "1960",
          "1961",
          "1962",
          "1963",
          "1964",
          "1965",
          "1966",
          "1967",
          "1968",
          "1969",
          "1970",
          "1971",
          "1972",
          "1973",
          "1974",
          "1975",
          "1976",
          "1977",
          "1978",
          "1979",
          "1980",
          "1981",
          "1982",
          "1983",
          "1984",
          "1985",
          "1986",
          "1987",
          "1988",
          "1989",
          "1990",
          "1991",
          "1992",
          "1993",
          "1994",
          "1995",
          "1996",
          "1997",
          "1998",
          "1999",
          "2000",
          "2001",
          "2002",
          "2003",
          "2004",
          "2005"
         ],
         "xaxis": "x",
         "y": {
          "bdata": "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",
          "dtype": "f8"
         },
         "yaxis": "y"
        }
       ],
       "layout": {
        "legend": {
         "tracegroupgap": 0
        },
        "template": {
         "data": {
          "bar": [
           {
            "error_x": {
             "color": "#2a3f5f"
            },
            "error_y": {
             "color": "#2a3f5f"
            },
            "marker": {
             "line": {
              "color": "#E5ECF6",
              "width": 0.5
             },
             "pattern": {
              "fillmode": "overlay",
              "size": 10,
              "solidity": 0.2
             }
            },
            "type": "bar"
           }
          ],
          "barpolar": [
           {
            "marker": {
             "line": {
              "color": "#E5ECF6",
              "width": 0.5
             },
             "pattern": {
              "fillmode": "overlay",
              "size": 10,
              "solidity": 0.2
             }
            },
            "type": "barpolar"
           }
          ],
          "carpet": [
           {
            "aaxis": {
             "endlinecolor": "#2a3f5f",
             "gridcolor": "white",
             "linecolor": "white",
             "minorgridcolor": "white",
             "startlinecolor": "#2a3f5f"
            },
            "baxis": {
             "endlinecolor": "#2a3f5f",
             "gridcolor": "white",
             "linecolor": "white",
             "minorgridcolor": "white",
             "startlinecolor": "#2a3f5f"
            },
            "type": "carpet"
           }
          ],
          "choropleth": [
           {
            "colorbar": {
             "outlinewidth": 0,
             "ticks": ""
            },
            "type": "choropleth"
           }
          ],
          "contour": [
           {
            "colorbar": {
             "outlinewidth": 0,
             "ticks": ""
            },
            "colorscale": [
             [
              0,
              "#0d0887"
             ],
             [
              0.1111111111111111,
              "#46039f"
             ],
             [
              0.2222222222222222,
              "#7201a8"
             ],
             [
              0.3333333333333333,
              "#9c179e"
             ],
             [
              0.4444444444444444,
              "#bd3786"
             ],
             [
              0.5555555555555556,
              "#d8576b"
             ],
             [
              0.6666666666666666,
              "#ed7953"
             ],
             [
              0.7777777777777778,
              "#fb9f3a"
             ],
             [
              0.8888888888888888,
              "#fdca26"
             ],
             [
              1,
              "#f0f921"
             ]
            ],
            "type": "contour"
           }
          ],
          "contourcarpet": [
           {
            "colorbar": {
             "outlinewidth": 0,
             "ticks": ""
            },
            "type": "contourcarpet"
           }
          ],
          "heatmap": [
           {
            "colorbar": {
             "outlinewidth": 0,
             "ticks": ""
            },
            "colorscale": [
             [
              0,
              "#0d0887"
             ],
             [
              0.1111111111111111,
              "#46039f"
             ],
             [
              0.2222222222222222,
              "#7201a8"
             ],
             [
              0.3333333333333333,
              "#9c179e"
             ],
             [
              0.4444444444444444,
              "#bd3786"
             ],
             [
              0.5555555555555556,
              "#d8576b"
             ],
             [
              0.6666666666666666,
              "#ed7953"
             ],
             [
              0.7777777777777778,
              "#fb9f3a"
             ],
             [
              0.8888888888888888,
              "#fdca26"
             ],
             [
              1,
              "#f0f921"
             ]
            ],
            "type": "heatmap"
           }
          ],
          "histogram": [
           {
            "marker": {
             "pattern": {
              "fillmode": "overlay",
              "size": 10,
              "solidity": 0.2
             }
            },
            "type": "histogram"
           }
          ],
          "histogram2d": [
           {
            "colorbar": {
             "outlinewidth": 0,
             "ticks": ""
            },
            "colorscale": [
             [
              0,
              "#0d0887"
             ],
             [
              0.1111111111111111,
              "#46039f"
             ],
             [
              0.2222222222222222,
              "#7201a8"
             ],
             [
              0.3333333333333333,
              "#9c179e"
             ],
             [
              0.4444444444444444,
              "#bd3786"
             ],
             [
              0.5555555555555556,
              "#d8576b"
             ],
             [
              0.6666666666666666,
              "#ed7953"
             ],
             [
              0.7777777777777778,
              "#fb9f3a"
             ],
             [
              0.8888888888888888,
              "#fdca26"
             ],
             [
              1,
              "#f0f921"
             ]
            ],
            "type": "histogram2d"
           }
          ],
          "histogram2dcontour": [
           {
            "colorbar": {
             "outlinewidth": 0,
             "ticks": ""
            },
            "colorscale": [
             [
              0,
              "#0d0887"
             ],
             [
              0.1111111111111111,
              "#46039f"
             ],
             [
              0.2222222222222222,
              "#7201a8"
             ],
             [
              0.3333333333333333,
              "#9c179e"
             ],
             [
              0.4444444444444444,
              "#bd3786"
             ],
             [
              0.5555555555555556,
              "#d8576b"
             ],
             [
              0.6666666666666666,
              "#ed7953"
             ],
             [
              0.7777777777777778,
              "#fb9f3a"
             ],
             [
              0.8888888888888888,
              "#fdca26"
             ],
             [
              1,
              "#f0f921"
             ]
            ],
            "type": "histogram2dcontour"
           }
          ],
          "mesh3d": [
           {
            "colorbar": {
             "outlinewidth": 0,
             "ticks": ""
            },
            "type": "mesh3d"
           }
          ],
          "parcoords": [
           {
            "line": {
             "colorbar": {
              "outlinewidth": 0,
              "ticks": ""
             }
            },
            "type": "parcoords"
           }
          ],
          "pie": [
           {
            "automargin": true,
            "type": "pie"
           }
          ],
          "scatter": [
           {
            "fillpattern": {
             "fillmode": "overlay",
             "size": 10,
             "solidity": 0.2
            },
            "type": "scatter"
           }
          ],
          "scatter3d": [
           {
            "line": {
             "colorbar": {
              "outlinewidth": 0,
              "ticks": ""
             }
            },
            "marker": {
             "colorbar": {
              "outlinewidth": 0,
              "ticks": ""
             }
            },
            "type": "scatter3d"
           }
          ],
          "scattercarpet": [
           {
            "marker": {
             "colorbar": {
              "outlinewidth": 0,
              "ticks": ""
             }
            },
            "type": "scattercarpet"
           }
          ],
          "scattergeo": [
           {
            "marker": {
             "colorbar": {
              "outlinewidth": 0,
              "ticks": ""
             }
            },
            "type": "scattergeo"
           }
          ],
          "scattergl": [
           {
            "marker": {
             "colorbar": {
              "outlinewidth": 0,
              "ticks": ""
             }
            },
            "type": "scattergl"
           }
          ],
          "scattermap": [
           {
            "marker": {
             "colorbar": {
              "outlinewidth": 0,
              "ticks": ""
             }
            },
            "type": "scattermap"
           }
          ],
          "scattermapbox": [
           {
            "marker": {
             "colorbar": {
              "outlinewidth": 0,
              "ticks": ""
             }
            },
            "type": "scattermapbox"
           }
          ],
          "scatterpolar": [
           {
            "marker": {
             "colorbar": {
              "outlinewidth": 0,
              "ticks": ""
             }
            },
            "type": "scatterpolar"
           }
          ],
          "scatterpolargl": [
           {
            "marker": {
             "colorbar": {
              "outlinewidth": 0,
              "ticks": ""
             }
            },
            "type": "scatterpolargl"
           }
          ],
          "scatterternary": [
           {
            "marker": {
             "colorbar": {
              "outlinewidth": 0,
              "ticks": ""
             }
            },
            "type": "scatterternary"
           }
          ],
          "surface": [
           {
            "colorbar": {
             "outlinewidth": 0,
             "ticks": ""
            },
            "colorscale": [
             [
              0,
              "#0d0887"
             ],
             [
              0.1111111111111111,
              "#46039f"
             ],
             [
              0.2222222222222222,
              "#7201a8"
             ],
             [
              0.3333333333333333,
              "#9c179e"
             ],
             [
              0.4444444444444444,
              "#bd3786"
             ],
             [
              0.5555555555555556,
              "#d8576b"
             ],
             [
              0.6666666666666666,
              "#ed7953"
             ],
             [
              0.7777777777777778,
              "#fb9f3a"
             ],
             [
              0.8888888888888888,
              "#fdca26"
             ],
             [
              1,
              "#f0f921"
             ]
            ],
            "type": "surface"
           }
          ],
          "table": [
           {
            "cells": {
             "fill": {
              "color": "#EBF0F8"
             },
             "line": {
              "color": "white"
             }
            },
            "header": {
             "fill": {
              "color": "#C8D4E3"
             },
             "line": {
              "color": "white"
             }
            },
            "type": "table"
           }
          ]
         },
         "layout": {
          "annotationdefaults": {
           "arrowcolor": "#2a3f5f",
           "arrowhead": 0,
           "arrowwidth": 1
          },
          "autotypenumbers": "strict",
          "coloraxis": {
           "colorbar": {
            "outlinewidth": 0,
            "ticks": ""
           }
          },
          "colorscale": {
           "diverging": [
            [
             0,
             "#8e0152"
            ],
            [
             0.1,
             "#c51b7d"
            ],
            [
             0.2,
             "#de77ae"
            ],
            [
             0.3,
             "#f1b6da"
            ],
            [
             0.4,
             "#fde0ef"
            ],
            [
             0.5,
             "#f7f7f7"
            ],
            [
             0.6,
             "#e6f5d0"
            ],
            [
             0.7,
             "#b8e186"
            ],
            [
             0.8,
             "#7fbc41"
            ],
            [
             0.9,
             "#4d9221"
            ],
            [
             1,
             "#276419"
            ]
           ],
           "sequential": [
            [
             0,
             "#0d0887"
            ],
            [
             0.1111111111111111,
             "#46039f"
            ],
            [
             0.2222222222222222,
             "#7201a8"
            ],
            [
             0.3333333333333333,
             "#9c179e"
            ],
            [
             0.4444444444444444,
             "#bd3786"
            ],
            [
             0.5555555555555556,
             "#d8576b"
            ],
            [
             0.6666666666666666,
             "#ed7953"
            ],
            [
             0.7777777777777778,
             "#fb9f3a"
            ],
            [
             0.8888888888888888,
             "#fdca26"
            ],
            [
             1,
             "#f0f921"
            ]
           ],
           "sequentialminus": [
            [
             0,
             "#0d0887"
            ],
            [
             0.1111111111111111,
             "#46039f"
            ],
            [
             0.2222222222222222,
             "#7201a8"
            ],
            [
             0.3333333333333333,
             "#9c179e"
            ],
            [
             0.4444444444444444,
             "#bd3786"
            ],
            [
             0.5555555555555556,
             "#d8576b"
            ],
            [
             0.6666666666666666,
             "#ed7953"
            ],
            [
             0.7777777777777778,
             "#fb9f3a"
            ],
            [
             0.8888888888888888,
             "#fdca26"
            ],
            [
             1,
             "#f0f921"
            ]
           ]
          },
          "colorway": [
           "#636efa",
           "#EF553B",
           "#00cc96",
           "#ab63fa",
           "#FFA15A",
           "#19d3f3",
           "#FF6692",
           "#B6E880",
           "#FF97FF",
           "#FECB52"
          ],
          "font": {
           "color": "#2a3f5f"
          },
          "geo": {
           "bgcolor": "white",
           "lakecolor": "white",
           "landcolor": "#E5ECF6",
           "showlakes": true,
           "showland": true,
           "subunitcolor": "white"
          },
          "hoverlabel": {
           "align": "left"
          },
          "hovermode": "closest",
          "mapbox": {
           "style": "light"
          },
          "paper_bgcolor": "white",
          "plot_bgcolor": "#E5ECF6",
          "polar": {
           "angularaxis": {
            "gridcolor": "white",
            "linecolor": "white",
            "ticks": ""
           },
           "bgcolor": "#E5ECF6",
           "radialaxis": {
            "gridcolor": "white",
            "linecolor": "white",
            "ticks": ""
           }
          },
          "scene": {
           "xaxis": {
            "backgroundcolor": "#E5ECF6",
            "gridcolor": "white",
            "gridwidth": 2,
            "linecolor": "white",
            "showbackground": true,
            "ticks": "",
            "zerolinecolor": "white"
           },
           "yaxis": {
            "backgroundcolor": "#E5ECF6",
            "gridcolor": "white",
            "gridwidth": 2,
            "linecolor": "white",
            "showbackground": true,
            "ticks": "",
            "zerolinecolor": "white"
           },
           "zaxis": {
            "backgroundcolor": "#E5ECF6",
            "gridcolor": "white",
            "gridwidth": 2,
            "linecolor": "white",
            "showbackground": true,
            "ticks": "",
            "zerolinecolor": "white"
           }
          },
          "shapedefaults": {
           "line": {
            "color": "#2a3f5f"
           }
          },
          "ternary": {
           "aaxis": {
            "gridcolor": "white",
            "linecolor": "white",
            "ticks": ""
           },
           "baxis": {
            "gridcolor": "white",
            "linecolor": "white",
            "ticks": ""
           },
           "bgcolor": "#E5ECF6",
           "caxis": {
            "gridcolor": "white",
            "linecolor": "white",
            "ticks": ""
           }
          },
          "title": {
           "x": 0.05
          },
          "xaxis": {
           "automargin": true,
           "gridcolor": "white",
           "linecolor": "white",
           "ticks": "",
           "title": {
            "standoff": 15
           },
           "zerolinecolor": "white",
           "zerolinewidth": 2
          },
          "yaxis": {
           "automargin": true,
           "gridcolor": "white",
           "linecolor": "white",
           "ticks": "",
           "title": {
            "standoff": 15
           },
           "zerolinecolor": "white",
           "zerolinewidth": 2
          }
         }
        },
        "title": {
         "text": "Site code: SER"
        },
        "xaxis": {
         "anchor": "y",
         "domain": [
          0,
          1
         ],
         "title": {
          "text": "Year"
         }
        },
        "yaxis": {
         "anchor": "x",
         "domain": [
          0,
          1
         ],
         "title": {
          "text": "Value"
         }
        }
       }
      }
     },
     "metadata": {},
     "output_type": "display_data"
    },
    {
     "data": {
      "application/vnd.plotly.v1+json": {
       "config": {
        "plotlyServerURL": "https://plot.ly"
       },
       "data": [
        {
         "hovertemplate": "Year=%{x}<br>Value=%{y}<extra></extra>",
         "legendgroup": "",
         "line": {
          "color": "#636efa",
          "dash": "solid"
         },
         "marker": {
          "symbol": "circle"
         },
         "mode": "lines",
         "name": "",
         "orientation": "v",
         "showlegend": false,
         "type": "scatter",
         "x": [
          "1600",
          "1601",
          "1602",
          "1603",
          "1604",
          "1605",
          "1606",
          "1607",
          "1608",
          "1609",
          "1610",
          "1611",
          "1612",
          "1613",
          "1614",
          "1615",
          "1616",
          "1617",
          "1618",
          "1619",
          "1620",
          "1621",
          "1622",
          "1623",
          "1624",
          "1625",
          "1626",
          "1627",
          "1628",
          "1629",
          "1630",
          "1631",
          "1632",
          "1633",
          "1634",
          "1635",
          "1636",
          "1637",
          "1638",
          "1639",
          "1640",
          "1641",
          "1642",
          "1643",
          "1644",
          "1645",
          "1646",
          "1647",
          "1648",
          "1649",
          "1650",
          "1651",
          "1652",
          "1653",
          "1654",
          "1655",
          "1656",
          "1657",
          "1658",
          "1659",
          "1660",
          "1661",
          "1662",
          "1663",
          "1664",
          "1665",
          "1666",
          "1667",
          "1668",
          "1669",
          "1670",
          "1671",
          "1672",
          "1673",
          "1674",
          "1675",
          "1676",
          "1677",
          "1678",
          "1679",
          "1680",
          "1681",
          "1682",
          "1683",
          "1684",
          "1685",
          "1686",
          "1687",
          "1688",
          "1689",
          "1690",
          "1691",
          "1692",
          "1693",
          "1694",
          "1695",
          "1696",
          "1697",
          "1698",
          "1699",
          "1700",
          "1701",
          "1702",
          "1703",
          "1704",
          "1705",
          "1706",
          "1707",
          "1708",
          "1709",
          "1710",
          "1711",
          "1712",
          "1713",
          "1714",
          "1715",
          "1716",
          "1717",
          "1718",
          "1719",
          "1720",
          "1721",
          "1722",
          "1723",
          "1724",
          "1725",
          "1726",
          "1727",
          "1728",
          "1729",
          "1730",
          "1731",
          "1732",
          "1733",
          "1734",
          "1735",
          "1736",
          "1737",
          "1738",
          "1739",
          "1740",
          "1741",
          "1742",
          "1743",
          "1744",
          "1745",
          "1746",
          "1747",
          "1748",
          "1749",
          "1750",
          "1751",
          "1752",
          "1753",
          "1754",
          "1755",
          "1756",
          "1757",
          "1758",
          "1759",
          "1760",
          "1761",
          "1762",
          "1763",
          "1764",
          "1765",
          "1766",
          "1767",
          "1768",
          "1769",
          "1770",
          "1771",
          "1772",
          "1773",
          "1774",
          "1775",
          "1776",
          "1777",
          "1778",
          "1779",
          "1780",
          "1781",
          "1782",
          "1783",
          "1784",
          "1785",
          "1786",
          "1787",
          "1788",
          "1789",
          "1790",
          "1791",
          "1792",
          "1793",
          "1794",
          "1795",
          "1796",
          "1797",
          "1798",
          "1799",
          "1800",
          "1801",
          "1802",
          "1803",
          "1804",
          "1805",
          "1806",
          "1807",
          "1808",
          "1809",
          "1810",
          "1811",
          "1812",
          "1813",
          "1814",
          "1815",
          "1816",
          "1817",
          "1818",
          "1819",
          "1820",
          "1821",
          "1822",
          "1823",
          "1824",
          "1825",
          "1826",
          "1827",
          "1828",
          "1829",
          "1830",
          "1831",
          "1832",
          "1833",
          "1834",
          "1835",
          "1836",
          "1837",
          "1838",
          "1839",
          "1840",
          "1841",
          "1842",
          "1843",
          "1844",
          "1845",
          "1846",
          "1847",
          "1848",
          "1849",
          "1850",
          "1851",
          "1852",
          "1853",
          "1854",
          "1855",
          "1856",
          "1857",
          "1858",
          "1859",
          "1860",
          "1861",
          "1862",
          "1863",
          "1864",
          "1865",
          "1866",
          "1867",
          "1868",
          "1869",
          "1870",
          "1871",
          "1872",
          "1873",
          "1874",
          "1875",
          "1876",
          "1877",
          "1878",
          "1879",
          "1880",
          "1881",
          "1882",
          "1883",
          "1884",
          "1885",
          "1886",
          "1887",
          "1888",
          "1889",
          "1890",
          "1891",
          "1892",
          "1893",
          "1894",
          "1895",
          "1896",
          "1897",
          "1898",
          "1899",
          "1900",
          "1901",
          "1902",
          "1903",
          "1904",
          "1905",
          "1906",
          "1907",
          "1908",
          "1909",
          "1910",
          "1911",
          "1912",
          "1913",
          "1914",
          "1915",
          "1916",
          "1917",
          "1918",
          "1919",
          "1920",
          "1921",
          "1922",
          "1923",
          "1924",
          "1925",
          "1926",
          "1927",
          "1928",
          "1929",
          "1930",
          "1931",
          "1932",
          "1933",
          "1934",
          "1935",
          "1936",
          "1937",
          "1938",
          "1939",
          "1940",
          "1941",
          "1942",
          "1943",
          "1944",
          "1945",
          "1946",
          "1947",
          "1948",
          "1949",
          "1950",
          "1951",
          "1952",
          "1953",
          "1954",
          "1955",
          "1956",
          "1957",
          "1958",
          "1959",
          "1960",
          "1961",
          "1962",
          "1963",
          "1964",
          "1965",
          "1966",
          "1967",
          "1968",
          "1969",
          "1970",
          "1971",
          "1972",
          "1973",
          "1974",
          "1975",
          "1976",
          "1977",
          "1978",
          "1979",
          "1980",
          "1981",
          "1982",
          "1983",
          "1984",
          "1985",
          "1986",
          "1987",
          "1988",
          "1989",
          "1990",
          "1991",
          "1992",
          "1993",
          "1994",
          "1995",
          "1996",
          "1997",
          "1998",
          "1999",
          "2000",
          "2001",
          "2002",
          "2003",
          "2004",
          "2005"
         ],
         "xaxis": "x",
         "y": {
          "bdata": "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",
          "dtype": "f8"
         },
         "yaxis": "y"
        }
       ],
       "layout": {
        "legend": {
         "tracegroupgap": 0
        },
        "template": {
         "data": {
          "bar": [
           {
            "error_x": {
             "color": "#2a3f5f"
            },
            "error_y": {
             "color": "#2a3f5f"
            },
            "marker": {
             "line": {
              "color": "#E5ECF6",
              "width": 0.5
             },
             "pattern": {
              "fillmode": "overlay",
              "size": 10,
              "solidity": 0.2
             }
            },
            "type": "bar"
           }
          ],
          "barpolar": [
           {
            "marker": {
             "line": {
              "color": "#E5ECF6",
              "width": 0.5
             },
             "pattern": {
              "fillmode": "overlay",
              "size": 10,
              "solidity": 0.2
             }
            },
            "type": "barpolar"
           }
          ],
          "carpet": [
           {
            "aaxis": {
             "endlinecolor": "#2a3f5f",
             "gridcolor": "white",
             "linecolor": "white",
             "minorgridcolor": "white",
             "startlinecolor": "#2a3f5f"
            },
            "baxis": {
             "endlinecolor": "#2a3f5f",
             "gridcolor": "white",
             "linecolor": "white",
             "minorgridcolor": "white",
             "startlinecolor": "#2a3f5f"
            },
            "type": "carpet"
           }
          ],
          "choropleth": [
           {
            "colorbar": {
             "outlinewidth": 0,
             "ticks": ""
            },
            "type": "choropleth"
           }
          ],
          "contour": [
           {
            "colorbar": {
             "outlinewidth": 0,
             "ticks": ""
            },
            "colorscale": [
             [
              0,
              "#0d0887"
             ],
             [
              0.1111111111111111,
              "#46039f"
             ],
             [
              0.2222222222222222,
              "#7201a8"
             ],
             [
              0.3333333333333333,
              "#9c179e"
             ],
             [
              0.4444444444444444,
              "#bd3786"
             ],
             [
              0.5555555555555556,
              "#d8576b"
             ],
             [
              0.6666666666666666,
              "#ed7953"
             ],
             [
              0.7777777777777778,
              "#fb9f3a"
             ],
             [
              0.8888888888888888,
              "#fdca26"
             ],
             [
              1,
              "#f0f921"
             ]
            ],
            "type": "contour"
           }
          ],
          "contourcarpet": [
           {
            "colorbar": {
             "outlinewidth": 0,
             "ticks": ""
            },
            "type": "contourcarpet"
           }
          ],
          "heatmap": [
           {
            "colorbar": {
             "outlinewidth": 0,
             "ticks": ""
            },
            "colorscale": [
             [
              0,
              "#0d0887"
             ],
             [
              0.1111111111111111,
              "#46039f"
             ],
             [
              0.2222222222222222,
              "#7201a8"
             ],
             [
              0.3333333333333333,
              "#9c179e"
             ],
             [
              0.4444444444444444,
              "#bd3786"
             ],
             [
              0.5555555555555556,
              "#d8576b"
             ],
             [
              0.6666666666666666,
              "#ed7953"
             ],
             [
              0.7777777777777778,
              "#fb9f3a"
             ],
             [
              0.8888888888888888,
              "#fdca26"
             ],
             [
              1,
              "#f0f921"
             ]
            ],
            "type": "heatmap"
           }
          ],
          "histogram": [
           {
            "marker": {
             "pattern": {
              "fillmode": "overlay",
              "size": 10,
              "solidity": 0.2
             }
            },
            "type": "histogram"
           }
          ],
          "histogram2d": [
           {
            "colorbar": {
             "outlinewidth": 0,
             "ticks": ""
            },
            "colorscale": [
             [
              0,
              "#0d0887"
             ],
             [
              0.1111111111111111,
              "#46039f"
             ],
             [
              0.2222222222222222,
              "#7201a8"
             ],
             [
              0.3333333333333333,
              "#9c179e"
             ],
             [
              0.4444444444444444,
              "#bd3786"
             ],
             [
              0.5555555555555556,
              "#d8576b"
             ],
             [
              0.6666666666666666,
              "#ed7953"
             ],
             [
              0.7777777777777778,
              "#fb9f3a"
             ],
             [
              0.8888888888888888,
              "#fdca26"
             ],
             [
              1,
              "#f0f921"
             ]
            ],
            "type": "histogram2d"
           }
          ],
          "histogram2dcontour": [
           {
            "colorbar": {
             "outlinewidth": 0,
             "ticks": ""
            },
            "colorscale": [
             [
              0,
              "#0d0887"
             ],
             [
              0.1111111111111111,
              "#46039f"
             ],
             [
              0.2222222222222222,
              "#7201a8"
             ],
             [
              0.3333333333333333,
              "#9c179e"
             ],
             [
              0.4444444444444444,
              "#bd3786"
             ],
             [
              0.5555555555555556,
              "#d8576b"
             ],
             [
              0.6666666666666666,
              "#ed7953"
             ],
             [
              0.7777777777777778,
              "#fb9f3a"
             ],
             [
              0.8888888888888888,
              "#fdca26"
             ],
             [
              1,
              "#f0f921"
             ]
            ],
            "type": "histogram2dcontour"
           }
          ],
          "mesh3d": [
           {
            "colorbar": {
             "outlinewidth": 0,
             "ticks": ""
            },
            "type": "mesh3d"
           }
          ],
          "parcoords": [
           {
            "line": {
             "colorbar": {
              "outlinewidth": 0,
              "ticks": ""
             }
            },
            "type": "parcoords"
           }
          ],
          "pie": [
           {
            "automargin": true,
            "type": "pie"
           }
          ],
          "scatter": [
           {
            "fillpattern": {
             "fillmode": "overlay",
             "size": 10,
             "solidity": 0.2
            },
            "type": "scatter"
           }
          ],
          "scatter3d": [
           {
            "line": {
             "colorbar": {
              "outlinewidth": 0,
              "ticks": ""
             }
            },
            "marker": {
             "colorbar": {
              "outlinewidth": 0,
              "ticks": ""
             }
            },
            "type": "scatter3d"
           }
          ],
          "scattercarpet": [
           {
            "marker": {
             "colorbar": {
              "outlinewidth": 0,
              "ticks": ""
             }
            },
            "type": "scattercarpet"
           }
          ],
          "scattergeo": [
           {
            "marker": {
             "colorbar": {
              "outlinewidth": 0,
              "ticks": ""
             }
            },
            "type": "scattergeo"
           }
          ],
          "scattergl": [
           {
            "marker": {
             "colorbar": {
              "outlinewidth": 0,
              "ticks": ""
             }
            },
            "type": "scattergl"
           }
          ],
          "scattermap": [
           {
            "marker": {
             "colorbar": {
              "outlinewidth": 0,
              "ticks": ""
             }
            },
            "type": "scattermap"
           }
          ],
          "scattermapbox": [
           {
            "marker": {
             "colorbar": {
              "outlinewidth": 0,
              "ticks": ""
             }
            },
            "type": "scattermapbox"
           }
          ],
          "scatterpolar": [
           {
            "marker": {
             "colorbar": {
              "outlinewidth": 0,
              "ticks": ""
             }
            },
            "type": "scatterpolar"
           }
          ],
          "scatterpolargl": [
           {
            "marker": {
             "colorbar": {
              "outlinewidth": 0,
              "ticks": ""
             }
            },
            "type": "scatterpolargl"
           }
          ],
          "scatterternary": [
           {
            "marker": {
             "colorbar": {
              "outlinewidth": 0,
              "ticks": ""
             }
            },
            "type": "scatterternary"
           }
          ],
          "surface": [
           {
            "colorbar": {
             "outlinewidth": 0,
             "ticks": ""
            },
            "colorscale": [
             [
              0,
              "#0d0887"
             ],
             [
              0.1111111111111111,
              "#46039f"
             ],
             [
              0.2222222222222222,
              "#7201a8"
             ],
             [
              0.3333333333333333,
              "#9c179e"
             ],
             [
              0.4444444444444444,
              "#bd3786"
             ],
             [
              0.5555555555555556,
              "#d8576b"
             ],
             [
              0.6666666666666666,
              "#ed7953"
             ],
             [
              0.7777777777777778,
              "#fb9f3a"
             ],
             [
              0.8888888888888888,
              "#fdca26"
             ],
             [
              1,
              "#f0f921"
             ]
            ],
            "type": "surface"
           }
          ],
          "table": [
           {
            "cells": {
             "fill": {
              "color": "#EBF0F8"
             },
             "line": {
              "color": "white"
             }
            },
            "header": {
             "fill": {
              "color": "#C8D4E3"
             },
             "line": {
              "color": "white"
             }
            },
            "type": "table"
           }
          ]
         },
         "layout": {
          "annotationdefaults": {
           "arrowcolor": "#2a3f5f",
           "arrowhead": 0,
           "arrowwidth": 1
          },
          "autotypenumbers": "strict",
          "coloraxis": {
           "colorbar": {
            "outlinewidth": 0,
            "ticks": ""
           }
          },
          "colorscale": {
           "diverging": [
            [
             0,
             "#8e0152"
            ],
            [
             0.1,
             "#c51b7d"
            ],
            [
             0.2,
             "#de77ae"
            ],
            [
             0.3,
             "#f1b6da"
            ],
            [
             0.4,
             "#fde0ef"
            ],
            [
             0.5,
             "#f7f7f7"
            ],
            [
             0.6,
             "#e6f5d0"
            ],
            [
             0.7,
             "#b8e186"
            ],
            [
             0.8,
             "#7fbc41"
            ],
            [
             0.9,
             "#4d9221"
            ],
            [
             1,
             "#276419"
            ]
           ],
           "sequential": [
            [
             0,
             "#0d0887"
            ],
            [
             0.1111111111111111,
             "#46039f"
            ],
            [
             0.2222222222222222,
             "#7201a8"
            ],
            [
             0.3333333333333333,
             "#9c179e"
            ],
            [
             0.4444444444444444,
             "#bd3786"
            ],
            [
             0.5555555555555556,
             "#d8576b"
            ],
            [
             0.6666666666666666,
             "#ed7953"
            ],
            [
             0.7777777777777778,
             "#fb9f3a"
            ],
            [
             0.8888888888888888,
             "#fdca26"
            ],
            [
             1,
             "#f0f921"
            ]
           ],
           "sequentialminus": [
            [
             0,
             "#0d0887"
            ],
            [
             0.1111111111111111,
             "#46039f"
            ],
            [
             0.2222222222222222,
             "#7201a8"
            ],
            [
             0.3333333333333333,
             "#9c179e"
            ],
            [
             0.4444444444444444,
             "#bd3786"
            ],
            [
             0.5555555555555556,
             "#d8576b"
            ],
            [
             0.6666666666666666,
             "#ed7953"
            ],
            [
             0.7777777777777778,
             "#fb9f3a"
            ],
            [
             0.8888888888888888,
             "#fdca26"
            ],
            [
             1,
             "#f0f921"
            ]
           ]
          },
          "colorway": [
           "#636efa",
           "#EF553B",
           "#00cc96",
           "#ab63fa",
           "#FFA15A",
           "#19d3f3",
           "#FF6692",
           "#B6E880",
           "#FF97FF",
           "#FECB52"
          ],
          "font": {
           "color": "#2a3f5f"
          },
          "geo": {
           "bgcolor": "white",
           "lakecolor": "white",
           "landcolor": "#E5ECF6",
           "showlakes": true,
           "showland": true,
           "subunitcolor": "white"
          },
          "hoverlabel": {
           "align": "left"
          },
          "hovermode": "closest",
          "mapbox": {
           "style": "light"
          },
          "paper_bgcolor": "white",
          "plot_bgcolor": "#E5ECF6",
          "polar": {
           "angularaxis": {
            "gridcolor": "white",
            "linecolor": "white",
            "ticks": ""
           },
           "bgcolor": "#E5ECF6",
           "radialaxis": {
            "gridcolor": "white",
            "linecolor": "white",
            "ticks": ""
           }
          },
          "scene": {
           "xaxis": {
            "backgroundcolor": "#E5ECF6",
            "gridcolor": "white",
            "gridwidth": 2,
            "linecolor": "white",
            "showbackground": true,
            "ticks": "",
            "zerolinecolor": "white"
           },
           "yaxis": {
            "backgroundcolor": "#E5ECF6",
            "gridcolor": "white",
            "gridwidth": 2,
            "linecolor": "white",
            "showbackground": true,
            "ticks": "",
            "zerolinecolor": "white"
           },
           "zaxis": {
            "backgroundcolor": "#E5ECF6",
            "gridcolor": "white",
            "gridwidth": 2,
            "linecolor": "white",
            "showbackground": true,
            "ticks": "",
            "zerolinecolor": "white"
           }
          },
          "shapedefaults": {
           "line": {
            "color": "#2a3f5f"
           }
          },
          "ternary": {
           "aaxis": {
            "gridcolor": "white",
            "linecolor": "white",
            "ticks": ""
           },
           "baxis": {
            "gridcolor": "white",
            "linecolor": "white",
            "ticks": ""
           },
           "bgcolor": "#E5ECF6",
           "caxis": {
            "gridcolor": "white",
            "linecolor": "white",
            "ticks": ""
           }
          },
          "title": {
           "x": 0.05
          },
          "xaxis": {
           "automargin": true,
           "gridcolor": "white",
           "linecolor": "white",
           "ticks": "",
           "title": {
            "standoff": 15
           },
           "zerolinecolor": "white",
           "zerolinewidth": 2
          },
          "yaxis": {
           "automargin": true,
           "gridcolor": "white",
           "linecolor": "white",
           "ticks": "",
           "title": {
            "standoff": 15
           },
           "zerolinecolor": "white",
           "zerolinewidth": 2
          }
         }
        },
        "title": {
         "text": "Site code: SUW "
        },
        "xaxis": {
         "anchor": "y",
         "domain": [
          0,
          1
         ],
         "title": {
          "text": "Year"
         }
        },
        "yaxis": {
         "anchor": "x",
         "domain": [
          0,
          1
         ],
         "title": {
          "text": "Value"
         }
        }
       }
      }
     },
     "metadata": {},
     "output_type": "display_data"
    },
    {
     "data": {
      "application/vnd.plotly.v1+json": {
       "config": {
        "plotlyServerURL": "https://plot.ly"
       },
       "data": [
        {
         "hovertemplate": "Year=%{x}<br>Value=%{y}<extra></extra>",
         "legendgroup": "",
         "line": {
          "color": "#636efa",
          "dash": "solid"
         },
         "marker": {
          "symbol": "circle"
         },
         "mode": "lines",
         "name": "",
         "orientation": "v",
         "showlegend": false,
         "type": "scatter",
         "x": [
          "1600",
          "1601",
          "1602",
          "1603",
          "1604",
          "1605",
          "1606",
          "1607",
          "1608",
          "1609",
          "1610",
          "1611",
          "1612",
          "1613",
          "1614",
          "1615",
          "1616",
          "1617",
          "1618",
          "1619",
          "1620",
          "1621",
          "1622",
          "1623",
          "1624",
          "1625",
          "1626",
          "1627",
          "1628",
          "1629",
          "1630",
          "1631",
          "1632",
          "1633",
          "1634",
          "1635",
          "1636",
          "1637",
          "1638",
          "1639",
          "1640",
          "1641",
          "1642",
          "1643",
          "1644",
          "1645",
          "1646",
          "1647",
          "1648",
          "1649",
          "1650",
          "1651",
          "1652",
          "1653",
          "1654",
          "1655",
          "1656",
          "1657",
          "1658",
          "1659",
          "1660",
          "1661",
          "1662",
          "1663",
          "1664",
          "1665",
          "1666",
          "1667",
          "1668",
          "1669",
          "1670",
          "1671",
          "1672",
          "1673",
          "1674",
          "1675",
          "1676",
          "1677",
          "1678",
          "1679",
          "1680",
          "1681",
          "1682",
          "1683",
          "1684",
          "1685",
          "1686",
          "1687",
          "1688",
          "1689",
          "1690",
          "1691",
          "1692",
          "1693",
          "1694",
          "1695",
          "1696",
          "1697",
          "1698",
          "1699",
          "1700",
          "1701",
          "1702",
          "1703",
          "1704",
          "1705",
          "1706",
          "1707",
          "1708",
          "1709",
          "1710",
          "1711",
          "1712",
          "1713",
          "1714",
          "1715",
          "1716",
          "1717",
          "1718",
          "1719",
          "1720",
          "1721",
          "1722",
          "1723",
          "1724",
          "1725",
          "1726",
          "1727",
          "1728",
          "1729",
          "1730",
          "1731",
          "1732",
          "1733",
          "1734",
          "1735",
          "1736",
          "1737",
          "1738",
          "1739",
          "1740",
          "1741",
          "1742",
          "1743",
          "1744",
          "1745",
          "1746",
          "1747",
          "1748",
          "1749",
          "1750",
          "1751",
          "1752",
          "1753",
          "1754",
          "1755",
          "1756",
          "1757",
          "1758",
          "1759",
          "1760",
          "1761",
          "1762",
          "1763",
          "1764",
          "1765",
          "1766",
          "1767",
          "1768",
          "1769",
          "1770",
          "1771",
          "1772",
          "1773",
          "1774",
          "1775",
          "1776",
          "1777",
          "1778",
          "1779",
          "1780",
          "1781",
          "1782",
          "1783",
          "1784",
          "1785",
          "1786",
          "1787",
          "1788",
          "1789",
          "1790",
          "1791",
          "1792",
          "1793",
          "1794",
          "1795",
          "1796",
          "1797",
          "1798",
          "1799",
          "1800",
          "1801",
          "1802",
          "1803",
          "1804",
          "1805",
          "1806",
          "1807",
          "1808",
          "1809",
          "1810",
          "1811",
          "1812",
          "1813",
          "1814",
          "1815",
          "1816",
          "1817",
          "1818",
          "1819",
          "1820",
          "1821",
          "1822",
          "1823",
          "1824",
          "1825",
          "1826",
          "1827",
          "1828",
          "1829",
          "1830",
          "1831",
          "1832",
          "1833",
          "1834",
          "1835",
          "1836",
          "1837",
          "1838",
          "1839",
          "1840",
          "1841",
          "1842",
          "1843",
          "1844",
          "1845",
          "1846",
          "1847",
          "1848",
          "1849",
          "1850",
          "1851",
          "1852",
          "1853",
          "1854",
          "1855",
          "1856",
          "1857",
          "1858",
          "1859",
          "1860",
          "1861",
          "1862",
          "1863",
          "1864",
          "1865",
          "1866",
          "1867",
          "1868",
          "1869",
          "1870",
          "1871",
          "1872",
          "1873",
          "1874",
          "1875",
          "1876",
          "1877",
          "1878",
          "1879",
          "1880",
          "1881",
          "1882",
          "1883",
          "1884",
          "1885",
          "1886",
          "1887",
          "1888",
          "1889",
          "1890",
          "1891",
          "1892",
          "1893",
          "1894",
          "1895",
          "1896",
          "1897",
          "1898",
          "1899",
          "1900",
          "1901",
          "1902",
          "1903",
          "1904",
          "1905",
          "1906",
          "1907",
          "1908",
          "1909",
          "1910",
          "1911",
          "1912",
          "1913",
          "1914",
          "1915",
          "1916",
          "1917",
          "1918",
          "1919",
          "1920",
          "1921",
          "1922",
          "1923",
          "1924",
          "1925",
          "1926",
          "1927",
          "1928",
          "1929",
          "1930",
          "1931",
          "1932",
          "1933",
          "1934",
          "1935",
          "1936",
          "1937",
          "1938",
          "1939",
          "1940",
          "1941",
          "1942",
          "1943",
          "1944",
          "1945",
          "1946",
          "1947",
          "1948",
          "1949",
          "1950",
          "1951",
          "1952",
          "1953",
          "1954",
          "1955",
          "1956",
          "1957",
          "1958",
          "1959",
          "1960",
          "1961",
          "1962",
          "1963",
          "1964",
          "1965",
          "1966",
          "1967",
          "1968",
          "1969",
          "1970",
          "1971",
          "1972",
          "1973",
          "1974",
          "1975",
          "1976",
          "1977",
          "1978",
          "1979",
          "1980",
          "1981",
          "1982",
          "1983",
          "1984",
          "1985",
          "1986",
          "1987",
          "1988",
          "1989",
          "1990",
          "1991",
          "1992",
          "1993",
          "1994",
          "1995",
          "1996",
          "1997",
          "1998",
          "1999",
          "2000",
          "2001",
          "2002",
          "2003",
          "2004",
          "2005"
         ],
         "xaxis": "x",
         "y": {
          "bdata": "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",
          "dtype": "f8"
         },
         "yaxis": "y"
        }
       ],
       "layout": {
        "legend": {
         "tracegroupgap": 0
        },
        "template": {
         "data": {
          "bar": [
           {
            "error_x": {
             "color": "#2a3f5f"
            },
            "error_y": {
             "color": "#2a3f5f"
            },
            "marker": {
             "line": {
              "color": "#E5ECF6",
              "width": 0.5
             },
             "pattern": {
              "fillmode": "overlay",
              "size": 10,
              "solidity": 0.2
             }
            },
            "type": "bar"
           }
          ],
          "barpolar": [
           {
            "marker": {
             "line": {
              "color": "#E5ECF6",
              "width": 0.5
             },
             "pattern": {
              "fillmode": "overlay",
              "size": 10,
              "solidity": 0.2
             }
            },
            "type": "barpolar"
           }
          ],
          "carpet": [
           {
            "aaxis": {
             "endlinecolor": "#2a3f5f",
             "gridcolor": "white",
             "linecolor": "white",
             "minorgridcolor": "white",
             "startlinecolor": "#2a3f5f"
            },
            "baxis": {
             "endlinecolor": "#2a3f5f",
             "gridcolor": "white",
             "linecolor": "white",
             "minorgridcolor": "white",
             "startlinecolor": "#2a3f5f"
            },
            "type": "carpet"
           }
          ],
          "choropleth": [
           {
            "colorbar": {
             "outlinewidth": 0,
             "ticks": ""
            },
            "type": "choropleth"
           }
          ],
          "contour": [
           {
            "colorbar": {
             "outlinewidth": 0,
             "ticks": ""
            },
            "colorscale": [
             [
              0,
              "#0d0887"
             ],
             [
              0.1111111111111111,
              "#46039f"
             ],
             [
              0.2222222222222222,
              "#7201a8"
             ],
             [
              0.3333333333333333,
              "#9c179e"
             ],
             [
              0.4444444444444444,
              "#bd3786"
             ],
             [
              0.5555555555555556,
              "#d8576b"
             ],
             [
              0.6666666666666666,
              "#ed7953"
             ],
             [
              0.7777777777777778,
              "#fb9f3a"
             ],
             [
              0.8888888888888888,
              "#fdca26"
             ],
             [
              1,
              "#f0f921"
             ]
            ],
            "type": "contour"
           }
          ],
          "contourcarpet": [
           {
            "colorbar": {
             "outlinewidth": 0,
             "ticks": ""
            },
            "type": "contourcarpet"
           }
          ],
          "heatmap": [
           {
            "colorbar": {
             "outlinewidth": 0,
             "ticks": ""
            },
            "colorscale": [
             [
              0,
              "#0d0887"
             ],
             [
              0.1111111111111111,
              "#46039f"
             ],
             [
              0.2222222222222222,
              "#7201a8"
             ],
             [
              0.3333333333333333,
              "#9c179e"
             ],
             [
              0.4444444444444444,
              "#bd3786"
             ],
             [
              0.5555555555555556,
              "#d8576b"
             ],
             [
              0.6666666666666666,
              "#ed7953"
             ],
             [
              0.7777777777777778,
              "#fb9f3a"
             ],
             [
              0.8888888888888888,
              "#fdca26"
             ],
             [
              1,
              "#f0f921"
             ]
            ],
            "type": "heatmap"
           }
          ],
          "histogram": [
           {
            "marker": {
             "pattern": {
              "fillmode": "overlay",
              "size": 10,
              "solidity": 0.2
             }
            },
            "type": "histogram"
           }
          ],
          "histogram2d": [
           {
            "colorbar": {
             "outlinewidth": 0,
             "ticks": ""
            },
            "colorscale": [
             [
              0,
              "#0d0887"
             ],
             [
              0.1111111111111111,
              "#46039f"
             ],
             [
              0.2222222222222222,
              "#7201a8"
             ],
             [
              0.3333333333333333,
              "#9c179e"
             ],
             [
              0.4444444444444444,
              "#bd3786"
             ],
             [
              0.5555555555555556,
              "#d8576b"
             ],
             [
              0.6666666666666666,
              "#ed7953"
             ],
             [
              0.7777777777777778,
              "#fb9f3a"
             ],
             [
              0.8888888888888888,
              "#fdca26"
             ],
             [
              1,
              "#f0f921"
             ]
            ],
            "type": "histogram2d"
           }
          ],
          "histogram2dcontour": [
           {
            "colorbar": {
             "outlinewidth": 0,
             "ticks": ""
            },
            "colorscale": [
             [
              0,
              "#0d0887"
             ],
             [
              0.1111111111111111,
              "#46039f"
             ],
             [
              0.2222222222222222,
              "#7201a8"
             ],
             [
              0.3333333333333333,
              "#9c179e"
             ],
             [
              0.4444444444444444,
              "#bd3786"
             ],
             [
              0.5555555555555556,
              "#d8576b"
             ],
             [
              0.6666666666666666,
              "#ed7953"
             ],
             [
              0.7777777777777778,
              "#fb9f3a"
             ],
             [
              0.8888888888888888,
              "#fdca26"
             ],
             [
              1,
              "#f0f921"
             ]
            ],
            "type": "histogram2dcontour"
           }
          ],
          "mesh3d": [
           {
            "colorbar": {
             "outlinewidth": 0,
             "ticks": ""
            },
            "type": "mesh3d"
           }
          ],
          "parcoords": [
           {
            "line": {
             "colorbar": {
              "outlinewidth": 0,
              "ticks": ""
             }
            },
            "type": "parcoords"
           }
          ],
          "pie": [
           {
            "automargin": true,
            "type": "pie"
           }
          ],
          "scatter": [
           {
            "fillpattern": {
             "fillmode": "overlay",
             "size": 10,
             "solidity": 0.2
            },
            "type": "scatter"
           }
          ],
          "scatter3d": [
           {
            "line": {
             "colorbar": {
              "outlinewidth": 0,
              "ticks": ""
             }
            },
            "marker": {
             "colorbar": {
              "outlinewidth": 0,
              "ticks": ""
             }
            },
            "type": "scatter3d"
           }
          ],
          "scattercarpet": [
           {
            "marker": {
             "colorbar": {
              "outlinewidth": 0,
              "ticks": ""
             }
            },
            "type": "scattercarpet"
           }
          ],
          "scattergeo": [
           {
            "marker": {
             "colorbar": {
              "outlinewidth": 0,
              "ticks": ""
             }
            },
            "type": "scattergeo"
           }
          ],
          "scattergl": [
           {
            "marker": {
             "colorbar": {
              "outlinewidth": 0,
              "ticks": ""
             }
            },
            "type": "scattergl"
           }
          ],
          "scattermap": [
           {
            "marker": {
             "colorbar": {
              "outlinewidth": 0,
              "ticks": ""
             }
            },
            "type": "scattermap"
           }
          ],
          "scattermapbox": [
           {
            "marker": {
             "colorbar": {
              "outlinewidth": 0,
              "ticks": ""
             }
            },
            "type": "scattermapbox"
           }
          ],
          "scatterpolar": [
           {
            "marker": {
             "colorbar": {
              "outlinewidth": 0,
              "ticks": ""
             }
            },
            "type": "scatterpolar"
           }
          ],
          "scatterpolargl": [
           {
            "marker": {
             "colorbar": {
              "outlinewidth": 0,
              "ticks": ""
             }
            },
            "type": "scatterpolargl"
           }
          ],
          "scatterternary": [
           {
            "marker": {
             "colorbar": {
              "outlinewidth": 0,
              "ticks": ""
             }
            },
            "type": "scatterternary"
           }
          ],
          "surface": [
           {
            "colorbar": {
             "outlinewidth": 0,
             "ticks": ""
            },
            "colorscale": [
             [
              0,
              "#0d0887"
             ],
             [
              0.1111111111111111,
              "#46039f"
             ],
             [
              0.2222222222222222,
              "#7201a8"
             ],
             [
              0.3333333333333333,
              "#9c179e"
             ],
             [
              0.4444444444444444,
              "#bd3786"
             ],
             [
              0.5555555555555556,
              "#d8576b"
             ],
             [
              0.6666666666666666,
              "#ed7953"
             ],
             [
              0.7777777777777778,
              "#fb9f3a"
             ],
             [
              0.8888888888888888,
              "#fdca26"
             ],
             [
              1,
              "#f0f921"
             ]
            ],
            "type": "surface"
           }
          ],
          "table": [
           {
            "cells": {
             "fill": {
              "color": "#EBF0F8"
             },
             "line": {
              "color": "white"
             }
            },
            "header": {
             "fill": {
              "color": "#C8D4E3"
             },
             "line": {
              "color": "white"
             }
            },
            "type": "table"
           }
          ]
         },
         "layout": {
          "annotationdefaults": {
           "arrowcolor": "#2a3f5f",
           "arrowhead": 0,
           "arrowwidth": 1
          },
          "autotypenumbers": "strict",
          "coloraxis": {
           "colorbar": {
            "outlinewidth": 0,
            "ticks": ""
           }
          },
          "colorscale": {
           "diverging": [
            [
             0,
             "#8e0152"
            ],
            [
             0.1,
             "#c51b7d"
            ],
            [
             0.2,
             "#de77ae"
            ],
            [
             0.3,
             "#f1b6da"
            ],
            [
             0.4,
             "#fde0ef"
            ],
            [
             0.5,
             "#f7f7f7"
            ],
            [
             0.6,
             "#e6f5d0"
            ],
            [
             0.7,
             "#b8e186"
            ],
            [
             0.8,
             "#7fbc41"
            ],
            [
             0.9,
             "#4d9221"
            ],
            [
             1,
             "#276419"
            ]
           ],
           "sequential": [
            [
             0,
             "#0d0887"
            ],
            [
             0.1111111111111111,
             "#46039f"
            ],
            [
             0.2222222222222222,
             "#7201a8"
            ],
            [
             0.3333333333333333,
             "#9c179e"
            ],
            [
             0.4444444444444444,
             "#bd3786"
            ],
            [
             0.5555555555555556,
             "#d8576b"
            ],
            [
             0.6666666666666666,
             "#ed7953"
            ],
            [
             0.7777777777777778,
             "#fb9f3a"
            ],
            [
             0.8888888888888888,
             "#fdca26"
            ],
            [
             1,
             "#f0f921"
            ]
           ],
           "sequentialminus": [
            [
             0,
             "#0d0887"
            ],
            [
             0.1111111111111111,
             "#46039f"
            ],
            [
             0.2222222222222222,
             "#7201a8"
            ],
            [
             0.3333333333333333,
             "#9c179e"
            ],
            [
             0.4444444444444444,
             "#bd3786"
            ],
            [
             0.5555555555555556,
             "#d8576b"
            ],
            [
             0.6666666666666666,
             "#ed7953"
            ],
            [
             0.7777777777777778,
             "#fb9f3a"
            ],
            [
             0.8888888888888888,
             "#fdca26"
            ],
            [
             1,
             "#f0f921"
            ]
           ]
          },
          "colorway": [
           "#636efa",
           "#EF553B",
           "#00cc96",
           "#ab63fa",
           "#FFA15A",
           "#19d3f3",
           "#FF6692",
           "#B6E880",
           "#FF97FF",
           "#FECB52"
          ],
          "font": {
           "color": "#2a3f5f"
          },
          "geo": {
           "bgcolor": "white",
           "lakecolor": "white",
           "landcolor": "#E5ECF6",
           "showlakes": true,
           "showland": true,
           "subunitcolor": "white"
          },
          "hoverlabel": {
           "align": "left"
          },
          "hovermode": "closest",
          "mapbox": {
           "style": "light"
          },
          "paper_bgcolor": "white",
          "plot_bgcolor": "#E5ECF6",
          "polar": {
           "angularaxis": {
            "gridcolor": "white",
            "linecolor": "white",
            "ticks": ""
           },
           "bgcolor": "#E5ECF6",
           "radialaxis": {
            "gridcolor": "white",
            "linecolor": "white",
            "ticks": ""
           }
          },
          "scene": {
           "xaxis": {
            "backgroundcolor": "#E5ECF6",
            "gridcolor": "white",
            "gridwidth": 2,
            "linecolor": "white",
            "showbackground": true,
            "ticks": "",
            "zerolinecolor": "white"
           },
           "yaxis": {
            "backgroundcolor": "#E5ECF6",
            "gridcolor": "white",
            "gridwidth": 2,
            "linecolor": "white",
            "showbackground": true,
            "ticks": "",
            "zerolinecolor": "white"
           },
           "zaxis": {
            "backgroundcolor": "#E5ECF6",
            "gridcolor": "white",
            "gridwidth": 2,
            "linecolor": "white",
            "showbackground": true,
            "ticks": "",
            "zerolinecolor": "white"
           }
          },
          "shapedefaults": {
           "line": {
            "color": "#2a3f5f"
           }
          },
          "ternary": {
           "aaxis": {
            "gridcolor": "white",
            "linecolor": "white",
            "ticks": ""
           },
           "baxis": {
            "gridcolor": "white",
            "linecolor": "white",
            "ticks": ""
           },
           "bgcolor": "#E5ECF6",
           "caxis": {
            "gridcolor": "white",
            "linecolor": "white",
            "ticks": ""
           }
          },
          "title": {
           "x": 0.05
          },
          "xaxis": {
           "automargin": true,
           "gridcolor": "white",
           "linecolor": "white",
           "ticks": "",
           "title": {
            "standoff": 15
           },
           "zerolinecolor": "white",
           "zerolinewidth": 2
          },
          "yaxis": {
           "automargin": true,
           "gridcolor": "white",
           "linecolor": "white",
           "ticks": "",
           "title": {
            "standoff": 15
           },
           "zerolinecolor": "white",
           "zerolinewidth": 2
          }
         }
        },
        "title": {
         "text": "Site code: VIN "
        },
        "xaxis": {
         "anchor": "y",
         "domain": [
          0,
          1
         ],
         "title": {
          "text": "Year"
         }
        },
        "yaxis": {
         "anchor": "x",
         "domain": [
          0,
          1
         ],
         "title": {
          "text": "Value"
         }
        }
       }
      }
     },
     "metadata": {},
     "output_type": "display_data"
    }
   ],
   "source": [
    "for i in l_no_problem:\n",
    "    aux = df_data[df_data['site_code'] == i].reset_index(drop=True)\n",
    "    fig = px.line(aux, x='Year', y='Value', title=f'Site code: {i}')\n",
    "    fig.show()"
   ]
  },
  {
   "cell_type": "code",
   "execution_count": 14,
   "id": "9a384e9e",
   "metadata": {},
   "outputs": [
    {
     "data": {
      "text/html": [
       "<div>\n",
       "<style scoped>\n",
       "    .dataframe tbody tr th:only-of-type {\n",
       "        vertical-align: middle;\n",
       "    }\n",
       "\n",
       "    .dataframe tbody tr th {\n",
       "        vertical-align: top;\n",
       "    }\n",
       "\n",
       "    .dataframe thead th {\n",
       "        text-align: right;\n",
       "    }\n",
       "</style>\n",
       "<table border=\"1\" class=\"dataframe\">\n",
       "  <thead>\n",
       "    <tr style=\"text-align: right;\">\n",
       "      <th></th>\n",
       "      <th>site_code</th>\n",
       "      <th>Year</th>\n",
       "      <th>Value</th>\n",
       "      <th>min_max</th>\n",
       "      <th>z_score</th>\n",
       "    </tr>\n",
       "  </thead>\n",
       "  <tbody>\n",
       "    <tr>\n",
       "      <th>0</th>\n",
       "      <td>CAZ</td>\n",
       "      <td>1600</td>\n",
       "      <td>-21.1</td>\n",
       "      <td>0.680851</td>\n",
       "      <td>-0.081777</td>\n",
       "    </tr>\n",
       "    <tr>\n",
       "      <th>1</th>\n",
       "      <td>CAZ</td>\n",
       "      <td>1601</td>\n",
       "      <td>-21.0</td>\n",
       "      <td>0.702128</td>\n",
       "      <td>0.080568</td>\n",
       "    </tr>\n",
       "    <tr>\n",
       "      <th>2</th>\n",
       "      <td>CAZ</td>\n",
       "      <td>1602</td>\n",
       "      <td>-20.9</td>\n",
       "      <td>0.723404</td>\n",
       "      <td>0.242913</td>\n",
       "    </tr>\n",
       "    <tr>\n",
       "      <th>3</th>\n",
       "      <td>CAZ</td>\n",
       "      <td>1603</td>\n",
       "      <td>-20.9</td>\n",
       "      <td>0.723404</td>\n",
       "      <td>0.242913</td>\n",
       "    </tr>\n",
       "    <tr>\n",
       "      <th>4</th>\n",
       "      <td>CAZ</td>\n",
       "      <td>1604</td>\n",
       "      <td>-21.7</td>\n",
       "      <td>0.553191</td>\n",
       "      <td>-1.055845</td>\n",
       "    </tr>\n",
       "    <tr>\n",
       "      <th>...</th>\n",
       "      <td>...</td>\n",
       "      <td>...</td>\n",
       "      <td>...</td>\n",
       "      <td>...</td>\n",
       "      <td>...</td>\n",
       "    </tr>\n",
       "    <tr>\n",
       "      <th>398</th>\n",
       "      <td>CAZ</td>\n",
       "      <td>1998</td>\n",
       "      <td>-22.3</td>\n",
       "      <td>0.425532</td>\n",
       "      <td>-2.029913</td>\n",
       "    </tr>\n",
       "    <tr>\n",
       "      <th>399</th>\n",
       "      <td>CAZ</td>\n",
       "      <td>1999</td>\n",
       "      <td>-22.8</td>\n",
       "      <td>0.319149</td>\n",
       "      <td>-2.841637</td>\n",
       "    </tr>\n",
       "    <tr>\n",
       "      <th>400</th>\n",
       "      <td>CAZ</td>\n",
       "      <td>2000</td>\n",
       "      <td>-22.3</td>\n",
       "      <td>0.425532</td>\n",
       "      <td>-2.029913</td>\n",
       "    </tr>\n",
       "    <tr>\n",
       "      <th>401</th>\n",
       "      <td>CAZ</td>\n",
       "      <td>2001</td>\n",
       "      <td>-22.2</td>\n",
       "      <td>0.446809</td>\n",
       "      <td>-1.867569</td>\n",
       "    </tr>\n",
       "    <tr>\n",
       "      <th>402</th>\n",
       "      <td>CAZ</td>\n",
       "      <td>2002</td>\n",
       "      <td>-22.2</td>\n",
       "      <td>0.446809</td>\n",
       "      <td>-1.867569</td>\n",
       "    </tr>\n",
       "  </tbody>\n",
       "</table>\n",
       "<p>403 rows × 5 columns</p>\n",
       "</div>"
      ],
      "text/plain": [
       "    site_code  Year  Value   min_max   z_score\n",
       "0        CAZ   1600  -21.1  0.680851 -0.081777\n",
       "1        CAZ   1601  -21.0  0.702128  0.080568\n",
       "2        CAZ   1602  -20.9  0.723404  0.242913\n",
       "3        CAZ   1603  -20.9  0.723404  0.242913\n",
       "4        CAZ   1604  -21.7  0.553191 -1.055845\n",
       "..        ...   ...    ...       ...       ...\n",
       "398      CAZ   1998  -22.3  0.425532 -2.029913\n",
       "399      CAZ   1999  -22.8  0.319149 -2.841637\n",
       "400      CAZ   2000  -22.3  0.425532 -2.029913\n",
       "401      CAZ   2001  -22.2  0.446809 -1.867569\n",
       "402      CAZ   2002  -22.2  0.446809 -1.867569\n",
       "\n",
       "[403 rows x 5 columns]"
      ]
     },
     "execution_count": 14,
     "metadata": {},
     "output_type": "execute_result"
    }
   ],
   "source": [
    "# Standarization of SER and POE Site codes\n",
    "df_caz = df_data[(df_data['site_code'] == 'CAZ ') & (df_data['Value'].notna())].reset_index(drop=True)\n",
    "df_caz['min_max'] = (df_caz['Value'] - df_caz['Value'].min()) / (df_caz['Value'].max() - df_caz['Value'].min())\n",
    "df_caz['z_score'] = (df_caz['Value'] - df_caz['Value'].mean()) / df_caz['Value'].std(ddof=0)\n",
    "\n",
    "df_poe = df_data[(df_data['site_code'] == 'POE ') & (df_data['Value'].notna())].reset_index(drop=True)\n",
    "df_poe['min_max'] = (df_poe['Value'] - df_poe['Value'].min()) / (df_poe['Value'].max() - df_poe['Value'].min())\n",
    "df_poe['z_score'] = (df_poe['Value'] - df_poe['Value'].mean()) / df_poe['Value'].std(ddof=0)\n",
    "\n",
    "df_caz"
   ]
  },
  {
   "cell_type": "code",
   "execution_count": 15,
   "id": "c128e0d1",
   "metadata": {},
   "outputs": [
    {
     "data": {
      "application/vnd.plotly.v1+json": {
       "config": {
        "plotlyServerURL": "https://plot.ly"
       },
       "data": [
        {
         "alignmentgroup": "True",
         "hovertemplate": "site_code=%{x}<br>Standardized_Value=%{y}<extra></extra>",
         "legendgroup": "",
         "marker": {
          "color": "#636efa"
         },
         "name": "",
         "notched": false,
         "offsetgroup": "",
         "orientation": "v",
         "showlegend": false,
         "type": "box",
         "x": [
          "CAZ ",
          "CAZ ",
          "CAZ ",
          "CAZ ",
          "CAZ ",
          "CAZ ",
          "CAZ ",
          "CAZ ",
          "CAZ ",
          "CAZ ",
          "CAZ ",
          "CAZ ",
          "CAZ ",
          "CAZ ",
          "CAZ ",
          "CAZ ",
          "CAZ ",
          "CAZ ",
          "CAZ ",
          "CAZ ",
          "CAZ ",
          "CAZ ",
          "CAZ ",
          "CAZ ",
          "CAZ ",
          "CAZ ",
          "CAZ ",
          "CAZ ",
          "CAZ ",
          "CAZ ",
          "CAZ ",
          "CAZ ",
          "CAZ ",
          "CAZ ",
          "CAZ ",
          "CAZ ",
          "CAZ ",
          "CAZ ",
          "CAZ ",
          "CAZ ",
          "CAZ ",
          "CAZ ",
          "CAZ ",
          "CAZ ",
          "CAZ ",
          "CAZ ",
          "CAZ ",
          "CAZ ",
          "CAZ ",
          "CAZ ",
          "CAZ ",
          "CAZ ",
          "CAZ ",
          "CAZ ",
          "CAZ ",
          "CAZ ",
          "CAZ ",
          "CAZ ",
          "CAZ ",
          "CAZ ",
          "CAZ ",
          "CAZ ",
          "CAZ ",
          "CAZ ",
          "CAZ ",
          "CAZ ",
          "CAZ ",
          "CAZ ",
          "CAZ ",
          "CAZ ",
          "CAZ ",
          "CAZ ",
          "CAZ ",
          "CAZ ",
          "CAZ ",
          "CAZ ",
          "CAZ ",
          "CAZ ",
          "CAZ ",
          "CAZ ",
          "CAZ ",
          "CAZ ",
          "CAZ ",
          "CAZ ",
          "CAZ ",
          "CAZ ",
          "CAZ ",
          "CAZ ",
          "CAZ ",
          "CAZ ",
          "CAZ ",
          "CAZ ",
          "CAZ ",
          "CAZ ",
          "CAZ ",
          "CAZ ",
          "CAZ ",
          "CAZ ",
          "CAZ ",
          "CAZ ",
          "CAZ ",
          "CAZ ",
          "CAZ ",
          "CAZ ",
          "CAZ ",
          "CAZ ",
          "CAZ ",
          "CAZ ",
          "CAZ ",
          "CAZ ",
          "CAZ ",
          "CAZ ",
          "CAZ ",
          "CAZ ",
          "CAZ ",
          "CAZ ",
          "CAZ ",
          "CAZ ",
          "CAZ ",
          "CAZ ",
          "CAZ ",
          "CAZ ",
          "CAZ ",
          "CAZ ",
          "CAZ ",
          "CAZ ",
          "CAZ ",
          "CAZ ",
          "CAZ ",
          "CAZ ",
          "CAZ ",
          "CAZ ",
          "CAZ ",
          "CAZ ",
          "CAZ ",
          "CAZ ",
          "CAZ ",
          "CAZ ",
          "CAZ ",
          "CAZ ",
          "CAZ ",
          "CAZ ",
          "CAZ ",
          "CAZ ",
          "CAZ ",
          "CAZ ",
          "CAZ ",
          "CAZ ",
          "CAZ ",
          "CAZ ",
          "CAZ ",
          "CAZ ",
          "CAZ ",
          "CAZ ",
          "CAZ ",
          "CAZ ",
          "CAZ ",
          "CAZ ",
          "CAZ ",
          "CAZ ",
          "CAZ ",
          "CAZ ",
          "CAZ ",
          "CAZ ",
          "CAZ ",
          "CAZ ",
          "CAZ ",
          "CAZ ",
          "CAZ ",
          "CAZ ",
          "CAZ ",
          "CAZ ",
          "CAZ ",
          "CAZ ",
          "CAZ ",
          "CAZ ",
          "CAZ ",
          "CAZ ",
          "CAZ ",
          "CAZ ",
          "CAZ ",
          "CAZ ",
          "CAZ ",
          "CAZ ",
          "CAZ ",
          "CAZ ",
          "CAZ ",
          "CAZ ",
          "CAZ ",
          "CAZ ",
          "CAZ ",
          "CAZ ",
          "CAZ ",
          "CAZ ",
          "CAZ ",
          "CAZ ",
          "CAZ ",
          "CAZ ",
          "CAZ ",
          "CAZ ",
          "CAZ ",
          "CAZ ",
          "CAZ ",
          "CAZ ",
          "CAZ ",
          "CAZ ",
          "CAZ ",
          "CAZ ",
          "CAZ ",
          "CAZ ",
          "CAZ ",
          "CAZ ",
          "CAZ ",
          "CAZ ",
          "CAZ ",
          "CAZ ",
          "CAZ ",
          "CAZ ",
          "CAZ ",
          "CAZ ",
          "CAZ ",
          "CAZ ",
          "CAZ ",
          "CAZ ",
          "CAZ ",
          "CAZ ",
          "CAZ ",
          "CAZ ",
          "CAZ ",
          "CAZ ",
          "CAZ ",
          "CAZ ",
          "CAZ ",
          "CAZ ",
          "CAZ ",
          "CAZ ",
          "CAZ ",
          "CAZ ",
          "CAZ ",
          "CAZ ",
          "CAZ ",
          "CAZ ",
          "CAZ ",
          "CAZ ",
          "CAZ ",
          "CAZ ",
          "CAZ ",
          "CAZ ",
          "CAZ ",
          "CAZ ",
          "CAZ ",
          "CAZ ",
          "CAZ ",
          "CAZ ",
          "CAZ ",
          "CAZ ",
          "CAZ ",
          "CAZ ",
          "CAZ ",
          "CAZ ",
          "CAZ ",
          "CAZ ",
          "CAZ ",
          "CAZ ",
          "CAZ ",
          "CAZ ",
          "CAZ ",
          "CAZ ",
          "CAZ ",
          "CAZ ",
          "CAZ ",
          "CAZ ",
          "CAZ ",
          "CAZ ",
          "CAZ ",
          "CAZ ",
          "CAZ ",
          "CAZ ",
          "CAZ ",
          "CAZ ",
          "CAZ ",
          "CAZ ",
          "CAZ ",
          "CAZ ",
          "CAZ ",
          "CAZ ",
          "CAZ ",
          "CAZ ",
          "CAZ ",
          "CAZ ",
          "CAZ ",
          "CAZ ",
          "CAZ ",
          "CAZ ",
          "CAZ ",
          "CAZ ",
          "CAZ ",
          "CAZ ",
          "CAZ ",
          "CAZ ",
          "CAZ ",
          "CAZ ",
          "CAZ ",
          "CAZ ",
          "CAZ ",
          "CAZ ",
          "CAZ ",
          "CAZ ",
          "CAZ ",
          "CAZ ",
          "CAZ ",
          "CAZ ",
          "CAZ ",
          "CAZ ",
          "CAZ ",
          "CAZ ",
          "CAZ ",
          "CAZ ",
          "CAZ ",
          "CAZ ",
          "CAZ ",
          "CAZ ",
          "CAZ ",
          "CAZ ",
          "CAZ ",
          "CAZ ",
          "CAZ ",
          "CAZ ",
          "CAZ ",
          "CAZ ",
          "CAZ ",
          "CAZ ",
          "CAZ ",
          "CAZ ",
          "CAZ ",
          "CAZ ",
          "CAZ ",
          "CAZ ",
          "CAZ ",
          "CAZ ",
          "CAZ ",
          "CAZ ",
          "CAZ ",
          "CAZ ",
          "CAZ ",
          "CAZ ",
          "CAZ ",
          "CAZ ",
          "CAZ ",
          "CAZ ",
          "CAZ ",
          "CAZ ",
          "CAZ ",
          "CAZ ",
          "CAZ ",
          "CAZ ",
          "CAZ ",
          "CAZ ",
          "CAZ ",
          "CAZ ",
          "CAZ ",
          "CAZ ",
          "CAZ ",
          "CAZ ",
          "CAZ ",
          "CAZ ",
          "CAZ ",
          "CAZ ",
          "CAZ ",
          "CAZ ",
          "CAZ ",
          "CAZ ",
          "CAZ ",
          "CAZ ",
          "CAZ ",
          "CAZ ",
          "CAZ ",
          "CAZ ",
          "CAZ ",
          "CAZ ",
          "CAZ ",
          "CAZ ",
          "CAZ ",
          "CAZ ",
          "CAZ ",
          "CAZ ",
          "CAZ ",
          "CAZ ",
          "CAZ ",
          "CAZ ",
          "CAZ ",
          "CAZ ",
          "CAZ ",
          "CAZ ",
          "CAZ ",
          "CAZ ",
          "CAZ ",
          "CAZ ",
          "CAZ ",
          "CAZ ",
          "CAZ ",
          "CAZ ",
          "CAZ ",
          "POE ",
          "POE ",
          "POE ",
          "POE ",
          "POE ",
          "POE ",
          "POE ",
          "POE ",
          "POE ",
          "POE ",
          "POE ",
          "POE ",
          "POE ",
          "POE ",
          "POE ",
          "POE ",
          "POE ",
          "POE ",
          "POE ",
          "POE ",
          "POE ",
          "POE ",
          "POE ",
          "POE ",
          "POE ",
          "POE ",
          "POE ",
          "POE ",
          "POE ",
          "POE ",
          "POE ",
          "POE ",
          "POE ",
          "POE ",
          "POE ",
          "POE ",
          "POE ",
          "POE ",
          "POE ",
          "POE ",
          "POE ",
          "POE ",
          "POE ",
          "POE ",
          "POE ",
          "POE ",
          "POE ",
          "POE ",
          "POE ",
          "POE ",
          "POE ",
          "POE ",
          "POE ",
          "POE ",
          "POE ",
          "POE ",
          "POE ",
          "POE ",
          "POE ",
          "POE ",
          "POE ",
          "POE ",
          "POE ",
          "POE ",
          "POE ",
          "POE ",
          "POE ",
          "POE ",
          "POE ",
          "POE ",
          "POE ",
          "POE ",
          "POE ",
          "POE ",
          "POE ",
          "POE ",
          "POE ",
          "POE ",
          "POE ",
          "POE ",
          "POE ",
          "POE ",
          "POE ",
          "POE ",
          "POE ",
          "POE ",
          "POE ",
          "POE ",
          "POE ",
          "POE ",
          "POE ",
          "POE ",
          "POE ",
          "POE ",
          "POE ",
          "POE ",
          "POE ",
          "POE ",
          "POE ",
          "POE ",
          "POE ",
          "POE ",
          "POE ",
          "POE ",
          "POE ",
          "POE ",
          "POE ",
          "POE ",
          "POE ",
          "POE ",
          "POE ",
          "POE ",
          "POE ",
          "POE ",
          "POE ",
          "POE ",
          "POE ",
          "POE ",
          "POE ",
          "POE ",
          "POE ",
          "POE ",
          "POE ",
          "POE ",
          "POE ",
          "POE ",
          "POE ",
          "POE ",
          "POE ",
          "POE ",
          "POE ",
          "POE ",
          "POE ",
          "POE ",
          "POE ",
          "POE ",
          "POE ",
          "POE ",
          "POE ",
          "POE ",
          "POE ",
          "POE ",
          "POE ",
          "POE ",
          "POE ",
          "POE ",
          "POE ",
          "POE ",
          "POE ",
          "POE ",
          "POE ",
          "POE ",
          "POE ",
          "POE ",
          "POE ",
          "POE ",
          "POE ",
          "POE ",
          "POE ",
          "POE ",
          "POE ",
          "POE ",
          "POE ",
          "POE ",
          "POE ",
          "POE ",
          "POE ",
          "POE ",
          "POE ",
          "POE ",
          "POE ",
          "POE ",
          "POE ",
          "POE ",
          "POE ",
          "POE ",
          "POE ",
          "POE ",
          "POE ",
          "POE ",
          "POE ",
          "POE ",
          "POE ",
          "POE ",
          "POE ",
          "POE ",
          "POE ",
          "POE ",
          "POE ",
          "POE ",
          "POE ",
          "POE ",
          "POE ",
          "POE ",
          "POE ",
          "POE ",
          "POE ",
          "POE ",
          "POE ",
          "POE ",
          "POE ",
          "POE ",
          "POE ",
          "POE ",
          "POE ",
          "POE ",
          "POE ",
          "POE ",
          "POE ",
          "POE ",
          "POE ",
          "POE ",
          "POE ",
          "POE ",
          "POE ",
          "POE ",
          "POE ",
          "POE ",
          "POE ",
          "POE ",
          "POE ",
          "POE ",
          "POE ",
          "POE ",
          "POE ",
          "POE ",
          "POE ",
          "POE ",
          "POE ",
          "POE ",
          "POE ",
          "POE ",
          "POE ",
          "POE ",
          "POE ",
          "POE ",
          "POE ",
          "POE ",
          "POE ",
          "POE ",
          "POE ",
          "POE ",
          "POE ",
          "POE ",
          "POE ",
          "POE ",
          "POE ",
          "POE ",
          "POE ",
          "POE ",
          "POE ",
          "POE ",
          "POE ",
          "POE ",
          "POE ",
          "POE ",
          "POE ",
          "POE ",
          "POE ",
          "POE ",
          "POE ",
          "POE ",
          "POE ",
          "POE ",
          "POE ",
          "POE ",
          "POE ",
          "POE ",
          "POE ",
          "POE ",
          "POE ",
          "POE ",
          "POE ",
          "POE ",
          "POE ",
          "POE ",
          "POE ",
          "POE ",
          "POE ",
          "POE ",
          "POE ",
          "POE ",
          "POE ",
          "POE ",
          "POE ",
          "POE ",
          "POE ",
          "POE ",
          "POE ",
          "POE ",
          "POE ",
          "POE ",
          "POE ",
          "POE ",
          "POE ",
          "POE ",
          "POE ",
          "POE ",
          "POE ",
          "POE ",
          "POE ",
          "POE ",
          "POE ",
          "POE ",
          "POE ",
          "POE ",
          "POE ",
          "POE ",
          "POE ",
          "POE ",
          "POE ",
          "POE ",
          "POE ",
          "POE ",
          "POE ",
          "POE ",
          "POE ",
          "POE ",
          "POE ",
          "POE ",
          "POE ",
          "POE ",
          "POE ",
          "POE ",
          "POE ",
          "POE ",
          "POE ",
          "POE ",
          "POE ",
          "POE ",
          "POE ",
          "POE ",
          "POE ",
          "POE ",
          "POE ",
          "POE ",
          "POE ",
          "POE ",
          "POE ",
          "POE ",
          "POE ",
          "POE ",
          "POE ",
          "POE ",
          "POE ",
          "POE ",
          "POE ",
          "POE ",
          "POE ",
          "POE ",
          "POE ",
          "POE ",
          "POE ",
          "POE ",
          "POE ",
          "POE ",
          "POE ",
          "POE ",
          "POE ",
          "POE ",
          "POE ",
          "POE ",
          "POE ",
          "POE ",
          "POE ",
          "POE ",
          "POE ",
          "POE ",
          "POE ",
          "POE ",
          "POE ",
          "POE ",
          "POE ",
          "POE ",
          "POE ",
          "POE ",
          "POE ",
          "POE ",
          "POE ",
          "POE ",
          "POE ",
          "POE ",
          "POE ",
          "POE ",
          "POE ",
          "POE ",
          "POE ",
          "POE ",
          "POE ",
          "POE ",
          "POE ",
          "POE ",
          "POE ",
          "POE ",
          "POE ",
          "POE ",
          "POE ",
          "POE ",
          "POE ",
          "POE ",
          "POE ",
          "POE ",
          "POE "
         ],
         "x0": " ",
         "xaxis": "x",
         "y": {
          "bdata": "VxCTK4jJ5T/cqO9s1HfmP2JBTK4gJuc/YkFMriAm5z9KfWejvrPhP1Pf2ajvbOQ/aqO+s1Hf6T9iQUyuICbnP9yo72zUd+Y/VxCTK4jJ5T9XEJMriMnlP9h3Nuo7G+U/Sn1no76z4T/URn1no77jP2ZyBTG5gug/4Nmo72zU5z/URn1no77jP1cQkyuIyeU/ZnIFMbmC6D/YdzbqOxvlP1cQkyuIyeU/YkFMriAm5z/cqO9s1HfmP2JBTK4gJuc/3KjvbNR35j9mcgUxuYLoP+DZqO9s1Oc/ZnIFMbmC6D/vOxv1nY3qP9yo72zUd+Y/ZnIFMbmC6D9qo76zUd/pP2ZyBTG5gug/1EZ9Z6O+4z9iQUyuICbnP+DZqO9s1Oc/U9/ZqO9s5D/g2ajvbNTnP9yo72zUd+Y/3KjvbNR35j9iQUyuICbnP1cQkyuIyeU/YkFMriAm5z9XEJMriMnlP1Pf2ajvbOQ/YkFMriAm5z/g2ajvbNTnP+87G/Wdjeo/btR3Nuo76z9iQUyuICbnP2qjvrNR3+k/aqO+s1Hf6T/cqO9s1HfmP2ZyBTG5gug/aqO+s1Hf6T/kCmJyBTHpP+DZqO9s1Oc/YkFMriAm5z/g2ajvbNTnP2ZyBTG5gug/5ApicgUx6T9mcgUxuYLoP+DZqO9s1Oc/4Nmo72zU5z/vOxv1nY3qP8kVxOQKYuI/7zsb9Z2N6j9u1Hc26jvrP2qjvrNR3+k/aqO+s1Hf6T9mcgUxuYLoP3IFMbmCmOw/ZnIFMbmC6D/0bNR3NurrP9yo72zUd+Y/5ApicgUx6T9iQUyuICbnP+DZqO9s1Oc/YkFMriAm5z9mcgUxuYLoP+QKYnIFMek/4Nmo72zU5z/kCmJyBTHpP+87G/Wdjeo/ZnIFMbmC6D9mcgUxuYLoP27UdzbqO+s/7zsb9Z2N6j9iQUyuICbnP2qjvrNR3+k/7zsb9Z2N6j9XEJMriMnlP9yo72zUd+Y/aqO+s1Hf6T99Nuo7G/XtP2qjvrNR3+k/9GzUdzbq6z/kCmJyBTHpP9h3Nuo7G+U/4Nmo72zU5z/kCmJyBTHpP+QKYnIFMek/9GzUdzbq6z9qo76zUd/pP+DZqO9s1Oc/btR3Nuo76z9yBTG5gpjsP+QKYnIFMek/YkFMriAm5z/cqO9s1HfmP+87G/Wdjeo/5ApicgUx6T9qo76zUd/pP2qjvrNR3+k/1EZ9Z6O+4z9iQUyuICbnP/Rs1Hc26us/7zsb9Z2N6j9u1Hc26jvrP+87G/Wdjeo/aqO+s1Hf6T9iQUyuICbnP27UdzbqO+s/U9/ZqO9s5D9qo76zUd/pP+87G/Wdjeo/YkFMriAm5z/YdzbqOxvlP2JBTK4gJuc/cgUxuYKY7D/kCmJyBTHpP2JBTK4gJuc/btR3Nuo76z/kCmJyBTHpP2qjvrNR3+k/4Nmo72zU5z9mcgUxuYLoP1cQkyuIyeU/9GzUdzbq6z/vOxv1nY3qP+QKYnIFMek/btR3Nuo76z/kCmJyBTHpP1cQkyuIyeU/aqO+s1Hf6T/0bNR3NurrP+DZqO9s1Oc/VxCTK4jJ5T/kCmJyBTHpP+87G/Wdjeo/aqO+s1Hf6T8AAAAAAADwP+QKYnIFMek/aqO+s1Hf6T9qo76zUd/pP2ZyBTG5gug/4Nmo72zU5z/g2ajvbNTnP27UdzbqO+s/cgUxuYKY7D/0bNR3NurrP3IFMbmCmOw/btR3Nuo76z/vOxv1nY3qP2ZyBTG5gug/VxCTK4jJ5T9u1Hc26jvrP+QKYnIFMek/btR3Nuo76z9qo76zUd/pP3IFMbmCmOw/aqO+s1Hf6T/kCmJyBTHpP/Rs1Hc26us/aqO+s1Hf6T9mcgUxuYLoP+QKYnIFMek/4Nmo72zU5z9mcgUxuYLoP9yo72zUd+Y/btR3Nuo76z9T39mo72zkP+87G/Wdjeo/4Nmo72zU5z9XEJMriMnlP2JBTK4gJuc/2Hc26jsb5T/cqO9s1HfmP2JBTK4gJuc/3KjvbNR35j9T39mo72zkP1cQkyuIyeU/1EZ9Z6O+4z9mcgUxuYLoP2JBTK4gJuc/2Hc26jsb5T9u1Hc26jvrP2qjvrNR3+k/2Hc26jsb5T/cqO9s1HfmP06uICZXEOM/2Hc26jsb5T/g2ajvbNTnP9RGfWejvuM/YkFMriAm5z/vOxv1nY3qP2JBTK4gJuc/YkFMriAm5z9iQUyuICbnP9h3Nuo7G+U/U9/ZqO9s5D/g2ajvbNTnP2qjvrNR3+k/4Nmo72zU5z9KfWejvrPhP+DZqO9s1Oc/3KjvbNR35j/g2ajvbNTnP2JBTK4gJuc/ZnIFMbmC6D9iQUyuICbnP2ZyBTG5gug/7zsb9Z2N6j9qo76zUd/pP+87G/Wdjeo/U9/ZqO9s5D9T39mo72zkP9h3Nuo7G+U/5ApicgUx6T/cqO9s1HfmP2ZyBTG5gug/YkFMriAm5z/vOxv1nY3qP2JBTK4gJuc/YkFMriAm5z/g2ajvbNTnP+87G/Wdjeo/5ApicgUx6T/kCmJyBTHpP2qjvrNR3+k/5ApicgUx6T/g2ajvbNTnP2ZyBTG5gug/3KjvbNR35j9qo76zUd/pP9h3Nuo7G+U/aqO+s1Hf6T/kCmJyBTHpP2ZyBTG5gug/aqO+s1Hf6T/cqO9s1HfmP+QKYnIFMek/4Nmo72zU5z/cqO9s1HfmP9h3Nuo7G+U/1EZ9Z6O+4z9mcgUxuYLoP+DZqO9s1Oc/ZnIFMbmC6D9mcgUxuYLoP9yo72zUd+Y/ZnIFMbmC6D/g2ajvbNTnP2ZyBTG5gug/5ApicgUx6T/g2ajvbNTnP1cQkyuIyeU/4Nmo72zU5z/YdzbqOxvlP9yo72zUd+Y/4Nmo72zU5z/URn1no77jP1cQkyuIyeU/4Nmo72zU5z/g2ajvbNTnP2ZyBTG5gug/ZnIFMbmC6D/YdzbqOxvlP2ZyBTG5gug/VxCTK4jJ5T9XEJMriMnlP2JBTK4gJuc/2Hc26jsb5T9XEJMriMnlP0p9Z6O+s+E/RkyuICZX4D/YdzbqOxvlP9yo72zUd+Y/xeQKYnIF4T9T39mo72zkP2ZyBTG5gug/2Hc26jsb5T9XEJMriMnlP9h3Nuo7G+U/2Hc26jsb5T9OriAmVxDjP06uICZXEOM/VxCTK4jJ5T/YdzbqOxvlP8XkCmJyBeE/1EZ9Z6O+4z/YdzbqOxvlP1Pf2ajvbOQ/1EZ9Z6O+4z9qo76zUd/pP9h3Nuo7G+U/Tq4gJlcQ4z/YdzbqOxvlP9h3Nuo7G+U/1EZ9Z6O+4z9T39mo72zkP1cQkyuIyeU/2Hc26jsb5T/URn1no77jP9h3Nuo7G+U/VxCTK4jJ5T9T39mo72zkP2ZyBTG5gug/2Hc26jsb5T/JFcTkCmLiP8kVxOQKYuI/U9/ZqO9s5D/URn1no77jP9yo72zUd+Y/VxCTK4jJ5T9KfWejvrPhP9h3Nuo7G+U/U9/ZqO9s5D/JFcTkCmLiP3kFMbmCmNw/Sn1no76z4T9GTK4gJlfgP8XkCmJyBeE/YkFMriAm5z/YdzbqOxvlP06uICZXEOM/U9/ZqO9s5D9XEJMriMnlP9RGfWejvuM/gWejvrNR3z/F5ApicgXhP0ZMriAmV+A/1EZ9Z6O+4z/YdzbqOxvlP27UdzbqO9s/xeQKYnIF4T9T39mo72zkP9yo72zUd+Y/Sn1no76z4T9KfWejvrPhP8XkCmJyBeE/RkyuICZX4D9xo76zUd/ZP3kFMbmCmNw/Tq4gJlcQ4z/URn1no77jP9RGfWejvuM/1EZ9Z6O+4z/URn1no77jP0p9Z6O+s+E/RkyuICZX4D9KfWejvrPhP9h3Nuo7G+U/eQUxuYKY3D/JFcTkCmLiP9RGfWejvuM/xeQKYnIF4T9GTK4gJlfgP4Fno76zUd8/djbqOxv13T9KfWejvrPhP3Y26jsb9d0/Va4gJlcQ0z9bQUyuICbXP2ZyBTG5gtg/XhCTK4jJ1T9bQUyuICbXP1tBTK4gJtc/btR3Nuo72z9u1Hc26jvbP4Fno76zUd8/djbqOxv13T9bQUyuICbXP0ZMriAmV+A/xeQKYnIF4T+BZ6O+s1HfP3Y26jsb9d0/ZnIFMbmC2D9xo76zUd/ZP2ZyBTG5gtg/U9/ZqO9s1D9T39mo72zUPwAAAAAAAAAAW0FMriAm1z9eEJMriMnVP27UdzbqO9s/btR3Nuo72z9eEJMriMnVP27UdzbqO9s/U9/ZqO9s1D9u1Hc26jvbP3kFMbmCmNw/eQUxuYKY3D+VkZGRkZHhP5WRkZGRkeE/uLS0tLS05D/V0tLS0tLiP05QUFBQUOA/FRQUFBQU5D8VFBQUFBTkP5WWlpaWluY/3NfX19fX5z+VkZGRkZHhPx0eHh4eHt4/eXh4eHh46D8yMjIyMjLiP5WWlpaWluY/VVVVVVVV1T+VlpaWlpbmPxwZGRkZGdk/uLS0tLS05D9VVVVVVVXlP7i0tLS0tOQ/1dLS0tLS4j+VlpaWlpbmP5WRkZGRkeE/uLS0tLS05D8VFBQUFBTkP3Jzc3Nzc+M/VVVVVVVV5T9jX19fX1/fPx0eHh4eHt4/cnNzc3Nz4z/c19fX19fnP/Lw8PDw8OA/uLS0tLS05D9cWlpaWlrqPx0eHh4eHt4/FRQUFBQU5D+cm5ubm5vrP7m5ubm5uek/FRQUFBQU5D+cm5ubm5vrP7i0tLS0tOQ/lZaWlpaW5j+VlpaWlpbmP7i0tLS0tOQ/eXh4eHh46D+5ubm5ubnpP7m5ubm5uek/8vDw8PDw4D/j3Nzc3NzcP5ybm5ubm9s/FRQUFBQU5D+4tLS0tLTkP7i0tLS0tOQ/lZGRkZGR4T9VVVVVVVXlPzIyMjIyMuI/8vDw8PDw4D+4tLS0tLTkP5WWlpaWluY/FRQUFBQU5D/V0tLS0tLiP5WRkZGRkeE/OTc3Nzc35z/V0tLS0tLiP7i0tLS0tOQ/1dLS0tLS4j/59fX19fXlP+Pc3Nzc3Nw/uLS0tLS05D9cWlpaWlrqP1VVVVVVVeU/1dLS0tLS4j8yMjIyMjLiP9XS0tLS0uI/uLS0tLS05D9OUFBQUFDgP1VVVVVVVeU/+fX19fX15T9OUFBQUFDgPx0eHh4eHt4/cnNzc3Nz4z/59fX19fXlP/n19fX19eU/3NfX19fX5z9yc3Nzc3PjP/Lw8PDw8OA/nJubm5ub6z9yc3Nzc3PjPxUUFBQUFOQ/+fX19fX15T/j3Nzc3NzcP9XS0tLS0uI/49zc3Nzc3D/y8PDw8PDgP/Lw8PDw8OA/lZGRkZGR4T/V0tLS0tLiP3Jzc3Nzc+M/FRQUFBQU5D+VkZGRkZHhP9XS0tLS0uI/uLS0tLS05D8VFBQUFBTkP9XS0tLS0uI/eXh4eHh46D8VFBQUFBTkP5WWlpaWluY/lZaWlpaW5j9yc3Nzc3PjP/n19fX19eU/VVVVVVVV5T8yMjIyMjLiP5WRkZGRkeE/VlpaWlpa2j/j3Nzc3NzcP2NfX19fX98/HBkZGRkZ2T/y8PDw8PDgP/n19fX19eU/+fX19fX15T9cWlpaWlrqP5WRkZGRkeE/nJubm5ub2z+clpaWlpbWP+Pc3Nzc3Nw/49zc3Nzc3D8yMjIyMjLiP5WWlpaWluY/VVVVVVVV5T9yc3Nzc3PjP5WRkZGRkeE/HR4eHh4e3j9VVVVVVVXlP1VVVVVVVeU/HR4eHh4e3j/c19fX19fnP5WRkZGRkeE/FRQUFBQU5D/y8PDw8PDgPzIyMjIyMuI/VlpaWlpa2j9yc3Nzc3PjPxUUFBQUFOQ/eXh4eHh46D8yMjIyMjLiP2NfX19fX98/+fX19fX15T95eHh4eHjoP1VVVVVVVdU/ubm5ubm56T/59fX19fXlP3Jzc3Nzc+M/FRQUFBQU5D+4tLS0tLTkPxUUFBQUFOQ/eXh4eHh46D/V0tLS0tLiP/n19fX19eU/uLS0tLS05D+VkZGRkZHhP1xaWlpaWuo/gH19fX197T8cGRkZGRnpP7i0tLS0tOQ/HBkZGRkZ6T/59fX19fXlP1xaWlpaWuo/8vDw8PDw4D95eHh4eHjoP7i0tLS0tOQ/FRQUFBQU5D+4tLS0tLTkP3l4eHh4eOg/lZaWlpaW5j+VlpaWlpbmP7m5ubm5uek/OTc3Nzc35z/c19fX19fnP//6+vr6+uo/+fX19fX15T/59fX19fXlP5WRkZGRkeE/1dLS0tLS4j/c19fX19fnP7i0tLS0tOQ/1dLS0tLS4j+VlpaWlpbmP1VVVVVVVeU/1dLS0tLS4j/59fX19fXlP3l4eHh4eOg/lZaWlpaW5j/59fX19fXlP5WWlpaWluY/3Nzc3Nzc7D/V0tLS0tLiP5WWlpaWluY/Y19fX19f7z/c19fX19fnP3Jzc3Nzc+M/XFpaWlpa6j/V0tLS0tLiP/n19fX19eU/1dLS0tLS4j9yc3Nzc3PjPzIyMjIyMuI/1dLS0tLS4j+VlpaWlpbmP9zX19fX1+c/uLS0tLS05D+VkZGRkZHhP1VVVVVVVeU/TlBQUFBQ4D/59fX19fXlP1VVVVVVVeU/FRQUFBQU5D85Nzc3NzfnP9zX19fX1+c/ubm5ubm56T/59fX19fXlP9zX19fX1+c/FRQUFBQU5D9jX19fX1/vP7i0tLS0tOQ/cnNzc3Nz4z9VVVVVVVXlP5WWlpaWluY/+fX19fX15T8yMjIyMjLiP9XS0tLS0uI/ubm5ubm56T/V0tLS0tLiP9zX19fX1+c/+fX19fX15T8AAAAAAADwP9zc3Nzc3Ow/gH19fX197T9VVVVVVVXlP0A8PDw8POw///r6+vr66j+4tLS0tLTkP/n19fX19eU/8vDw8PDw4D8yMjIyMjLiPxUUFBQUFOQ/VVVVVVVV5T9yc3Nzc3PjPzIyMjIyMuI/1dLS0tLS4j9OUFBQUFDgP3Jzc3Nzc+M/lZGRkZGR4T8yMjIyMjLiP9XS0tLS0uI/cnNzc3Nz4z8yMjIyMjLiP3Jzc3Nzc+M/+fX19fX15T8yMjIyMjLiP7i0tLS0tOQ/VVVVVVVV5T85Nzc3NzfnP9zX19fX1+c/3Nzc3Nzc7D/y8PDw8PDgP1xaWlpaWuo/lZaWlpaW5j85Nzc3NzfnP7m5ubm5uek/3Nzc3Nzc7D8yMjIyMjLiP1VVVVVVVeU/lZaWlpaW5j9OUFBQUFDgP5ybm5ubm9s/Y19fX19f3z+VkZGRkZHhP05QUFBQUOA/VVVVVVVV1T/V0tLS0tLSP1VVVVVVVdU/TlBQUFBQ4D+cm5ubm5vbP5yWlpaWltY/nJaWlpaW1j+PkZGRkZHRP2NfX19fX98/VVBQUFBQ0D+clpaWlpbWP9bX19fX19c/1tfX19fX1z9WWlpaWlraPw8UFBQUFNQ/DxQUFBQU1D+Qm5ubm5vLPw8UFBQUFNQ/HR4eHh4e3j/y8PDw8PDgP+Pc3Nzc3Nw/VlpaWlpa2j8cGRkZGRnZP3Jzc3Nzc+M/HBkZGRkZ2T9OUFBQUFDgP05QUFBQUOA/8vDw8PDw4D9WWlpaWlraP9XS0tLS0uI/1tfX19fX1z8yMjIyMjLiPxwZGRkZGck/kJubm5ubyz9WWlpaWlraPx0eHh4eHt4/DxQUFBQU1D+clpaWlpbWP1VQUFBQUNA/FRQUFBQU5D9WWlpaWlraPxwZGRkZGck/1dLS0tLS0j+PkZGRkZHRP2NfX19fX98/nJubm5ub2z8PFBQUFBTUP9XS0tLS0tI/VlpaWlpa2j9WWlpaWlraP5yWlpaWltY/HR4eHh4e3j9OUFBQUFDgPw8UFBQUFNQ/8vDw8PDw4D8PFBQUFBTUPxwZGRkZGdk/49zc3Nzc3D/W19fX19fXP5yWlpaWltY/8vDw8PDw4D9yc3Nzc3PjP9XS0tLS0tI/HR4eHh4e3j8yMjIyMjLiP5yWlpaWltY/nJaWlpaW1j/y8PDw8PDgP+Pc3Nzc3Nw/FRQUFBQU5D8yMjIyMjLiP1ZaWlpaWto/1tfX19fX1z8PFBQUFBTUP5ybm5ubm9s/49zc3Nzc3D+clpaWlpbWP4+WlpaWlsY/DxQUFBQU1D8PFBQUFBTUP5Cbm5ubm8s/VVBQUFBQ0D+PkZGRkZHBP1VQUFBQUNA/1dLS0tLS0j/W19fX19fXPx0eHh4eHs4/VVVVVVVV1T8PFBQUFBTUP9bX19fX19c/HBkZGRkZyT9VVVVVVVXVP5Cbm5ubm8s/HR4eHh4ezj8dHh4eHh7OP1VQUFBQUNA/VVBQUFBQ0D8PFBQUFBTUP5ybm5ubm9s/VlpaWlpa2j9VUFBQUFDQPwQeHh4eHr4/VVBQUFBQ0D+Qm5ubm5vLP5Cbm5ubm8s/nJaWlpaW1j+PkZGRkZHBPx0eHh4eHs4/VlpaWlpa2j8bFBQUFBTEPwAAAAAAAAAABB4eHh4evj8dHh4eHh7OP5Cbm5ubm8s/j5aWlpaWxj9WWlpaWlraP4+RkZGRkdE/1dLS0tLS0j+PkZGRkZHRP1VQUFBQUNA/j5aWlpaWxj82Hh4eHh6uPxsUFBQUFMQ/1tfX19fX1z8cGRkZGRnZPw==",
          "dtype": "f8"
         },
         "y0": " ",
         "yaxis": "y"
        }
       ],
       "layout": {
        "boxmode": "group",
        "legend": {
         "tracegroupgap": 0
        },
        "template": {
         "data": {
          "bar": [
           {
            "error_x": {
             "color": "#2a3f5f"
            },
            "error_y": {
             "color": "#2a3f5f"
            },
            "marker": {
             "line": {
              "color": "#E5ECF6",
              "width": 0.5
             },
             "pattern": {
              "fillmode": "overlay",
              "size": 10,
              "solidity": 0.2
             }
            },
            "type": "bar"
           }
          ],
          "barpolar": [
           {
            "marker": {
             "line": {
              "color": "#E5ECF6",
              "width": 0.5
             },
             "pattern": {
              "fillmode": "overlay",
              "size": 10,
              "solidity": 0.2
             }
            },
            "type": "barpolar"
           }
          ],
          "carpet": [
           {
            "aaxis": {
             "endlinecolor": "#2a3f5f",
             "gridcolor": "white",
             "linecolor": "white",
             "minorgridcolor": "white",
             "startlinecolor": "#2a3f5f"
            },
            "baxis": {
             "endlinecolor": "#2a3f5f",
             "gridcolor": "white",
             "linecolor": "white",
             "minorgridcolor": "white",
             "startlinecolor": "#2a3f5f"
            },
            "type": "carpet"
           }
          ],
          "choropleth": [
           {
            "colorbar": {
             "outlinewidth": 0,
             "ticks": ""
            },
            "type": "choropleth"
           }
          ],
          "contour": [
           {
            "colorbar": {
             "outlinewidth": 0,
             "ticks": ""
            },
            "colorscale": [
             [
              0,
              "#0d0887"
             ],
             [
              0.1111111111111111,
              "#46039f"
             ],
             [
              0.2222222222222222,
              "#7201a8"
             ],
             [
              0.3333333333333333,
              "#9c179e"
             ],
             [
              0.4444444444444444,
              "#bd3786"
             ],
             [
              0.5555555555555556,
              "#d8576b"
             ],
             [
              0.6666666666666666,
              "#ed7953"
             ],
             [
              0.7777777777777778,
              "#fb9f3a"
             ],
             [
              0.8888888888888888,
              "#fdca26"
             ],
             [
              1,
              "#f0f921"
             ]
            ],
            "type": "contour"
           }
          ],
          "contourcarpet": [
           {
            "colorbar": {
             "outlinewidth": 0,
             "ticks": ""
            },
            "type": "contourcarpet"
           }
          ],
          "heatmap": [
           {
            "colorbar": {
             "outlinewidth": 0,
             "ticks": ""
            },
            "colorscale": [
             [
              0,
              "#0d0887"
             ],
             [
              0.1111111111111111,
              "#46039f"
             ],
             [
              0.2222222222222222,
              "#7201a8"
             ],
             [
              0.3333333333333333,
              "#9c179e"
             ],
             [
              0.4444444444444444,
              "#bd3786"
             ],
             [
              0.5555555555555556,
              "#d8576b"
             ],
             [
              0.6666666666666666,
              "#ed7953"
             ],
             [
              0.7777777777777778,
              "#fb9f3a"
             ],
             [
              0.8888888888888888,
              "#fdca26"
             ],
             [
              1,
              "#f0f921"
             ]
            ],
            "type": "heatmap"
           }
          ],
          "histogram": [
           {
            "marker": {
             "pattern": {
              "fillmode": "overlay",
              "size": 10,
              "solidity": 0.2
             }
            },
            "type": "histogram"
           }
          ],
          "histogram2d": [
           {
            "colorbar": {
             "outlinewidth": 0,
             "ticks": ""
            },
            "colorscale": [
             [
              0,
              "#0d0887"
             ],
             [
              0.1111111111111111,
              "#46039f"
             ],
             [
              0.2222222222222222,
              "#7201a8"
             ],
             [
              0.3333333333333333,
              "#9c179e"
             ],
             [
              0.4444444444444444,
              "#bd3786"
             ],
             [
              0.5555555555555556,
              "#d8576b"
             ],
             [
              0.6666666666666666,
              "#ed7953"
             ],
             [
              0.7777777777777778,
              "#fb9f3a"
             ],
             [
              0.8888888888888888,
              "#fdca26"
             ],
             [
              1,
              "#f0f921"
             ]
            ],
            "type": "histogram2d"
           }
          ],
          "histogram2dcontour": [
           {
            "colorbar": {
             "outlinewidth": 0,
             "ticks": ""
            },
            "colorscale": [
             [
              0,
              "#0d0887"
             ],
             [
              0.1111111111111111,
              "#46039f"
             ],
             [
              0.2222222222222222,
              "#7201a8"
             ],
             [
              0.3333333333333333,
              "#9c179e"
             ],
             [
              0.4444444444444444,
              "#bd3786"
             ],
             [
              0.5555555555555556,
              "#d8576b"
             ],
             [
              0.6666666666666666,
              "#ed7953"
             ],
             [
              0.7777777777777778,
              "#fb9f3a"
             ],
             [
              0.8888888888888888,
              "#fdca26"
             ],
             [
              1,
              "#f0f921"
             ]
            ],
            "type": "histogram2dcontour"
           }
          ],
          "mesh3d": [
           {
            "colorbar": {
             "outlinewidth": 0,
             "ticks": ""
            },
            "type": "mesh3d"
           }
          ],
          "parcoords": [
           {
            "line": {
             "colorbar": {
              "outlinewidth": 0,
              "ticks": ""
             }
            },
            "type": "parcoords"
           }
          ],
          "pie": [
           {
            "automargin": true,
            "type": "pie"
           }
          ],
          "scatter": [
           {
            "fillpattern": {
             "fillmode": "overlay",
             "size": 10,
             "solidity": 0.2
            },
            "type": "scatter"
           }
          ],
          "scatter3d": [
           {
            "line": {
             "colorbar": {
              "outlinewidth": 0,
              "ticks": ""
             }
            },
            "marker": {
             "colorbar": {
              "outlinewidth": 0,
              "ticks": ""
             }
            },
            "type": "scatter3d"
           }
          ],
          "scattercarpet": [
           {
            "marker": {
             "colorbar": {
              "outlinewidth": 0,
              "ticks": ""
             }
            },
            "type": "scattercarpet"
           }
          ],
          "scattergeo": [
           {
            "marker": {
             "colorbar": {
              "outlinewidth": 0,
              "ticks": ""
             }
            },
            "type": "scattergeo"
           }
          ],
          "scattergl": [
           {
            "marker": {
             "colorbar": {
              "outlinewidth": 0,
              "ticks": ""
             }
            },
            "type": "scattergl"
           }
          ],
          "scattermap": [
           {
            "marker": {
             "colorbar": {
              "outlinewidth": 0,
              "ticks": ""
             }
            },
            "type": "scattermap"
           }
          ],
          "scattermapbox": [
           {
            "marker": {
             "colorbar": {
              "outlinewidth": 0,
              "ticks": ""
             }
            },
            "type": "scattermapbox"
           }
          ],
          "scatterpolar": [
           {
            "marker": {
             "colorbar": {
              "outlinewidth": 0,
              "ticks": ""
             }
            },
            "type": "scatterpolar"
           }
          ],
          "scatterpolargl": [
           {
            "marker": {
             "colorbar": {
              "outlinewidth": 0,
              "ticks": ""
             }
            },
            "type": "scatterpolargl"
           }
          ],
          "scatterternary": [
           {
            "marker": {
             "colorbar": {
              "outlinewidth": 0,
              "ticks": ""
             }
            },
            "type": "scatterternary"
           }
          ],
          "surface": [
           {
            "colorbar": {
             "outlinewidth": 0,
             "ticks": ""
            },
            "colorscale": [
             [
              0,
              "#0d0887"
             ],
             [
              0.1111111111111111,
              "#46039f"
             ],
             [
              0.2222222222222222,
              "#7201a8"
             ],
             [
              0.3333333333333333,
              "#9c179e"
             ],
             [
              0.4444444444444444,
              "#bd3786"
             ],
             [
              0.5555555555555556,
              "#d8576b"
             ],
             [
              0.6666666666666666,
              "#ed7953"
             ],
             [
              0.7777777777777778,
              "#fb9f3a"
             ],
             [
              0.8888888888888888,
              "#fdca26"
             ],
             [
              1,
              "#f0f921"
             ]
            ],
            "type": "surface"
           }
          ],
          "table": [
           {
            "cells": {
             "fill": {
              "color": "#EBF0F8"
             },
             "line": {
              "color": "white"
             }
            },
            "header": {
             "fill": {
              "color": "#C8D4E3"
             },
             "line": {
              "color": "white"
             }
            },
            "type": "table"
           }
          ]
         },
         "layout": {
          "annotationdefaults": {
           "arrowcolor": "#2a3f5f",
           "arrowhead": 0,
           "arrowwidth": 1
          },
          "autotypenumbers": "strict",
          "coloraxis": {
           "colorbar": {
            "outlinewidth": 0,
            "ticks": ""
           }
          },
          "colorscale": {
           "diverging": [
            [
             0,
             "#8e0152"
            ],
            [
             0.1,
             "#c51b7d"
            ],
            [
             0.2,
             "#de77ae"
            ],
            [
             0.3,
             "#f1b6da"
            ],
            [
             0.4,
             "#fde0ef"
            ],
            [
             0.5,
             "#f7f7f7"
            ],
            [
             0.6,
             "#e6f5d0"
            ],
            [
             0.7,
             "#b8e186"
            ],
            [
             0.8,
             "#7fbc41"
            ],
            [
             0.9,
             "#4d9221"
            ],
            [
             1,
             "#276419"
            ]
           ],
           "sequential": [
            [
             0,
             "#0d0887"
            ],
            [
             0.1111111111111111,
             "#46039f"
            ],
            [
             0.2222222222222222,
             "#7201a8"
            ],
            [
             0.3333333333333333,
             "#9c179e"
            ],
            [
             0.4444444444444444,
             "#bd3786"
            ],
            [
             0.5555555555555556,
             "#d8576b"
            ],
            [
             0.6666666666666666,
             "#ed7953"
            ],
            [
             0.7777777777777778,
             "#fb9f3a"
            ],
            [
             0.8888888888888888,
             "#fdca26"
            ],
            [
             1,
             "#f0f921"
            ]
           ],
           "sequentialminus": [
            [
             0,
             "#0d0887"
            ],
            [
             0.1111111111111111,
             "#46039f"
            ],
            [
             0.2222222222222222,
             "#7201a8"
            ],
            [
             0.3333333333333333,
             "#9c179e"
            ],
            [
             0.4444444444444444,
             "#bd3786"
            ],
            [
             0.5555555555555556,
             "#d8576b"
            ],
            [
             0.6666666666666666,
             "#ed7953"
            ],
            [
             0.7777777777777778,
             "#fb9f3a"
            ],
            [
             0.8888888888888888,
             "#fdca26"
            ],
            [
             1,
             "#f0f921"
            ]
           ]
          },
          "colorway": [
           "#636efa",
           "#EF553B",
           "#00cc96",
           "#ab63fa",
           "#FFA15A",
           "#19d3f3",
           "#FF6692",
           "#B6E880",
           "#FF97FF",
           "#FECB52"
          ],
          "font": {
           "color": "#2a3f5f"
          },
          "geo": {
           "bgcolor": "white",
           "lakecolor": "white",
           "landcolor": "#E5ECF6",
           "showlakes": true,
           "showland": true,
           "subunitcolor": "white"
          },
          "hoverlabel": {
           "align": "left"
          },
          "hovermode": "closest",
          "mapbox": {
           "style": "light"
          },
          "paper_bgcolor": "white",
          "plot_bgcolor": "#E5ECF6",
          "polar": {
           "angularaxis": {
            "gridcolor": "white",
            "linecolor": "white",
            "ticks": ""
           },
           "bgcolor": "#E5ECF6",
           "radialaxis": {
            "gridcolor": "white",
            "linecolor": "white",
            "ticks": ""
           }
          },
          "scene": {
           "xaxis": {
            "backgroundcolor": "#E5ECF6",
            "gridcolor": "white",
            "gridwidth": 2,
            "linecolor": "white",
            "showbackground": true,
            "ticks": "",
            "zerolinecolor": "white"
           },
           "yaxis": {
            "backgroundcolor": "#E5ECF6",
            "gridcolor": "white",
            "gridwidth": 2,
            "linecolor": "white",
            "showbackground": true,
            "ticks": "",
            "zerolinecolor": "white"
           },
           "zaxis": {
            "backgroundcolor": "#E5ECF6",
            "gridcolor": "white",
            "gridwidth": 2,
            "linecolor": "white",
            "showbackground": true,
            "ticks": "",
            "zerolinecolor": "white"
           }
          },
          "shapedefaults": {
           "line": {
            "color": "#2a3f5f"
           }
          },
          "ternary": {
           "aaxis": {
            "gridcolor": "white",
            "linecolor": "white",
            "ticks": ""
           },
           "baxis": {
            "gridcolor": "white",
            "linecolor": "white",
            "ticks": ""
           },
           "bgcolor": "#E5ECF6",
           "caxis": {
            "gridcolor": "white",
            "linecolor": "white",
            "ticks": ""
           }
          },
          "title": {
           "x": 0.05
          },
          "xaxis": {
           "automargin": true,
           "gridcolor": "white",
           "linecolor": "white",
           "ticks": "",
           "title": {
            "standoff": 15
           },
           "zerolinecolor": "white",
           "zerolinewidth": 2
          },
          "yaxis": {
           "automargin": true,
           "gridcolor": "white",
           "linecolor": "white",
           "ticks": "",
           "title": {
            "standoff": 15
           },
           "zerolinecolor": "white",
           "zerolinewidth": 2
          }
         }
        },
        "title": {
         "text": "Min-Max standardization Boxplot for CAZ and POE"
        },
        "xaxis": {
         "anchor": "y",
         "domain": [
          0,
          1
         ],
         "title": {
          "text": "site_code"
         }
        },
        "yaxis": {
         "anchor": "x",
         "domain": [
          0,
          1
         ],
         "title": {
          "text": "Standardized_Value"
         }
        }
       }
      }
     },
     "metadata": {},
     "output_type": "display_data"
    }
   ],
   "source": [
    "import matplotlib.pyplot as plt\n",
    "\n",
    "# Combine data for plotting\n",
    "df_combined = pd.concat([df_caz, df_poe], ignore_index=True)\n",
    "\n",
    "# Melt the DataFrame to long format for plotly\n",
    "df_long_mm = df_combined.melt(id_vars=['site_code'], value_vars=['min_max'],\n",
    "                           var_name='Standardization', value_name='Standardized_Value')\n",
    "\n",
    "# Create boxplot\n",
    "fig = px.box(df_long_mm, x='site_code', y='Standardized_Value',\n",
    "             title='Min-Max standardization Boxplot for CAZ and POE',)\n",
    "fig.show()"
   ]
  },
  {
   "cell_type": "code",
   "execution_count": 16,
   "id": "e1c36ac0",
   "metadata": {},
   "outputs": [
    {
     "data": {
      "application/vnd.plotly.v1+json": {
       "config": {
        "plotlyServerURL": "https://plot.ly"
       },
       "data": [
        {
         "alignmentgroup": "True",
         "hovertemplate": "site_code=%{x}<br>Standardized_Value=%{y}<extra></extra>",
         "legendgroup": "",
         "marker": {
          "color": "#636efa"
         },
         "name": "",
         "notched": false,
         "offsetgroup": "",
         "orientation": "v",
         "showlegend": false,
         "type": "box",
         "x": [
          "CAZ ",
          "CAZ ",
          "CAZ ",
          "CAZ ",
          "CAZ ",
          "CAZ ",
          "CAZ ",
          "CAZ ",
          "CAZ ",
          "CAZ ",
          "CAZ ",
          "CAZ ",
          "CAZ ",
          "CAZ ",
          "CAZ ",
          "CAZ ",
          "CAZ ",
          "CAZ ",
          "CAZ ",
          "CAZ ",
          "CAZ ",
          "CAZ ",
          "CAZ ",
          "CAZ ",
          "CAZ ",
          "CAZ ",
          "CAZ ",
          "CAZ ",
          "CAZ ",
          "CAZ ",
          "CAZ ",
          "CAZ ",
          "CAZ ",
          "CAZ ",
          "CAZ ",
          "CAZ ",
          "CAZ ",
          "CAZ ",
          "CAZ ",
          "CAZ ",
          "CAZ ",
          "CAZ ",
          "CAZ ",
          "CAZ ",
          "CAZ ",
          "CAZ ",
          "CAZ ",
          "CAZ ",
          "CAZ ",
          "CAZ ",
          "CAZ ",
          "CAZ ",
          "CAZ ",
          "CAZ ",
          "CAZ ",
          "CAZ ",
          "CAZ ",
          "CAZ ",
          "CAZ ",
          "CAZ ",
          "CAZ ",
          "CAZ ",
          "CAZ ",
          "CAZ ",
          "CAZ ",
          "CAZ ",
          "CAZ ",
          "CAZ ",
          "CAZ ",
          "CAZ ",
          "CAZ ",
          "CAZ ",
          "CAZ ",
          "CAZ ",
          "CAZ ",
          "CAZ ",
          "CAZ ",
          "CAZ ",
          "CAZ ",
          "CAZ ",
          "CAZ ",
          "CAZ ",
          "CAZ ",
          "CAZ ",
          "CAZ ",
          "CAZ ",
          "CAZ ",
          "CAZ ",
          "CAZ ",
          "CAZ ",
          "CAZ ",
          "CAZ ",
          "CAZ ",
          "CAZ ",
          "CAZ ",
          "CAZ ",
          "CAZ ",
          "CAZ ",
          "CAZ ",
          "CAZ ",
          "CAZ ",
          "CAZ ",
          "CAZ ",
          "CAZ ",
          "CAZ ",
          "CAZ ",
          "CAZ ",
          "CAZ ",
          "CAZ ",
          "CAZ ",
          "CAZ ",
          "CAZ ",
          "CAZ ",
          "CAZ ",
          "CAZ ",
          "CAZ ",
          "CAZ ",
          "CAZ ",
          "CAZ ",
          "CAZ ",
          "CAZ ",
          "CAZ ",
          "CAZ ",
          "CAZ ",
          "CAZ ",
          "CAZ ",
          "CAZ ",
          "CAZ ",
          "CAZ ",
          "CAZ ",
          "CAZ ",
          "CAZ ",
          "CAZ ",
          "CAZ ",
          "CAZ ",
          "CAZ ",
          "CAZ ",
          "CAZ ",
          "CAZ ",
          "CAZ ",
          "CAZ ",
          "CAZ ",
          "CAZ ",
          "CAZ ",
          "CAZ ",
          "CAZ ",
          "CAZ ",
          "CAZ ",
          "CAZ ",
          "CAZ ",
          "CAZ ",
          "CAZ ",
          "CAZ ",
          "CAZ ",
          "CAZ ",
          "CAZ ",
          "CAZ ",
          "CAZ ",
          "CAZ ",
          "CAZ ",
          "CAZ ",
          "CAZ ",
          "CAZ ",
          "CAZ ",
          "CAZ ",
          "CAZ ",
          "CAZ ",
          "CAZ ",
          "CAZ ",
          "CAZ ",
          "CAZ ",
          "CAZ ",
          "CAZ ",
          "CAZ ",
          "CAZ ",
          "CAZ ",
          "CAZ ",
          "CAZ ",
          "CAZ ",
          "CAZ ",
          "CAZ ",
          "CAZ ",
          "CAZ ",
          "CAZ ",
          "CAZ ",
          "CAZ ",
          "CAZ ",
          "CAZ ",
          "CAZ ",
          "CAZ ",
          "CAZ ",
          "CAZ ",
          "CAZ ",
          "CAZ ",
          "CAZ ",
          "CAZ ",
          "CAZ ",
          "CAZ ",
          "CAZ ",
          "CAZ ",
          "CAZ ",
          "CAZ ",
          "CAZ ",
          "CAZ ",
          "CAZ ",
          "CAZ ",
          "CAZ ",
          "CAZ ",
          "CAZ ",
          "CAZ ",
          "CAZ ",
          "CAZ ",
          "CAZ ",
          "CAZ ",
          "CAZ ",
          "CAZ ",
          "CAZ ",
          "CAZ ",
          "CAZ ",
          "CAZ ",
          "CAZ ",
          "CAZ ",
          "CAZ ",
          "CAZ ",
          "CAZ ",
          "CAZ ",
          "CAZ ",
          "CAZ ",
          "CAZ ",
          "CAZ ",
          "CAZ ",
          "CAZ ",
          "CAZ ",
          "CAZ ",
          "CAZ ",
          "CAZ ",
          "CAZ ",
          "CAZ ",
          "CAZ ",
          "CAZ ",
          "CAZ ",
          "CAZ ",
          "CAZ ",
          "CAZ ",
          "CAZ ",
          "CAZ ",
          "CAZ ",
          "CAZ ",
          "CAZ ",
          "CAZ ",
          "CAZ ",
          "CAZ ",
          "CAZ ",
          "CAZ ",
          "CAZ ",
          "CAZ ",
          "CAZ ",
          "CAZ ",
          "CAZ ",
          "CAZ ",
          "CAZ ",
          "CAZ ",
          "CAZ ",
          "CAZ ",
          "CAZ ",
          "CAZ ",
          "CAZ ",
          "CAZ ",
          "CAZ ",
          "CAZ ",
          "CAZ ",
          "CAZ ",
          "CAZ ",
          "CAZ ",
          "CAZ ",
          "CAZ ",
          "CAZ ",
          "CAZ ",
          "CAZ ",
          "CAZ ",
          "CAZ ",
          "CAZ ",
          "CAZ ",
          "CAZ ",
          "CAZ ",
          "CAZ ",
          "CAZ ",
          "CAZ ",
          "CAZ ",
          "CAZ ",
          "CAZ ",
          "CAZ ",
          "CAZ ",
          "CAZ ",
          "CAZ ",
          "CAZ ",
          "CAZ ",
          "CAZ ",
          "CAZ ",
          "CAZ ",
          "CAZ ",
          "CAZ ",
          "CAZ ",
          "CAZ ",
          "CAZ ",
          "CAZ ",
          "CAZ ",
          "CAZ ",
          "CAZ ",
          "CAZ ",
          "CAZ ",
          "CAZ ",
          "CAZ ",
          "CAZ ",
          "CAZ ",
          "CAZ ",
          "CAZ ",
          "CAZ ",
          "CAZ ",
          "CAZ ",
          "CAZ ",
          "CAZ ",
          "CAZ ",
          "CAZ ",
          "CAZ ",
          "CAZ ",
          "CAZ ",
          "CAZ ",
          "CAZ ",
          "CAZ ",
          "CAZ ",
          "CAZ ",
          "CAZ ",
          "CAZ ",
          "CAZ ",
          "CAZ ",
          "CAZ ",
          "CAZ ",
          "CAZ ",
          "CAZ ",
          "CAZ ",
          "CAZ ",
          "CAZ ",
          "CAZ ",
          "CAZ ",
          "CAZ ",
          "CAZ ",
          "CAZ ",
          "CAZ ",
          "CAZ ",
          "CAZ ",
          "CAZ ",
          "CAZ ",
          "CAZ ",
          "CAZ ",
          "CAZ ",
          "CAZ ",
          "CAZ ",
          "CAZ ",
          "CAZ ",
          "CAZ ",
          "CAZ ",
          "CAZ ",
          "CAZ ",
          "CAZ ",
          "CAZ ",
          "CAZ ",
          "CAZ ",
          "CAZ ",
          "CAZ ",
          "CAZ ",
          "CAZ ",
          "CAZ ",
          "CAZ ",
          "CAZ ",
          "CAZ ",
          "CAZ ",
          "CAZ ",
          "CAZ ",
          "CAZ ",
          "CAZ ",
          "CAZ ",
          "CAZ ",
          "CAZ ",
          "CAZ ",
          "CAZ ",
          "CAZ ",
          "CAZ ",
          "CAZ ",
          "CAZ ",
          "CAZ ",
          "CAZ ",
          "CAZ ",
          "CAZ ",
          "CAZ ",
          "CAZ ",
          "CAZ ",
          "CAZ ",
          "CAZ ",
          "CAZ ",
          "CAZ ",
          "CAZ ",
          "CAZ ",
          "POE ",
          "POE ",
          "POE ",
          "POE ",
          "POE ",
          "POE ",
          "POE ",
          "POE ",
          "POE ",
          "POE ",
          "POE ",
          "POE ",
          "POE ",
          "POE ",
          "POE ",
          "POE ",
          "POE ",
          "POE ",
          "POE ",
          "POE ",
          "POE ",
          "POE ",
          "POE ",
          "POE ",
          "POE ",
          "POE ",
          "POE ",
          "POE ",
          "POE ",
          "POE ",
          "POE ",
          "POE ",
          "POE ",
          "POE ",
          "POE ",
          "POE ",
          "POE ",
          "POE ",
          "POE ",
          "POE ",
          "POE ",
          "POE ",
          "POE ",
          "POE ",
          "POE ",
          "POE ",
          "POE ",
          "POE ",
          "POE ",
          "POE ",
          "POE ",
          "POE ",
          "POE ",
          "POE ",
          "POE ",
          "POE ",
          "POE ",
          "POE ",
          "POE ",
          "POE ",
          "POE ",
          "POE ",
          "POE ",
          "POE ",
          "POE ",
          "POE ",
          "POE ",
          "POE ",
          "POE ",
          "POE ",
          "POE ",
          "POE ",
          "POE ",
          "POE ",
          "POE ",
          "POE ",
          "POE ",
          "POE ",
          "POE ",
          "POE ",
          "POE ",
          "POE ",
          "POE ",
          "POE ",
          "POE ",
          "POE ",
          "POE ",
          "POE ",
          "POE ",
          "POE ",
          "POE ",
          "POE ",
          "POE ",
          "POE ",
          "POE ",
          "POE ",
          "POE ",
          "POE ",
          "POE ",
          "POE ",
          "POE ",
          "POE ",
          "POE ",
          "POE ",
          "POE ",
          "POE ",
          "POE ",
          "POE ",
          "POE ",
          "POE ",
          "POE ",
          "POE ",
          "POE ",
          "POE ",
          "POE ",
          "POE ",
          "POE ",
          "POE ",
          "POE ",
          "POE ",
          "POE ",
          "POE ",
          "POE ",
          "POE ",
          "POE ",
          "POE ",
          "POE ",
          "POE ",
          "POE ",
          "POE ",
          "POE ",
          "POE ",
          "POE ",
          "POE ",
          "POE ",
          "POE ",
          "POE ",
          "POE ",
          "POE ",
          "POE ",
          "POE ",
          "POE ",
          "POE ",
          "POE ",
          "POE ",
          "POE ",
          "POE ",
          "POE ",
          "POE ",
          "POE ",
          "POE ",
          "POE ",
          "POE ",
          "POE ",
          "POE ",
          "POE ",
          "POE ",
          "POE ",
          "POE ",
          "POE ",
          "POE ",
          "POE ",
          "POE ",
          "POE ",
          "POE ",
          "POE ",
          "POE ",
          "POE ",
          "POE ",
          "POE ",
          "POE ",
          "POE ",
          "POE ",
          "POE ",
          "POE ",
          "POE ",
          "POE ",
          "POE ",
          "POE ",
          "POE ",
          "POE ",
          "POE ",
          "POE ",
          "POE ",
          "POE ",
          "POE ",
          "POE ",
          "POE ",
          "POE ",
          "POE ",
          "POE ",
          "POE ",
          "POE ",
          "POE ",
          "POE ",
          "POE ",
          "POE ",
          "POE ",
          "POE ",
          "POE ",
          "POE ",
          "POE ",
          "POE ",
          "POE ",
          "POE ",
          "POE ",
          "POE ",
          "POE ",
          "POE ",
          "POE ",
          "POE ",
          "POE ",
          "POE ",
          "POE ",
          "POE ",
          "POE ",
          "POE ",
          "POE ",
          "POE ",
          "POE ",
          "POE ",
          "POE ",
          "POE ",
          "POE ",
          "POE ",
          "POE ",
          "POE ",
          "POE ",
          "POE ",
          "POE ",
          "POE ",
          "POE ",
          "POE ",
          "POE ",
          "POE ",
          "POE ",
          "POE ",
          "POE ",
          "POE ",
          "POE ",
          "POE ",
          "POE ",
          "POE ",
          "POE ",
          "POE ",
          "POE ",
          "POE ",
          "POE ",
          "POE ",
          "POE ",
          "POE ",
          "POE ",
          "POE ",
          "POE ",
          "POE ",
          "POE ",
          "POE ",
          "POE ",
          "POE ",
          "POE ",
          "POE ",
          "POE ",
          "POE ",
          "POE ",
          "POE ",
          "POE ",
          "POE ",
          "POE ",
          "POE ",
          "POE ",
          "POE ",
          "POE ",
          "POE ",
          "POE ",
          "POE ",
          "POE ",
          "POE ",
          "POE ",
          "POE ",
          "POE ",
          "POE ",
          "POE ",
          "POE ",
          "POE ",
          "POE ",
          "POE ",
          "POE ",
          "POE ",
          "POE ",
          "POE ",
          "POE ",
          "POE ",
          "POE ",
          "POE ",
          "POE ",
          "POE ",
          "POE ",
          "POE ",
          "POE ",
          "POE ",
          "POE ",
          "POE ",
          "POE ",
          "POE ",
          "POE ",
          "POE ",
          "POE ",
          "POE ",
          "POE ",
          "POE ",
          "POE ",
          "POE ",
          "POE ",
          "POE ",
          "POE ",
          "POE ",
          "POE ",
          "POE ",
          "POE ",
          "POE ",
          "POE ",
          "POE ",
          "POE ",
          "POE ",
          "POE ",
          "POE ",
          "POE ",
          "POE ",
          "POE ",
          "POE ",
          "POE ",
          "POE ",
          "POE ",
          "POE ",
          "POE ",
          "POE ",
          "POE ",
          "POE ",
          "POE ",
          "POE ",
          "POE ",
          "POE ",
          "POE ",
          "POE ",
          "POE ",
          "POE ",
          "POE ",
          "POE ",
          "POE ",
          "POE ",
          "POE ",
          "POE ",
          "POE ",
          "POE ",
          "POE ",
          "POE ",
          "POE ",
          "POE ",
          "POE ",
          "POE ",
          "POE ",
          "POE ",
          "POE ",
          "POE ",
          "POE ",
          "POE ",
          "POE ",
          "POE ",
          "POE ",
          "POE ",
          "POE ",
          "POE ",
          "POE ",
          "POE ",
          "POE ",
          "POE ",
          "POE ",
          "POE ",
          "POE ",
          "POE ",
          "POE ",
          "POE ",
          "POE ",
          "POE ",
          "POE ",
          "POE ",
          "POE ",
          "POE ",
          "POE ",
          "POE ",
          "POE ",
          "POE ",
          "POE ",
          "POE ",
          "POE ",
          "POE ",
          "POE ",
          "POE ",
          "POE ",
          "POE ",
          "POE ",
          "POE ",
          "POE "
         ],
         "x0": " ",
         "xaxis": "x",
         "y": {
          "bdata": "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",
          "dtype": "f8"
         },
         "y0": " ",
         "yaxis": "y"
        }
       ],
       "layout": {
        "boxmode": "group",
        "legend": {
         "tracegroupgap": 0
        },
        "template": {
         "data": {
          "bar": [
           {
            "error_x": {
             "color": "#2a3f5f"
            },
            "error_y": {
             "color": "#2a3f5f"
            },
            "marker": {
             "line": {
              "color": "#E5ECF6",
              "width": 0.5
             },
             "pattern": {
              "fillmode": "overlay",
              "size": 10,
              "solidity": 0.2
             }
            },
            "type": "bar"
           }
          ],
          "barpolar": [
           {
            "marker": {
             "line": {
              "color": "#E5ECF6",
              "width": 0.5
             },
             "pattern": {
              "fillmode": "overlay",
              "size": 10,
              "solidity": 0.2
             }
            },
            "type": "barpolar"
           }
          ],
          "carpet": [
           {
            "aaxis": {
             "endlinecolor": "#2a3f5f",
             "gridcolor": "white",
             "linecolor": "white",
             "minorgridcolor": "white",
             "startlinecolor": "#2a3f5f"
            },
            "baxis": {
             "endlinecolor": "#2a3f5f",
             "gridcolor": "white",
             "linecolor": "white",
             "minorgridcolor": "white",
             "startlinecolor": "#2a3f5f"
            },
            "type": "carpet"
           }
          ],
          "choropleth": [
           {
            "colorbar": {
             "outlinewidth": 0,
             "ticks": ""
            },
            "type": "choropleth"
           }
          ],
          "contour": [
           {
            "colorbar": {
             "outlinewidth": 0,
             "ticks": ""
            },
            "colorscale": [
             [
              0,
              "#0d0887"
             ],
             [
              0.1111111111111111,
              "#46039f"
             ],
             [
              0.2222222222222222,
              "#7201a8"
             ],
             [
              0.3333333333333333,
              "#9c179e"
             ],
             [
              0.4444444444444444,
              "#bd3786"
             ],
             [
              0.5555555555555556,
              "#d8576b"
             ],
             [
              0.6666666666666666,
              "#ed7953"
             ],
             [
              0.7777777777777778,
              "#fb9f3a"
             ],
             [
              0.8888888888888888,
              "#fdca26"
             ],
             [
              1,
              "#f0f921"
             ]
            ],
            "type": "contour"
           }
          ],
          "contourcarpet": [
           {
            "colorbar": {
             "outlinewidth": 0,
             "ticks": ""
            },
            "type": "contourcarpet"
           }
          ],
          "heatmap": [
           {
            "colorbar": {
             "outlinewidth": 0,
             "ticks": ""
            },
            "colorscale": [
             [
              0,
              "#0d0887"
             ],
             [
              0.1111111111111111,
              "#46039f"
             ],
             [
              0.2222222222222222,
              "#7201a8"
             ],
             [
              0.3333333333333333,
              "#9c179e"
             ],
             [
              0.4444444444444444,
              "#bd3786"
             ],
             [
              0.5555555555555556,
              "#d8576b"
             ],
             [
              0.6666666666666666,
              "#ed7953"
             ],
             [
              0.7777777777777778,
              "#fb9f3a"
             ],
             [
              0.8888888888888888,
              "#fdca26"
             ],
             [
              1,
              "#f0f921"
             ]
            ],
            "type": "heatmap"
           }
          ],
          "histogram": [
           {
            "marker": {
             "pattern": {
              "fillmode": "overlay",
              "size": 10,
              "solidity": 0.2
             }
            },
            "type": "histogram"
           }
          ],
          "histogram2d": [
           {
            "colorbar": {
             "outlinewidth": 0,
             "ticks": ""
            },
            "colorscale": [
             [
              0,
              "#0d0887"
             ],
             [
              0.1111111111111111,
              "#46039f"
             ],
             [
              0.2222222222222222,
              "#7201a8"
             ],
             [
              0.3333333333333333,
              "#9c179e"
             ],
             [
              0.4444444444444444,
              "#bd3786"
             ],
             [
              0.5555555555555556,
              "#d8576b"
             ],
             [
              0.6666666666666666,
              "#ed7953"
             ],
             [
              0.7777777777777778,
              "#fb9f3a"
             ],
             [
              0.8888888888888888,
              "#fdca26"
             ],
             [
              1,
              "#f0f921"
             ]
            ],
            "type": "histogram2d"
           }
          ],
          "histogram2dcontour": [
           {
            "colorbar": {
             "outlinewidth": 0,
             "ticks": ""
            },
            "colorscale": [
             [
              0,
              "#0d0887"
             ],
             [
              0.1111111111111111,
              "#46039f"
             ],
             [
              0.2222222222222222,
              "#7201a8"
             ],
             [
              0.3333333333333333,
              "#9c179e"
             ],
             [
              0.4444444444444444,
              "#bd3786"
             ],
             [
              0.5555555555555556,
              "#d8576b"
             ],
             [
              0.6666666666666666,
              "#ed7953"
             ],
             [
              0.7777777777777778,
              "#fb9f3a"
             ],
             [
              0.8888888888888888,
              "#fdca26"
             ],
             [
              1,
              "#f0f921"
             ]
            ],
            "type": "histogram2dcontour"
           }
          ],
          "mesh3d": [
           {
            "colorbar": {
             "outlinewidth": 0,
             "ticks": ""
            },
            "type": "mesh3d"
           }
          ],
          "parcoords": [
           {
            "line": {
             "colorbar": {
              "outlinewidth": 0,
              "ticks": ""
             }
            },
            "type": "parcoords"
           }
          ],
          "pie": [
           {
            "automargin": true,
            "type": "pie"
           }
          ],
          "scatter": [
           {
            "fillpattern": {
             "fillmode": "overlay",
             "size": 10,
             "solidity": 0.2
            },
            "type": "scatter"
           }
          ],
          "scatter3d": [
           {
            "line": {
             "colorbar": {
              "outlinewidth": 0,
              "ticks": ""
             }
            },
            "marker": {
             "colorbar": {
              "outlinewidth": 0,
              "ticks": ""
             }
            },
            "type": "scatter3d"
           }
          ],
          "scattercarpet": [
           {
            "marker": {
             "colorbar": {
              "outlinewidth": 0,
              "ticks": ""
             }
            },
            "type": "scattercarpet"
           }
          ],
          "scattergeo": [
           {
            "marker": {
             "colorbar": {
              "outlinewidth": 0,
              "ticks": ""
             }
            },
            "type": "scattergeo"
           }
          ],
          "scattergl": [
           {
            "marker": {
             "colorbar": {
              "outlinewidth": 0,
              "ticks": ""
             }
            },
            "type": "scattergl"
           }
          ],
          "scattermap": [
           {
            "marker": {
             "colorbar": {
              "outlinewidth": 0,
              "ticks": ""
             }
            },
            "type": "scattermap"
           }
          ],
          "scattermapbox": [
           {
            "marker": {
             "colorbar": {
              "outlinewidth": 0,
              "ticks": ""
             }
            },
            "type": "scattermapbox"
           }
          ],
          "scatterpolar": [
           {
            "marker": {
             "colorbar": {
              "outlinewidth": 0,
              "ticks": ""
             }
            },
            "type": "scatterpolar"
           }
          ],
          "scatterpolargl": [
           {
            "marker": {
             "colorbar": {
              "outlinewidth": 0,
              "ticks": ""
             }
            },
            "type": "scatterpolargl"
           }
          ],
          "scatterternary": [
           {
            "marker": {
             "colorbar": {
              "outlinewidth": 0,
              "ticks": ""
             }
            },
            "type": "scatterternary"
           }
          ],
          "surface": [
           {
            "colorbar": {
             "outlinewidth": 0,
             "ticks": ""
            },
            "colorscale": [
             [
              0,
              "#0d0887"
             ],
             [
              0.1111111111111111,
              "#46039f"
             ],
             [
              0.2222222222222222,
              "#7201a8"
             ],
             [
              0.3333333333333333,
              "#9c179e"
             ],
             [
              0.4444444444444444,
              "#bd3786"
             ],
             [
              0.5555555555555556,
              "#d8576b"
             ],
             [
              0.6666666666666666,
              "#ed7953"
             ],
             [
              0.7777777777777778,
              "#fb9f3a"
             ],
             [
              0.8888888888888888,
              "#fdca26"
             ],
             [
              1,
              "#f0f921"
             ]
            ],
            "type": "surface"
           }
          ],
          "table": [
           {
            "cells": {
             "fill": {
              "color": "#EBF0F8"
             },
             "line": {
              "color": "white"
             }
            },
            "header": {
             "fill": {
              "color": "#C8D4E3"
             },
             "line": {
              "color": "white"
             }
            },
            "type": "table"
           }
          ]
         },
         "layout": {
          "annotationdefaults": {
           "arrowcolor": "#2a3f5f",
           "arrowhead": 0,
           "arrowwidth": 1
          },
          "autotypenumbers": "strict",
          "coloraxis": {
           "colorbar": {
            "outlinewidth": 0,
            "ticks": ""
           }
          },
          "colorscale": {
           "diverging": [
            [
             0,
             "#8e0152"
            ],
            [
             0.1,
             "#c51b7d"
            ],
            [
             0.2,
             "#de77ae"
            ],
            [
             0.3,
             "#f1b6da"
            ],
            [
             0.4,
             "#fde0ef"
            ],
            [
             0.5,
             "#f7f7f7"
            ],
            [
             0.6,
             "#e6f5d0"
            ],
            [
             0.7,
             "#b8e186"
            ],
            [
             0.8,
             "#7fbc41"
            ],
            [
             0.9,
             "#4d9221"
            ],
            [
             1,
             "#276419"
            ]
           ],
           "sequential": [
            [
             0,
             "#0d0887"
            ],
            [
             0.1111111111111111,
             "#46039f"
            ],
            [
             0.2222222222222222,
             "#7201a8"
            ],
            [
             0.3333333333333333,
             "#9c179e"
            ],
            [
             0.4444444444444444,
             "#bd3786"
            ],
            [
             0.5555555555555556,
             "#d8576b"
            ],
            [
             0.6666666666666666,
             "#ed7953"
            ],
            [
             0.7777777777777778,
             "#fb9f3a"
            ],
            [
             0.8888888888888888,
             "#fdca26"
            ],
            [
             1,
             "#f0f921"
            ]
           ],
           "sequentialminus": [
            [
             0,
             "#0d0887"
            ],
            [
             0.1111111111111111,
             "#46039f"
            ],
            [
             0.2222222222222222,
             "#7201a8"
            ],
            [
             0.3333333333333333,
             "#9c179e"
            ],
            [
             0.4444444444444444,
             "#bd3786"
            ],
            [
             0.5555555555555556,
             "#d8576b"
            ],
            [
             0.6666666666666666,
             "#ed7953"
            ],
            [
             0.7777777777777778,
             "#fb9f3a"
            ],
            [
             0.8888888888888888,
             "#fdca26"
            ],
            [
             1,
             "#f0f921"
            ]
           ]
          },
          "colorway": [
           "#636efa",
           "#EF553B",
           "#00cc96",
           "#ab63fa",
           "#FFA15A",
           "#19d3f3",
           "#FF6692",
           "#B6E880",
           "#FF97FF",
           "#FECB52"
          ],
          "font": {
           "color": "#2a3f5f"
          },
          "geo": {
           "bgcolor": "white",
           "lakecolor": "white",
           "landcolor": "#E5ECF6",
           "showlakes": true,
           "showland": true,
           "subunitcolor": "white"
          },
          "hoverlabel": {
           "align": "left"
          },
          "hovermode": "closest",
          "mapbox": {
           "style": "light"
          },
          "paper_bgcolor": "white",
          "plot_bgcolor": "#E5ECF6",
          "polar": {
           "angularaxis": {
            "gridcolor": "white",
            "linecolor": "white",
            "ticks": ""
           },
           "bgcolor": "#E5ECF6",
           "radialaxis": {
            "gridcolor": "white",
            "linecolor": "white",
            "ticks": ""
           }
          },
          "scene": {
           "xaxis": {
            "backgroundcolor": "#E5ECF6",
            "gridcolor": "white",
            "gridwidth": 2,
            "linecolor": "white",
            "showbackground": true,
            "ticks": "",
            "zerolinecolor": "white"
           },
           "yaxis": {
            "backgroundcolor": "#E5ECF6",
            "gridcolor": "white",
            "gridwidth": 2,
            "linecolor": "white",
            "showbackground": true,
            "ticks": "",
            "zerolinecolor": "white"
           },
           "zaxis": {
            "backgroundcolor": "#E5ECF6",
            "gridcolor": "white",
            "gridwidth": 2,
            "linecolor": "white",
            "showbackground": true,
            "ticks": "",
            "zerolinecolor": "white"
           }
          },
          "shapedefaults": {
           "line": {
            "color": "#2a3f5f"
           }
          },
          "ternary": {
           "aaxis": {
            "gridcolor": "white",
            "linecolor": "white",
            "ticks": ""
           },
           "baxis": {
            "gridcolor": "white",
            "linecolor": "white",
            "ticks": ""
           },
           "bgcolor": "#E5ECF6",
           "caxis": {
            "gridcolor": "white",
            "linecolor": "white",
            "ticks": ""
           }
          },
          "title": {
           "x": 0.05
          },
          "xaxis": {
           "automargin": true,
           "gridcolor": "white",
           "linecolor": "white",
           "ticks": "",
           "title": {
            "standoff": 15
           },
           "zerolinecolor": "white",
           "zerolinewidth": 2
          },
          "yaxis": {
           "automargin": true,
           "gridcolor": "white",
           "linecolor": "white",
           "ticks": "",
           "title": {
            "standoff": 15
           },
           "zerolinecolor": "white",
           "zerolinewidth": 2
          }
         }
        },
        "title": {
         "text": "Z-score standardization Boxplot for CAZ and POE"
        },
        "xaxis": {
         "anchor": "y",
         "domain": [
          0,
          1
         ],
         "title": {
          "text": "site_code"
         }
        },
        "yaxis": {
         "anchor": "x",
         "domain": [
          0,
          1
         ],
         "title": {
          "text": "Standardized_Value"
         }
        }
       }
      }
     },
     "metadata": {},
     "output_type": "display_data"
    }
   ],
   "source": [
    "# Melt the DataFrame to long format for plotly\n",
    "df_long_z = df_combined.melt(id_vars=['site_code'], value_vars=['z_score'],\n",
    "                           var_name='Standardization', value_name='Standardized_Value')\n",
    "\n",
    "# Create boxplot\n",
    "fig = px.box(df_long_z, x='site_code', y='Standardized_Value',\n",
    "             title='Z-score standardization Boxplot for CAZ and POE',)\n",
    "fig.show()"
   ]
  },
  {
   "cell_type": "code",
   "execution_count": null,
   "id": "0c77a79e",
   "metadata": {},
   "outputs": [
    {
     "data": {
      "application/vnd.plotly.v1+json": {
       "config": {
        "plotlyServerURL": "https://plot.ly"
       },
       "data": [
        {
         "hovertemplate": "site_code=CAZ <br>Year=%{x}<br>Value=%{y}<extra></extra>",
         "legendgroup": "CAZ ",
         "marker": {
          "color": "#636efa",
          "symbol": "circle"
         },
         "mode": "markers",
         "name": "CAZ ",
         "orientation": "v",
         "showlegend": true,
         "type": "scatter",
         "x": [
          "1600",
          "1601",
          "1602",
          "1603",
          "1604",
          "1605",
          "1606",
          "1607",
          "1608",
          "1609",
          "1610",
          "1611",
          "1612",
          "1613",
          "1614",
          "1615",
          "1616",
          "1617",
          "1618",
          "1619",
          "1620",
          "1621",
          "1622",
          "1623",
          "1624",
          "1625",
          "1626",
          "1627",
          "1628",
          "1629",
          "1630",
          "1631",
          "1632",
          "1633",
          "1634",
          "1635",
          "1636",
          "1637",
          "1638",
          "1639",
          "1640",
          "1641",
          "1642",
          "1643",
          "1644",
          "1645",
          "1646",
          "1647",
          "1648",
          "1649",
          "1650",
          "1651",
          "1652",
          "1653",
          "1654",
          "1655",
          "1656",
          "1657",
          "1658",
          "1659",
          "1660",
          "1661",
          "1662",
          "1663",
          "1664",
          "1665",
          "1666",
          "1667",
          "1668",
          "1669",
          "1670",
          "1671",
          "1672",
          "1673",
          "1674",
          "1675",
          "1676",
          "1677",
          "1678",
          "1679",
          "1680",
          "1681",
          "1682",
          "1683",
          "1684",
          "1685",
          "1686",
          "1687",
          "1688",
          "1689",
          "1690",
          "1691",
          "1692",
          "1693",
          "1694",
          "1695",
          "1696",
          "1697",
          "1698",
          "1699",
          "1700",
          "1701",
          "1702",
          "1703",
          "1704",
          "1705",
          "1706",
          "1707",
          "1708",
          "1709",
          "1710",
          "1711",
          "1712",
          "1713",
          "1714",
          "1715",
          "1716",
          "1717",
          "1718",
          "1719",
          "1720",
          "1721",
          "1722",
          "1723",
          "1724",
          "1725",
          "1726",
          "1727",
          "1728",
          "1729",
          "1730",
          "1731",
          "1732",
          "1733",
          "1734",
          "1735",
          "1736",
          "1737",
          "1738",
          "1739",
          "1740",
          "1741",
          "1742",
          "1743",
          "1744",
          "1745",
          "1746",
          "1747",
          "1748",
          "1749",
          "1750",
          "1751",
          "1752",
          "1753",
          "1754",
          "1755",
          "1756",
          "1757",
          "1758",
          "1759",
          "1760",
          "1761",
          "1762",
          "1763",
          "1764",
          "1765",
          "1766",
          "1767",
          "1768",
          "1769",
          "1770",
          "1771",
          "1772",
          "1773",
          "1774",
          "1775",
          "1776",
          "1777",
          "1778",
          "1779",
          "1780",
          "1781",
          "1782",
          "1783",
          "1784",
          "1785",
          "1786",
          "1787",
          "1788",
          "1789",
          "1790",
          "1791",
          "1792",
          "1793",
          "1794",
          "1795",
          "1796",
          "1797",
          "1798",
          "1799",
          "1800",
          "1801",
          "1802",
          "1803",
          "1804",
          "1805",
          "1806",
          "1807",
          "1808",
          "1809",
          "1810",
          "1811",
          "1812",
          "1813",
          "1814",
          "1815",
          "1816",
          "1817",
          "1818",
          "1819",
          "1820",
          "1821",
          "1822",
          "1823",
          "1824",
          "1825",
          "1826",
          "1827",
          "1828",
          "1829",
          "1830",
          "1831",
          "1832",
          "1833",
          "1834",
          "1835",
          "1836",
          "1837",
          "1838",
          "1839",
          "1840",
          "1841",
          "1842",
          "1843",
          "1844",
          "1845",
          "1846",
          "1847",
          "1848",
          "1849",
          "1850",
          "1851",
          "1852",
          "1853",
          "1854",
          "1855",
          "1856",
          "1857",
          "1858",
          "1859",
          "1860",
          "1861",
          "1862",
          "1863",
          "1864",
          "1865",
          "1866",
          "1867",
          "1868",
          "1869",
          "1870",
          "1871",
          "1872",
          "1873",
          "1874",
          "1875",
          "1876",
          "1877",
          "1878",
          "1879",
          "1880",
          "1881",
          "1882",
          "1883",
          "1884",
          "1885",
          "1886",
          "1887",
          "1888",
          "1889",
          "1890",
          "1891",
          "1892",
          "1893",
          "1894",
          "1895",
          "1896",
          "1897",
          "1898",
          "1899",
          "1900",
          "1901",
          "1902",
          "1903",
          "1904",
          "1905",
          "1906",
          "1907",
          "1908",
          "1909",
          "1910",
          "1911",
          "1912",
          "1913",
          "1914",
          "1915",
          "1916",
          "1917",
          "1918",
          "1919",
          "1920",
          "1921",
          "1922",
          "1923",
          "1924",
          "1925",
          "1926",
          "1927",
          "1928",
          "1929",
          "1930",
          "1931",
          "1932",
          "1933",
          "1934",
          "1935",
          "1936",
          "1937",
          "1938",
          "1939",
          "1940",
          "1941",
          "1942",
          "1943",
          "1944",
          "1945",
          "1946",
          "1947",
          "1948",
          "1949",
          "1950",
          "1951",
          "1952",
          "1953",
          "1954",
          "1955",
          "1956",
          "1957",
          "1958",
          "1959",
          "1960",
          "1961",
          "1962",
          "1963",
          "1964",
          "1965",
          "1966",
          "1967",
          "1968",
          "1969",
          "1970",
          "1971",
          "1972",
          "1973",
          "1974",
          "1975",
          "1976",
          "1977",
          "1978",
          "1979",
          "1980",
          "1981",
          "1982",
          "1983",
          "1984",
          "1985",
          "1986",
          "1987",
          "1988",
          "1989",
          "1990",
          "1991",
          "1992",
          "1993",
          "1994",
          "1995",
          "1996",
          "1997",
          "1998",
          "1999",
          "2000",
          "2001",
          "2002"
         ],
         "xaxis": "x",
         "y": {
          "bdata": "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",
          "dtype": "f8"
         },
         "yaxis": "y"
        },
        {
         "hovertemplate": "site_code=POE <br>Year=%{x}<br>Value=%{y}<extra></extra>",
         "legendgroup": "POE ",
         "marker": {
          "color": "#EF553B",
          "symbol": "circle"
         },
         "mode": "markers",
         "name": "POE ",
         "orientation": "v",
         "showlegend": true,
         "type": "scatter",
         "x": [
          "1600",
          "1601",
          "1602",
          "1603",
          "1604",
          "1605",
          "1606",
          "1607",
          "1608",
          "1609",
          "1610",
          "1611",
          "1612",
          "1613",
          "1614",
          "1615",
          "1616",
          "1617",
          "1618",
          "1619",
          "1620",
          "1621",
          "1622",
          "1623",
          "1624",
          "1625",
          "1626",
          "1627",
          "1628",
          "1629",
          "1630",
          "1631",
          "1632",
          "1633",
          "1634",
          "1635",
          "1636",
          "1637",
          "1638",
          "1639",
          "1640",
          "1641",
          "1642",
          "1643",
          "1644",
          "1645",
          "1646",
          "1647",
          "1648",
          "1649",
          "1650",
          "1651",
          "1652",
          "1653",
          "1654",
          "1655",
          "1656",
          "1657",
          "1658",
          "1659",
          "1660",
          "1661",
          "1662",
          "1663",
          "1664",
          "1665",
          "1666",
          "1667",
          "1668",
          "1669",
          "1670",
          "1671",
          "1672",
          "1673",
          "1674",
          "1675",
          "1676",
          "1677",
          "1678",
          "1679",
          "1680",
          "1681",
          "1682",
          "1683",
          "1684",
          "1685",
          "1686",
          "1687",
          "1688",
          "1689",
          "1690",
          "1691",
          "1692",
          "1693",
          "1694",
          "1695",
          "1696",
          "1697",
          "1698",
          "1699",
          "1700",
          "1701",
          "1702",
          "1703",
          "1704",
          "1705",
          "1706",
          "1707",
          "1708",
          "1709",
          "1710",
          "1711",
          "1712",
          "1713",
          "1714",
          "1715",
          "1716",
          "1717",
          "1718",
          "1719",
          "1720",
          "1721",
          "1722",
          "1723",
          "1724",
          "1725",
          "1726",
          "1727",
          "1728",
          "1729",
          "1730",
          "1731",
          "1732",
          "1733",
          "1734",
          "1735",
          "1736",
          "1737",
          "1738",
          "1739",
          "1740",
          "1741",
          "1742",
          "1743",
          "1744",
          "1745",
          "1746",
          "1747",
          "1748",
          "1749",
          "1750",
          "1751",
          "1752",
          "1753",
          "1754",
          "1755",
          "1756",
          "1757",
          "1758",
          "1759",
          "1760",
          "1761",
          "1762",
          "1763",
          "1764",
          "1765",
          "1766",
          "1767",
          "1768",
          "1769",
          "1770",
          "1771",
          "1772",
          "1773",
          "1774",
          "1775",
          "1776",
          "1777",
          "1778",
          "1779",
          "1780",
          "1781",
          "1782",
          "1783",
          "1784",
          "1785",
          "1786",
          "1787",
          "1788",
          "1789",
          "1790",
          "1791",
          "1792",
          "1793",
          "1794",
          "1795",
          "1796",
          "1797",
          "1798",
          "1799",
          "1800",
          "1801",
          "1802",
          "1803",
          "1804",
          "1805",
          "1806",
          "1807",
          "1808",
          "1809",
          "1810",
          "1811",
          "1812",
          "1813",
          "1814",
          "1815",
          "1816",
          "1817",
          "1818",
          "1819",
          "1820",
          "1821",
          "1822",
          "1823",
          "1824",
          "1825",
          "1826",
          "1827",
          "1828",
          "1829",
          "1830",
          "1831",
          "1832",
          "1833",
          "1834",
          "1835",
          "1836",
          "1837",
          "1838",
          "1839",
          "1840",
          "1841",
          "1842",
          "1843",
          "1844",
          "1845",
          "1846",
          "1847",
          "1848",
          "1849",
          "1850",
          "1851",
          "1852",
          "1853",
          "1854",
          "1855",
          "1856",
          "1857",
          "1858",
          "1859",
          "1860",
          "1861",
          "1862",
          "1863",
          "1864",
          "1865",
          "1866",
          "1867",
          "1868",
          "1869",
          "1870",
          "1871",
          "1872",
          "1873",
          "1874",
          "1875",
          "1876",
          "1877",
          "1878",
          "1879",
          "1880",
          "1881",
          "1882",
          "1883",
          "1884",
          "1885",
          "1886",
          "1887",
          "1888",
          "1889",
          "1890",
          "1891",
          "1892",
          "1893",
          "1894",
          "1895",
          "1896",
          "1897",
          "1898",
          "1899",
          "1900",
          "1901",
          "1902",
          "1903",
          "1904",
          "1905",
          "1906",
          "1907",
          "1908",
          "1909",
          "1910",
          "1911",
          "1912",
          "1913",
          "1914",
          "1915",
          "1916",
          "1917",
          "1918",
          "1919",
          "1920",
          "1921",
          "1922",
          "1923",
          "1924",
          "1925",
          "1926",
          "1927",
          "1928",
          "1929",
          "1930",
          "1931",
          "1932",
          "1933",
          "1934",
          "1935",
          "1936",
          "1937",
          "1938",
          "1939",
          "1940",
          "1941",
          "1942",
          "1943",
          "1944",
          "1945",
          "1946",
          "1947",
          "1948",
          "1949",
          "1950",
          "1951",
          "1952",
          "1953",
          "1954",
          "1955",
          "1956",
          "1957",
          "1958",
          "1959",
          "1960",
          "1961",
          "1962",
          "1963",
          "1964",
          "1965",
          "1966",
          "1967",
          "1968",
          "1969",
          "1970",
          "1971",
          "1972",
          "1973",
          "1974",
          "1975",
          "1976",
          "1977",
          "1978",
          "1979",
          "1980",
          "1981",
          "1982",
          "1983",
          "1984",
          "1985",
          "1986",
          "1987",
          "1988",
          "1989",
          "1990",
          "1991",
          "1992",
          "1993",
          "1994",
          "1995",
          "1996",
          "1997",
          "1998",
          "1999",
          "2000",
          "2001",
          "2002"
         ],
         "xaxis": "x",
         "y": {
          "bdata": "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",
          "dtype": "f8"
         },
         "yaxis": "y"
        }
       ],
       "layout": {
        "legend": {
         "title": {
          "text": "site_code"
         },
         "tracegroupgap": 0
        },
        "template": {
         "data": {
          "bar": [
           {
            "error_x": {
             "color": "#2a3f5f"
            },
            "error_y": {
             "color": "#2a3f5f"
            },
            "marker": {
             "line": {
              "color": "#E5ECF6",
              "width": 0.5
             },
             "pattern": {
              "fillmode": "overlay",
              "size": 10,
              "solidity": 0.2
             }
            },
            "type": "bar"
           }
          ],
          "barpolar": [
           {
            "marker": {
             "line": {
              "color": "#E5ECF6",
              "width": 0.5
             },
             "pattern": {
              "fillmode": "overlay",
              "size": 10,
              "solidity": 0.2
             }
            },
            "type": "barpolar"
           }
          ],
          "carpet": [
           {
            "aaxis": {
             "endlinecolor": "#2a3f5f",
             "gridcolor": "white",
             "linecolor": "white",
             "minorgridcolor": "white",
             "startlinecolor": "#2a3f5f"
            },
            "baxis": {
             "endlinecolor": "#2a3f5f",
             "gridcolor": "white",
             "linecolor": "white",
             "minorgridcolor": "white",
             "startlinecolor": "#2a3f5f"
            },
            "type": "carpet"
           }
          ],
          "choropleth": [
           {
            "colorbar": {
             "outlinewidth": 0,
             "ticks": ""
            },
            "type": "choropleth"
           }
          ],
          "contour": [
           {
            "colorbar": {
             "outlinewidth": 0,
             "ticks": ""
            },
            "colorscale": [
             [
              0,
              "#0d0887"
             ],
             [
              0.1111111111111111,
              "#46039f"
             ],
             [
              0.2222222222222222,
              "#7201a8"
             ],
             [
              0.3333333333333333,
              "#9c179e"
             ],
             [
              0.4444444444444444,
              "#bd3786"
             ],
             [
              0.5555555555555556,
              "#d8576b"
             ],
             [
              0.6666666666666666,
              "#ed7953"
             ],
             [
              0.7777777777777778,
              "#fb9f3a"
             ],
             [
              0.8888888888888888,
              "#fdca26"
             ],
             [
              1,
              "#f0f921"
             ]
            ],
            "type": "contour"
           }
          ],
          "contourcarpet": [
           {
            "colorbar": {
             "outlinewidth": 0,
             "ticks": ""
            },
            "type": "contourcarpet"
           }
          ],
          "heatmap": [
           {
            "colorbar": {
             "outlinewidth": 0,
             "ticks": ""
            },
            "colorscale": [
             [
              0,
              "#0d0887"
             ],
             [
              0.1111111111111111,
              "#46039f"
             ],
             [
              0.2222222222222222,
              "#7201a8"
             ],
             [
              0.3333333333333333,
              "#9c179e"
             ],
             [
              0.4444444444444444,
              "#bd3786"
             ],
             [
              0.5555555555555556,
              "#d8576b"
             ],
             [
              0.6666666666666666,
              "#ed7953"
             ],
             [
              0.7777777777777778,
              "#fb9f3a"
             ],
             [
              0.8888888888888888,
              "#fdca26"
             ],
             [
              1,
              "#f0f921"
             ]
            ],
            "type": "heatmap"
           }
          ],
          "histogram": [
           {
            "marker": {
             "pattern": {
              "fillmode": "overlay",
              "size": 10,
              "solidity": 0.2
             }
            },
            "type": "histogram"
           }
          ],
          "histogram2d": [
           {
            "colorbar": {
             "outlinewidth": 0,
             "ticks": ""
            },
            "colorscale": [
             [
              0,
              "#0d0887"
             ],
             [
              0.1111111111111111,
              "#46039f"
             ],
             [
              0.2222222222222222,
              "#7201a8"
             ],
             [
              0.3333333333333333,
              "#9c179e"
             ],
             [
              0.4444444444444444,
              "#bd3786"
             ],
             [
              0.5555555555555556,
              "#d8576b"
             ],
             [
              0.6666666666666666,
              "#ed7953"
             ],
             [
              0.7777777777777778,
              "#fb9f3a"
             ],
             [
              0.8888888888888888,
              "#fdca26"
             ],
             [
              1,
              "#f0f921"
             ]
            ],
            "type": "histogram2d"
           }
          ],
          "histogram2dcontour": [
           {
            "colorbar": {
             "outlinewidth": 0,
             "ticks": ""
            },
            "colorscale": [
             [
              0,
              "#0d0887"
             ],
             [
              0.1111111111111111,
              "#46039f"
             ],
             [
              0.2222222222222222,
              "#7201a8"
             ],
             [
              0.3333333333333333,
              "#9c179e"
             ],
             [
              0.4444444444444444,
              "#bd3786"
             ],
             [
              0.5555555555555556,
              "#d8576b"
             ],
             [
              0.6666666666666666,
              "#ed7953"
             ],
             [
              0.7777777777777778,
              "#fb9f3a"
             ],
             [
              0.8888888888888888,
              "#fdca26"
             ],
             [
              1,
              "#f0f921"
             ]
            ],
            "type": "histogram2dcontour"
           }
          ],
          "mesh3d": [
           {
            "colorbar": {
             "outlinewidth": 0,
             "ticks": ""
            },
            "type": "mesh3d"
           }
          ],
          "parcoords": [
           {
            "line": {
             "colorbar": {
              "outlinewidth": 0,
              "ticks": ""
             }
            },
            "type": "parcoords"
           }
          ],
          "pie": [
           {
            "automargin": true,
            "type": "pie"
           }
          ],
          "scatter": [
           {
            "fillpattern": {
             "fillmode": "overlay",
             "size": 10,
             "solidity": 0.2
            },
            "type": "scatter"
           }
          ],
          "scatter3d": [
           {
            "line": {
             "colorbar": {
              "outlinewidth": 0,
              "ticks": ""
             }
            },
            "marker": {
             "colorbar": {
              "outlinewidth": 0,
              "ticks": ""
             }
            },
            "type": "scatter3d"
           }
          ],
          "scattercarpet": [
           {
            "marker": {
             "colorbar": {
              "outlinewidth": 0,
              "ticks": ""
             }
            },
            "type": "scattercarpet"
           }
          ],
          "scattergeo": [
           {
            "marker": {
             "colorbar": {
              "outlinewidth": 0,
              "ticks": ""
             }
            },
            "type": "scattergeo"
           }
          ],
          "scattergl": [
           {
            "marker": {
             "colorbar": {
              "outlinewidth": 0,
              "ticks": ""
             }
            },
            "type": "scattergl"
           }
          ],
          "scattermap": [
           {
            "marker": {
             "colorbar": {
              "outlinewidth": 0,
              "ticks": ""
             }
            },
            "type": "scattermap"
           }
          ],
          "scattermapbox": [
           {
            "marker": {
             "colorbar": {
              "outlinewidth": 0,
              "ticks": ""
             }
            },
            "type": "scattermapbox"
           }
          ],
          "scatterpolar": [
           {
            "marker": {
             "colorbar": {
              "outlinewidth": 0,
              "ticks": ""
             }
            },
            "type": "scatterpolar"
           }
          ],
          "scatterpolargl": [
           {
            "marker": {
             "colorbar": {
              "outlinewidth": 0,
              "ticks": ""
             }
            },
            "type": "scatterpolargl"
           }
          ],
          "scatterternary": [
           {
            "marker": {
             "colorbar": {
              "outlinewidth": 0,
              "ticks": ""
             }
            },
            "type": "scatterternary"
           }
          ],
          "surface": [
           {
            "colorbar": {
             "outlinewidth": 0,
             "ticks": ""
            },
            "colorscale": [
             [
              0,
              "#0d0887"
             ],
             [
              0.1111111111111111,
              "#46039f"
             ],
             [
              0.2222222222222222,
              "#7201a8"
             ],
             [
              0.3333333333333333,
              "#9c179e"
             ],
             [
              0.4444444444444444,
              "#bd3786"
             ],
             [
              0.5555555555555556,
              "#d8576b"
             ],
             [
              0.6666666666666666,
              "#ed7953"
             ],
             [
              0.7777777777777778,
              "#fb9f3a"
             ],
             [
              0.8888888888888888,
              "#fdca26"
             ],
             [
              1,
              "#f0f921"
             ]
            ],
            "type": "surface"
           }
          ],
          "table": [
           {
            "cells": {
             "fill": {
              "color": "#EBF0F8"
             },
             "line": {
              "color": "white"
             }
            },
            "header": {
             "fill": {
              "color": "#C8D4E3"
             },
             "line": {
              "color": "white"
             }
            },
            "type": "table"
           }
          ]
         },
         "layout": {
          "annotationdefaults": {
           "arrowcolor": "#2a3f5f",
           "arrowhead": 0,
           "arrowwidth": 1
          },
          "autotypenumbers": "strict",
          "coloraxis": {
           "colorbar": {
            "outlinewidth": 0,
            "ticks": ""
           }
          },
          "colorscale": {
           "diverging": [
            [
             0,
             "#8e0152"
            ],
            [
             0.1,
             "#c51b7d"
            ],
            [
             0.2,
             "#de77ae"
            ],
            [
             0.3,
             "#f1b6da"
            ],
            [
             0.4,
             "#fde0ef"
            ],
            [
             0.5,
             "#f7f7f7"
            ],
            [
             0.6,
             "#e6f5d0"
            ],
            [
             0.7,
             "#b8e186"
            ],
            [
             0.8,
             "#7fbc41"
            ],
            [
             0.9,
             "#4d9221"
            ],
            [
             1,
             "#276419"
            ]
           ],
           "sequential": [
            [
             0,
             "#0d0887"
            ],
            [
             0.1111111111111111,
             "#46039f"
            ],
            [
             0.2222222222222222,
             "#7201a8"
            ],
            [
             0.3333333333333333,
             "#9c179e"
            ],
            [
             0.4444444444444444,
             "#bd3786"
            ],
            [
             0.5555555555555556,
             "#d8576b"
            ],
            [
             0.6666666666666666,
             "#ed7953"
            ],
            [
             0.7777777777777778,
             "#fb9f3a"
            ],
            [
             0.8888888888888888,
             "#fdca26"
            ],
            [
             1,
             "#f0f921"
            ]
           ],
           "sequentialminus": [
            [
             0,
             "#0d0887"
            ],
            [
             0.1111111111111111,
             "#46039f"
            ],
            [
             0.2222222222222222,
             "#7201a8"
            ],
            [
             0.3333333333333333,
             "#9c179e"
            ],
            [
             0.4444444444444444,
             "#bd3786"
            ],
            [
             0.5555555555555556,
             "#d8576b"
            ],
            [
             0.6666666666666666,
             "#ed7953"
            ],
            [
             0.7777777777777778,
             "#fb9f3a"
            ],
            [
             0.8888888888888888,
             "#fdca26"
            ],
            [
             1,
             "#f0f921"
            ]
           ]
          },
          "colorway": [
           "#636efa",
           "#EF553B",
           "#00cc96",
           "#ab63fa",
           "#FFA15A",
           "#19d3f3",
           "#FF6692",
           "#B6E880",
           "#FF97FF",
           "#FECB52"
          ],
          "font": {
           "color": "#2a3f5f"
          },
          "geo": {
           "bgcolor": "white",
           "lakecolor": "white",
           "landcolor": "#E5ECF6",
           "showlakes": true,
           "showland": true,
           "subunitcolor": "white"
          },
          "hoverlabel": {
           "align": "left"
          },
          "hovermode": "closest",
          "mapbox": {
           "style": "light"
          },
          "paper_bgcolor": "white",
          "plot_bgcolor": "#E5ECF6",
          "polar": {
           "angularaxis": {
            "gridcolor": "white",
            "linecolor": "white",
            "ticks": ""
           },
           "bgcolor": "#E5ECF6",
           "radialaxis": {
            "gridcolor": "white",
            "linecolor": "white",
            "ticks": ""
           }
          },
          "scene": {
           "xaxis": {
            "backgroundcolor": "#E5ECF6",
            "gridcolor": "white",
            "gridwidth": 2,
            "linecolor": "white",
            "showbackground": true,
            "ticks": "",
            "zerolinecolor": "white"
           },
           "yaxis": {
            "backgroundcolor": "#E5ECF6",
            "gridcolor": "white",
            "gridwidth": 2,
            "linecolor": "white",
            "showbackground": true,
            "ticks": "",
            "zerolinecolor": "white"
           },
           "zaxis": {
            "backgroundcolor": "#E5ECF6",
            "gridcolor": "white",
            "gridwidth": 2,
            "linecolor": "white",
            "showbackground": true,
            "ticks": "",
            "zerolinecolor": "white"
           }
          },
          "shapedefaults": {
           "line": {
            "color": "#2a3f5f"
           }
          },
          "ternary": {
           "aaxis": {
            "gridcolor": "white",
            "linecolor": "white",
            "ticks": ""
           },
           "baxis": {
            "gridcolor": "white",
            "linecolor": "white",
            "ticks": ""
           },
           "bgcolor": "#E5ECF6",
           "caxis": {
            "gridcolor": "white",
            "linecolor": "white",
            "ticks": ""
           }
          },
          "title": {
           "x": 0.05
          },
          "xaxis": {
           "automargin": true,
           "gridcolor": "white",
           "linecolor": "white",
           "ticks": "",
           "title": {
            "standoff": 15
           },
           "zerolinecolor": "white",
           "zerolinewidth": 2
          },
          "yaxis": {
           "automargin": true,
           "gridcolor": "white",
           "linecolor": "white",
           "ticks": "",
           "title": {
            "standoff": 15
           },
           "zerolinecolor": "white",
           "zerolinewidth": 2
          }
         }
        },
        "title": {
         "text": "Scatter plot for CAZ and POE"
        },
        "xaxis": {
         "anchor": "y",
         "domain": [
          0,
          1
         ],
         "title": {
          "text": "Year"
         }
        },
        "yaxis": {
         "anchor": "x",
         "domain": [
          0,
          1
         ],
         "title": {
          "text": "Value"
         }
        }
       }
      }
     },
     "metadata": {},
     "output_type": "display_data"
    }
   ],
   "source": [
    "fig = px.scatter(\n",
    "    df_combined,\n",
    "    x='Year',\n",
    "    y='Value',\n",
    "    color='site_code',\n",
    "    title='Scatter plot for CAZ and POE'\n",
    ")\n",
    "fig.show() "
   ]
  }
 ],
 "metadata": {
  "kernelspec": {
   "display_name": "Python 3",
   "language": "python",
   "name": "python3"
  },
  "language_info": {
   "codemirror_mode": {
    "name": "ipython",
    "version": 3
   },
   "file_extension": ".py",
   "mimetype": "text/x-python",
   "name": "python",
   "nbconvert_exporter": "python",
   "pygments_lexer": "ipython3",
   "version": "3.13.0"
  }
 },
 "nbformat": 4,
 "nbformat_minor": 5
}
